{
 "cells": [
  {
   "cell_type": "code",
   "execution_count": 262,
   "metadata": {},
   "outputs": [],
   "source": [
    "from IPython.core.interactiveshell import InteractiveShell\n",
    "InteractiveShell.ast_node_interactivity = \"all\"\n",
    "import numpy as np\n",
    "import pandas as pd\n",
    "import matplotlib.pyplot as plt\n",
    "from numpy import linalg as LA\n",
    "from sklearn.preprocessing import StandardScaler\n",
    "import seaborn as sns\n",
    "from factor_analyzer import FactorAnalyzer\n",
    "from sklearn.discriminant_analysis import LinearDiscriminantAnalysis as LDA"
   ]
  },
  {
   "cell_type": "markdown",
   "metadata": {},
   "source": [
    "# 1. PCA (not library using)"
   ]
  },
  {
   "cell_type": "code",
   "execution_count": 7,
   "metadata": {},
   "outputs": [
    {
     "data": {
      "text/html": [
       "<div>\n",
       "<style scoped>\n",
       "    .dataframe tbody tr th:only-of-type {\n",
       "        vertical-align: middle;\n",
       "    }\n",
       "\n",
       "    .dataframe tbody tr th {\n",
       "        vertical-align: top;\n",
       "    }\n",
       "\n",
       "    .dataframe thead th {\n",
       "        text-align: right;\n",
       "    }\n",
       "</style>\n",
       "<table border=\"1\" class=\"dataframe\">\n",
       "  <thead>\n",
       "    <tr style=\"text-align: right;\">\n",
       "      <th></th>\n",
       "      <th>V1</th>\n",
       "      <th>V2</th>\n",
       "      <th>V3</th>\n",
       "      <th>V4</th>\n",
       "    </tr>\n",
       "  </thead>\n",
       "  <tbody>\n",
       "    <tr>\n",
       "      <th>0</th>\n",
       "      <td>13.2</td>\n",
       "      <td>236</td>\n",
       "      <td>58</td>\n",
       "      <td>21.2</td>\n",
       "    </tr>\n",
       "    <tr>\n",
       "      <th>1</th>\n",
       "      <td>10.0</td>\n",
       "      <td>263</td>\n",
       "      <td>48</td>\n",
       "      <td>44.5</td>\n",
       "    </tr>\n",
       "    <tr>\n",
       "      <th>2</th>\n",
       "      <td>8.1</td>\n",
       "      <td>294</td>\n",
       "      <td>80</td>\n",
       "      <td>31.0</td>\n",
       "    </tr>\n",
       "    <tr>\n",
       "      <th>3</th>\n",
       "      <td>8.8</td>\n",
       "      <td>190</td>\n",
       "      <td>50</td>\n",
       "      <td>19.5</td>\n",
       "    </tr>\n",
       "    <tr>\n",
       "      <th>4</th>\n",
       "      <td>9.0</td>\n",
       "      <td>276</td>\n",
       "      <td>91</td>\n",
       "      <td>40.6</td>\n",
       "    </tr>\n",
       "  </tbody>\n",
       "</table>\n",
       "</div>"
      ],
      "text/plain": [
       "     V1   V2  V3    V4\n",
       "0  13.2  236  58  21.2\n",
       "1  10.0  263  48  44.5\n",
       "2   8.1  294  80  31.0\n",
       "3   8.8  190  50  19.5\n",
       "4   9.0  276  91  40.6"
      ]
     },
     "execution_count": 7,
     "metadata": {},
     "output_type": "execute_result"
    }
   ],
   "source": [
    "data1 = pd.read_csv('./data/PCAdata.csv')\n",
    "data1.head()"
   ]
  },
  {
   "cell_type": "markdown",
   "metadata": {},
   "source": [
    "## (1) 표본상관행렬"
   ]
  },
  {
   "cell_type": "code",
   "execution_count": 12,
   "metadata": {},
   "outputs": [
    {
     "data": {
      "text/html": [
       "<div>\n",
       "<style scoped>\n",
       "    .dataframe tbody tr th:only-of-type {\n",
       "        vertical-align: middle;\n",
       "    }\n",
       "\n",
       "    .dataframe tbody tr th {\n",
       "        vertical-align: top;\n",
       "    }\n",
       "\n",
       "    .dataframe thead th {\n",
       "        text-align: right;\n",
       "    }\n",
       "</style>\n",
       "<table border=\"1\" class=\"dataframe\">\n",
       "  <thead>\n",
       "    <tr style=\"text-align: right;\">\n",
       "      <th></th>\n",
       "      <th>V1</th>\n",
       "      <th>V2</th>\n",
       "      <th>V3</th>\n",
       "      <th>V4</th>\n",
       "    </tr>\n",
       "  </thead>\n",
       "  <tbody>\n",
       "    <tr>\n",
       "      <th>V1</th>\n",
       "      <td>1.000000</td>\n",
       "      <td>0.801873</td>\n",
       "      <td>0.069573</td>\n",
       "      <td>0.563579</td>\n",
       "    </tr>\n",
       "    <tr>\n",
       "      <th>V2</th>\n",
       "      <td>0.801873</td>\n",
       "      <td>1.000000</td>\n",
       "      <td>0.258872</td>\n",
       "      <td>0.665241</td>\n",
       "    </tr>\n",
       "    <tr>\n",
       "      <th>V3</th>\n",
       "      <td>0.069573</td>\n",
       "      <td>0.258872</td>\n",
       "      <td>1.000000</td>\n",
       "      <td>0.411341</td>\n",
       "    </tr>\n",
       "    <tr>\n",
       "      <th>V4</th>\n",
       "      <td>0.563579</td>\n",
       "      <td>0.665241</td>\n",
       "      <td>0.411341</td>\n",
       "      <td>1.000000</td>\n",
       "    </tr>\n",
       "  </tbody>\n",
       "</table>\n",
       "</div>"
      ],
      "text/plain": [
       "          V1        V2        V3        V4\n",
       "V1  1.000000  0.801873  0.069573  0.563579\n",
       "V2  0.801873  1.000000  0.258872  0.665241\n",
       "V3  0.069573  0.258872  1.000000  0.411341\n",
       "V4  0.563579  0.665241  0.411341  1.000000"
      ]
     },
     "execution_count": 12,
     "metadata": {},
     "output_type": "execute_result"
    }
   ],
   "source": [
    "corr = data1.corr()\n",
    "corr"
   ]
  },
  {
   "cell_type": "markdown",
   "metadata": {},
   "source": [
    "## (2) 주성분, 주성분 별 변동성"
   ]
  },
  {
   "cell_type": "code",
   "execution_count": 90,
   "metadata": {},
   "outputs": [],
   "source": [
    "X = StandardScaler().fit_transform(data1.to_numpy()).T"
   ]
  },
  {
   "cell_type": "code",
   "execution_count": 91,
   "metadata": {},
   "outputs": [],
   "source": [
    "cov = np.cov(X) # Sigma"
   ]
  },
  {
   "cell_type": "code",
   "execution_count": 92,
   "metadata": {},
   "outputs": [],
   "source": [
    "l = LA.eig(cov)[1]"
   ]
  },
  {
   "cell_type": "markdown",
   "metadata": {},
   "source": [
    "### 주성분"
   ]
  },
  {
   "cell_type": "code",
   "execution_count": 139,
   "metadata": {},
   "outputs": [
    {
     "data": {
      "text/plain": [
       "array([[ 9.85565885e-01,  1.95013775e+00,  1.76316354e+00,\n",
       "        -1.41420290e-01,  2.52398013e+00,  1.51456286e+00,\n",
       "        -1.35864746e+00,  4.77093091e-02,  3.01304227e+00,\n",
       "         1.63928304e+00, -9.12657146e-01, -1.63979985e+00,\n",
       "         1.37891072e+00, -5.05461361e-01, -2.25364607e+00,\n",
       "        -7.96881121e-01, -7.50859074e-01,  1.56481798e+00,\n",
       "        -2.39682949e+00,  1.76336939e+00, -4.86166287e-01,\n",
       "         2.10844115e+00, -1.69268181e+00,  9.96494459e-01,\n",
       "         6.96787329e-01, -1.18545191e+00, -1.26563654e+00,\n",
       "         2.87439454e+00, -2.38391541e+00,  1.81566110e-01,\n",
       "         1.98002375e+00,  1.68257738e+00,  1.12337861e+00,\n",
       "        -2.99222562e+00, -2.25965422e-01, -3.11782855e-01,\n",
       "         5.91220768e-02, -8.88415824e-01, -8.63772064e-01,\n",
       "         1.32072380e+00, -1.98777484e+00,  9.99741684e-01,\n",
       "         1.35513821e+00, -5.50565262e-01, -2.80141174e+00,\n",
       "        -9.63349112e-02, -2.16903379e-01, -2.10858541e+00,\n",
       "        -2.07971417e+00, -6.29426664e-01],\n",
       "       [ 1.13339238e+00,  1.07321326e+00, -7.45956781e-01,\n",
       "         1.11979678e+00, -1.54293399e+00, -9.87555085e-01,\n",
       "        -1.08892789e+00, -3.25358925e-01,  3.92285133e-02,\n",
       "         1.27894240e+00, -1.57046001e+00,  2.10972917e-01,\n",
       "        -6.81841189e-01, -1.51562542e-01, -1.04054073e-01,\n",
       "        -2.70164705e-01,  9.58440286e-01,  8.71054655e-01,\n",
       "         3.76391576e-01,  4.27655192e-01, -1.47449650e+00,\n",
       "        -1.55396819e-01, -6.32261251e-01,  2.39379599e+00,\n",
       "        -2.63354790e-01,  5.36874372e-01, -1.93953730e-01,\n",
       "        -7.75600196e-01, -1.80822897e-02, -1.44950571e+00,\n",
       "         1.42848780e-01, -8.23184142e-01,  2.22800338e+00,\n",
       "         5.99118824e-01, -7.42238237e-01, -2.87854206e-01,\n",
       "        -5.41411454e-01, -5.71100352e-01, -1.49197842e+00,\n",
       "         1.93340466e+00,  8.23343241e-01,  8.60251305e-01,\n",
       "        -4.12480819e-01, -1.47150461e+00,  1.40228806e+00,\n",
       "         1.99735289e-01, -9.70124183e-01,  1.42484670e+00,\n",
       "        -6.11268624e-01,  3.21012967e-01],\n",
       "       [ 1.56267145e-01, -4.38583440e-01, -8.34652924e-01,\n",
       "        -1.82810896e-01, -3.41996478e-01,  1.46488703e-03,\n",
       "        -1.18469414e-01, -8.81977637e-01, -9.62847520e-02,\n",
       "         1.07679681e+00,  9.02806864e-01, -4.99104101e-01,\n",
       "        -1.22021292e-01,  4.24665700e-01,  1.75559157e-02,\n",
       "         2.06496428e-01,  6.70556671e-01,  4.54728038e-01,\n",
       "        -3.30459817e-01, -5.59069521e-01, -1.79598963e-01,\n",
       "         1.02372019e-01,  6.73168850e-02,  2.15508013e-01,\n",
       "         2.25824461e-01,  1.23742227e-01,  1.58928878e-02,\n",
       "         3.14515476e-01, -3.31373376e-02,  2.43382700e-01,\n",
       "        -3.39533597e-01, -1.34843689e-02, -9.54381667e-01,\n",
       "        -2.53987327e-01,  4.73915911e-01,  1.03323208e-02,\n",
       "        -2.37780688e-01,  3.59061124e-01, -6.13569430e-01,\n",
       "        -1.31466685e-01, -1.09571764e-01,  6.52864291e-01,\n",
       "         6.43195491e-01, -8.23140470e-02, -1.44889914e-01,\n",
       "         2.11370813e-01, -2.20847793e-01,  1.31908831e-01,\n",
       "         1.84103743e-01, -1.66651801e-01],\n",
       "       [-4.44268788e-01,  2.04000333e+00,  5.47808243e-02,\n",
       "         1.14573692e-01,  5.98556799e-01,  1.09500699e+00,\n",
       "        -6.43257569e-01, -7.18632942e-01, -5.76829492e-01,\n",
       "        -3.42460080e-01,  5.07818939e-02,  2.59801342e-01,\n",
       "        -6.77495641e-01,  2.28054838e-01,  1.64564315e-01,\n",
       "         2.55533072e-02, -2.83694170e-02, -7.83480358e-01,\n",
       "        -6.56823864e-02, -1.57250127e-01, -6.09497476e-01,\n",
       "         3.84868584e-01,  1.53070434e-01, -7.40808395e-01,\n",
       "         3.77443827e-01,  2.46889321e-01,  1.75573906e-01,\n",
       "         1.16338049e+00,  3.68553932e-02, -7.64453551e-01,\n",
       "         1.83692180e-01, -6.43075093e-01, -8.63571788e-01,\n",
       "         3.01277285e-01, -3.11391215e-02, -1.53097922e-02,\n",
       "         9.39832977e-01, -4.00628706e-01, -1.36994570e+00,\n",
       "        -3.00537790e-01,  3.89293329e-01,  1.88082949e-01,\n",
       "        -4.92068858e-01,  2.93728037e-01,  8.41263094e-01,\n",
       "         1.17125418e-02,  6.24870938e-01,  1.04774671e-01,\n",
       "        -1.38864998e-01, -2.40659234e-01]])"
      ]
     },
     "execution_count": 139,
     "metadata": {},
     "output_type": "execute_result"
    }
   ],
   "source": [
    "y = l.T @ X\n",
    "y"
   ]
  },
  {
   "cell_type": "markdown",
   "metadata": {},
   "source": [
    "### 각 주성분 별 변동성"
   ]
  },
  {
   "cell_type": "code",
   "execution_count": 140,
   "metadata": {},
   "outputs": [
    {
     "data": {
      "text/plain": [
       "array([1.57487827, 0.99486941, 0.41644938, 0.59712912])"
      ]
     },
     "execution_count": 140,
     "metadata": {},
     "output_type": "execute_result"
    }
   ],
   "source": [
    "np.std(y, axis = 1) # 3번째와 4번째 PC 순서 바꾸어서 고려해야함."
   ]
  },
  {
   "cell_type": "markdown",
   "metadata": {},
   "source": [
    "## (3)"
   ]
  },
  {
   "cell_type": "code",
   "execution_count": 141,
   "metadata": {},
   "outputs": [
    {
     "data": {
      "text/plain": [
       "array([0.62006039, 0.24744129])"
      ]
     },
     "execution_count": 141,
     "metadata": {},
     "output_type": "execute_result"
    }
   ],
   "source": [
    "(LA.eig(cov)[0]/LA.eig(cov)[0].sum())[:2]"
   ]
  },
  {
   "cell_type": "markdown",
   "metadata": {},
   "source": [
    "### 첫 두개의 주성분의 설명 정도 (86.75%)"
   ]
  },
  {
   "cell_type": "code",
   "execution_count": 142,
   "metadata": {},
   "outputs": [
    {
     "data": {
      "text/plain": [
       "0.8675016829223339"
      ]
     },
     "execution_count": 142,
     "metadata": {},
     "output_type": "execute_result"
    }
   ],
   "source": [
    "(LA.eig(cov)[0]/LA.eig(cov)[0].sum())[:2].sum()"
   ]
  },
  {
   "cell_type": "markdown",
   "metadata": {},
   "source": [
    "## (4)"
   ]
  },
  {
   "cell_type": "code",
   "execution_count": 120,
   "metadata": {},
   "outputs": [],
   "source": [
    "pc1 = principal_component[0]\n",
    "pc2 = principal_component[1]"
   ]
  },
  {
   "cell_type": "code",
   "execution_count": 162,
   "metadata": {},
   "outputs": [
    {
     "data": {
      "text/plain": [
       "<matplotlib.collections.PathCollection at 0x7fb9b0cf1080>"
      ]
     },
     "execution_count": 162,
     "metadata": {},
     "output_type": "execute_result"
    },
    {
     "data": {
      "text/plain": [
       "Text(0.5, 0, 'PC1')"
      ]
     },
     "execution_count": 162,
     "metadata": {},
     "output_type": "execute_result"
    },
    {
     "data": {
      "text/plain": [
       "Text(0, 0.5, 'PC2')"
      ]
     },
     "execution_count": 162,
     "metadata": {},
     "output_type": "execute_result"
    },
    {
     "data": {
      "image/png": "[encoded data removed]",
      "text/plain": [
       "<Figure size 432x288 with 1 Axes>"
      ]
     },
     "metadata": {
      "needs_background": "light"
     },
     "output_type": "display_data"
    }
   ],
   "source": [
    "plt.scatter(pc1, pc2, color = 'blue')\n",
    "plt.xlabel('PC1')\n",
    "plt.ylabel('PC2')\n",
    "plt.show()"
   ]
  },
  {
   "cell_type": "markdown",
   "metadata": {},
   "source": [
    "## (5)"
   ]
  },
  {
   "cell_type": "code",
   "execution_count": 167,
   "metadata": {},
   "outputs": [
    {
     "data": {
      "text/plain": [
       "array([ 0.53589947,  0.41818087,  0.6492278 , -0.34123273])"
      ]
     },
     "execution_count": 167,
     "metadata": {},
     "output_type": "execute_result"
    },
    {
     "data": {
      "text/plain": [
       "<Figure size 432x360 with 0 Axes>"
      ]
     },
     "execution_count": 167,
     "metadata": {},
     "output_type": "execute_result"
    },
    {
     "data": {
      "text/plain": [
       "Text(0.5, 1.0, '1st PC loadings')"
      ]
     },
     "execution_count": 167,
     "metadata": {},
     "output_type": "execute_result"
    },
    {
     "data": {
      "text/plain": [
       "<matplotlib.axes._subplots.AxesSubplot at 0x7fb9b0e51080>"
      ]
     },
     "execution_count": 167,
     "metadata": {},
     "output_type": "execute_result"
    },
    {
     "data": {
      "image/png": "[encoded data removed]",
      "text/plain": [
       "<Figure size 432x360 with 1 Axes>"
      ]
     },
     "metadata": {
      "needs_background": "light"
     },
     "output_type": "display_data"
    }
   ],
   "source": [
    "l[0]\n",
    "plt.figure(figsize = (6, 5))\n",
    "plt.title('1st PC loadings')\n",
    "sns.barplot(x = l[0], y = data1.columns)\n",
    "plt.show()"
   ]
  },
  {
   "cell_type": "markdown",
   "metadata": {},
   "source": [
    "- 위와 같은 비율로 V1, V2, V3, V4가 영향을 미친다. 주성분은 eigen vector와 기존 데이터의 행렬곱으로 구성되기 때문이다."
   ]
  },
  {
   "cell_type": "code",
   "execution_count": 168,
   "metadata": {},
   "outputs": [
    {
     "data": {
      "text/plain": [
       "array([ 0.58318363,  0.1879856 , -0.74340748, -0.26814843])"
      ]
     },
     "execution_count": 168,
     "metadata": {},
     "output_type": "execute_result"
    },
    {
     "data": {
      "text/plain": [
       "<Figure size 432x360 with 0 Axes>"
      ]
     },
     "execution_count": 168,
     "metadata": {},
     "output_type": "execute_result"
    },
    {
     "data": {
      "text/plain": [
       "Text(0.5, 1.0, '2nd PC loadings')"
      ]
     },
     "execution_count": 168,
     "metadata": {},
     "output_type": "execute_result"
    },
    {
     "data": {
      "text/plain": [
       "<matplotlib.axes._subplots.AxesSubplot at 0x7fb9b0cd67f0>"
      ]
     },
     "execution_count": 168,
     "metadata": {},
     "output_type": "execute_result"
    },
    {
     "data": {
      "image/png": "[encoded data removed]",
      "text/plain": [
       "<Figure size 432x360 with 1 Axes>"
      ]
     },
     "metadata": {
      "needs_background": "light"
     },
     "output_type": "display_data"
    }
   ],
   "source": [
    "l[1]\n",
    "plt.figure(figsize = (6, 5))\n",
    "plt.title('2nd PC loadings')\n",
    "sns.barplot(x = l[1], y = data1.columns)\n",
    "plt.show()"
   ]
  },
  {
   "cell_type": "markdown",
   "metadata": {},
   "source": [
    "- 위와 같은 비율로 V1, V2, V3, V4가 영향을 미친다. 주성분은 eigen vector와 기존 데이터의 행렬곱으로 구성되기 때문이다."
   ]
  },
  {
   "cell_type": "markdown",
   "metadata": {},
   "source": [
    "# 2. 잠재요인"
   ]
  },
  {
   "cell_type": "code",
   "execution_count": 169,
   "metadata": {},
   "outputs": [
    {
     "data": {
      "text/html": [
       "<div>\n",
       "<style scoped>\n",
       "    .dataframe tbody tr th:only-of-type {\n",
       "        vertical-align: middle;\n",
       "    }\n",
       "\n",
       "    .dataframe tbody tr th {\n",
       "        vertical-align: top;\n",
       "    }\n",
       "\n",
       "    .dataframe thead th {\n",
       "        text-align: right;\n",
       "    }\n",
       "</style>\n",
       "<table border=\"1\" class=\"dataframe\">\n",
       "  <thead>\n",
       "    <tr style=\"text-align: right;\">\n",
       "      <th></th>\n",
       "      <th>MF1</th>\n",
       "      <th>MF2</th>\n",
       "      <th>MF3</th>\n",
       "      <th>MF4</th>\n",
       "      <th>MF5</th>\n",
       "      <th>MF6</th>\n",
       "      <th>MF7</th>\n",
       "      <th>MF8</th>\n",
       "      <th>MF9</th>\n",
       "      <th>MF10</th>\n",
       "      <th>MF11</th>\n",
       "      <th>MF12</th>\n",
       "      <th>MF13</th>\n",
       "      <th>MF14</th>\n",
       "      <th>MF15</th>\n",
       "      <th>IRATE</th>\n",
       "      <th>MINDEX</th>\n",
       "    </tr>\n",
       "  </thead>\n",
       "  <tbody>\n",
       "    <tr>\n",
       "      <th>0</th>\n",
       "      <td>48.25</td>\n",
       "      <td>7.59</td>\n",
       "      <td>9.01</td>\n",
       "      <td>9.66</td>\n",
       "      <td>13.10</td>\n",
       "      <td>17.04</td>\n",
       "      <td>12.24</td>\n",
       "      <td>7.95</td>\n",
       "      <td>2.38</td>\n",
       "      <td>5.35</td>\n",
       "      <td>15.40</td>\n",
       "      <td>9.11</td>\n",
       "      <td>31.93</td>\n",
       "      <td>5.65</td>\n",
       "      <td>7.60</td>\n",
       "      <td>0.0833</td>\n",
       "      <td>3028.20</td>\n",
       "    </tr>\n",
       "    <tr>\n",
       "      <th>1</th>\n",
       "      <td>47.18</td>\n",
       "      <td>7.37</td>\n",
       "      <td>8.75</td>\n",
       "      <td>9.55</td>\n",
       "      <td>12.64</td>\n",
       "      <td>16.70</td>\n",
       "      <td>12.14</td>\n",
       "      <td>7.57</td>\n",
       "      <td>2.36</td>\n",
       "      <td>5.37</td>\n",
       "      <td>15.01</td>\n",
       "      <td>8.89</td>\n",
       "      <td>31.10</td>\n",
       "      <td>5.64</td>\n",
       "      <td>7.42</td>\n",
       "      <td>0.0835</td>\n",
       "      <td>2999.04</td>\n",
       "    </tr>\n",
       "    <tr>\n",
       "      <th>2</th>\n",
       "      <td>48.54</td>\n",
       "      <td>7.45</td>\n",
       "      <td>8.92</td>\n",
       "      <td>9.88</td>\n",
       "      <td>13.07</td>\n",
       "      <td>17.15</td>\n",
       "      <td>12.30</td>\n",
       "      <td>7.75</td>\n",
       "      <td>2.37</td>\n",
       "      <td>5.45</td>\n",
       "      <td>15.32</td>\n",
       "      <td>9.08</td>\n",
       "      <td>31.40</td>\n",
       "      <td>5.78</td>\n",
       "      <td>7.66</td>\n",
       "      <td>0.0830</td>\n",
       "      <td>3038.89</td>\n",
       "    </tr>\n",
       "    <tr>\n",
       "      <th>3</th>\n",
       "      <td>48.84</td>\n",
       "      <td>7.41</td>\n",
       "      <td>8.88</td>\n",
       "      <td>9.75</td>\n",
       "      <td>13.13</td>\n",
       "      <td>17.36</td>\n",
       "      <td>12.37</td>\n",
       "      <td>7.72</td>\n",
       "      <td>2.36</td>\n",
       "      <td>5.54</td>\n",
       "      <td>14.91</td>\n",
       "      <td>9.18</td>\n",
       "      <td>31.43</td>\n",
       "      <td>5.82</td>\n",
       "      <td>7.73</td>\n",
       "      <td>0.0824</td>\n",
       "      <td>3046.80</td>\n",
       "    </tr>\n",
       "    <tr>\n",
       "      <th>4</th>\n",
       "      <td>48.85</td>\n",
       "      <td>7.50</td>\n",
       "      <td>8.85</td>\n",
       "      <td>9.87</td>\n",
       "      <td>11.14</td>\n",
       "      <td>17.54</td>\n",
       "      <td>12.17</td>\n",
       "      <td>7.82</td>\n",
       "      <td>2.19</td>\n",
       "      <td>5.52</td>\n",
       "      <td>12.10</td>\n",
       "      <td>7.90</td>\n",
       "      <td>30.60</td>\n",
       "      <td>5.59</td>\n",
       "      <td>7.30</td>\n",
       "      <td>0.0823</td>\n",
       "      <td>3067.78</td>\n",
       "    </tr>\n",
       "  </tbody>\n",
       "</table>\n",
       "</div>"
      ],
      "text/plain": [
       "     MF1   MF2   MF3   MF4    MF5    MF6    MF7   MF8   MF9  MF10   MF11  \\\n",
       "0  48.25  7.59  9.01  9.66  13.10  17.04  12.24  7.95  2.38  5.35  15.40   \n",
       "1  47.18  7.37  8.75  9.55  12.64  16.70  12.14  7.57  2.36  5.37  15.01   \n",
       "2  48.54  7.45  8.92  9.88  13.07  17.15  12.30  7.75  2.37  5.45  15.32   \n",
       "3  48.84  7.41  8.88  9.75  13.13  17.36  12.37  7.72  2.36  5.54  14.91   \n",
       "4  48.85  7.50  8.85  9.87  11.14  17.54  12.17  7.82  2.19  5.52  12.10   \n",
       "\n",
       "   MF12   MF13  MF14  MF15   IRATE   MINDEX  \n",
       "0  9.11  31.93  5.65  7.60  0.0833  3028.20  \n",
       "1  8.89  31.10  5.64  7.42  0.0835  2999.04  \n",
       "2  9.08  31.40  5.78  7.66  0.0830  3038.89  \n",
       "3  9.18  31.43  5.82  7.73  0.0824  3046.80  \n",
       "4  7.90  30.60  5.59  7.30  0.0823  3067.78  "
      ]
     },
     "execution_count": 169,
     "metadata": {},
     "output_type": "execute_result"
    }
   ],
   "source": [
    "data2 = pd.read_csv('./data/mutfunds.csv')\n",
    "data2.head()"
   ]
  },
  {
   "cell_type": "markdown",
   "metadata": {},
   "source": [
    "# (1)"
   ]
  },
  {
   "cell_type": "code",
   "execution_count": 201,
   "metadata": {},
   "outputs": [
    {
     "data": {
      "text/plain": [
       "FactorAnalyzer(bounds=(0.005, 1), impute='median', is_corr_matrix=False,\n",
       "               method='principal', n_factors=4, rotation=None,\n",
       "               rotation_kwargs={}, use_smc=True)"
      ]
     },
     "execution_count": 201,
     "metadata": {},
     "output_type": "execute_result"
    }
   ],
   "source": [
    "number_of_factors = 4\n",
    "fa = FactorAnalyzer(n_factors = number_of_factors, rotation = None, method = 'principal')\n",
    "fa.fit(data2)"
   ]
  },
  {
   "cell_type": "code",
   "execution_count": 203,
   "metadata": {},
   "outputs": [
    {
     "data": {
      "text/plain": [
       "array([0.97741105, 0.9315053 , 0.99401956, 0.98728094, 0.98537946,\n",
       "       0.97980023, 0.98127806, 0.98975157, 0.97829289, 0.97515093,\n",
       "       0.9590724 , 0.99687532, 0.99337208, 0.9866441 , 0.9905657 ,\n",
       "       0.96956485, 0.99174706])"
      ]
     },
     "execution_count": 203,
     "metadata": {},
     "output_type": "execute_result"
    }
   ],
   "source": [
    "fa.get_communalities()"
   ]
  },
  {
   "cell_type": "code",
   "execution_count": 204,
   "metadata": {},
   "outputs": [
    {
     "data": {
      "text/plain": [
       "(array([12.73590001,  2.79127533,  0.91773918,  0.22279698]),\n",
       " array([0.74917059, 0.16419267, 0.05398466, 0.0131057 ]),\n",
       " array([0.74917059, 0.91336326, 0.96734791, 0.98045362]))"
      ]
     },
     "execution_count": 204,
     "metadata": {},
     "output_type": "execute_result"
    }
   ],
   "source": [
    "fa.get_factor_variance()"
   ]
  },
  {
   "cell_type": "markdown",
   "metadata": {},
   "source": [
    "### 74.917% 정도 설명된다."
   ]
  },
  {
   "cell_type": "markdown",
   "metadata": {},
   "source": [
    "## (2)"
   ]
  },
  {
   "cell_type": "code",
   "execution_count": 205,
   "metadata": {},
   "outputs": [
    {
     "data": {
      "text/html": [
       "<div>\n",
       "<style scoped>\n",
       "    .dataframe tbody tr th:only-of-type {\n",
       "        vertical-align: middle;\n",
       "    }\n",
       "\n",
       "    .dataframe tbody tr th {\n",
       "        vertical-align: top;\n",
       "    }\n",
       "\n",
       "    .dataframe thead th {\n",
       "        text-align: right;\n",
       "    }\n",
       "</style>\n",
       "<table border=\"1\" class=\"dataframe\">\n",
       "  <thead>\n",
       "    <tr style=\"text-align: right;\">\n",
       "      <th></th>\n",
       "      <th>Factor 0</th>\n",
       "      <th>Factor 1</th>\n",
       "      <th>Factor 2</th>\n",
       "      <th>Factor 3</th>\n",
       "    </tr>\n",
       "  </thead>\n",
       "  <tbody>\n",
       "    <tr>\n",
       "      <th>MF1</th>\n",
       "      <td>0.95</td>\n",
       "      <td>0.22</td>\n",
       "      <td>-0.11</td>\n",
       "      <td>-0.12</td>\n",
       "    </tr>\n",
       "    <tr>\n",
       "      <th>MF2</th>\n",
       "      <td>0.85</td>\n",
       "      <td>-0.46</td>\n",
       "      <td>-0.03</td>\n",
       "      <td>0.04</td>\n",
       "    </tr>\n",
       "    <tr>\n",
       "      <th>MF3</th>\n",
       "      <td>0.99</td>\n",
       "      <td>0.05</td>\n",
       "      <td>-0.03</td>\n",
       "      <td>0.06</td>\n",
       "    </tr>\n",
       "    <tr>\n",
       "      <th>MF4</th>\n",
       "      <td>0.99</td>\n",
       "      <td>-0.05</td>\n",
       "      <td>-0.10</td>\n",
       "      <td>-0.03</td>\n",
       "    </tr>\n",
       "    <tr>\n",
       "      <th>MF5</th>\n",
       "      <td>0.71</td>\n",
       "      <td>-0.64</td>\n",
       "      <td>0.20</td>\n",
       "      <td>-0.21</td>\n",
       "    </tr>\n",
       "    <tr>\n",
       "      <th>MF6</th>\n",
       "      <td>0.79</td>\n",
       "      <td>0.59</td>\n",
       "      <td>-0.08</td>\n",
       "      <td>-0.03</td>\n",
       "    </tr>\n",
       "    <tr>\n",
       "      <th>MF7</th>\n",
       "      <td>0.69</td>\n",
       "      <td>0.71</td>\n",
       "      <td>0.03</td>\n",
       "      <td>0.04</td>\n",
       "    </tr>\n",
       "    <tr>\n",
       "      <th>MF8</th>\n",
       "      <td>0.98</td>\n",
       "      <td>0.10</td>\n",
       "      <td>-0.04</td>\n",
       "      <td>0.13</td>\n",
       "    </tr>\n",
       "    <tr>\n",
       "      <th>MF9</th>\n",
       "      <td>0.93</td>\n",
       "      <td>0.28</td>\n",
       "      <td>0.16</td>\n",
       "      <td>-0.04</td>\n",
       "    </tr>\n",
       "    <tr>\n",
       "      <th>MF10</th>\n",
       "      <td>0.95</td>\n",
       "      <td>-0.13</td>\n",
       "      <td>-0.15</td>\n",
       "      <td>0.18</td>\n",
       "    </tr>\n",
       "    <tr>\n",
       "      <th>MF11</th>\n",
       "      <td>0.48</td>\n",
       "      <td>-0.72</td>\n",
       "      <td>0.40</td>\n",
       "      <td>0.22</td>\n",
       "    </tr>\n",
       "    <tr>\n",
       "      <th>MF12</th>\n",
       "      <td>0.89</td>\n",
       "      <td>-0.41</td>\n",
       "      <td>0.10</td>\n",
       "      <td>-0.15</td>\n",
       "    </tr>\n",
       "    <tr>\n",
       "      <th>MF13</th>\n",
       "      <td>1.00</td>\n",
       "      <td>0.05</td>\n",
       "      <td>0.02</td>\n",
       "      <td>0.02</td>\n",
       "    </tr>\n",
       "    <tr>\n",
       "      <th>MF14</th>\n",
       "      <td>0.99</td>\n",
       "      <td>-0.05</td>\n",
       "      <td>0.01</td>\n",
       "      <td>0.08</td>\n",
       "    </tr>\n",
       "    <tr>\n",
       "      <th>MF15</th>\n",
       "      <td>0.97</td>\n",
       "      <td>-0.13</td>\n",
       "      <td>0.01</td>\n",
       "      <td>-0.16</td>\n",
       "    </tr>\n",
       "    <tr>\n",
       "      <th>IRATE</th>\n",
       "      <td>0.02</td>\n",
       "      <td>0.60</td>\n",
       "      <td>0.78</td>\n",
       "      <td>-0.01</td>\n",
       "    </tr>\n",
       "    <tr>\n",
       "      <th>MINDEX</th>\n",
       "      <td>0.94</td>\n",
       "      <td>0.30</td>\n",
       "      <td>-0.14</td>\n",
       "      <td>0.02</td>\n",
       "    </tr>\n",
       "  </tbody>\n",
       "</table>\n",
       "</div>"
      ],
      "text/plain": [
       "        Factor 0  Factor 1  Factor 2  Factor 3\n",
       "MF1         0.95      0.22     -0.11     -0.12\n",
       "MF2         0.85     -0.46     -0.03      0.04\n",
       "MF3         0.99      0.05     -0.03      0.06\n",
       "MF4         0.99     -0.05     -0.10     -0.03\n",
       "MF5         0.71     -0.64      0.20     -0.21\n",
       "MF6         0.79      0.59     -0.08     -0.03\n",
       "MF7         0.69      0.71      0.03      0.04\n",
       "MF8         0.98      0.10     -0.04      0.13\n",
       "MF9         0.93      0.28      0.16     -0.04\n",
       "MF10        0.95     -0.13     -0.15      0.18\n",
       "MF11        0.48     -0.72      0.40      0.22\n",
       "MF12        0.89     -0.41      0.10     -0.15\n",
       "MF13        1.00      0.05      0.02      0.02\n",
       "MF14        0.99     -0.05      0.01      0.08\n",
       "MF15        0.97     -0.13      0.01     -0.16\n",
       "IRATE       0.02      0.60      0.78     -0.01\n",
       "MINDEX      0.94      0.30     -0.14      0.02"
      ]
     },
     "execution_count": 205,
     "metadata": {},
     "output_type": "execute_result"
    }
   ],
   "source": [
    "pd.DataFrame(fa.loadings_.round(decimals=2), index = data2.columns, \n",
    "             columns = ['Factor' + ' ' + str(i) for i in range(number_of_factors)])"
   ]
  },
  {
   "cell_type": "markdown",
   "metadata": {},
   "source": [
    "### 위 그림을 참고했을 때, (Factor 0, MINDEX) 위치의 값이 높은 것으로 보아, Index를 추종하는 펀드의 부분이 될 것 같다."
   ]
  },
  {
   "cell_type": "markdown",
   "metadata": {},
   "source": [
    "## (3)"
   ]
  },
  {
   "cell_type": "markdown",
   "metadata": {},
   "source": [
    "### 당연히 추가적인 잠재 요인은 존재한다. 이는 위 그림의 Factor 1이나 2가 될 수 있을 것 같은데, 의미를 따지자면, 이자율과 관련된 Factor일 것이다."
   ]
  },
  {
   "cell_type": "markdown",
   "metadata": {},
   "source": [
    "# 3."
   ]
  },
  {
   "cell_type": "code",
   "execution_count": 301,
   "metadata": {},
   "outputs": [
    {
     "data": {
      "text/html": [
       "<div>\n",
       "<style scoped>\n",
       "    .dataframe tbody tr th:only-of-type {\n",
       "        vertical-align: middle;\n",
       "    }\n",
       "\n",
       "    .dataframe tbody tr th {\n",
       "        vertical-align: top;\n",
       "    }\n",
       "\n",
       "    .dataframe thead th {\n",
       "        text-align: right;\n",
       "    }\n",
       "</style>\n",
       "<table border=\"1\" class=\"dataframe\">\n",
       "  <thead>\n",
       "    <tr style=\"text-align: right;\">\n",
       "      <th></th>\n",
       "      <th>Y</th>\n",
       "      <th>X1</th>\n",
       "      <th>X2</th>\n",
       "      <th>X3</th>\n",
       "      <th>X4</th>\n",
       "      <th>X5</th>\n",
       "    </tr>\n",
       "  </thead>\n",
       "  <tbody>\n",
       "    <tr>\n",
       "      <th>0</th>\n",
       "      <td>1</td>\n",
       "      <td>36.7</td>\n",
       "      <td>62.8</td>\n",
       "      <td>-89.5</td>\n",
       "      <td>54.1</td>\n",
       "      <td>1.7</td>\n",
       "    </tr>\n",
       "    <tr>\n",
       "      <th>1</th>\n",
       "      <td>1</td>\n",
       "      <td>24.0</td>\n",
       "      <td>3.3</td>\n",
       "      <td>-3.5</td>\n",
       "      <td>20.9</td>\n",
       "      <td>1.1</td>\n",
       "    </tr>\n",
       "    <tr>\n",
       "      <th>2</th>\n",
       "      <td>1</td>\n",
       "      <td>-61.6</td>\n",
       "      <td>-120.8</td>\n",
       "      <td>-103.2</td>\n",
       "      <td>24.7</td>\n",
       "      <td>2.5</td>\n",
       "    </tr>\n",
       "    <tr>\n",
       "      <th>3</th>\n",
       "      <td>1</td>\n",
       "      <td>-1.0</td>\n",
       "      <td>-18.1</td>\n",
       "      <td>-28.8</td>\n",
       "      <td>36.2</td>\n",
       "      <td>1.1</td>\n",
       "    </tr>\n",
       "    <tr>\n",
       "      <th>4</th>\n",
       "      <td>1</td>\n",
       "      <td>18.9</td>\n",
       "      <td>-3.8</td>\n",
       "      <td>-50.6</td>\n",
       "      <td>26.4</td>\n",
       "      <td>0.9</td>\n",
       "    </tr>\n",
       "  </tbody>\n",
       "</table>\n",
       "</div>"
      ],
      "text/plain": [
       "   Y    X1     X2     X3    X4   X5\n",
       "0  1  36.7   62.8  -89.5  54.1  1.7\n",
       "1  1  24.0    3.3   -3.5  20.9  1.1\n",
       "2  1 -61.6 -120.8 -103.2  24.7  2.5\n",
       "3  1  -1.0  -18.1  -28.8  36.2  1.1\n",
       "4  1  18.9   -3.8  -50.6  26.4  0.9"
      ]
     },
     "execution_count": 301,
     "metadata": {},
     "output_type": "execute_result"
    }
   ],
   "source": [
    "data3 = pd.read_csv('./data/ldadata.csv')\n",
    "data3.head()"
   ]
  },
  {
   "cell_type": "code",
   "execution_count": 305,
   "metadata": {},
   "outputs": [],
   "source": [
    "data3_x = data3.iloc[:,1:]\n",
    "data3_y = data3.iloc[:,0]"
   ]
  },
  {
   "cell_type": "code",
   "execution_count": 306,
   "metadata": {},
   "outputs": [],
   "source": [
    "data3_x.iloc[:,:] = StandardScaler().fit_transform(data3_x)\n",
    "data3_x_1 = data3_x[data3['Y'] == 1] # 도산\n",
    "data3_x_2 = data3_x[data3['Y'] == 2] # 정상운영"
   ]
  },
  {
   "cell_type": "markdown",
   "metadata": {},
   "source": [
    "## (1) 선형판별함수(Fisher) = y"
   ]
  },
  {
   "cell_type": "code",
   "execution_count": 307,
   "metadata": {},
   "outputs": [
    {
     "data": {
      "text/html": [
       "<div>\n",
       "<style scoped>\n",
       "    .dataframe tbody tr th:only-of-type {\n",
       "        vertical-align: middle;\n",
       "    }\n",
       "\n",
       "    .dataframe tbody tr th {\n",
       "        vertical-align: top;\n",
       "    }\n",
       "\n",
       "    .dataframe thead th {\n",
       "        text-align: right;\n",
       "    }\n",
       "</style>\n",
       "<table border=\"1\" class=\"dataframe\">\n",
       "  <thead>\n",
       "    <tr style=\"text-align: right;\">\n",
       "      <th></th>\n",
       "      <th>X1</th>\n",
       "      <th>X2</th>\n",
       "      <th>X3</th>\n",
       "      <th>X4</th>\n",
       "      <th>X5</th>\n",
       "    </tr>\n",
       "  </thead>\n",
       "  <tbody>\n",
       "    <tr>\n",
       "      <th>X1</th>\n",
       "      <td>0.664536</td>\n",
       "      <td>0.395497</td>\n",
       "      <td>0.227722</td>\n",
       "      <td>0.240123</td>\n",
       "      <td>-0.082130</td>\n",
       "    </tr>\n",
       "    <tr>\n",
       "      <th>X2</th>\n",
       "      <td>0.395497</td>\n",
       "      <td>0.742800</td>\n",
       "      <td>0.069558</td>\n",
       "      <td>0.115678</td>\n",
       "      <td>0.035432</td>\n",
       "    </tr>\n",
       "    <tr>\n",
       "      <th>X3</th>\n",
       "      <td>0.227722</td>\n",
       "      <td>0.069558</td>\n",
       "      <td>0.538391</td>\n",
       "      <td>0.050280</td>\n",
       "      <td>-0.080571</td>\n",
       "    </tr>\n",
       "    <tr>\n",
       "      <th>X4</th>\n",
       "      <td>0.240123</td>\n",
       "      <td>0.115678</td>\n",
       "      <td>0.050280</td>\n",
       "      <td>0.769595</td>\n",
       "      <td>0.068784</td>\n",
       "    </tr>\n",
       "    <tr>\n",
       "      <th>X5</th>\n",
       "      <td>-0.082130</td>\n",
       "      <td>0.035432</td>\n",
       "      <td>-0.080571</td>\n",
       "      <td>0.068784</td>\n",
       "      <td>0.845233</td>\n",
       "    </tr>\n",
       "  </tbody>\n",
       "</table>\n",
       "</div>"
      ],
      "text/plain": [
       "          X1        X2        X3        X4        X5\n",
       "X1  0.664536  0.395497  0.227722  0.240123 -0.082130\n",
       "X2  0.395497  0.742800  0.069558  0.115678  0.035432\n",
       "X3  0.227722  0.069558  0.538391  0.050280 -0.080571\n",
       "X4  0.240123  0.115678  0.050280  0.769595  0.068784\n",
       "X5 -0.082130  0.035432 -0.080571  0.068784  0.845233"
      ]
     },
     "execution_count": 307,
     "metadata": {},
     "output_type": "execute_result"
    }
   ],
   "source": [
    "S = (4*data3_x_1.cov() + 4 * data3_x_2.cov())/8\n",
    "S"
   ]
  },
  {
   "cell_type": "code",
   "execution_count": 308,
   "metadata": {},
   "outputs": [],
   "source": [
    "l = (data3_x_1.mean() - data3_x_2.mean()).T @ np.linalg.inv(S)"
   ]
  },
  {
   "cell_type": "code",
   "execution_count": 309,
   "metadata": {},
   "outputs": [
    {
     "data": {
      "text/plain": [
       "0      5.255883\n",
       "1      0.667491\n",
       "2     10.155449\n",
       "3      3.246924\n",
       "4      4.682753\n",
       "5      6.312913\n",
       "6      2.586288\n",
       "7      7.126705\n",
       "8      0.573757\n",
       "9      3.983706\n",
       "10     3.652963\n",
       "11     0.913164\n",
       "12     1.250247\n",
       "13    -2.277349\n",
       "14    -3.120519\n",
       "15    -1.680163\n",
       "16    -3.232893\n",
       "17    -4.489321\n",
       "18    -2.945580\n",
       "19    -4.622952\n",
       "20    -2.946348\n",
       "21    -6.434614\n",
       "22    -9.256252\n",
       "23    -1.468405\n",
       "24    -3.398612\n",
       "25    -4.167727\n",
       "26     0.857267\n",
       "27    -1.344640\n",
       "28     0.119867\n",
       "dtype: float64"
      ]
     },
     "execution_count": 309,
     "metadata": {},
     "output_type": "execute_result"
    }
   ],
   "source": [
    "y = data3_x @ l\n",
    "y"
   ]
  },
  {
   "cell_type": "code",
   "execution_count": 310,
   "metadata": {},
   "outputs": [
    {
     "data": {
      "text/plain": [
       "0.3635209749810377"
      ]
     },
     "execution_count": 310,
     "metadata": {},
     "output_type": "execute_result"
    }
   ],
   "source": [
    "m_hat = 0.5 * l.T @ (data3_x_1.mean() + data3_x_2.mean())\n",
    "m_hat"
   ]
  },
  {
   "cell_type": "markdown",
   "metadata": {},
   "source": [
    "## (2)"
   ]
  },
  {
   "cell_type": "code",
   "execution_count": 312,
   "metadata": {},
   "outputs": [
    {
     "data": {
      "text/plain": [
       "array([[-2.08233112],\n",
       "       [-0.18074316],\n",
       "       [-4.22649728],\n",
       "       [-1.2502402 ],\n",
       "       [-1.80948455],\n",
       "       [-2.55936761],\n",
       "       [-0.96266364],\n",
       "       [-2.86721113],\n",
       "       [-0.1260669 ],\n",
       "       [-1.62341041],\n",
       "       [-1.4487642 ],\n",
       "       [-0.37938462],\n",
       "       [-0.44222334],\n",
       "       [ 0.99424284],\n",
       "       [ 1.28245118],\n",
       "       [ 0.62054907],\n",
       "       [ 1.34365055],\n",
       "       [ 1.67591626],\n",
       "       [ 1.1477654 ],\n",
       "       [ 1.77735344],\n",
       "       [ 1.26426922],\n",
       "       [ 2.46346868],\n",
       "       [ 3.3978844 ],\n",
       "       [ 0.62744005],\n",
       "       [ 1.44538287],\n",
       "       [ 1.5570068 ],\n",
       "       [-0.26909725],\n",
       "       [ 0.61577028],\n",
       "       [ 0.0143344 ]])"
      ]
     },
     "execution_count": 312,
     "metadata": {},
     "output_type": "execute_result"
    }
   ],
   "source": [
    "lda = LDA(n_components = 1, solver = 'eigen')\n",
    "X_new = lda.fit_transform(data3_x, data3_y)"
   ]
  },
  {
   "cell_type": "code",
   "execution_count": 313,
   "metadata": {},
   "outputs": [],
   "source": [
    "X_new = X_new.reshape(-1)\n",
    "X_new_1 = X_new[:13]\n",
    "X_new_2 = X_new[13:]"
   ]
  },
  {
   "cell_type": "code",
   "execution_count": 316,
   "metadata": {},
   "outputs": [
    {
     "data": {
      "text/plain": [
       "Text(0.5, 1.0, 'X_new When y = 1')"
      ]
     },
     "execution_count": 316,
     "metadata": {},
     "output_type": "execute_result"
    },
    {
     "data": {
      "text/plain": [
       "(array([1., 0., 0., 1., 1., 2., 2., 2., 0., 4.]),\n",
       " array([-4.22649728, -3.81645424, -3.40641121, -2.99636817, -2.58632513,\n",
       "        -2.17628209, -1.76623905, -1.35619601, -0.94615298, -0.53610994,\n",
       "        -0.1260669 ]),\n",
       " <a list of 10 Patch objects>)"
      ]
     },
     "execution_count": 316,
     "metadata": {},
     "output_type": "execute_result"
    },
    {
     "data": {
      "image/png": "[encoded data removed]",
      "text/plain": [
       "<Figure size 432x288 with 1 Axes>"
      ]
     },
     "metadata": {
      "needs_background": "light"
     },
     "output_type": "display_data"
    }
   ],
   "source": [
    "plt.title('X_new When y = 1')\n",
    "plt.hist(X_new_1, color = 'blue')\n",
    "plt.show()"
   ]
  },
  {
   "cell_type": "code",
   "execution_count": 318,
   "metadata": {},
   "outputs": [
    {
     "data": {
      "text/plain": [
       "Text(0.5, 1.0, 'X_new When y = 2')"
      ]
     },
     "execution_count": 318,
     "metadata": {},
     "output_type": "execute_result"
    },
    {
     "data": {
      "text/plain": [
       "(array([2., 0., 3., 2., 5., 2., 0., 1., 0., 1.]),\n",
       " array([-0.26909725,  0.09760091,  0.46429908,  0.83099724,  1.19769541,\n",
       "         1.56439357,  1.93109174,  2.2977899 ,  2.66448807,  3.03118623,\n",
       "         3.3978844 ]),\n",
       " <a list of 10 Patch objects>)"
      ]
     },
     "execution_count": 318,
     "metadata": {},
     "output_type": "execute_result"
    },
    {
     "data": {
      "image/png": "[encoded data removed]",
      "text/plain": [
       "<Figure size 432x288 with 1 Axes>"
      ]
     },
     "metadata": {
      "needs_background": "light"
     },
     "output_type": "display_data"
    }
   ],
   "source": [
    "plt.title('X_new When y = 2')\n",
    "plt.hist(X_new_2, color = 'red')\n",
    "plt.show()"
   ]
  },
  {
   "cell_type": "code",
   "execution_count": 322,
   "metadata": {},
   "outputs": [
    {
     "data": {
      "text/plain": [
       "Text(0.5, 1.0, 'X_new When y = 1')"
      ]
     },
     "execution_count": 322,
     "metadata": {},
     "output_type": "execute_result"
    },
    {
     "data": {
      "text/plain": [
       "{'whiskers': [<matplotlib.lines.Line2D at 0x7fb9b1cf28d0>,\n",
       "  <matplotlib.lines.Line2D at 0x7fb9b1cf2cc0>],\n",
       " 'caps': [<matplotlib.lines.Line2D at 0x7fb9b1cff048>,\n",
       "  <matplotlib.lines.Line2D at 0x7fb9b1cff390>],\n",
       " 'boxes': [<matplotlib.lines.Line2D at 0x7fb9b1cf2780>],\n",
       " 'medians': [<matplotlib.lines.Line2D at 0x7fb9b1cff6d8>],\n",
       " 'fliers': [<matplotlib.lines.Line2D at 0x7fb9b1cffa20>],\n",
       " 'means': []}"
      ]
     },
     "execution_count": 322,
     "metadata": {},
     "output_type": "execute_result"
    },
    {
     "data": {
      "image/png": "[encoded data removed]",
      "text/plain": [
       "<Figure size 432x288 with 1 Axes>"
      ]
     },
     "metadata": {
      "needs_background": "light"
     },
     "output_type": "display_data"
    }
   ],
   "source": [
    "plt.title('X_new When y = 1')\n",
    "plt.boxplot(X_new_1)\n",
    "plt.show()"
   ]
  },
  {
   "cell_type": "code",
   "execution_count": 323,
   "metadata": {},
   "outputs": [
    {
     "data": {
      "text/plain": [
       "Text(0.5, 1.0, 'X_new When y = 2')"
      ]
     },
     "execution_count": 323,
     "metadata": {},
     "output_type": "execute_result"
    },
    {
     "data": {
      "text/plain": [
       "{'whiskers': [<matplotlib.lines.Line2D at 0x7fb9b1d48d68>,\n",
       "  <matplotlib.lines.Line2D at 0x7fb9b1d56160>],\n",
       " 'caps': [<matplotlib.lines.Line2D at 0x7fb9b1d56470>,\n",
       "  <matplotlib.lines.Line2D at 0x7fb9b1d567b8>],\n",
       " 'boxes': [<matplotlib.lines.Line2D at 0x7fb9b1d48c18>],\n",
       " 'medians': [<matplotlib.lines.Line2D at 0x7fb9b1d56b00>],\n",
       " 'fliers': [<matplotlib.lines.Line2D at 0x7fb9b1d56e48>],\n",
       " 'means': []}"
      ]
     },
     "execution_count": 323,
     "metadata": {},
     "output_type": "execute_result"
    },
    {
     "data": {
      "image/png": "[encoded data removed]",
      "text/plain": [
       "<Figure size 432x288 with 1 Axes>"
      ]
     },
     "metadata": {
      "needs_background": "light"
     },
     "output_type": "display_data"
    }
   ],
   "source": [
    "plt.title('X_new When y = 2')\n",
    "plt.boxplot(X_new_2)\n",
    "plt.show()"
   ]
  },
  {
   "cell_type": "code",
   "execution_count": null,
   "metadata": {},
   "outputs": [],
   "source": []
  },
  {
   "cell_type": "code",
   "execution_count": null,
   "metadata": {},
   "outputs": [],
   "source": []
  },
  {
   "cell_type": "code",
   "execution_count": null,
   "metadata": {},
   "outputs": [],
   "source": []
  },
  {
   "cell_type": "code",
   "execution_count": null,
   "metadata": {},
   "outputs": [],
   "source": []
  },
  {
   "cell_type": "code",
   "execution_count": null,
   "metadata": {},
   "outputs": [],
   "source": []
  },
  {
   "cell_type": "code",
   "execution_count": null,
   "metadata": {},
   "outputs": [],
   "source": []
  },
  {
   "cell_type": "code",
   "execution_count": null,
   "metadata": {},
   "outputs": [],
   "source": []
  },
  {
   "cell_type": "code",
   "execution_count": null,
   "metadata": {},
   "outputs": [],
   "source": []
  },
  {
   "cell_type": "code",
   "execution_count": null,
   "metadata": {},
   "outputs": [],
   "source": []
  },
  {
   "cell_type": "code",
   "execution_count": null,
   "metadata": {},
   "outputs": [],
   "source": []
  },
  {
   "cell_type": "code",
   "execution_count": null,
   "metadata": {},
   "outputs": [],
   "source": []
  },
  {
   "cell_type": "code",
   "execution_count": null,
   "metadata": {},
   "outputs": [],
   "source": []
  },
  {
   "cell_type": "code",
   "execution_count": null,
   "metadata": {},
   "outputs": [],
   "source": []
  },
  {
   "cell_type": "code",
   "execution_count": null,
   "metadata": {},
   "outputs": [],
   "source": []
  },
  {
   "cell_type": "code",
   "execution_count": null,
   "metadata": {},
   "outputs": [],
   "source": []
  },
  {
   "cell_type": "code",
   "execution_count": null,
   "metadata": {},
   "outputs": [],
   "source": []
  },
  {
   "cell_type": "code",
   "execution_count": null,
   "metadata": {},
   "outputs": [],
   "source": []
  },
  {
   "cell_type": "code",
   "execution_count": null,
   "metadata": {},
   "outputs": [],
   "source": []
  },
  {
   "cell_type": "code",
   "execution_count": null,
   "metadata": {},
   "outputs": [],
   "source": []
  },
  {
   "cell_type": "code",
   "execution_count": null,
   "metadata": {},
   "outputs": [],
   "source": []
  },
  {
   "cell_type": "code",
   "execution_count": null,
   "metadata": {},
   "outputs": [],
   "source": []
  },
  {
   "cell_type": "code",
   "execution_count": null,
   "metadata": {},
   "outputs": [],
   "source": []
  },
  {
   "cell_type": "code",
   "execution_count": null,
   "metadata": {},
   "outputs": [],
   "source": []
  },
  {
   "cell_type": "code",
   "execution_count": null,
   "metadata": {},
   "outputs": [],
   "source": []
  },
  {
   "cell_type": "code",
   "execution_count": null,
   "metadata": {},
   "outputs": [],
   "source": []
  },
  {
   "cell_type": "code",
   "execution_count": null,
   "metadata": {},
   "outputs": [],
   "source": []
  },
  {
   "cell_type": "code",
   "execution_count": null,
   "metadata": {},
   "outputs": [],
   "source": []
  },
  {
   "cell_type": "code",
   "execution_count": null,
   "metadata": {},
   "outputs": [],
   "source": []
  },
  {
   "cell_type": "code",
   "execution_count": null,
   "metadata": {},
   "outputs": [],
   "source": []
  },
  {
   "cell_type": "code",
   "execution_count": null,
   "metadata": {},
   "outputs": [],
   "source": []
  },
  {
   "cell_type": "code",
   "execution_count": null,
   "metadata": {},
   "outputs": [],
   "source": []
  },
  {
   "cell_type": "code",
   "execution_count": null,
   "metadata": {},
   "outputs": [],
   "source": []
  },
  {
   "cell_type": "code",
   "execution_count": null,
   "metadata": {},
   "outputs": [],
   "source": []
  },
  {
   "cell_type": "code",
   "execution_count": null,
   "metadata": {},
   "outputs": [],
   "source": []
  },
  {
   "cell_type": "code",
   "execution_count": null,
   "metadata": {},
   "outputs": [],
   "source": []
  },
  {
   "cell_type": "code",
   "execution_count": null,
   "metadata": {},
   "outputs": [],
   "source": []
  },
  {
   "cell_type": "code",
   "execution_count": null,
   "metadata": {},
   "outputs": [],
   "source": []
  },
  {
   "cell_type": "code",
   "execution_count": null,
   "metadata": {},
   "outputs": [],
   "source": []
  },
  {
   "cell_type": "code",
   "execution_count": null,
   "metadata": {},
   "outputs": [],
   "source": []
  },
  {
   "cell_type": "code",
   "execution_count": null,
   "metadata": {},
   "outputs": [],
   "source": []
  },
  {
   "cell_type": "code",
   "execution_count": null,
   "metadata": {},
   "outputs": [],
   "source": []
  },
  {
   "cell_type": "code",
   "execution_count": null,
   "metadata": {},
   "outputs": [],
   "source": []
  },
  {
   "cell_type": "code",
   "execution_count": null,
   "metadata": {},
   "outputs": [],
   "source": []
  },
  {
   "cell_type": "code",
   "execution_count": null,
   "metadata": {},
   "outputs": [],
   "source": []
  },
  {
   "cell_type": "code",
   "execution_count": null,
   "metadata": {},
   "outputs": [],
   "source": []
  },
  {
   "cell_type": "code",
   "execution_count": null,
   "metadata": {},
   "outputs": [],
   "source": []
  },
  {
   "cell_type": "code",
   "execution_count": null,
   "metadata": {},
   "outputs": [],
   "source": []
  },
  {
   "cell_type": "code",
   "execution_count": null,
   "metadata": {},
   "outputs": [],
   "source": []
  },
  {
   "cell_type": "code",
   "execution_count": null,
   "metadata": {},
   "outputs": [],
   "source": []
  },
  {
   "cell_type": "code",
   "execution_count": null,
   "metadata": {},
   "outputs": [],
   "source": []
  },
  {
   "cell_type": "code",
   "execution_count": null,
   "metadata": {},
   "outputs": [],
   "source": []
  },
  {
   "cell_type": "code",
   "execution_count": null,
   "metadata": {},
   "outputs": [],
   "source": []
  }
 ],
 "metadata": {
  "kernelspec": {
   "display_name": "Python 3",
   "language": "python",
   "name": "python3"
  },
  "language_info": {
   "codemirror_mode": {
    "name": "ipython",
    "version": 3
   },
   "file_extension": ".py",
   "mimetype": "text/x-python",
   "name": "python",
   "nbconvert_exporter": "python",
   "pygments_lexer": "ipython3",
   "version": "3.6.8"
  }
 },
 "nbformat": 4,
 "nbformat_minor": 2
}
