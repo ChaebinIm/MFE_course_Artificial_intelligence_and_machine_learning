{
 "cells": [
  {
   "cell_type": "code",
   "execution_count": 35,
   "metadata": {},
   "outputs": [],
   "source": [
    "import numpy as np\n",
    "from IPython.core.interactiveshell import InteractiveShell\n",
    "from sklearn.metrics import mean_squared_error\n",
    "InteractiveShell.ast_node_interactivity = \"all\" # 한 실행칸에 프린트 여러개 해도 다 출력시키도록 하는 코드."
   ]
  },
  {
   "cell_type": "markdown",
   "metadata": {},
   "source": [
    "# 2-(1)"
   ]
  },
  {
   "cell_type": "code",
   "execution_count": 4,
   "metadata": {},
   "outputs": [],
   "source": [
    "np.random.seed(123)\n",
    "Xtrain = 2 * np.random.rand(100, 3) # shape : (100, 3)\n",
    "Ytrain = 6 + Xtrain @ np.array([[3], [2], [5]]) + np.random.randn(100, 1) # shape : (100, 1)\n",
    "# Y = 6 + 3x_1 + 2x_2 + 5x_3 + e\n",
    "Xtest = 2 * np.random.rand(20, 3) # shape : (20, 3)\n",
    "Ytest = 6 + Xtest @ np.array([[3], [2], [5]]) + np.random.rand(20, 1) # shape : (20, 1)"
   ]
  },
  {
   "cell_type": "code",
   "execution_count": 30,
   "metadata": {},
   "outputs": [],
   "source": [
    "def gradient_descent_steps(X, Y, iters):\n",
    "    X_b = np.hstack([np.ones((100, 1)), X]) # (100, 4)\n",
    "    m = len(X_b) # 100\n",
    "    lr = 0.01\n",
    "    theta = np.random.randn(4, 1)\n",
    "    for epoch in range(iters):\n",
    "        gradients = 2 * X_b.T @ (X_b @ theta - Y) / 100 # 2 * (4, 100) @ ((100, 4) @ (4, 1) )\n",
    "        theta = theta - lr * gradients\n",
    "    return theta"
   ]
  },
  {
   "cell_type": "code",
   "execution_count": 33,
   "metadata": {},
   "outputs": [
    {
     "name": "stdout",
     "output_type": "stream",
     "text": [
      "[[5.78436533]\n",
      " [2.98577383]\n",
      " [2.27708149]\n",
      " [4.88453599]]\n"
     ]
    }
   ],
   "source": [
    "w_pred = gradient_descent_steps(Xtrain, Ytrain, iters = 5000)\n",
    "print(w_pred)"
   ]
  },
  {
   "cell_type": "markdown",
   "metadata": {},
   "source": [
    "# 2-(2)"
   ]
  },
  {
   "cell_type": "code",
   "execution_count": 47,
   "metadata": {},
   "outputs": [],
   "source": [
    "Xtest_b = np.hstack([np.ones((20, 1)), Xtest])\n",
    "m = len(Xtest_b)"
   ]
  },
  {
   "cell_type": "code",
   "execution_count": 48,
   "metadata": {},
   "outputs": [
    {
     "data": {
      "text/plain": [
       "array([[3.51315252e-03],\n",
       "       [2.17531318e-02],\n",
       "       [2.03101219e-02],\n",
       "       [1.52781622e-02],\n",
       "       [1.17341755e-03],\n",
       "       [2.69831461e-06],\n",
       "       [7.22377192e-03],\n",
       "       [2.34760259e-04],\n",
       "       [1.28734180e-02],\n",
       "       [2.01252653e-04],\n",
       "       [5.31582342e-03],\n",
       "       [1.43110019e-02],\n",
       "       [4.02590577e-02],\n",
       "       [2.12785648e-03],\n",
       "       [2.21921526e-04],\n",
       "       [1.61886808e-02],\n",
       "       [1.67556847e-02],\n",
       "       [2.62930241e-02],\n",
       "       [1.54523819e-02],\n",
       "       [8.79730624e-03]])"
      ]
     },
     "execution_count": 48,
     "metadata": {},
     "output_type": "execute_result"
    }
   ],
   "source": [
    "mse = ((Xtest_b @ w_pred - Ytest)**2) / (2*m)\n",
    "mse"
   ]
  },
  {
   "cell_type": "code",
   "execution_count": null,
   "metadata": {},
   "outputs": [],
   "source": []
  }
 ],
 "metadata": {
  "kernelspec": {
   "display_name": "Python 3",
   "language": "python",
   "name": "python3"
  },
  "language_info": {
   "codemirror_mode": {
    "name": "ipython",
    "version": 3
   },
   "file_extension": ".py",
   "mimetype": "text/x-python",
   "name": "python",
   "nbconvert_exporter": "python",
   "pygments_lexer": "ipython3",
   "version": "3.6.8"
  }
 },
 "nbformat": 4,
 "nbformat_minor": 2
}
