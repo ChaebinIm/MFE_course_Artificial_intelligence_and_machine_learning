{
 "cells": [
  {
   "cell_type": "code",
   "execution_count": 19,
   "metadata": {},
   "outputs": [],
   "source": [
    "# import talib as ta\n",
    "\n",
    "import numpy as np\n",
    "import pandas as pd\n",
    "from sklearn.preprocessing import StandardScaler\n",
    "from sklearn.decomposition import PCA\n",
    "import matplotlib.pyplot as plt\n",
    "from sklearn.linear_model import Lasso\n",
    "import seaborn as sns\n",
    "import matplotlib.pyplot as plt\n",
    "import csv\n",
    "#from factor_analyzer import FactorAnalyzer\n",
    "import warnings\n",
    "warnings.filterwarnings(action='ignore')\n",
    "from sklearn.linear_model import LogisticRegression\n",
    "from sklearn.tree import export_graphviz, DecisionTreeClassifier\n",
    "import pygraphviz as pgv\n",
    "from IPython.display import Image\n",
    "from IPython.core.interactiveshell import InteractiveShell\n",
    "InteractiveShell.ast_node_interactivity = \"all\" # 한 실행칸에 프린트 여러개 해도 다 출력시키도록 하는 코드.\n",
    "pd.set_option('display.max_rows', 500)\n",
    "pd.set_option('display.max_columns', 500)\n",
    "pd.set_option('display.width', 1000)\n"
   ]
  },
  {
   "cell_type": "markdown",
   "metadata": {},
   "source": [
    "## Data 전처리"
   ]
  },
  {
   "cell_type": "code",
   "execution_count": 2,
   "metadata": {},
   "outputs": [],
   "source": [
    "raw_data = pd.read_csv('./data.csv')\n",
    "tech = pd.read_csv('./tech.csv')\n",
    "\n",
    "raw_data['datetime'] = raw_data['일자'] + ' ' + raw_data['시간']\n",
    "raw_data['datetime'] = pd.to_datetime(raw_data['datetime'], format='%Y/%m/%d')\n",
    "\n",
    "# 2020-06-30일 까지로 Data Cut\n",
    "raw_data = raw_data.iloc[:65284]\n",
    "tech = tech.iloc[:65284]\n",
    "\n",
    "data = raw_data[['datetime', '종가']]\n",
    "data.columns = ['datetime', 'close']\n",
    "data = pd.concat([data, tech], axis = 1)\n",
    "data = data.dropna(axis=0).iloc[:,1:]"
   ]
  },
  {
   "cell_type": "code",
   "execution_count": null,
   "metadata": {},
   "outputs": [],
   "source": []
  },
  {
   "cell_type": "code",
   "execution_count": 3,
   "metadata": {},
   "outputs": [],
   "source": [
    "#PCA data / Softmax data 분리\n",
    "pca_selection_data_set = data[:-(396*40)]\n",
    "classify_predict_data_set = data[-(396*40):]\n",
    "\n",
    "train_test_index = classify_predict_data_set.index[0]"
   ]
  },
  {
   "cell_type": "markdown",
   "metadata": {},
   "source": [
    "## 분류 Y_Label"
   ]
  },
  {
   "cell_type": "code",
   "execution_count": 4,
   "metadata": {},
   "outputs": [],
   "source": [
    "# y date list\n",
    "date_list = [1, 3, 5, 10, 15, 20]"
   ]
  },
  {
   "cell_type": "code",
   "execution_count": null,
   "metadata": {},
   "outputs": [],
   "source": []
  },
  {
   "cell_type": "code",
   "execution_count": 5,
   "metadata": {},
   "outputs": [],
   "source": [
    "def classify_y_label(data, date_list):\n",
    "    \n",
    "    data['std_120m'] = data['close'].rolling(120).std() #for Boundary\n",
    "\n",
    "    data.dropna(inplace = True)\n",
    "#     data.reset_index(inplace = True, drop = True)\n",
    "\n",
    "    # making y\n",
    "    for i in date_list:\n",
    "        close_after = data['close'].shift(-i)\n",
    "#         nans = np.empty(i)\n",
    "#         nans = np.nan\n",
    "#         close_after = close_after.append(pd.Series(nans, index = np.arange(len(close_after), len(close_after) + i)))\n",
    "        label =  'y_' + str(i) +'m'\n",
    "\n",
    "        lower_bound = data['close'] - data['std_120m'] / np.sqrt(120//i)\n",
    "        upper_bound = data['close'] + data['std_120m'] / np.sqrt(120//i)\n",
    "\n",
    "        up = close_after >= upper_bound\n",
    "        down = close_after < lower_bound\n",
    "        y = 1 * up -1 * down\n",
    "\n",
    "        data[label] = y\n",
    "\n",
    "    data.drop(['std_120m'], axis = 1, inplace = True)\n",
    "    \n",
    "    data = data[['y_1m','y_3m','y_5m','y_10m','y_15m','y_20m']]\n",
    "    \n",
    "    return data"
   ]
  },
  {
   "cell_type": "code",
   "execution_count": 6,
   "metadata": {},
   "outputs": [],
   "source": [
    "y_data = classify_y_label(data.copy(), date_list)"
   ]
  },
  {
   "cell_type": "code",
   "execution_count": 7,
   "metadata": {},
   "outputs": [
    {
     "data": {
      "text/html": [
       "<div>\n",
       "<style scoped>\n",
       "    .dataframe tbody tr th:only-of-type {\n",
       "        vertical-align: middle;\n",
       "    }\n",
       "\n",
       "    .dataframe tbody tr th {\n",
       "        vertical-align: top;\n",
       "    }\n",
       "\n",
       "    .dataframe thead th {\n",
       "        text-align: right;\n",
       "    }\n",
       "</style>\n",
       "<table border=\"1\" class=\"dataframe\">\n",
       "  <thead>\n",
       "    <tr style=\"text-align: right;\">\n",
       "      <th></th>\n",
       "      <th>y_1m</th>\n",
       "      <th>y_3m</th>\n",
       "      <th>y_5m</th>\n",
       "      <th>y_10m</th>\n",
       "      <th>y_15m</th>\n",
       "      <th>y_20m</th>\n",
       "    </tr>\n",
       "  </thead>\n",
       "  <tbody>\n",
       "    <tr>\n",
       "      <th>207</th>\n",
       "      <td>-1</td>\n",
       "      <td>0</td>\n",
       "      <td>0</td>\n",
       "      <td>0</td>\n",
       "      <td>0</td>\n",
       "      <td>0</td>\n",
       "    </tr>\n",
       "    <tr>\n",
       "      <th>208</th>\n",
       "      <td>0</td>\n",
       "      <td>0</td>\n",
       "      <td>0</td>\n",
       "      <td>0</td>\n",
       "      <td>0</td>\n",
       "      <td>0</td>\n",
       "    </tr>\n",
       "    <tr>\n",
       "      <th>209</th>\n",
       "      <td>0</td>\n",
       "      <td>0</td>\n",
       "      <td>0</td>\n",
       "      <td>0</td>\n",
       "      <td>0</td>\n",
       "      <td>0</td>\n",
       "    </tr>\n",
       "    <tr>\n",
       "      <th>210</th>\n",
       "      <td>0</td>\n",
       "      <td>0</td>\n",
       "      <td>0</td>\n",
       "      <td>0</td>\n",
       "      <td>0</td>\n",
       "      <td>0</td>\n",
       "    </tr>\n",
       "    <tr>\n",
       "      <th>211</th>\n",
       "      <td>0</td>\n",
       "      <td>0</td>\n",
       "      <td>0</td>\n",
       "      <td>0</td>\n",
       "      <td>0</td>\n",
       "      <td>0</td>\n",
       "    </tr>\n",
       "    <tr>\n",
       "      <th>...</th>\n",
       "      <td>...</td>\n",
       "      <td>...</td>\n",
       "      <td>...</td>\n",
       "      <td>...</td>\n",
       "      <td>...</td>\n",
       "      <td>...</td>\n",
       "    </tr>\n",
       "    <tr>\n",
       "      <th>65279</th>\n",
       "      <td>-1</td>\n",
       "      <td>0</td>\n",
       "      <td>0</td>\n",
       "      <td>0</td>\n",
       "      <td>0</td>\n",
       "      <td>0</td>\n",
       "    </tr>\n",
       "    <tr>\n",
       "      <th>65280</th>\n",
       "      <td>1</td>\n",
       "      <td>1</td>\n",
       "      <td>0</td>\n",
       "      <td>0</td>\n",
       "      <td>0</td>\n",
       "      <td>0</td>\n",
       "    </tr>\n",
       "    <tr>\n",
       "      <th>65281</th>\n",
       "      <td>0</td>\n",
       "      <td>0</td>\n",
       "      <td>0</td>\n",
       "      <td>0</td>\n",
       "      <td>0</td>\n",
       "      <td>0</td>\n",
       "    </tr>\n",
       "    <tr>\n",
       "      <th>65282</th>\n",
       "      <td>1</td>\n",
       "      <td>0</td>\n",
       "      <td>0</td>\n",
       "      <td>0</td>\n",
       "      <td>0</td>\n",
       "      <td>0</td>\n",
       "    </tr>\n",
       "    <tr>\n",
       "      <th>65283</th>\n",
       "      <td>0</td>\n",
       "      <td>0</td>\n",
       "      <td>0</td>\n",
       "      <td>0</td>\n",
       "      <td>0</td>\n",
       "      <td>0</td>\n",
       "    </tr>\n",
       "  </tbody>\n",
       "</table>\n",
       "<p>65077 rows × 6 columns</p>\n",
       "</div>"
      ],
      "text/plain": [
       "       y_1m  y_3m  y_5m  y_10m  y_15m  y_20m\n",
       "207      -1     0     0      0      0      0\n",
       "208       0     0     0      0      0      0\n",
       "209       0     0     0      0      0      0\n",
       "210       0     0     0      0      0      0\n",
       "211       0     0     0      0      0      0\n",
       "...     ...   ...   ...    ...    ...    ...\n",
       "65279    -1     0     0      0      0      0\n",
       "65280     1     1     0      0      0      0\n",
       "65281     0     0     0      0      0      0\n",
       "65282     1     0     0      0      0      0\n",
       "65283     0     0     0      0      0      0\n",
       "\n",
       "[65077 rows x 6 columns]"
      ]
     },
     "execution_count": 7,
     "metadata": {},
     "output_type": "execute_result"
    }
   ],
   "source": [
    "y_data"
   ]
  },
  {
   "cell_type": "markdown",
   "metadata": {},
   "source": [
    "## 연속형 Y_Label"
   ]
  },
  {
   "cell_type": "code",
   "execution_count": 8,
   "metadata": {},
   "outputs": [
    {
     "data": {
      "text/plain": [
       "'\\n    해야 되는 것.\\n    1. (1~20)분 후의 가격 ~ price_1m\\n    2. (1~20)분 후의 로그수익률 ~ lgret_1m\\n    3. (1~20)분 후의 절대수익률 ~ ret_1m\\n'"
      ]
     },
     "execution_count": 8,
     "metadata": {},
     "output_type": "execute_result"
    }
   ],
   "source": [
    "\n",
    "\"\"\"\n",
    "    해야 되는 것.\n",
    "    1. (1~20)분 후의 가격 ~ price_1m\n",
    "    2. (1~20)분 후의 로그수익률 ~ lgret_1m\n",
    "    3. (1~20)분 후의 절대수익률 ~ ret_1m\n",
    "\"\"\"\n",
    "data2 = pca_selection_data_set.copy()\n",
    "original_col = data2.columns.to_list()\n",
    "\n",
    "for i in range(1, 21):\n",
    "    num_label = str(i) + 'm'\n",
    "    data2['price_' + num_label] = (data2['close'].shift(-i) - data2['close']) * 100\n",
    "    data2['ret_' + num_label] = ((data2['close'].shift(-i) - data2['close'])/data2['close']) * 100\n",
    "    data2['logret_' + num_label] = (np.log(data2['close'].shift(-i)/data2['close'])) * 100"
   ]
  },
  {
   "cell_type": "code",
   "execution_count": 9,
   "metadata": {},
   "outputs": [],
   "source": [
    "def extract_data(method, period, data): # method : ('price', 'ret', 'logret'), period = 1~20\n",
    "    label = method + '_' + str(period) + 'm'\n",
    "    cols = original_col.copy()\n",
    "    cols.append(label)\n",
    "    _data = data[cols]\n",
    "    # _data.set_index('datetime', inplace = True, drop = True)\n",
    "    _data.dropna(inplace = True)\n",
    "    return _data"
   ]
  },
  {
   "cell_type": "markdown",
   "metadata": {},
   "source": [
    "## LASSO variable selection"
   ]
  },
  {
   "cell_type": "code",
   "execution_count": 10,
   "metadata": {},
   "outputs": [],
   "source": [
    "def lasso_result(x, parameter):\n",
    "    all_dict = {}\n",
    "\n",
    "    X_train = x.iloc[:,:-1]\n",
    "    y_train = x.iloc[:,[-1]]\n",
    "\n",
    "    fig, axs = plt.subplots(figsize=(200,200), nrows=1, ncols=len(parameter) )\n",
    "    coeff_df = pd.DataFrame()\n",
    "\n",
    "     # sns.set(font=\"AppleGothic\", \n",
    "     #        rc={\"axes.unicode_minus\":False},\n",
    "      #       style='darkgrid',font_scale=15)    \n",
    "\n",
    "    for pos, al in enumerate(parameter):\n",
    "        lasso = Lasso(alpha=al)\n",
    "        lasso.fit ( X_train, y_train)\n",
    "        print(lasso)\n",
    "        coeff = pd.DataFrame(data=lasso.coef_, index=list(X_train.columns),columns=['coeff_value'])\n",
    "        coeff['abs_coeff_value'] = abs(coeff['coeff_value'])\n",
    "        coeff = coeff.sort_values('abs_coeff_value',ascending=False)\n",
    "        colname = 'alpha:'+str(al)\n",
    "      #  axs[pos].set_title(colname)\n",
    "       # axs[pos].set_xlim(-4,4)  \n",
    "        \n",
    "        coeff_notzero= coeff['coeff_value'][coeff['abs_coeff_value']>=0.01]\n",
    "      #  if len(coeff_notzero)>0:\n",
    "           # sns.barplot( x=coeff_notzero.values, y=coeff_notzero.index, ax=axs[pos])\n",
    "        all_dict[colname] = coeff\n",
    "    return(all_dict)"
   ]
  },
  {
   "cell_type": "code",
   "execution_count": 11,
   "metadata": {},
   "outputs": [],
   "source": [
    "def lasso_feature_selection(rank,data,alphas):  \n",
    "    list_all = pd.Series()\n",
    "    alpha_all = pd.Series()\n",
    "    \n",
    "    for i in ['price', 'ret', 'logret'] :\n",
    "        for j in [1,3,5,7,9,11,13,15,17,19]:\n",
    "            result_lasso= lasso_result(extract_data(i,j,data).iloc[:-1],alphas)\n",
    "            for k in range(len(list(result_lasso.keys()))):        \n",
    "                result_frame_temp = result_lasso[list(result_lasso.keys())[k]] \n",
    "                list_temp=pd.Series(result_frame_temp[result_frame_temp['abs_coeff_value']>0.01].iloc[:rank].index)\n",
    "                list_all=list_all.append(list_temp)\n",
    "                alpha_all = alpha_all.append(pd.Series(list(result_lasso.keys())[k]).repeat(len(list_temp)))\n",
    "#                 print(i)\n",
    "#                 print(j)\n",
    "#                 print(list_all.value_counts())\n",
    "                \n",
    "#                 print(result_frame_temp[result_frame_temp['abs_coeff_value']>0.01].iloc[:rank])\n",
    "    alpha_all.reset_index(inplace=True, drop=True)\n",
    "    list_all.reset_index(inplace=True, drop=True)\n",
    "    \n",
    "    final_frame = pd.DataFrame({'feature_all':list_all,'alpha':alpha_all})\n",
    "    return(final_frame)"
   ]
  },
  {
   "cell_type": "code",
   "execution_count": 13,
   "metadata": {},
   "outputs": [],
   "source": [
    "# alpha = [0.0001, 0.001, 0.01,0.1]\n",
    "# result_varaible = lasso_feature_selection(10, data2,alpha)"
   ]
  },
  {
   "cell_type": "code",
   "execution_count": 14,
   "metadata": {},
   "outputs": [],
   "source": [
    "#결과값 CSV 저장\n",
    "#pd.Series(selected_variable).to_csv('./lasso_selection_variable.csv')"
   ]
  },
  {
   "cell_type": "code",
   "execution_count": null,
   "metadata": {},
   "outputs": [],
   "source": []
  },
  {
   "cell_type": "markdown",
   "metadata": {},
   "source": [
    "## PCA Analysis & Prediction"
   ]
  },
  {
   "cell_type": "code",
   "execution_count": 12,
   "metadata": {},
   "outputs": [],
   "source": [
    "selected_variable = pd.read_csv('./lasso_selection_variable.csv')\n",
    "selected_variable = selected_variable['0']"
   ]
  },
  {
   "cell_type": "code",
   "execution_count": 13,
   "metadata": {},
   "outputs": [],
   "source": [
    "def run_pca_analysis(_train_set, _test_set, _LASSO_columns, threshold, draw_plot):\n",
    "    \n",
    "    train_pca_res = train_set_pca_factor(_train_set, threshold, _LASSO_columns, draw_plot)\n",
    "    \n",
    "    train_pca_factors = train_pca_res[0]\n",
    "    train_loadings = train_pca_res[1]\n",
    "    \n",
    "    LASSOed_test_set = _test_set[_LASSO_columns]\n",
    "    test_pca_factors = LASSOed_test_set @ train_loadings\n",
    "    \n",
    "    \n",
    "    \n",
    "    return train_pca_factors, train_loadings, test_pca_factors"
   ]
  },
  {
   "cell_type": "code",
   "execution_count": 14,
   "metadata": {},
   "outputs": [],
   "source": [
    "# X = LASSO로 의미없는 변수 제거한 DataFrame\n",
    "\n",
    "def train_set_pca_factor(_train_set, threshold, _LASSO_columns, draw_plot = False):\n",
    "    \n",
    "    LASSOed_train_set = _train_set[_LASSO_columns]\n",
    "    max_pca_factor = LASSOed_train_set.shape[1]\n",
    "    LASSOed_train_set = StandardScaler().fit_transform(LASSOed_train_set)\n",
    "    pca = PCA(n_components = max_pca_factor)\n",
    "    principalComponents = pca.fit_transform(LASSOed_train_set)\n",
    "    explain_var = pca.explained_variance_ratio_\n",
    "    num_pca_factor = len(explain_var[explain_var.cumsum() < threshold])\n",
    "    print(\"PCA threshold 넘기기 위해 필요한 최소 Factor: \",num_pca_factor)\n",
    "    \n",
    "    if draw_plot == True:\n",
    "        fig, axes = plt.subplots(nrows=2, ncols=1)\n",
    "\n",
    "        axes[0].plot(explain_var.cumsum(), label = \"explained_Var\")\n",
    "        axes[1].set_xlabel(\"# of PCA Factors\")\n",
    "        axes[0].set_ylabel(\"cum_explained_variance\")\n",
    "        axes[0].set_title(\"PCA_explained_variance\")\n",
    "        axes[0].axhline(y=0.7, color='r', linewidth=1, label = \"dd\")\n",
    "        axes[0].legend([\"explained_Var\", \"Threshold\"])\n",
    "\n",
    "\n",
    "        axes[1].bar(np.arange(max_pca_factor) , explain_var)\n",
    "        axes[1].set_ylabel(\"explained_variance\")\n",
    "    \n",
    "    pca = PCA(n_components = num_pca_factor)\n",
    "    principalComponents = pca.fit_transform(LASSOed_train_set)\n",
    "    train_set_pca_factors = pd.DataFrame(data=principalComponents, \n",
    "                                         columns=[\"PC\"+str(i+1) for i in range(num_pca_factor)])\n",
    "    \n",
    "    _LASSO_columns = np.array(_LASSO_columns)\n",
    "    train_set_loadings = pd.DataFrame(pca.components_.T,\n",
    "                        columns=[\"PC\"+str(i+1) for i in range(num_pca_factor)],\n",
    "                        index=np.array(_LASSO_columns).T)\n",
    "    \n",
    "    return train_set_pca_factors, train_set_loadings, explain_var"
   ]
  },
  {
   "cell_type": "markdown",
   "metadata": {},
   "source": [
    "# Logistic(Softmax) Regression"
   ]
  },
  {
   "cell_type": "code",
   "execution_count": 18,
   "metadata": {
    "scrolled": true
   },
   "outputs": [
    {
     "name": "stdout",
     "output_type": "stream",
     "text": [
      "y_1m 2020-05-13 15:20:00\n",
      "2020-06-30 14:08:00\n",
      "PCA threshold 넘기기 위해 필요한 최소 Factor:  6\n"
     ]
    },
    {
     "data": {
      "text/plain": [
       "LogisticRegression(C=1.0, class_weight=None, dual=False, fit_intercept=True,\n",
       "                   intercept_scaling=1, l1_ratio=None, max_iter=100,\n",
       "                   multi_class='auto', n_jobs=None, penalty='l2',\n",
       "                   random_state=None, solver='warn', tol=0.0001, verbose=0,\n",
       "                   warm_start=False)"
      ]
     },
     "execution_count": 18,
     "metadata": {},
     "output_type": "execute_result"
    },
    {
     "name": "stdout",
     "output_type": "stream",
     "text": [
      "y_1m 2020-05-14 15:20:00\n",
      "2020-06-30 14:08:00\n",
      "PCA threshold 넘기기 위해 필요한 최소 Factor:  6\n"
     ]
    },
    {
     "data": {
      "text/plain": [
       "LogisticRegression(C=1.0, class_weight=None, dual=False, fit_intercept=True,\n",
       "                   intercept_scaling=1, l1_ratio=None, max_iter=100,\n",
       "                   multi_class='auto', n_jobs=None, penalty='l2',\n",
       "                   random_state=None, solver='warn', tol=0.0001, verbose=0,\n",
       "                   warm_start=False)"
      ]
     },
     "execution_count": 18,
     "metadata": {},
     "output_type": "execute_result"
    },
    {
     "name": "stdout",
     "output_type": "stream",
     "text": [
      "y_1m 2020-05-15 15:20:00\n",
      "2020-06-30 14:08:00\n",
      "PCA threshold 넘기기 위해 필요한 최소 Factor:  6\n"
     ]
    },
    {
     "data": {
      "text/plain": [
       "LogisticRegression(C=1.0, class_weight=None, dual=False, fit_intercept=True,\n",
       "                   intercept_scaling=1, l1_ratio=None, max_iter=100,\n",
       "                   multi_class='auto', n_jobs=None, penalty='l2',\n",
       "                   random_state=None, solver='warn', tol=0.0001, verbose=0,\n",
       "                   warm_start=False)"
      ]
     },
     "execution_count": 18,
     "metadata": {},
     "output_type": "execute_result"
    },
    {
     "name": "stdout",
     "output_type": "stream",
     "text": [
      "y_1m 2020-05-18 15:20:00\n",
      "2020-06-30 14:08:00\n",
      "PCA threshold 넘기기 위해 필요한 최소 Factor:  6\n"
     ]
    },
    {
     "data": {
      "text/plain": [
       "LogisticRegression(C=1.0, class_weight=None, dual=False, fit_intercept=True,\n",
       "                   intercept_scaling=1, l1_ratio=None, max_iter=100,\n",
       "                   multi_class='auto', n_jobs=None, penalty='l2',\n",
       "                   random_state=None, solver='warn', tol=0.0001, verbose=0,\n",
       "                   warm_start=False)"
      ]
     },
     "execution_count": 18,
     "metadata": {},
     "output_type": "execute_result"
    },
    {
     "name": "stdout",
     "output_type": "stream",
     "text": [
      "y_1m 2020-05-19 15:20:00\n",
      "2020-06-30 14:08:00\n",
      "PCA threshold 넘기기 위해 필요한 최소 Factor:  6\n"
     ]
    },
    {
     "data": {
      "text/plain": [
       "LogisticRegression(C=1.0, class_weight=None, dual=False, fit_intercept=True,\n",
       "                   intercept_scaling=1, l1_ratio=None, max_iter=100,\n",
       "                   multi_class='auto', n_jobs=None, penalty='l2',\n",
       "                   random_state=None, solver='warn', tol=0.0001, verbose=0,\n",
       "                   warm_start=False)"
      ]
     },
     "execution_count": 18,
     "metadata": {},
     "output_type": "execute_result"
    },
    {
     "name": "stdout",
     "output_type": "stream",
     "text": [
      "y_1m 2020-05-20 15:20:00\n",
      "2020-06-30 14:08:00\n",
      "PCA threshold 넘기기 위해 필요한 최소 Factor:  6\n"
     ]
    },
    {
     "data": {
      "text/plain": [
       "LogisticRegression(C=1.0, class_weight=None, dual=False, fit_intercept=True,\n",
       "                   intercept_scaling=1, l1_ratio=None, max_iter=100,\n",
       "                   multi_class='auto', n_jobs=None, penalty='l2',\n",
       "                   random_state=None, solver='warn', tol=0.0001, verbose=0,\n",
       "                   warm_start=False)"
      ]
     },
     "execution_count": 18,
     "metadata": {},
     "output_type": "execute_result"
    },
    {
     "name": "stdout",
     "output_type": "stream",
     "text": [
      "y_1m 2020-05-21 15:20:00\n",
      "2020-06-30 14:08:00\n",
      "PCA threshold 넘기기 위해 필요한 최소 Factor:  6\n"
     ]
    },
    {
     "data": {
      "text/plain": [
       "LogisticRegression(C=1.0, class_weight=None, dual=False, fit_intercept=True,\n",
       "                   intercept_scaling=1, l1_ratio=None, max_iter=100,\n",
       "                   multi_class='auto', n_jobs=None, penalty='l2',\n",
       "                   random_state=None, solver='warn', tol=0.0001, verbose=0,\n",
       "                   warm_start=False)"
      ]
     },
     "execution_count": 18,
     "metadata": {},
     "output_type": "execute_result"
    },
    {
     "name": "stdout",
     "output_type": "stream",
     "text": [
      "y_1m 2020-05-22 15:20:00\n",
      "2020-06-30 14:08:00\n",
      "PCA threshold 넘기기 위해 필요한 최소 Factor:  6\n"
     ]
    },
    {
     "data": {
      "text/plain": [
       "LogisticRegression(C=1.0, class_weight=None, dual=False, fit_intercept=True,\n",
       "                   intercept_scaling=1, l1_ratio=None, max_iter=100,\n",
       "                   multi_class='auto', n_jobs=None, penalty='l2',\n",
       "                   random_state=None, solver='warn', tol=0.0001, verbose=0,\n",
       "                   warm_start=False)"
      ]
     },
     "execution_count": 18,
     "metadata": {},
     "output_type": "execute_result"
    },
    {
     "name": "stdout",
     "output_type": "stream",
     "text": [
      "y_1m 2020-05-25 15:20:00\n",
      "2020-06-30 14:08:00\n",
      "PCA threshold 넘기기 위해 필요한 최소 Factor:  6\n"
     ]
    },
    {
     "data": {
      "text/plain": [
       "LogisticRegression(C=1.0, class_weight=None, dual=False, fit_intercept=True,\n",
       "                   intercept_scaling=1, l1_ratio=None, max_iter=100,\n",
       "                   multi_class='auto', n_jobs=None, penalty='l2',\n",
       "                   random_state=None, solver='warn', tol=0.0001, verbose=0,\n",
       "                   warm_start=False)"
      ]
     },
     "execution_count": 18,
     "metadata": {},
     "output_type": "execute_result"
    },
    {
     "name": "stdout",
     "output_type": "stream",
     "text": [
      "y_1m 2020-05-26 15:20:00\n",
      "2020-06-30 14:08:00\n",
      "PCA threshold 넘기기 위해 필요한 최소 Factor:  6\n"
     ]
    },
    {
     "data": {
      "text/plain": [
       "LogisticRegression(C=1.0, class_weight=None, dual=False, fit_intercept=True,\n",
       "                   intercept_scaling=1, l1_ratio=None, max_iter=100,\n",
       "                   multi_class='auto', n_jobs=None, penalty='l2',\n",
       "                   random_state=None, solver='warn', tol=0.0001, verbose=0,\n",
       "                   warm_start=False)"
      ]
     },
     "execution_count": 18,
     "metadata": {},
     "output_type": "execute_result"
    },
    {
     "name": "stdout",
     "output_type": "stream",
     "text": [
      "y_1m 2020-05-27 15:20:00\n",
      "2020-06-30 14:08:00\n",
      "PCA threshold 넘기기 위해 필요한 최소 Factor:  6\n"
     ]
    },
    {
     "data": {
      "text/plain": [
       "LogisticRegression(C=1.0, class_weight=None, dual=False, fit_intercept=True,\n",
       "                   intercept_scaling=1, l1_ratio=None, max_iter=100,\n",
       "                   multi_class='auto', n_jobs=None, penalty='l2',\n",
       "                   random_state=None, solver='warn', tol=0.0001, verbose=0,\n",
       "                   warm_start=False)"
      ]
     },
     "execution_count": 18,
     "metadata": {},
     "output_type": "execute_result"
    },
    {
     "name": "stdout",
     "output_type": "stream",
     "text": [
      "y_1m 2020-05-28 15:20:00\n",
      "2020-06-30 14:08:00\n",
      "PCA threshold 넘기기 위해 필요한 최소 Factor:  6\n"
     ]
    },
    {
     "data": {
      "text/plain": [
       "LogisticRegression(C=1.0, class_weight=None, dual=False, fit_intercept=True,\n",
       "                   intercept_scaling=1, l1_ratio=None, max_iter=100,\n",
       "                   multi_class='auto', n_jobs=None, penalty='l2',\n",
       "                   random_state=None, solver='warn', tol=0.0001, verbose=0,\n",
       "                   warm_start=False)"
      ]
     },
     "execution_count": 18,
     "metadata": {},
     "output_type": "execute_result"
    },
    {
     "name": "stdout",
     "output_type": "stream",
     "text": [
      "y_1m 2020-05-29 15:20:00\n",
      "2020-06-30 14:08:00\n",
      "PCA threshold 넘기기 위해 필요한 최소 Factor:  6\n"
     ]
    },
    {
     "data": {
      "text/plain": [
       "LogisticRegression(C=1.0, class_weight=None, dual=False, fit_intercept=True,\n",
       "                   intercept_scaling=1, l1_ratio=None, max_iter=100,\n",
       "                   multi_class='auto', n_jobs=None, penalty='l2',\n",
       "                   random_state=None, solver='warn', tol=0.0001, verbose=0,\n",
       "                   warm_start=False)"
      ]
     },
     "execution_count": 18,
     "metadata": {},
     "output_type": "execute_result"
    },
    {
     "name": "stdout",
     "output_type": "stream",
     "text": [
      "y_1m 2020-06-01 15:20:00\n",
      "2020-06-30 14:08:00\n",
      "PCA threshold 넘기기 위해 필요한 최소 Factor:  6\n"
     ]
    },
    {
     "data": {
      "text/plain": [
       "LogisticRegression(C=1.0, class_weight=None, dual=False, fit_intercept=True,\n",
       "                   intercept_scaling=1, l1_ratio=None, max_iter=100,\n",
       "                   multi_class='auto', n_jobs=None, penalty='l2',\n",
       "                   random_state=None, solver='warn', tol=0.0001, verbose=0,\n",
       "                   warm_start=False)"
      ]
     },
     "execution_count": 18,
     "metadata": {},
     "output_type": "execute_result"
    },
    {
     "name": "stdout",
     "output_type": "stream",
     "text": [
      "y_1m 2020-06-02 15:20:00\n",
      "2020-06-30 14:08:00\n",
      "PCA threshold 넘기기 위해 필요한 최소 Factor:  6\n"
     ]
    },
    {
     "data": {
      "text/plain": [
       "LogisticRegression(C=1.0, class_weight=None, dual=False, fit_intercept=True,\n",
       "                   intercept_scaling=1, l1_ratio=None, max_iter=100,\n",
       "                   multi_class='auto', n_jobs=None, penalty='l2',\n",
       "                   random_state=None, solver='warn', tol=0.0001, verbose=0,\n",
       "                   warm_start=False)"
      ]
     },
     "execution_count": 18,
     "metadata": {},
     "output_type": "execute_result"
    },
    {
     "name": "stdout",
     "output_type": "stream",
     "text": [
      "y_1m 2020-06-03 15:20:00\n",
      "2020-06-30 14:08:00\n",
      "PCA threshold 넘기기 위해 필요한 최소 Factor:  6\n"
     ]
    },
    {
     "data": {
      "text/plain": [
       "LogisticRegression(C=1.0, class_weight=None, dual=False, fit_intercept=True,\n",
       "                   intercept_scaling=1, l1_ratio=None, max_iter=100,\n",
       "                   multi_class='auto', n_jobs=None, penalty='l2',\n",
       "                   random_state=None, solver='warn', tol=0.0001, verbose=0,\n",
       "                   warm_start=False)"
      ]
     },
     "execution_count": 18,
     "metadata": {},
     "output_type": "execute_result"
    },
    {
     "name": "stdout",
     "output_type": "stream",
     "text": [
      "y_1m 2020-06-04 15:20:00\n",
      "2020-06-30 14:08:00\n",
      "PCA threshold 넘기기 위해 필요한 최소 Factor:  6\n"
     ]
    },
    {
     "data": {
      "text/plain": [
       "LogisticRegression(C=1.0, class_weight=None, dual=False, fit_intercept=True,\n",
       "                   intercept_scaling=1, l1_ratio=None, max_iter=100,\n",
       "                   multi_class='auto', n_jobs=None, penalty='l2',\n",
       "                   random_state=None, solver='warn', tol=0.0001, verbose=0,\n",
       "                   warm_start=False)"
      ]
     },
     "execution_count": 18,
     "metadata": {},
     "output_type": "execute_result"
    },
    {
     "name": "stdout",
     "output_type": "stream",
     "text": [
      "y_1m 2020-06-05 15:20:00\n",
      "2020-06-30 14:08:00\n",
      "PCA threshold 넘기기 위해 필요한 최소 Factor:  6\n"
     ]
    },
    {
     "data": {
      "text/plain": [
       "LogisticRegression(C=1.0, class_weight=None, dual=False, fit_intercept=True,\n",
       "                   intercept_scaling=1, l1_ratio=None, max_iter=100,\n",
       "                   multi_class='auto', n_jobs=None, penalty='l2',\n",
       "                   random_state=None, solver='warn', tol=0.0001, verbose=0,\n",
       "                   warm_start=False)"
      ]
     },
     "execution_count": 18,
     "metadata": {},
     "output_type": "execute_result"
    },
    {
     "name": "stdout",
     "output_type": "stream",
     "text": [
      "y_1m 2020-06-08 15:20:00\n",
      "2020-06-30 14:08:00\n",
      "PCA threshold 넘기기 위해 필요한 최소 Factor:  6\n"
     ]
    },
    {
     "data": {
      "text/plain": [
       "LogisticRegression(C=1.0, class_weight=None, dual=False, fit_intercept=True,\n",
       "                   intercept_scaling=1, l1_ratio=None, max_iter=100,\n",
       "                   multi_class='auto', n_jobs=None, penalty='l2',\n",
       "                   random_state=None, solver='warn', tol=0.0001, verbose=0,\n",
       "                   warm_start=False)"
      ]
     },
     "execution_count": 18,
     "metadata": {},
     "output_type": "execute_result"
    },
    {
     "name": "stdout",
     "output_type": "stream",
     "text": [
      "y_1m 2020-06-09 15:20:00\n",
      "2020-06-30 14:08:00\n",
      "PCA threshold 넘기기 위해 필요한 최소 Factor:  6\n"
     ]
    },
    {
     "data": {
      "text/plain": [
       "LogisticRegression(C=1.0, class_weight=None, dual=False, fit_intercept=True,\n",
       "                   intercept_scaling=1, l1_ratio=None, max_iter=100,\n",
       "                   multi_class='auto', n_jobs=None, penalty='l2',\n",
       "                   random_state=None, solver='warn', tol=0.0001, verbose=0,\n",
       "                   warm_start=False)"
      ]
     },
     "execution_count": 18,
     "metadata": {},
     "output_type": "execute_result"
    },
    {
     "name": "stdout",
     "output_type": "stream",
     "text": [
      "y_1m 2020-06-10 15:20:00\n",
      "2020-06-30 14:08:00\n",
      "PCA threshold 넘기기 위해 필요한 최소 Factor:  6\n"
     ]
    },
    {
     "data": {
      "text/plain": [
       "LogisticRegression(C=1.0, class_weight=None, dual=False, fit_intercept=True,\n",
       "                   intercept_scaling=1, l1_ratio=None, max_iter=100,\n",
       "                   multi_class='auto', n_jobs=None, penalty='l2',\n",
       "                   random_state=None, solver='warn', tol=0.0001, verbose=0,\n",
       "                   warm_start=False)"
      ]
     },
     "execution_count": 18,
     "metadata": {},
     "output_type": "execute_result"
    },
    {
     "name": "stdout",
     "output_type": "stream",
     "text": [
      "y_1m 2020-06-12 09:00:00\n",
      "2020-06-30 14:08:00\n",
      "PCA threshold 넘기기 위해 필요한 최소 Factor:  6\n"
     ]
    },
    {
     "data": {
      "text/plain": [
       "LogisticRegression(C=1.0, class_weight=None, dual=False, fit_intercept=True,\n",
       "                   intercept_scaling=1, l1_ratio=None, max_iter=100,\n",
       "                   multi_class='auto', n_jobs=None, penalty='l2',\n",
       "                   random_state=None, solver='warn', tol=0.0001, verbose=0,\n",
       "                   warm_start=False)"
      ]
     },
     "execution_count": 18,
     "metadata": {},
     "output_type": "execute_result"
    },
    {
     "name": "stdout",
     "output_type": "stream",
     "text": [
      "y_1m 2020-06-15 09:00:00\n",
      "2020-06-30 14:08:00\n",
      "PCA threshold 넘기기 위해 필요한 최소 Factor:  6\n"
     ]
    },
    {
     "data": {
      "text/plain": [
       "LogisticRegression(C=1.0, class_weight=None, dual=False, fit_intercept=True,\n",
       "                   intercept_scaling=1, l1_ratio=None, max_iter=100,\n",
       "                   multi_class='auto', n_jobs=None, penalty='l2',\n",
       "                   random_state=None, solver='warn', tol=0.0001, verbose=0,\n",
       "                   warm_start=False)"
      ]
     },
     "execution_count": 18,
     "metadata": {},
     "output_type": "execute_result"
    },
    {
     "name": "stdout",
     "output_type": "stream",
     "text": [
      "y_1m 2020-06-16 09:00:00\n",
      "2020-06-30 14:08:00\n",
      "PCA threshold 넘기기 위해 필요한 최소 Factor:  6\n"
     ]
    },
    {
     "data": {
      "text/plain": [
       "LogisticRegression(C=1.0, class_weight=None, dual=False, fit_intercept=True,\n",
       "                   intercept_scaling=1, l1_ratio=None, max_iter=100,\n",
       "                   multi_class='auto', n_jobs=None, penalty='l2',\n",
       "                   random_state=None, solver='warn', tol=0.0001, verbose=0,\n",
       "                   warm_start=False)"
      ]
     },
     "execution_count": 18,
     "metadata": {},
     "output_type": "execute_result"
    },
    {
     "name": "stdout",
     "output_type": "stream",
     "text": [
      "y_1m 2020-06-17 09:00:00\n",
      "2020-06-30 14:08:00\n",
      "PCA threshold 넘기기 위해 필요한 최소 Factor:  6\n"
     ]
    },
    {
     "data": {
      "text/plain": [
       "LogisticRegression(C=1.0, class_weight=None, dual=False, fit_intercept=True,\n",
       "                   intercept_scaling=1, l1_ratio=None, max_iter=100,\n",
       "                   multi_class='auto', n_jobs=None, penalty='l2',\n",
       "                   random_state=None, solver='warn', tol=0.0001, verbose=0,\n",
       "                   warm_start=False)"
      ]
     },
     "execution_count": 18,
     "metadata": {},
     "output_type": "execute_result"
    },
    {
     "name": "stdout",
     "output_type": "stream",
     "text": [
      "y_1m 2020-06-18 09:00:00\n",
      "2020-06-30 14:08:00\n",
      "PCA threshold 넘기기 위해 필요한 최소 Factor:  6\n"
     ]
    },
    {
     "data": {
      "text/plain": [
       "LogisticRegression(C=1.0, class_weight=None, dual=False, fit_intercept=True,\n",
       "                   intercept_scaling=1, l1_ratio=None, max_iter=100,\n",
       "                   multi_class='auto', n_jobs=None, penalty='l2',\n",
       "                   random_state=None, solver='warn', tol=0.0001, verbose=0,\n",
       "                   warm_start=False)"
      ]
     },
     "execution_count": 18,
     "metadata": {},
     "output_type": "execute_result"
    },
    {
     "name": "stdout",
     "output_type": "stream",
     "text": [
      "y_1m 2020-06-19 09:00:00\n",
      "2020-06-30 14:08:00\n",
      "PCA threshold 넘기기 위해 필요한 최소 Factor:  6\n"
     ]
    },
    {
     "data": {
      "text/plain": [
       "LogisticRegression(C=1.0, class_weight=None, dual=False, fit_intercept=True,\n",
       "                   intercept_scaling=1, l1_ratio=None, max_iter=100,\n",
       "                   multi_class='auto', n_jobs=None, penalty='l2',\n",
       "                   random_state=None, solver='warn', tol=0.0001, verbose=0,\n",
       "                   warm_start=False)"
      ]
     },
     "execution_count": 18,
     "metadata": {},
     "output_type": "execute_result"
    },
    {
     "name": "stdout",
     "output_type": "stream",
     "text": [
      "y_1m 2020-06-22 09:00:00\n",
      "2020-06-30 14:08:00\n",
      "PCA threshold 넘기기 위해 필요한 최소 Factor:  6\n"
     ]
    },
    {
     "data": {
      "text/plain": [
       "LogisticRegression(C=1.0, class_weight=None, dual=False, fit_intercept=True,\n",
       "                   intercept_scaling=1, l1_ratio=None, max_iter=100,\n",
       "                   multi_class='auto', n_jobs=None, penalty='l2',\n",
       "                   random_state=None, solver='warn', tol=0.0001, verbose=0,\n",
       "                   warm_start=False)"
      ]
     },
     "execution_count": 18,
     "metadata": {},
     "output_type": "execute_result"
    },
    {
     "name": "stdout",
     "output_type": "stream",
     "text": [
      "y_1m 2020-06-23 09:00:00\n",
      "2020-06-30 14:08:00\n",
      "PCA threshold 넘기기 위해 필요한 최소 Factor:  6\n"
     ]
    },
    {
     "data": {
      "text/plain": [
       "LogisticRegression(C=1.0, class_weight=None, dual=False, fit_intercept=True,\n",
       "                   intercept_scaling=1, l1_ratio=None, max_iter=100,\n",
       "                   multi_class='auto', n_jobs=None, penalty='l2',\n",
       "                   random_state=None, solver='warn', tol=0.0001, verbose=0,\n",
       "                   warm_start=False)"
      ]
     },
     "execution_count": 18,
     "metadata": {},
     "output_type": "execute_result"
    },
    {
     "name": "stdout",
     "output_type": "stream",
     "text": [
      "y_1m 2020-06-24 09:00:00\n",
      "2020-06-30 14:08:00\n",
      "PCA threshold 넘기기 위해 필요한 최소 Factor:  6\n"
     ]
    },
    {
     "data": {
      "text/plain": [
       "LogisticRegression(C=1.0, class_weight=None, dual=False, fit_intercept=True,\n",
       "                   intercept_scaling=1, l1_ratio=None, max_iter=100,\n",
       "                   multi_class='auto', n_jobs=None, penalty='l2',\n",
       "                   random_state=None, solver='warn', tol=0.0001, verbose=0,\n",
       "                   warm_start=False)"
      ]
     },
     "execution_count": 18,
     "metadata": {},
     "output_type": "execute_result"
    },
    {
     "name": "stdout",
     "output_type": "stream",
     "text": [
      "y_1m 2020-06-25 09:00:00\n",
      "2020-06-30 14:08:00\n",
      "PCA threshold 넘기기 위해 필요한 최소 Factor:  6\n"
     ]
    },
    {
     "data": {
      "text/plain": [
       "LogisticRegression(C=1.0, class_weight=None, dual=False, fit_intercept=True,\n",
       "                   intercept_scaling=1, l1_ratio=None, max_iter=100,\n",
       "                   multi_class='auto', n_jobs=None, penalty='l2',\n",
       "                   random_state=None, solver='warn', tol=0.0001, verbose=0,\n",
       "                   warm_start=False)"
      ]
     },
     "execution_count": 18,
     "metadata": {},
     "output_type": "execute_result"
    },
    {
     "name": "stdout",
     "output_type": "stream",
     "text": [
      "y_1m 2020-06-26 09:00:00\n",
      "2020-06-30 14:08:00\n",
      "PCA threshold 넘기기 위해 필요한 최소 Factor:  6\n"
     ]
    },
    {
     "data": {
      "text/plain": [
       "LogisticRegression(C=1.0, class_weight=None, dual=False, fit_intercept=True,\n",
       "                   intercept_scaling=1, l1_ratio=None, max_iter=100,\n",
       "                   multi_class='auto', n_jobs=None, penalty='l2',\n",
       "                   random_state=None, solver='warn', tol=0.0001, verbose=0,\n",
       "                   warm_start=False)"
      ]
     },
     "execution_count": 18,
     "metadata": {},
     "output_type": "execute_result"
    },
    {
     "name": "stdout",
     "output_type": "stream",
     "text": [
      "y_1m 2020-06-29 09:00:00\n",
      "2020-06-30 14:08:00\n",
      "PCA threshold 넘기기 위해 필요한 최소 Factor:  6\n"
     ]
    },
    {
     "data": {
      "text/plain": [
       "LogisticRegression(C=1.0, class_weight=None, dual=False, fit_intercept=True,\n",
       "                   intercept_scaling=1, l1_ratio=None, max_iter=100,\n",
       "                   multi_class='auto', n_jobs=None, penalty='l2',\n",
       "                   random_state=None, solver='warn', tol=0.0001, verbose=0,\n",
       "                   warm_start=False)"
      ]
     },
     "execution_count": 18,
     "metadata": {},
     "output_type": "execute_result"
    },
    {
     "name": "stdout",
     "output_type": "stream",
     "text": [
      "y_1m 2020-06-30 09:00:00\n",
      "2020-06-30 14:08:00\n",
      "PCA threshold 넘기기 위해 필요한 최소 Factor:  6\n"
     ]
    },
    {
     "data": {
      "text/plain": [
       "LogisticRegression(C=1.0, class_weight=None, dual=False, fit_intercept=True,\n",
       "                   intercept_scaling=1, l1_ratio=None, max_iter=100,\n",
       "                   multi_class='auto', n_jobs=None, penalty='l2',\n",
       "                   random_state=None, solver='warn', tol=0.0001, verbose=0,\n",
       "                   warm_start=False)"
      ]
     },
     "execution_count": 18,
     "metadata": {},
     "output_type": "execute_result"
    },
    {
     "name": "stdout",
     "output_type": "stream",
     "text": [
      "y_3m 2020-05-13 15:20:00\n",
      "2020-06-30 14:08:00\n",
      "PCA threshold 넘기기 위해 필요한 최소 Factor:  6\n"
     ]
    },
    {
     "data": {
      "text/plain": [
       "LogisticRegression(C=1.0, class_weight=None, dual=False, fit_intercept=True,\n",
       "                   intercept_scaling=1, l1_ratio=None, max_iter=100,\n",
       "                   multi_class='auto', n_jobs=None, penalty='l2',\n",
       "                   random_state=None, solver='warn', tol=0.0001, verbose=0,\n",
       "                   warm_start=False)"
      ]
     },
     "execution_count": 18,
     "metadata": {},
     "output_type": "execute_result"
    },
    {
     "name": "stdout",
     "output_type": "stream",
     "text": [
      "y_3m 2020-05-14 15:20:00\n",
      "2020-06-30 14:08:00\n",
      "PCA threshold 넘기기 위해 필요한 최소 Factor:  6\n"
     ]
    },
    {
     "data": {
      "text/plain": [
       "LogisticRegression(C=1.0, class_weight=None, dual=False, fit_intercept=True,\n",
       "                   intercept_scaling=1, l1_ratio=None, max_iter=100,\n",
       "                   multi_class='auto', n_jobs=None, penalty='l2',\n",
       "                   random_state=None, solver='warn', tol=0.0001, verbose=0,\n",
       "                   warm_start=False)"
      ]
     },
     "execution_count": 18,
     "metadata": {},
     "output_type": "execute_result"
    },
    {
     "name": "stdout",
     "output_type": "stream",
     "text": [
      "y_3m 2020-05-15 15:20:00\n",
      "2020-06-30 14:08:00\n",
      "PCA threshold 넘기기 위해 필요한 최소 Factor:  6\n"
     ]
    },
    {
     "data": {
      "text/plain": [
       "LogisticRegression(C=1.0, class_weight=None, dual=False, fit_intercept=True,\n",
       "                   intercept_scaling=1, l1_ratio=None, max_iter=100,\n",
       "                   multi_class='auto', n_jobs=None, penalty='l2',\n",
       "                   random_state=None, solver='warn', tol=0.0001, verbose=0,\n",
       "                   warm_start=False)"
      ]
     },
     "execution_count": 18,
     "metadata": {},
     "output_type": "execute_result"
    },
    {
     "name": "stdout",
     "output_type": "stream",
     "text": [
      "y_3m 2020-05-18 15:20:00\n",
      "2020-06-30 14:08:00\n",
      "PCA threshold 넘기기 위해 필요한 최소 Factor:  6\n"
     ]
    },
    {
     "data": {
      "text/plain": [
       "LogisticRegression(C=1.0, class_weight=None, dual=False, fit_intercept=True,\n",
       "                   intercept_scaling=1, l1_ratio=None, max_iter=100,\n",
       "                   multi_class='auto', n_jobs=None, penalty='l2',\n",
       "                   random_state=None, solver='warn', tol=0.0001, verbose=0,\n",
       "                   warm_start=False)"
      ]
     },
     "execution_count": 18,
     "metadata": {},
     "output_type": "execute_result"
    },
    {
     "name": "stdout",
     "output_type": "stream",
     "text": [
      "y_3m 2020-05-19 15:20:00\n",
      "2020-06-30 14:08:00\n",
      "PCA threshold 넘기기 위해 필요한 최소 Factor:  6\n"
     ]
    },
    {
     "data": {
      "text/plain": [
       "LogisticRegression(C=1.0, class_weight=None, dual=False, fit_intercept=True,\n",
       "                   intercept_scaling=1, l1_ratio=None, max_iter=100,\n",
       "                   multi_class='auto', n_jobs=None, penalty='l2',\n",
       "                   random_state=None, solver='warn', tol=0.0001, verbose=0,\n",
       "                   warm_start=False)"
      ]
     },
     "execution_count": 18,
     "metadata": {},
     "output_type": "execute_result"
    },
    {
     "name": "stdout",
     "output_type": "stream",
     "text": [
      "y_3m 2020-05-20 15:20:00\n",
      "2020-06-30 14:08:00\n",
      "PCA threshold 넘기기 위해 필요한 최소 Factor:  6\n"
     ]
    },
    {
     "data": {
      "text/plain": [
       "LogisticRegression(C=1.0, class_weight=None, dual=False, fit_intercept=True,\n",
       "                   intercept_scaling=1, l1_ratio=None, max_iter=100,\n",
       "                   multi_class='auto', n_jobs=None, penalty='l2',\n",
       "                   random_state=None, solver='warn', tol=0.0001, verbose=0,\n",
       "                   warm_start=False)"
      ]
     },
     "execution_count": 18,
     "metadata": {},
     "output_type": "execute_result"
    },
    {
     "name": "stdout",
     "output_type": "stream",
     "text": [
      "y_3m 2020-05-21 15:20:00\n",
      "2020-06-30 14:08:00\n",
      "PCA threshold 넘기기 위해 필요한 최소 Factor:  6\n"
     ]
    },
    {
     "data": {
      "text/plain": [
       "LogisticRegression(C=1.0, class_weight=None, dual=False, fit_intercept=True,\n",
       "                   intercept_scaling=1, l1_ratio=None, max_iter=100,\n",
       "                   multi_class='auto', n_jobs=None, penalty='l2',\n",
       "                   random_state=None, solver='warn', tol=0.0001, verbose=0,\n",
       "                   warm_start=False)"
      ]
     },
     "execution_count": 18,
     "metadata": {},
     "output_type": "execute_result"
    },
    {
     "name": "stdout",
     "output_type": "stream",
     "text": [
      "y_3m 2020-05-22 15:20:00\n",
      "2020-06-30 14:08:00\n",
      "PCA threshold 넘기기 위해 필요한 최소 Factor:  6\n"
     ]
    },
    {
     "data": {
      "text/plain": [
       "LogisticRegression(C=1.0, class_weight=None, dual=False, fit_intercept=True,\n",
       "                   intercept_scaling=1, l1_ratio=None, max_iter=100,\n",
       "                   multi_class='auto', n_jobs=None, penalty='l2',\n",
       "                   random_state=None, solver='warn', tol=0.0001, verbose=0,\n",
       "                   warm_start=False)"
      ]
     },
     "execution_count": 18,
     "metadata": {},
     "output_type": "execute_result"
    },
    {
     "name": "stdout",
     "output_type": "stream",
     "text": [
      "y_3m 2020-05-25 15:20:00\n",
      "2020-06-30 14:08:00\n",
      "PCA threshold 넘기기 위해 필요한 최소 Factor:  6\n"
     ]
    },
    {
     "data": {
      "text/plain": [
       "LogisticRegression(C=1.0, class_weight=None, dual=False, fit_intercept=True,\n",
       "                   intercept_scaling=1, l1_ratio=None, max_iter=100,\n",
       "                   multi_class='auto', n_jobs=None, penalty='l2',\n",
       "                   random_state=None, solver='warn', tol=0.0001, verbose=0,\n",
       "                   warm_start=False)"
      ]
     },
     "execution_count": 18,
     "metadata": {},
     "output_type": "execute_result"
    },
    {
     "name": "stdout",
     "output_type": "stream",
     "text": [
      "y_3m 2020-05-26 15:20:00\n",
      "2020-06-30 14:08:00\n",
      "PCA threshold 넘기기 위해 필요한 최소 Factor:  6\n"
     ]
    },
    {
     "data": {
      "text/plain": [
       "LogisticRegression(C=1.0, class_weight=None, dual=False, fit_intercept=True,\n",
       "                   intercept_scaling=1, l1_ratio=None, max_iter=100,\n",
       "                   multi_class='auto', n_jobs=None, penalty='l2',\n",
       "                   random_state=None, solver='warn', tol=0.0001, verbose=0,\n",
       "                   warm_start=False)"
      ]
     },
     "execution_count": 18,
     "metadata": {},
     "output_type": "execute_result"
    },
    {
     "name": "stdout",
     "output_type": "stream",
     "text": [
      "y_3m 2020-05-27 15:20:00\n",
      "2020-06-30 14:08:00\n",
      "PCA threshold 넘기기 위해 필요한 최소 Factor:  6\n"
     ]
    },
    {
     "data": {
      "text/plain": [
       "LogisticRegression(C=1.0, class_weight=None, dual=False, fit_intercept=True,\n",
       "                   intercept_scaling=1, l1_ratio=None, max_iter=100,\n",
       "                   multi_class='auto', n_jobs=None, penalty='l2',\n",
       "                   random_state=None, solver='warn', tol=0.0001, verbose=0,\n",
       "                   warm_start=False)"
      ]
     },
     "execution_count": 18,
     "metadata": {},
     "output_type": "execute_result"
    },
    {
     "name": "stdout",
     "output_type": "stream",
     "text": [
      "y_3m 2020-05-28 15:20:00\n",
      "2020-06-30 14:08:00\n",
      "PCA threshold 넘기기 위해 필요한 최소 Factor:  6\n"
     ]
    },
    {
     "data": {
      "text/plain": [
       "LogisticRegression(C=1.0, class_weight=None, dual=False, fit_intercept=True,\n",
       "                   intercept_scaling=1, l1_ratio=None, max_iter=100,\n",
       "                   multi_class='auto', n_jobs=None, penalty='l2',\n",
       "                   random_state=None, solver='warn', tol=0.0001, verbose=0,\n",
       "                   warm_start=False)"
      ]
     },
     "execution_count": 18,
     "metadata": {},
     "output_type": "execute_result"
    },
    {
     "name": "stdout",
     "output_type": "stream",
     "text": [
      "y_3m 2020-05-29 15:20:00\n",
      "2020-06-30 14:08:00\n",
      "PCA threshold 넘기기 위해 필요한 최소 Factor:  6\n"
     ]
    },
    {
     "data": {
      "text/plain": [
       "LogisticRegression(C=1.0, class_weight=None, dual=False, fit_intercept=True,\n",
       "                   intercept_scaling=1, l1_ratio=None, max_iter=100,\n",
       "                   multi_class='auto', n_jobs=None, penalty='l2',\n",
       "                   random_state=None, solver='warn', tol=0.0001, verbose=0,\n",
       "                   warm_start=False)"
      ]
     },
     "execution_count": 18,
     "metadata": {},
     "output_type": "execute_result"
    },
    {
     "name": "stdout",
     "output_type": "stream",
     "text": [
      "y_3m 2020-06-01 15:20:00\n",
      "2020-06-30 14:08:00\n",
      "PCA threshold 넘기기 위해 필요한 최소 Factor:  6\n"
     ]
    },
    {
     "data": {
      "text/plain": [
       "LogisticRegression(C=1.0, class_weight=None, dual=False, fit_intercept=True,\n",
       "                   intercept_scaling=1, l1_ratio=None, max_iter=100,\n",
       "                   multi_class='auto', n_jobs=None, penalty='l2',\n",
       "                   random_state=None, solver='warn', tol=0.0001, verbose=0,\n",
       "                   warm_start=False)"
      ]
     },
     "execution_count": 18,
     "metadata": {},
     "output_type": "execute_result"
    },
    {
     "name": "stdout",
     "output_type": "stream",
     "text": [
      "y_3m 2020-06-02 15:20:00\n",
      "2020-06-30 14:08:00\n",
      "PCA threshold 넘기기 위해 필요한 최소 Factor:  6\n"
     ]
    },
    {
     "data": {
      "text/plain": [
       "LogisticRegression(C=1.0, class_weight=None, dual=False, fit_intercept=True,\n",
       "                   intercept_scaling=1, l1_ratio=None, max_iter=100,\n",
       "                   multi_class='auto', n_jobs=None, penalty='l2',\n",
       "                   random_state=None, solver='warn', tol=0.0001, verbose=0,\n",
       "                   warm_start=False)"
      ]
     },
     "execution_count": 18,
     "metadata": {},
     "output_type": "execute_result"
    },
    {
     "name": "stdout",
     "output_type": "stream",
     "text": [
      "y_3m 2020-06-03 15:20:00\n",
      "2020-06-30 14:08:00\n",
      "PCA threshold 넘기기 위해 필요한 최소 Factor:  6\n"
     ]
    },
    {
     "data": {
      "text/plain": [
       "LogisticRegression(C=1.0, class_weight=None, dual=False, fit_intercept=True,\n",
       "                   intercept_scaling=1, l1_ratio=None, max_iter=100,\n",
       "                   multi_class='auto', n_jobs=None, penalty='l2',\n",
       "                   random_state=None, solver='warn', tol=0.0001, verbose=0,\n",
       "                   warm_start=False)"
      ]
     },
     "execution_count": 18,
     "metadata": {},
     "output_type": "execute_result"
    },
    {
     "name": "stdout",
     "output_type": "stream",
     "text": [
      "y_3m 2020-06-04 15:20:00\n",
      "2020-06-30 14:08:00\n",
      "PCA threshold 넘기기 위해 필요한 최소 Factor:  6\n"
     ]
    },
    {
     "data": {
      "text/plain": [
       "LogisticRegression(C=1.0, class_weight=None, dual=False, fit_intercept=True,\n",
       "                   intercept_scaling=1, l1_ratio=None, max_iter=100,\n",
       "                   multi_class='auto', n_jobs=None, penalty='l2',\n",
       "                   random_state=None, solver='warn', tol=0.0001, verbose=0,\n",
       "                   warm_start=False)"
      ]
     },
     "execution_count": 18,
     "metadata": {},
     "output_type": "execute_result"
    },
    {
     "name": "stdout",
     "output_type": "stream",
     "text": [
      "y_3m 2020-06-05 15:20:00\n",
      "2020-06-30 14:08:00\n",
      "PCA threshold 넘기기 위해 필요한 최소 Factor:  6\n"
     ]
    },
    {
     "data": {
      "text/plain": [
       "LogisticRegression(C=1.0, class_weight=None, dual=False, fit_intercept=True,\n",
       "                   intercept_scaling=1, l1_ratio=None, max_iter=100,\n",
       "                   multi_class='auto', n_jobs=None, penalty='l2',\n",
       "                   random_state=None, solver='warn', tol=0.0001, verbose=0,\n",
       "                   warm_start=False)"
      ]
     },
     "execution_count": 18,
     "metadata": {},
     "output_type": "execute_result"
    },
    {
     "name": "stdout",
     "output_type": "stream",
     "text": [
      "y_3m 2020-06-08 15:20:00\n",
      "2020-06-30 14:08:00\n",
      "PCA threshold 넘기기 위해 필요한 최소 Factor:  6\n"
     ]
    },
    {
     "data": {
      "text/plain": [
       "LogisticRegression(C=1.0, class_weight=None, dual=False, fit_intercept=True,\n",
       "                   intercept_scaling=1, l1_ratio=None, max_iter=100,\n",
       "                   multi_class='auto', n_jobs=None, penalty='l2',\n",
       "                   random_state=None, solver='warn', tol=0.0001, verbose=0,\n",
       "                   warm_start=False)"
      ]
     },
     "execution_count": 18,
     "metadata": {},
     "output_type": "execute_result"
    },
    {
     "name": "stdout",
     "output_type": "stream",
     "text": [
      "y_3m 2020-06-09 15:20:00\n",
      "2020-06-30 14:08:00\n",
      "PCA threshold 넘기기 위해 필요한 최소 Factor:  6\n"
     ]
    },
    {
     "data": {
      "text/plain": [
       "LogisticRegression(C=1.0, class_weight=None, dual=False, fit_intercept=True,\n",
       "                   intercept_scaling=1, l1_ratio=None, max_iter=100,\n",
       "                   multi_class='auto', n_jobs=None, penalty='l2',\n",
       "                   random_state=None, solver='warn', tol=0.0001, verbose=0,\n",
       "                   warm_start=False)"
      ]
     },
     "execution_count": 18,
     "metadata": {},
     "output_type": "execute_result"
    },
    {
     "name": "stdout",
     "output_type": "stream",
     "text": [
      "y_3m 2020-06-10 15:20:00\n",
      "2020-06-30 14:08:00\n",
      "PCA threshold 넘기기 위해 필요한 최소 Factor:  6\n"
     ]
    },
    {
     "data": {
      "text/plain": [
       "LogisticRegression(C=1.0, class_weight=None, dual=False, fit_intercept=True,\n",
       "                   intercept_scaling=1, l1_ratio=None, max_iter=100,\n",
       "                   multi_class='auto', n_jobs=None, penalty='l2',\n",
       "                   random_state=None, solver='warn', tol=0.0001, verbose=0,\n",
       "                   warm_start=False)"
      ]
     },
     "execution_count": 18,
     "metadata": {},
     "output_type": "execute_result"
    },
    {
     "name": "stdout",
     "output_type": "stream",
     "text": [
      "y_3m 2020-06-12 09:00:00\n",
      "2020-06-30 14:08:00\n",
      "PCA threshold 넘기기 위해 필요한 최소 Factor:  6\n"
     ]
    },
    {
     "data": {
      "text/plain": [
       "LogisticRegression(C=1.0, class_weight=None, dual=False, fit_intercept=True,\n",
       "                   intercept_scaling=1, l1_ratio=None, max_iter=100,\n",
       "                   multi_class='auto', n_jobs=None, penalty='l2',\n",
       "                   random_state=None, solver='warn', tol=0.0001, verbose=0,\n",
       "                   warm_start=False)"
      ]
     },
     "execution_count": 18,
     "metadata": {},
     "output_type": "execute_result"
    },
    {
     "name": "stdout",
     "output_type": "stream",
     "text": [
      "y_3m 2020-06-15 09:00:00\n",
      "2020-06-30 14:08:00\n",
      "PCA threshold 넘기기 위해 필요한 최소 Factor:  6\n"
     ]
    },
    {
     "data": {
      "text/plain": [
       "LogisticRegression(C=1.0, class_weight=None, dual=False, fit_intercept=True,\n",
       "                   intercept_scaling=1, l1_ratio=None, max_iter=100,\n",
       "                   multi_class='auto', n_jobs=None, penalty='l2',\n",
       "                   random_state=None, solver='warn', tol=0.0001, verbose=0,\n",
       "                   warm_start=False)"
      ]
     },
     "execution_count": 18,
     "metadata": {},
     "output_type": "execute_result"
    },
    {
     "name": "stdout",
     "output_type": "stream",
     "text": [
      "y_3m 2020-06-16 09:00:00\n",
      "2020-06-30 14:08:00\n",
      "PCA threshold 넘기기 위해 필요한 최소 Factor:  6\n"
     ]
    },
    {
     "data": {
      "text/plain": [
       "LogisticRegression(C=1.0, class_weight=None, dual=False, fit_intercept=True,\n",
       "                   intercept_scaling=1, l1_ratio=None, max_iter=100,\n",
       "                   multi_class='auto', n_jobs=None, penalty='l2',\n",
       "                   random_state=None, solver='warn', tol=0.0001, verbose=0,\n",
       "                   warm_start=False)"
      ]
     },
     "execution_count": 18,
     "metadata": {},
     "output_type": "execute_result"
    },
    {
     "name": "stdout",
     "output_type": "stream",
     "text": [
      "y_3m 2020-06-17 09:00:00\n",
      "2020-06-30 14:08:00\n",
      "PCA threshold 넘기기 위해 필요한 최소 Factor:  6\n"
     ]
    },
    {
     "data": {
      "text/plain": [
       "LogisticRegression(C=1.0, class_weight=None, dual=False, fit_intercept=True,\n",
       "                   intercept_scaling=1, l1_ratio=None, max_iter=100,\n",
       "                   multi_class='auto', n_jobs=None, penalty='l2',\n",
       "                   random_state=None, solver='warn', tol=0.0001, verbose=0,\n",
       "                   warm_start=False)"
      ]
     },
     "execution_count": 18,
     "metadata": {},
     "output_type": "execute_result"
    },
    {
     "name": "stdout",
     "output_type": "stream",
     "text": [
      "y_3m 2020-06-18 09:00:00\n",
      "2020-06-30 14:08:00\n",
      "PCA threshold 넘기기 위해 필요한 최소 Factor:  6\n"
     ]
    },
    {
     "data": {
      "text/plain": [
       "LogisticRegression(C=1.0, class_weight=None, dual=False, fit_intercept=True,\n",
       "                   intercept_scaling=1, l1_ratio=None, max_iter=100,\n",
       "                   multi_class='auto', n_jobs=None, penalty='l2',\n",
       "                   random_state=None, solver='warn', tol=0.0001, verbose=0,\n",
       "                   warm_start=False)"
      ]
     },
     "execution_count": 18,
     "metadata": {},
     "output_type": "execute_result"
    },
    {
     "name": "stdout",
     "output_type": "stream",
     "text": [
      "y_3m 2020-06-19 09:00:00\n",
      "2020-06-30 14:08:00\n",
      "PCA threshold 넘기기 위해 필요한 최소 Factor:  6\n"
     ]
    },
    {
     "data": {
      "text/plain": [
       "LogisticRegression(C=1.0, class_weight=None, dual=False, fit_intercept=True,\n",
       "                   intercept_scaling=1, l1_ratio=None, max_iter=100,\n",
       "                   multi_class='auto', n_jobs=None, penalty='l2',\n",
       "                   random_state=None, solver='warn', tol=0.0001, verbose=0,\n",
       "                   warm_start=False)"
      ]
     },
     "execution_count": 18,
     "metadata": {},
     "output_type": "execute_result"
    },
    {
     "name": "stdout",
     "output_type": "stream",
     "text": [
      "y_3m 2020-06-22 09:00:00\n",
      "2020-06-30 14:08:00\n",
      "PCA threshold 넘기기 위해 필요한 최소 Factor:  6\n"
     ]
    },
    {
     "data": {
      "text/plain": [
       "LogisticRegression(C=1.0, class_weight=None, dual=False, fit_intercept=True,\n",
       "                   intercept_scaling=1, l1_ratio=None, max_iter=100,\n",
       "                   multi_class='auto', n_jobs=None, penalty='l2',\n",
       "                   random_state=None, solver='warn', tol=0.0001, verbose=0,\n",
       "                   warm_start=False)"
      ]
     },
     "execution_count": 18,
     "metadata": {},
     "output_type": "execute_result"
    },
    {
     "name": "stdout",
     "output_type": "stream",
     "text": [
      "y_3m 2020-06-23 09:00:00\n",
      "2020-06-30 14:08:00\n",
      "PCA threshold 넘기기 위해 필요한 최소 Factor:  6\n"
     ]
    },
    {
     "data": {
      "text/plain": [
       "LogisticRegression(C=1.0, class_weight=None, dual=False, fit_intercept=True,\n",
       "                   intercept_scaling=1, l1_ratio=None, max_iter=100,\n",
       "                   multi_class='auto', n_jobs=None, penalty='l2',\n",
       "                   random_state=None, solver='warn', tol=0.0001, verbose=0,\n",
       "                   warm_start=False)"
      ]
     },
     "execution_count": 18,
     "metadata": {},
     "output_type": "execute_result"
    },
    {
     "name": "stdout",
     "output_type": "stream",
     "text": [
      "y_3m 2020-06-24 09:00:00\n",
      "2020-06-30 14:08:00\n",
      "PCA threshold 넘기기 위해 필요한 최소 Factor:  6\n"
     ]
    },
    {
     "data": {
      "text/plain": [
       "LogisticRegression(C=1.0, class_weight=None, dual=False, fit_intercept=True,\n",
       "                   intercept_scaling=1, l1_ratio=None, max_iter=100,\n",
       "                   multi_class='auto', n_jobs=None, penalty='l2',\n",
       "                   random_state=None, solver='warn', tol=0.0001, verbose=0,\n",
       "                   warm_start=False)"
      ]
     },
     "execution_count": 18,
     "metadata": {},
     "output_type": "execute_result"
    },
    {
     "name": "stdout",
     "output_type": "stream",
     "text": [
      "y_3m 2020-06-25 09:00:00\n",
      "2020-06-30 14:08:00\n",
      "PCA threshold 넘기기 위해 필요한 최소 Factor:  6\n"
     ]
    },
    {
     "data": {
      "text/plain": [
       "LogisticRegression(C=1.0, class_weight=None, dual=False, fit_intercept=True,\n",
       "                   intercept_scaling=1, l1_ratio=None, max_iter=100,\n",
       "                   multi_class='auto', n_jobs=None, penalty='l2',\n",
       "                   random_state=None, solver='warn', tol=0.0001, verbose=0,\n",
       "                   warm_start=False)"
      ]
     },
     "execution_count": 18,
     "metadata": {},
     "output_type": "execute_result"
    },
    {
     "name": "stdout",
     "output_type": "stream",
     "text": [
      "y_3m 2020-06-26 09:00:00\n",
      "2020-06-30 14:08:00\n",
      "PCA threshold 넘기기 위해 필요한 최소 Factor:  6\n"
     ]
    },
    {
     "data": {
      "text/plain": [
       "LogisticRegression(C=1.0, class_weight=None, dual=False, fit_intercept=True,\n",
       "                   intercept_scaling=1, l1_ratio=None, max_iter=100,\n",
       "                   multi_class='auto', n_jobs=None, penalty='l2',\n",
       "                   random_state=None, solver='warn', tol=0.0001, verbose=0,\n",
       "                   warm_start=False)"
      ]
     },
     "execution_count": 18,
     "metadata": {},
     "output_type": "execute_result"
    },
    {
     "name": "stdout",
     "output_type": "stream",
     "text": [
      "y_3m 2020-06-29 09:00:00\n",
      "2020-06-30 14:08:00\n",
      "PCA threshold 넘기기 위해 필요한 최소 Factor:  6\n"
     ]
    },
    {
     "data": {
      "text/plain": [
       "LogisticRegression(C=1.0, class_weight=None, dual=False, fit_intercept=True,\n",
       "                   intercept_scaling=1, l1_ratio=None, max_iter=100,\n",
       "                   multi_class='auto', n_jobs=None, penalty='l2',\n",
       "                   random_state=None, solver='warn', tol=0.0001, verbose=0,\n",
       "                   warm_start=False)"
      ]
     },
     "execution_count": 18,
     "metadata": {},
     "output_type": "execute_result"
    },
    {
     "name": "stdout",
     "output_type": "stream",
     "text": [
      "y_3m 2020-06-30 09:00:00\n",
      "2020-06-30 14:08:00\n",
      "PCA threshold 넘기기 위해 필요한 최소 Factor:  6\n"
     ]
    },
    {
     "data": {
      "text/plain": [
       "LogisticRegression(C=1.0, class_weight=None, dual=False, fit_intercept=True,\n",
       "                   intercept_scaling=1, l1_ratio=None, max_iter=100,\n",
       "                   multi_class='auto', n_jobs=None, penalty='l2',\n",
       "                   random_state=None, solver='warn', tol=0.0001, verbose=0,\n",
       "                   warm_start=False)"
      ]
     },
     "execution_count": 18,
     "metadata": {},
     "output_type": "execute_result"
    },
    {
     "name": "stdout",
     "output_type": "stream",
     "text": [
      "y_5m 2020-05-13 15:20:00\n",
      "2020-06-30 14:08:00\n",
      "PCA threshold 넘기기 위해 필요한 최소 Factor:  6\n"
     ]
    },
    {
     "data": {
      "text/plain": [
       "LogisticRegression(C=1.0, class_weight=None, dual=False, fit_intercept=True,\n",
       "                   intercept_scaling=1, l1_ratio=None, max_iter=100,\n",
       "                   multi_class='auto', n_jobs=None, penalty='l2',\n",
       "                   random_state=None, solver='warn', tol=0.0001, verbose=0,\n",
       "                   warm_start=False)"
      ]
     },
     "execution_count": 18,
     "metadata": {},
     "output_type": "execute_result"
    },
    {
     "name": "stdout",
     "output_type": "stream",
     "text": [
      "y_5m 2020-05-14 15:20:00\n",
      "2020-06-30 14:08:00\n",
      "PCA threshold 넘기기 위해 필요한 최소 Factor:  6\n"
     ]
    },
    {
     "data": {
      "text/plain": [
       "LogisticRegression(C=1.0, class_weight=None, dual=False, fit_intercept=True,\n",
       "                   intercept_scaling=1, l1_ratio=None, max_iter=100,\n",
       "                   multi_class='auto', n_jobs=None, penalty='l2',\n",
       "                   random_state=None, solver='warn', tol=0.0001, verbose=0,\n",
       "                   warm_start=False)"
      ]
     },
     "execution_count": 18,
     "metadata": {},
     "output_type": "execute_result"
    },
    {
     "name": "stdout",
     "output_type": "stream",
     "text": [
      "y_5m 2020-05-15 15:20:00\n",
      "2020-06-30 14:08:00\n",
      "PCA threshold 넘기기 위해 필요한 최소 Factor:  6\n"
     ]
    },
    {
     "data": {
      "text/plain": [
       "LogisticRegression(C=1.0, class_weight=None, dual=False, fit_intercept=True,\n",
       "                   intercept_scaling=1, l1_ratio=None, max_iter=100,\n",
       "                   multi_class='auto', n_jobs=None, penalty='l2',\n",
       "                   random_state=None, solver='warn', tol=0.0001, verbose=0,\n",
       "                   warm_start=False)"
      ]
     },
     "execution_count": 18,
     "metadata": {},
     "output_type": "execute_result"
    },
    {
     "name": "stdout",
     "output_type": "stream",
     "text": [
      "y_5m 2020-05-18 15:20:00\n",
      "2020-06-30 14:08:00\n",
      "PCA threshold 넘기기 위해 필요한 최소 Factor:  6\n"
     ]
    },
    {
     "data": {
      "text/plain": [
       "LogisticRegression(C=1.0, class_weight=None, dual=False, fit_intercept=True,\n",
       "                   intercept_scaling=1, l1_ratio=None, max_iter=100,\n",
       "                   multi_class='auto', n_jobs=None, penalty='l2',\n",
       "                   random_state=None, solver='warn', tol=0.0001, verbose=0,\n",
       "                   warm_start=False)"
      ]
     },
     "execution_count": 18,
     "metadata": {},
     "output_type": "execute_result"
    },
    {
     "name": "stdout",
     "output_type": "stream",
     "text": [
      "y_5m 2020-05-19 15:20:00\n",
      "2020-06-30 14:08:00\n",
      "PCA threshold 넘기기 위해 필요한 최소 Factor:  6\n"
     ]
    },
    {
     "data": {
      "text/plain": [
       "LogisticRegression(C=1.0, class_weight=None, dual=False, fit_intercept=True,\n",
       "                   intercept_scaling=1, l1_ratio=None, max_iter=100,\n",
       "                   multi_class='auto', n_jobs=None, penalty='l2',\n",
       "                   random_state=None, solver='warn', tol=0.0001, verbose=0,\n",
       "                   warm_start=False)"
      ]
     },
     "execution_count": 18,
     "metadata": {},
     "output_type": "execute_result"
    },
    {
     "name": "stdout",
     "output_type": "stream",
     "text": [
      "y_5m 2020-05-20 15:20:00\n",
      "2020-06-30 14:08:00\n",
      "PCA threshold 넘기기 위해 필요한 최소 Factor:  6\n"
     ]
    },
    {
     "data": {
      "text/plain": [
       "LogisticRegression(C=1.0, class_weight=None, dual=False, fit_intercept=True,\n",
       "                   intercept_scaling=1, l1_ratio=None, max_iter=100,\n",
       "                   multi_class='auto', n_jobs=None, penalty='l2',\n",
       "                   random_state=None, solver='warn', tol=0.0001, verbose=0,\n",
       "                   warm_start=False)"
      ]
     },
     "execution_count": 18,
     "metadata": {},
     "output_type": "execute_result"
    },
    {
     "name": "stdout",
     "output_type": "stream",
     "text": [
      "y_5m 2020-05-21 15:20:00\n",
      "2020-06-30 14:08:00\n",
      "PCA threshold 넘기기 위해 필요한 최소 Factor:  6\n"
     ]
    },
    {
     "data": {
      "text/plain": [
       "LogisticRegression(C=1.0, class_weight=None, dual=False, fit_intercept=True,\n",
       "                   intercept_scaling=1, l1_ratio=None, max_iter=100,\n",
       "                   multi_class='auto', n_jobs=None, penalty='l2',\n",
       "                   random_state=None, solver='warn', tol=0.0001, verbose=0,\n",
       "                   warm_start=False)"
      ]
     },
     "execution_count": 18,
     "metadata": {},
     "output_type": "execute_result"
    },
    {
     "name": "stdout",
     "output_type": "stream",
     "text": [
      "y_5m 2020-05-22 15:20:00\n",
      "2020-06-30 14:08:00\n",
      "PCA threshold 넘기기 위해 필요한 최소 Factor:  6\n"
     ]
    },
    {
     "data": {
      "text/plain": [
       "LogisticRegression(C=1.0, class_weight=None, dual=False, fit_intercept=True,\n",
       "                   intercept_scaling=1, l1_ratio=None, max_iter=100,\n",
       "                   multi_class='auto', n_jobs=None, penalty='l2',\n",
       "                   random_state=None, solver='warn', tol=0.0001, verbose=0,\n",
       "                   warm_start=False)"
      ]
     },
     "execution_count": 18,
     "metadata": {},
     "output_type": "execute_result"
    },
    {
     "name": "stdout",
     "output_type": "stream",
     "text": [
      "y_5m 2020-05-25 15:20:00\n",
      "2020-06-30 14:08:00\n",
      "PCA threshold 넘기기 위해 필요한 최소 Factor:  6\n"
     ]
    },
    {
     "data": {
      "text/plain": [
       "LogisticRegression(C=1.0, class_weight=None, dual=False, fit_intercept=True,\n",
       "                   intercept_scaling=1, l1_ratio=None, max_iter=100,\n",
       "                   multi_class='auto', n_jobs=None, penalty='l2',\n",
       "                   random_state=None, solver='warn', tol=0.0001, verbose=0,\n",
       "                   warm_start=False)"
      ]
     },
     "execution_count": 18,
     "metadata": {},
     "output_type": "execute_result"
    },
    {
     "name": "stdout",
     "output_type": "stream",
     "text": [
      "y_5m 2020-05-26 15:20:00\n",
      "2020-06-30 14:08:00\n",
      "PCA threshold 넘기기 위해 필요한 최소 Factor:  6\n"
     ]
    },
    {
     "data": {
      "text/plain": [
       "LogisticRegression(C=1.0, class_weight=None, dual=False, fit_intercept=True,\n",
       "                   intercept_scaling=1, l1_ratio=None, max_iter=100,\n",
       "                   multi_class='auto', n_jobs=None, penalty='l2',\n",
       "                   random_state=None, solver='warn', tol=0.0001, verbose=0,\n",
       "                   warm_start=False)"
      ]
     },
     "execution_count": 18,
     "metadata": {},
     "output_type": "execute_result"
    },
    {
     "name": "stdout",
     "output_type": "stream",
     "text": [
      "y_5m 2020-05-27 15:20:00\n",
      "2020-06-30 14:08:00\n",
      "PCA threshold 넘기기 위해 필요한 최소 Factor:  6\n"
     ]
    },
    {
     "data": {
      "text/plain": [
       "LogisticRegression(C=1.0, class_weight=None, dual=False, fit_intercept=True,\n",
       "                   intercept_scaling=1, l1_ratio=None, max_iter=100,\n",
       "                   multi_class='auto', n_jobs=None, penalty='l2',\n",
       "                   random_state=None, solver='warn', tol=0.0001, verbose=0,\n",
       "                   warm_start=False)"
      ]
     },
     "execution_count": 18,
     "metadata": {},
     "output_type": "execute_result"
    },
    {
     "name": "stdout",
     "output_type": "stream",
     "text": [
      "y_5m 2020-05-28 15:20:00\n",
      "2020-06-30 14:08:00\n",
      "PCA threshold 넘기기 위해 필요한 최소 Factor:  6\n"
     ]
    },
    {
     "data": {
      "text/plain": [
       "LogisticRegression(C=1.0, class_weight=None, dual=False, fit_intercept=True,\n",
       "                   intercept_scaling=1, l1_ratio=None, max_iter=100,\n",
       "                   multi_class='auto', n_jobs=None, penalty='l2',\n",
       "                   random_state=None, solver='warn', tol=0.0001, verbose=0,\n",
       "                   warm_start=False)"
      ]
     },
     "execution_count": 18,
     "metadata": {},
     "output_type": "execute_result"
    },
    {
     "name": "stdout",
     "output_type": "stream",
     "text": [
      "y_5m 2020-05-29 15:20:00\n",
      "2020-06-30 14:08:00\n",
      "PCA threshold 넘기기 위해 필요한 최소 Factor:  6\n"
     ]
    },
    {
     "data": {
      "text/plain": [
       "LogisticRegression(C=1.0, class_weight=None, dual=False, fit_intercept=True,\n",
       "                   intercept_scaling=1, l1_ratio=None, max_iter=100,\n",
       "                   multi_class='auto', n_jobs=None, penalty='l2',\n",
       "                   random_state=None, solver='warn', tol=0.0001, verbose=0,\n",
       "                   warm_start=False)"
      ]
     },
     "execution_count": 18,
     "metadata": {},
     "output_type": "execute_result"
    },
    {
     "name": "stdout",
     "output_type": "stream",
     "text": [
      "y_5m 2020-06-01 15:20:00\n",
      "2020-06-30 14:08:00\n",
      "PCA threshold 넘기기 위해 필요한 최소 Factor:  6\n"
     ]
    },
    {
     "data": {
      "text/plain": [
       "LogisticRegression(C=1.0, class_weight=None, dual=False, fit_intercept=True,\n",
       "                   intercept_scaling=1, l1_ratio=None, max_iter=100,\n",
       "                   multi_class='auto', n_jobs=None, penalty='l2',\n",
       "                   random_state=None, solver='warn', tol=0.0001, verbose=0,\n",
       "                   warm_start=False)"
      ]
     },
     "execution_count": 18,
     "metadata": {},
     "output_type": "execute_result"
    },
    {
     "name": "stdout",
     "output_type": "stream",
     "text": [
      "y_5m 2020-06-02 15:20:00\n",
      "2020-06-30 14:08:00\n",
      "PCA threshold 넘기기 위해 필요한 최소 Factor:  6\n"
     ]
    },
    {
     "data": {
      "text/plain": [
       "LogisticRegression(C=1.0, class_weight=None, dual=False, fit_intercept=True,\n",
       "                   intercept_scaling=1, l1_ratio=None, max_iter=100,\n",
       "                   multi_class='auto', n_jobs=None, penalty='l2',\n",
       "                   random_state=None, solver='warn', tol=0.0001, verbose=0,\n",
       "                   warm_start=False)"
      ]
     },
     "execution_count": 18,
     "metadata": {},
     "output_type": "execute_result"
    },
    {
     "name": "stdout",
     "output_type": "stream",
     "text": [
      "y_5m 2020-06-03 15:20:00\n",
      "2020-06-30 14:08:00\n",
      "PCA threshold 넘기기 위해 필요한 최소 Factor:  6\n"
     ]
    },
    {
     "data": {
      "text/plain": [
       "LogisticRegression(C=1.0, class_weight=None, dual=False, fit_intercept=True,\n",
       "                   intercept_scaling=1, l1_ratio=None, max_iter=100,\n",
       "                   multi_class='auto', n_jobs=None, penalty='l2',\n",
       "                   random_state=None, solver='warn', tol=0.0001, verbose=0,\n",
       "                   warm_start=False)"
      ]
     },
     "execution_count": 18,
     "metadata": {},
     "output_type": "execute_result"
    },
    {
     "name": "stdout",
     "output_type": "stream",
     "text": [
      "y_5m 2020-06-04 15:20:00\n",
      "2020-06-30 14:08:00\n",
      "PCA threshold 넘기기 위해 필요한 최소 Factor:  6\n"
     ]
    },
    {
     "data": {
      "text/plain": [
       "LogisticRegression(C=1.0, class_weight=None, dual=False, fit_intercept=True,\n",
       "                   intercept_scaling=1, l1_ratio=None, max_iter=100,\n",
       "                   multi_class='auto', n_jobs=None, penalty='l2',\n",
       "                   random_state=None, solver='warn', tol=0.0001, verbose=0,\n",
       "                   warm_start=False)"
      ]
     },
     "execution_count": 18,
     "metadata": {},
     "output_type": "execute_result"
    },
    {
     "name": "stdout",
     "output_type": "stream",
     "text": [
      "y_5m 2020-06-05 15:20:00\n",
      "2020-06-30 14:08:00\n",
      "PCA threshold 넘기기 위해 필요한 최소 Factor:  6\n"
     ]
    },
    {
     "data": {
      "text/plain": [
       "LogisticRegression(C=1.0, class_weight=None, dual=False, fit_intercept=True,\n",
       "                   intercept_scaling=1, l1_ratio=None, max_iter=100,\n",
       "                   multi_class='auto', n_jobs=None, penalty='l2',\n",
       "                   random_state=None, solver='warn', tol=0.0001, verbose=0,\n",
       "                   warm_start=False)"
      ]
     },
     "execution_count": 18,
     "metadata": {},
     "output_type": "execute_result"
    },
    {
     "name": "stdout",
     "output_type": "stream",
     "text": [
      "y_5m 2020-06-08 15:20:00\n",
      "2020-06-30 14:08:00\n",
      "PCA threshold 넘기기 위해 필요한 최소 Factor:  6\n"
     ]
    },
    {
     "data": {
      "text/plain": [
       "LogisticRegression(C=1.0, class_weight=None, dual=False, fit_intercept=True,\n",
       "                   intercept_scaling=1, l1_ratio=None, max_iter=100,\n",
       "                   multi_class='auto', n_jobs=None, penalty='l2',\n",
       "                   random_state=None, solver='warn', tol=0.0001, verbose=0,\n",
       "                   warm_start=False)"
      ]
     },
     "execution_count": 18,
     "metadata": {},
     "output_type": "execute_result"
    },
    {
     "name": "stdout",
     "output_type": "stream",
     "text": [
      "y_5m 2020-06-09 15:20:00\n",
      "2020-06-30 14:08:00\n",
      "PCA threshold 넘기기 위해 필요한 최소 Factor:  6\n"
     ]
    },
    {
     "data": {
      "text/plain": [
       "LogisticRegression(C=1.0, class_weight=None, dual=False, fit_intercept=True,\n",
       "                   intercept_scaling=1, l1_ratio=None, max_iter=100,\n",
       "                   multi_class='auto', n_jobs=None, penalty='l2',\n",
       "                   random_state=None, solver='warn', tol=0.0001, verbose=0,\n",
       "                   warm_start=False)"
      ]
     },
     "execution_count": 18,
     "metadata": {},
     "output_type": "execute_result"
    },
    {
     "name": "stdout",
     "output_type": "stream",
     "text": [
      "y_5m 2020-06-10 15:20:00\n",
      "2020-06-30 14:08:00\n",
      "PCA threshold 넘기기 위해 필요한 최소 Factor:  6\n"
     ]
    },
    {
     "data": {
      "text/plain": [
       "LogisticRegression(C=1.0, class_weight=None, dual=False, fit_intercept=True,\n",
       "                   intercept_scaling=1, l1_ratio=None, max_iter=100,\n",
       "                   multi_class='auto', n_jobs=None, penalty='l2',\n",
       "                   random_state=None, solver='warn', tol=0.0001, verbose=0,\n",
       "                   warm_start=False)"
      ]
     },
     "execution_count": 18,
     "metadata": {},
     "output_type": "execute_result"
    },
    {
     "name": "stdout",
     "output_type": "stream",
     "text": [
      "y_5m 2020-06-12 09:00:00\n",
      "2020-06-30 14:08:00\n",
      "PCA threshold 넘기기 위해 필요한 최소 Factor:  6\n"
     ]
    },
    {
     "data": {
      "text/plain": [
       "LogisticRegression(C=1.0, class_weight=None, dual=False, fit_intercept=True,\n",
       "                   intercept_scaling=1, l1_ratio=None, max_iter=100,\n",
       "                   multi_class='auto', n_jobs=None, penalty='l2',\n",
       "                   random_state=None, solver='warn', tol=0.0001, verbose=0,\n",
       "                   warm_start=False)"
      ]
     },
     "execution_count": 18,
     "metadata": {},
     "output_type": "execute_result"
    },
    {
     "name": "stdout",
     "output_type": "stream",
     "text": [
      "y_5m 2020-06-15 09:00:00\n",
      "2020-06-30 14:08:00\n",
      "PCA threshold 넘기기 위해 필요한 최소 Factor:  6\n"
     ]
    },
    {
     "data": {
      "text/plain": [
       "LogisticRegression(C=1.0, class_weight=None, dual=False, fit_intercept=True,\n",
       "                   intercept_scaling=1, l1_ratio=None, max_iter=100,\n",
       "                   multi_class='auto', n_jobs=None, penalty='l2',\n",
       "                   random_state=None, solver='warn', tol=0.0001, verbose=0,\n",
       "                   warm_start=False)"
      ]
     },
     "execution_count": 18,
     "metadata": {},
     "output_type": "execute_result"
    },
    {
     "name": "stdout",
     "output_type": "stream",
     "text": [
      "y_5m 2020-06-16 09:00:00\n",
      "2020-06-30 14:08:00\n",
      "PCA threshold 넘기기 위해 필요한 최소 Factor:  6\n"
     ]
    },
    {
     "data": {
      "text/plain": [
       "LogisticRegression(C=1.0, class_weight=None, dual=False, fit_intercept=True,\n",
       "                   intercept_scaling=1, l1_ratio=None, max_iter=100,\n",
       "                   multi_class='auto', n_jobs=None, penalty='l2',\n",
       "                   random_state=None, solver='warn', tol=0.0001, verbose=0,\n",
       "                   warm_start=False)"
      ]
     },
     "execution_count": 18,
     "metadata": {},
     "output_type": "execute_result"
    },
    {
     "name": "stdout",
     "output_type": "stream",
     "text": [
      "y_5m 2020-06-17 09:00:00\n",
      "2020-06-30 14:08:00\n",
      "PCA threshold 넘기기 위해 필요한 최소 Factor:  6\n"
     ]
    },
    {
     "data": {
      "text/plain": [
       "LogisticRegression(C=1.0, class_weight=None, dual=False, fit_intercept=True,\n",
       "                   intercept_scaling=1, l1_ratio=None, max_iter=100,\n",
       "                   multi_class='auto', n_jobs=None, penalty='l2',\n",
       "                   random_state=None, solver='warn', tol=0.0001, verbose=0,\n",
       "                   warm_start=False)"
      ]
     },
     "execution_count": 18,
     "metadata": {},
     "output_type": "execute_result"
    },
    {
     "name": "stdout",
     "output_type": "stream",
     "text": [
      "y_5m 2020-06-18 09:00:00\n",
      "2020-06-30 14:08:00\n",
      "PCA threshold 넘기기 위해 필요한 최소 Factor:  6\n"
     ]
    },
    {
     "data": {
      "text/plain": [
       "LogisticRegression(C=1.0, class_weight=None, dual=False, fit_intercept=True,\n",
       "                   intercept_scaling=1, l1_ratio=None, max_iter=100,\n",
       "                   multi_class='auto', n_jobs=None, penalty='l2',\n",
       "                   random_state=None, solver='warn', tol=0.0001, verbose=0,\n",
       "                   warm_start=False)"
      ]
     },
     "execution_count": 18,
     "metadata": {},
     "output_type": "execute_result"
    },
    {
     "name": "stdout",
     "output_type": "stream",
     "text": [
      "y_5m 2020-06-19 09:00:00\n",
      "2020-06-30 14:08:00\n",
      "PCA threshold 넘기기 위해 필요한 최소 Factor:  6\n"
     ]
    },
    {
     "data": {
      "text/plain": [
       "LogisticRegression(C=1.0, class_weight=None, dual=False, fit_intercept=True,\n",
       "                   intercept_scaling=1, l1_ratio=None, max_iter=100,\n",
       "                   multi_class='auto', n_jobs=None, penalty='l2',\n",
       "                   random_state=None, solver='warn', tol=0.0001, verbose=0,\n",
       "                   warm_start=False)"
      ]
     },
     "execution_count": 18,
     "metadata": {},
     "output_type": "execute_result"
    },
    {
     "name": "stdout",
     "output_type": "stream",
     "text": [
      "y_5m 2020-06-22 09:00:00\n",
      "2020-06-30 14:08:00\n",
      "PCA threshold 넘기기 위해 필요한 최소 Factor:  6\n"
     ]
    },
    {
     "data": {
      "text/plain": [
       "LogisticRegression(C=1.0, class_weight=None, dual=False, fit_intercept=True,\n",
       "                   intercept_scaling=1, l1_ratio=None, max_iter=100,\n",
       "                   multi_class='auto', n_jobs=None, penalty='l2',\n",
       "                   random_state=None, solver='warn', tol=0.0001, verbose=0,\n",
       "                   warm_start=False)"
      ]
     },
     "execution_count": 18,
     "metadata": {},
     "output_type": "execute_result"
    },
    {
     "name": "stdout",
     "output_type": "stream",
     "text": [
      "y_5m 2020-06-23 09:00:00\n",
      "2020-06-30 14:08:00\n",
      "PCA threshold 넘기기 위해 필요한 최소 Factor:  6\n"
     ]
    },
    {
     "data": {
      "text/plain": [
       "LogisticRegression(C=1.0, class_weight=None, dual=False, fit_intercept=True,\n",
       "                   intercept_scaling=1, l1_ratio=None, max_iter=100,\n",
       "                   multi_class='auto', n_jobs=None, penalty='l2',\n",
       "                   random_state=None, solver='warn', tol=0.0001, verbose=0,\n",
       "                   warm_start=False)"
      ]
     },
     "execution_count": 18,
     "metadata": {},
     "output_type": "execute_result"
    },
    {
     "name": "stdout",
     "output_type": "stream",
     "text": [
      "y_5m 2020-06-24 09:00:00\n",
      "2020-06-30 14:08:00\n",
      "PCA threshold 넘기기 위해 필요한 최소 Factor:  6\n"
     ]
    },
    {
     "data": {
      "text/plain": [
       "LogisticRegression(C=1.0, class_weight=None, dual=False, fit_intercept=True,\n",
       "                   intercept_scaling=1, l1_ratio=None, max_iter=100,\n",
       "                   multi_class='auto', n_jobs=None, penalty='l2',\n",
       "                   random_state=None, solver='warn', tol=0.0001, verbose=0,\n",
       "                   warm_start=False)"
      ]
     },
     "execution_count": 18,
     "metadata": {},
     "output_type": "execute_result"
    },
    {
     "name": "stdout",
     "output_type": "stream",
     "text": [
      "y_5m 2020-06-25 09:00:00\n",
      "2020-06-30 14:08:00\n",
      "PCA threshold 넘기기 위해 필요한 최소 Factor:  6\n"
     ]
    },
    {
     "data": {
      "text/plain": [
       "LogisticRegression(C=1.0, class_weight=None, dual=False, fit_intercept=True,\n",
       "                   intercept_scaling=1, l1_ratio=None, max_iter=100,\n",
       "                   multi_class='auto', n_jobs=None, penalty='l2',\n",
       "                   random_state=None, solver='warn', tol=0.0001, verbose=0,\n",
       "                   warm_start=False)"
      ]
     },
     "execution_count": 18,
     "metadata": {},
     "output_type": "execute_result"
    },
    {
     "name": "stdout",
     "output_type": "stream",
     "text": [
      "y_5m 2020-06-26 09:00:00\n",
      "2020-06-30 14:08:00\n",
      "PCA threshold 넘기기 위해 필요한 최소 Factor:  6\n"
     ]
    },
    {
     "data": {
      "text/plain": [
       "LogisticRegression(C=1.0, class_weight=None, dual=False, fit_intercept=True,\n",
       "                   intercept_scaling=1, l1_ratio=None, max_iter=100,\n",
       "                   multi_class='auto', n_jobs=None, penalty='l2',\n",
       "                   random_state=None, solver='warn', tol=0.0001, verbose=0,\n",
       "                   warm_start=False)"
      ]
     },
     "execution_count": 18,
     "metadata": {},
     "output_type": "execute_result"
    },
    {
     "name": "stdout",
     "output_type": "stream",
     "text": [
      "y_5m 2020-06-29 09:00:00\n",
      "2020-06-30 14:08:00\n",
      "PCA threshold 넘기기 위해 필요한 최소 Factor:  6\n"
     ]
    },
    {
     "data": {
      "text/plain": [
       "LogisticRegression(C=1.0, class_weight=None, dual=False, fit_intercept=True,\n",
       "                   intercept_scaling=1, l1_ratio=None, max_iter=100,\n",
       "                   multi_class='auto', n_jobs=None, penalty='l2',\n",
       "                   random_state=None, solver='warn', tol=0.0001, verbose=0,\n",
       "                   warm_start=False)"
      ]
     },
     "execution_count": 18,
     "metadata": {},
     "output_type": "execute_result"
    },
    {
     "name": "stdout",
     "output_type": "stream",
     "text": [
      "y_5m 2020-06-30 09:00:00\n",
      "2020-06-30 14:08:00\n",
      "PCA threshold 넘기기 위해 필요한 최소 Factor:  6\n"
     ]
    },
    {
     "data": {
      "text/plain": [
       "LogisticRegression(C=1.0, class_weight=None, dual=False, fit_intercept=True,\n",
       "                   intercept_scaling=1, l1_ratio=None, max_iter=100,\n",
       "                   multi_class='auto', n_jobs=None, penalty='l2',\n",
       "                   random_state=None, solver='warn', tol=0.0001, verbose=0,\n",
       "                   warm_start=False)"
      ]
     },
     "execution_count": 18,
     "metadata": {},
     "output_type": "execute_result"
    },
    {
     "name": "stdout",
     "output_type": "stream",
     "text": [
      "y_10m 2020-05-13 15:20:00\n",
      "2020-06-30 14:08:00\n",
      "PCA threshold 넘기기 위해 필요한 최소 Factor:  6\n"
     ]
    },
    {
     "data": {
      "text/plain": [
       "LogisticRegression(C=1.0, class_weight=None, dual=False, fit_intercept=True,\n",
       "                   intercept_scaling=1, l1_ratio=None, max_iter=100,\n",
       "                   multi_class='auto', n_jobs=None, penalty='l2',\n",
       "                   random_state=None, solver='warn', tol=0.0001, verbose=0,\n",
       "                   warm_start=False)"
      ]
     },
     "execution_count": 18,
     "metadata": {},
     "output_type": "execute_result"
    },
    {
     "name": "stdout",
     "output_type": "stream",
     "text": [
      "y_10m 2020-05-14 15:20:00\n",
      "2020-06-30 14:08:00\n",
      "PCA threshold 넘기기 위해 필요한 최소 Factor:  6\n"
     ]
    },
    {
     "data": {
      "text/plain": [
       "LogisticRegression(C=1.0, class_weight=None, dual=False, fit_intercept=True,\n",
       "                   intercept_scaling=1, l1_ratio=None, max_iter=100,\n",
       "                   multi_class='auto', n_jobs=None, penalty='l2',\n",
       "                   random_state=None, solver='warn', tol=0.0001, verbose=0,\n",
       "                   warm_start=False)"
      ]
     },
     "execution_count": 18,
     "metadata": {},
     "output_type": "execute_result"
    },
    {
     "name": "stdout",
     "output_type": "stream",
     "text": [
      "y_10m 2020-05-15 15:20:00\n",
      "2020-06-30 14:08:00\n",
      "PCA threshold 넘기기 위해 필요한 최소 Factor:  6\n"
     ]
    },
    {
     "data": {
      "text/plain": [
       "LogisticRegression(C=1.0, class_weight=None, dual=False, fit_intercept=True,\n",
       "                   intercept_scaling=1, l1_ratio=None, max_iter=100,\n",
       "                   multi_class='auto', n_jobs=None, penalty='l2',\n",
       "                   random_state=None, solver='warn', tol=0.0001, verbose=0,\n",
       "                   warm_start=False)"
      ]
     },
     "execution_count": 18,
     "metadata": {},
     "output_type": "execute_result"
    },
    {
     "name": "stdout",
     "output_type": "stream",
     "text": [
      "y_10m 2020-05-18 15:20:00\n",
      "2020-06-30 14:08:00\n",
      "PCA threshold 넘기기 위해 필요한 최소 Factor:  6\n"
     ]
    },
    {
     "data": {
      "text/plain": [
       "LogisticRegression(C=1.0, class_weight=None, dual=False, fit_intercept=True,\n",
       "                   intercept_scaling=1, l1_ratio=None, max_iter=100,\n",
       "                   multi_class='auto', n_jobs=None, penalty='l2',\n",
       "                   random_state=None, solver='warn', tol=0.0001, verbose=0,\n",
       "                   warm_start=False)"
      ]
     },
     "execution_count": 18,
     "metadata": {},
     "output_type": "execute_result"
    },
    {
     "name": "stdout",
     "output_type": "stream",
     "text": [
      "y_10m 2020-05-19 15:20:00\n",
      "2020-06-30 14:08:00\n",
      "PCA threshold 넘기기 위해 필요한 최소 Factor:  6\n"
     ]
    },
    {
     "data": {
      "text/plain": [
       "LogisticRegression(C=1.0, class_weight=None, dual=False, fit_intercept=True,\n",
       "                   intercept_scaling=1, l1_ratio=None, max_iter=100,\n",
       "                   multi_class='auto', n_jobs=None, penalty='l2',\n",
       "                   random_state=None, solver='warn', tol=0.0001, verbose=0,\n",
       "                   warm_start=False)"
      ]
     },
     "execution_count": 18,
     "metadata": {},
     "output_type": "execute_result"
    },
    {
     "name": "stdout",
     "output_type": "stream",
     "text": [
      "y_10m 2020-05-20 15:20:00\n",
      "2020-06-30 14:08:00\n",
      "PCA threshold 넘기기 위해 필요한 최소 Factor:  6\n"
     ]
    },
    {
     "data": {
      "text/plain": [
       "LogisticRegression(C=1.0, class_weight=None, dual=False, fit_intercept=True,\n",
       "                   intercept_scaling=1, l1_ratio=None, max_iter=100,\n",
       "                   multi_class='auto', n_jobs=None, penalty='l2',\n",
       "                   random_state=None, solver='warn', tol=0.0001, verbose=0,\n",
       "                   warm_start=False)"
      ]
     },
     "execution_count": 18,
     "metadata": {},
     "output_type": "execute_result"
    },
    {
     "name": "stdout",
     "output_type": "stream",
     "text": [
      "y_10m 2020-05-21 15:20:00\n",
      "2020-06-30 14:08:00\n",
      "PCA threshold 넘기기 위해 필요한 최소 Factor:  6\n"
     ]
    },
    {
     "data": {
      "text/plain": [
       "LogisticRegression(C=1.0, class_weight=None, dual=False, fit_intercept=True,\n",
       "                   intercept_scaling=1, l1_ratio=None, max_iter=100,\n",
       "                   multi_class='auto', n_jobs=None, penalty='l2',\n",
       "                   random_state=None, solver='warn', tol=0.0001, verbose=0,\n",
       "                   warm_start=False)"
      ]
     },
     "execution_count": 18,
     "metadata": {},
     "output_type": "execute_result"
    },
    {
     "name": "stdout",
     "output_type": "stream",
     "text": [
      "y_10m 2020-05-22 15:20:00\n",
      "2020-06-30 14:08:00\n",
      "PCA threshold 넘기기 위해 필요한 최소 Factor:  6\n"
     ]
    },
    {
     "data": {
      "text/plain": [
       "LogisticRegression(C=1.0, class_weight=None, dual=False, fit_intercept=True,\n",
       "                   intercept_scaling=1, l1_ratio=None, max_iter=100,\n",
       "                   multi_class='auto', n_jobs=None, penalty='l2',\n",
       "                   random_state=None, solver='warn', tol=0.0001, verbose=0,\n",
       "                   warm_start=False)"
      ]
     },
     "execution_count": 18,
     "metadata": {},
     "output_type": "execute_result"
    },
    {
     "name": "stdout",
     "output_type": "stream",
     "text": [
      "y_10m 2020-05-25 15:20:00\n",
      "2020-06-30 14:08:00\n",
      "PCA threshold 넘기기 위해 필요한 최소 Factor:  6\n"
     ]
    },
    {
     "data": {
      "text/plain": [
       "LogisticRegression(C=1.0, class_weight=None, dual=False, fit_intercept=True,\n",
       "                   intercept_scaling=1, l1_ratio=None, max_iter=100,\n",
       "                   multi_class='auto', n_jobs=None, penalty='l2',\n",
       "                   random_state=None, solver='warn', tol=0.0001, verbose=0,\n",
       "                   warm_start=False)"
      ]
     },
     "execution_count": 18,
     "metadata": {},
     "output_type": "execute_result"
    },
    {
     "name": "stdout",
     "output_type": "stream",
     "text": [
      "y_10m 2020-05-26 15:20:00\n",
      "2020-06-30 14:08:00\n",
      "PCA threshold 넘기기 위해 필요한 최소 Factor:  6\n"
     ]
    },
    {
     "data": {
      "text/plain": [
       "LogisticRegression(C=1.0, class_weight=None, dual=False, fit_intercept=True,\n",
       "                   intercept_scaling=1, l1_ratio=None, max_iter=100,\n",
       "                   multi_class='auto', n_jobs=None, penalty='l2',\n",
       "                   random_state=None, solver='warn', tol=0.0001, verbose=0,\n",
       "                   warm_start=False)"
      ]
     },
     "execution_count": 18,
     "metadata": {},
     "output_type": "execute_result"
    },
    {
     "name": "stdout",
     "output_type": "stream",
     "text": [
      "y_10m 2020-05-27 15:20:00\n",
      "2020-06-30 14:08:00\n",
      "PCA threshold 넘기기 위해 필요한 최소 Factor:  6\n"
     ]
    },
    {
     "data": {
      "text/plain": [
       "LogisticRegression(C=1.0, class_weight=None, dual=False, fit_intercept=True,\n",
       "                   intercept_scaling=1, l1_ratio=None, max_iter=100,\n",
       "                   multi_class='auto', n_jobs=None, penalty='l2',\n",
       "                   random_state=None, solver='warn', tol=0.0001, verbose=0,\n",
       "                   warm_start=False)"
      ]
     },
     "execution_count": 18,
     "metadata": {},
     "output_type": "execute_result"
    },
    {
     "name": "stdout",
     "output_type": "stream",
     "text": [
      "y_10m 2020-05-28 15:20:00\n",
      "2020-06-30 14:08:00\n",
      "PCA threshold 넘기기 위해 필요한 최소 Factor:  6\n"
     ]
    },
    {
     "data": {
      "text/plain": [
       "LogisticRegression(C=1.0, class_weight=None, dual=False, fit_intercept=True,\n",
       "                   intercept_scaling=1, l1_ratio=None, max_iter=100,\n",
       "                   multi_class='auto', n_jobs=None, penalty='l2',\n",
       "                   random_state=None, solver='warn', tol=0.0001, verbose=0,\n",
       "                   warm_start=False)"
      ]
     },
     "execution_count": 18,
     "metadata": {},
     "output_type": "execute_result"
    },
    {
     "name": "stdout",
     "output_type": "stream",
     "text": [
      "y_10m 2020-05-29 15:20:00\n",
      "2020-06-30 14:08:00\n",
      "PCA threshold 넘기기 위해 필요한 최소 Factor:  6\n"
     ]
    },
    {
     "data": {
      "text/plain": [
       "LogisticRegression(C=1.0, class_weight=None, dual=False, fit_intercept=True,\n",
       "                   intercept_scaling=1, l1_ratio=None, max_iter=100,\n",
       "                   multi_class='auto', n_jobs=None, penalty='l2',\n",
       "                   random_state=None, solver='warn', tol=0.0001, verbose=0,\n",
       "                   warm_start=False)"
      ]
     },
     "execution_count": 18,
     "metadata": {},
     "output_type": "execute_result"
    },
    {
     "name": "stdout",
     "output_type": "stream",
     "text": [
      "y_10m 2020-06-01 15:20:00\n",
      "2020-06-30 14:08:00\n",
      "PCA threshold 넘기기 위해 필요한 최소 Factor:  6\n"
     ]
    },
    {
     "data": {
      "text/plain": [
       "LogisticRegression(C=1.0, class_weight=None, dual=False, fit_intercept=True,\n",
       "                   intercept_scaling=1, l1_ratio=None, max_iter=100,\n",
       "                   multi_class='auto', n_jobs=None, penalty='l2',\n",
       "                   random_state=None, solver='warn', tol=0.0001, verbose=0,\n",
       "                   warm_start=False)"
      ]
     },
     "execution_count": 18,
     "metadata": {},
     "output_type": "execute_result"
    },
    {
     "name": "stdout",
     "output_type": "stream",
     "text": [
      "y_10m 2020-06-02 15:20:00\n",
      "2020-06-30 14:08:00\n",
      "PCA threshold 넘기기 위해 필요한 최소 Factor:  6\n"
     ]
    },
    {
     "data": {
      "text/plain": [
       "LogisticRegression(C=1.0, class_weight=None, dual=False, fit_intercept=True,\n",
       "                   intercept_scaling=1, l1_ratio=None, max_iter=100,\n",
       "                   multi_class='auto', n_jobs=None, penalty='l2',\n",
       "                   random_state=None, solver='warn', tol=0.0001, verbose=0,\n",
       "                   warm_start=False)"
      ]
     },
     "execution_count": 18,
     "metadata": {},
     "output_type": "execute_result"
    },
    {
     "name": "stdout",
     "output_type": "stream",
     "text": [
      "y_10m 2020-06-03 15:20:00\n",
      "2020-06-30 14:08:00\n",
      "PCA threshold 넘기기 위해 필요한 최소 Factor:  6\n"
     ]
    },
    {
     "data": {
      "text/plain": [
       "LogisticRegression(C=1.0, class_weight=None, dual=False, fit_intercept=True,\n",
       "                   intercept_scaling=1, l1_ratio=None, max_iter=100,\n",
       "                   multi_class='auto', n_jobs=None, penalty='l2',\n",
       "                   random_state=None, solver='warn', tol=0.0001, verbose=0,\n",
       "                   warm_start=False)"
      ]
     },
     "execution_count": 18,
     "metadata": {},
     "output_type": "execute_result"
    },
    {
     "name": "stdout",
     "output_type": "stream",
     "text": [
      "y_10m 2020-06-04 15:20:00\n",
      "2020-06-30 14:08:00\n",
      "PCA threshold 넘기기 위해 필요한 최소 Factor:  6\n"
     ]
    },
    {
     "data": {
      "text/plain": [
       "LogisticRegression(C=1.0, class_weight=None, dual=False, fit_intercept=True,\n",
       "                   intercept_scaling=1, l1_ratio=None, max_iter=100,\n",
       "                   multi_class='auto', n_jobs=None, penalty='l2',\n",
       "                   random_state=None, solver='warn', tol=0.0001, verbose=0,\n",
       "                   warm_start=False)"
      ]
     },
     "execution_count": 18,
     "metadata": {},
     "output_type": "execute_result"
    },
    {
     "name": "stdout",
     "output_type": "stream",
     "text": [
      "y_10m 2020-06-05 15:20:00\n",
      "2020-06-30 14:08:00\n",
      "PCA threshold 넘기기 위해 필요한 최소 Factor:  6\n"
     ]
    },
    {
     "data": {
      "text/plain": [
       "LogisticRegression(C=1.0, class_weight=None, dual=False, fit_intercept=True,\n",
       "                   intercept_scaling=1, l1_ratio=None, max_iter=100,\n",
       "                   multi_class='auto', n_jobs=None, penalty='l2',\n",
       "                   random_state=None, solver='warn', tol=0.0001, verbose=0,\n",
       "                   warm_start=False)"
      ]
     },
     "execution_count": 18,
     "metadata": {},
     "output_type": "execute_result"
    },
    {
     "name": "stdout",
     "output_type": "stream",
     "text": [
      "y_10m 2020-06-08 15:20:00\n",
      "2020-06-30 14:08:00\n",
      "PCA threshold 넘기기 위해 필요한 최소 Factor:  6\n"
     ]
    },
    {
     "data": {
      "text/plain": [
       "LogisticRegression(C=1.0, class_weight=None, dual=False, fit_intercept=True,\n",
       "                   intercept_scaling=1, l1_ratio=None, max_iter=100,\n",
       "                   multi_class='auto', n_jobs=None, penalty='l2',\n",
       "                   random_state=None, solver='warn', tol=0.0001, verbose=0,\n",
       "                   warm_start=False)"
      ]
     },
     "execution_count": 18,
     "metadata": {},
     "output_type": "execute_result"
    },
    {
     "name": "stdout",
     "output_type": "stream",
     "text": [
      "y_10m 2020-06-09 15:20:00\n",
      "2020-06-30 14:08:00\n",
      "PCA threshold 넘기기 위해 필요한 최소 Factor:  6\n"
     ]
    },
    {
     "data": {
      "text/plain": [
       "LogisticRegression(C=1.0, class_weight=None, dual=False, fit_intercept=True,\n",
       "                   intercept_scaling=1, l1_ratio=None, max_iter=100,\n",
       "                   multi_class='auto', n_jobs=None, penalty='l2',\n",
       "                   random_state=None, solver='warn', tol=0.0001, verbose=0,\n",
       "                   warm_start=False)"
      ]
     },
     "execution_count": 18,
     "metadata": {},
     "output_type": "execute_result"
    },
    {
     "name": "stdout",
     "output_type": "stream",
     "text": [
      "y_10m 2020-06-10 15:20:00\n",
      "2020-06-30 14:08:00\n",
      "PCA threshold 넘기기 위해 필요한 최소 Factor:  6\n"
     ]
    },
    {
     "data": {
      "text/plain": [
       "LogisticRegression(C=1.0, class_weight=None, dual=False, fit_intercept=True,\n",
       "                   intercept_scaling=1, l1_ratio=None, max_iter=100,\n",
       "                   multi_class='auto', n_jobs=None, penalty='l2',\n",
       "                   random_state=None, solver='warn', tol=0.0001, verbose=0,\n",
       "                   warm_start=False)"
      ]
     },
     "execution_count": 18,
     "metadata": {},
     "output_type": "execute_result"
    },
    {
     "name": "stdout",
     "output_type": "stream",
     "text": [
      "y_10m 2020-06-12 09:00:00\n",
      "2020-06-30 14:08:00\n",
      "PCA threshold 넘기기 위해 필요한 최소 Factor:  6\n"
     ]
    },
    {
     "data": {
      "text/plain": [
       "LogisticRegression(C=1.0, class_weight=None, dual=False, fit_intercept=True,\n",
       "                   intercept_scaling=1, l1_ratio=None, max_iter=100,\n",
       "                   multi_class='auto', n_jobs=None, penalty='l2',\n",
       "                   random_state=None, solver='warn', tol=0.0001, verbose=0,\n",
       "                   warm_start=False)"
      ]
     },
     "execution_count": 18,
     "metadata": {},
     "output_type": "execute_result"
    },
    {
     "name": "stdout",
     "output_type": "stream",
     "text": [
      "y_10m 2020-06-15 09:00:00\n",
      "2020-06-30 14:08:00\n",
      "PCA threshold 넘기기 위해 필요한 최소 Factor:  6\n"
     ]
    },
    {
     "data": {
      "text/plain": [
       "LogisticRegression(C=1.0, class_weight=None, dual=False, fit_intercept=True,\n",
       "                   intercept_scaling=1, l1_ratio=None, max_iter=100,\n",
       "                   multi_class='auto', n_jobs=None, penalty='l2',\n",
       "                   random_state=None, solver='warn', tol=0.0001, verbose=0,\n",
       "                   warm_start=False)"
      ]
     },
     "execution_count": 18,
     "metadata": {},
     "output_type": "execute_result"
    },
    {
     "name": "stdout",
     "output_type": "stream",
     "text": [
      "y_10m 2020-06-16 09:00:00\n",
      "2020-06-30 14:08:00\n",
      "PCA threshold 넘기기 위해 필요한 최소 Factor:  6\n"
     ]
    },
    {
     "data": {
      "text/plain": [
       "LogisticRegression(C=1.0, class_weight=None, dual=False, fit_intercept=True,\n",
       "                   intercept_scaling=1, l1_ratio=None, max_iter=100,\n",
       "                   multi_class='auto', n_jobs=None, penalty='l2',\n",
       "                   random_state=None, solver='warn', tol=0.0001, verbose=0,\n",
       "                   warm_start=False)"
      ]
     },
     "execution_count": 18,
     "metadata": {},
     "output_type": "execute_result"
    },
    {
     "name": "stdout",
     "output_type": "stream",
     "text": [
      "y_10m 2020-06-17 09:00:00\n",
      "2020-06-30 14:08:00\n",
      "PCA threshold 넘기기 위해 필요한 최소 Factor:  6\n"
     ]
    },
    {
     "data": {
      "text/plain": [
       "LogisticRegression(C=1.0, class_weight=None, dual=False, fit_intercept=True,\n",
       "                   intercept_scaling=1, l1_ratio=None, max_iter=100,\n",
       "                   multi_class='auto', n_jobs=None, penalty='l2',\n",
       "                   random_state=None, solver='warn', tol=0.0001, verbose=0,\n",
       "                   warm_start=False)"
      ]
     },
     "execution_count": 18,
     "metadata": {},
     "output_type": "execute_result"
    },
    {
     "name": "stdout",
     "output_type": "stream",
     "text": [
      "y_10m 2020-06-18 09:00:00\n",
      "2020-06-30 14:08:00\n",
      "PCA threshold 넘기기 위해 필요한 최소 Factor:  6\n"
     ]
    },
    {
     "data": {
      "text/plain": [
       "LogisticRegression(C=1.0, class_weight=None, dual=False, fit_intercept=True,\n",
       "                   intercept_scaling=1, l1_ratio=None, max_iter=100,\n",
       "                   multi_class='auto', n_jobs=None, penalty='l2',\n",
       "                   random_state=None, solver='warn', tol=0.0001, verbose=0,\n",
       "                   warm_start=False)"
      ]
     },
     "execution_count": 18,
     "metadata": {},
     "output_type": "execute_result"
    },
    {
     "name": "stdout",
     "output_type": "stream",
     "text": [
      "y_10m 2020-06-19 09:00:00\n",
      "2020-06-30 14:08:00\n",
      "PCA threshold 넘기기 위해 필요한 최소 Factor:  6\n"
     ]
    },
    {
     "data": {
      "text/plain": [
       "LogisticRegression(C=1.0, class_weight=None, dual=False, fit_intercept=True,\n",
       "                   intercept_scaling=1, l1_ratio=None, max_iter=100,\n",
       "                   multi_class='auto', n_jobs=None, penalty='l2',\n",
       "                   random_state=None, solver='warn', tol=0.0001, verbose=0,\n",
       "                   warm_start=False)"
      ]
     },
     "execution_count": 18,
     "metadata": {},
     "output_type": "execute_result"
    },
    {
     "name": "stdout",
     "output_type": "stream",
     "text": [
      "y_10m 2020-06-22 09:00:00\n",
      "2020-06-30 14:08:00\n",
      "PCA threshold 넘기기 위해 필요한 최소 Factor:  6\n"
     ]
    },
    {
     "data": {
      "text/plain": [
       "LogisticRegression(C=1.0, class_weight=None, dual=False, fit_intercept=True,\n",
       "                   intercept_scaling=1, l1_ratio=None, max_iter=100,\n",
       "                   multi_class='auto', n_jobs=None, penalty='l2',\n",
       "                   random_state=None, solver='warn', tol=0.0001, verbose=0,\n",
       "                   warm_start=False)"
      ]
     },
     "execution_count": 18,
     "metadata": {},
     "output_type": "execute_result"
    },
    {
     "name": "stdout",
     "output_type": "stream",
     "text": [
      "y_10m 2020-06-23 09:00:00\n",
      "2020-06-30 14:08:00\n",
      "PCA threshold 넘기기 위해 필요한 최소 Factor:  6\n"
     ]
    },
    {
     "data": {
      "text/plain": [
       "LogisticRegression(C=1.0, class_weight=None, dual=False, fit_intercept=True,\n",
       "                   intercept_scaling=1, l1_ratio=None, max_iter=100,\n",
       "                   multi_class='auto', n_jobs=None, penalty='l2',\n",
       "                   random_state=None, solver='warn', tol=0.0001, verbose=0,\n",
       "                   warm_start=False)"
      ]
     },
     "execution_count": 18,
     "metadata": {},
     "output_type": "execute_result"
    },
    {
     "name": "stdout",
     "output_type": "stream",
     "text": [
      "y_10m 2020-06-24 09:00:00\n",
      "2020-06-30 14:08:00\n",
      "PCA threshold 넘기기 위해 필요한 최소 Factor:  6\n"
     ]
    },
    {
     "data": {
      "text/plain": [
       "LogisticRegression(C=1.0, class_weight=None, dual=False, fit_intercept=True,\n",
       "                   intercept_scaling=1, l1_ratio=None, max_iter=100,\n",
       "                   multi_class='auto', n_jobs=None, penalty='l2',\n",
       "                   random_state=None, solver='warn', tol=0.0001, verbose=0,\n",
       "                   warm_start=False)"
      ]
     },
     "execution_count": 18,
     "metadata": {},
     "output_type": "execute_result"
    },
    {
     "name": "stdout",
     "output_type": "stream",
     "text": [
      "y_10m 2020-06-25 09:00:00\n",
      "2020-06-30 14:08:00\n",
      "PCA threshold 넘기기 위해 필요한 최소 Factor:  6\n"
     ]
    },
    {
     "data": {
      "text/plain": [
       "LogisticRegression(C=1.0, class_weight=None, dual=False, fit_intercept=True,\n",
       "                   intercept_scaling=1, l1_ratio=None, max_iter=100,\n",
       "                   multi_class='auto', n_jobs=None, penalty='l2',\n",
       "                   random_state=None, solver='warn', tol=0.0001, verbose=0,\n",
       "                   warm_start=False)"
      ]
     },
     "execution_count": 18,
     "metadata": {},
     "output_type": "execute_result"
    },
    {
     "name": "stdout",
     "output_type": "stream",
     "text": [
      "y_10m 2020-06-26 09:00:00\n",
      "2020-06-30 14:08:00\n",
      "PCA threshold 넘기기 위해 필요한 최소 Factor:  6\n"
     ]
    },
    {
     "data": {
      "text/plain": [
       "LogisticRegression(C=1.0, class_weight=None, dual=False, fit_intercept=True,\n",
       "                   intercept_scaling=1, l1_ratio=None, max_iter=100,\n",
       "                   multi_class='auto', n_jobs=None, penalty='l2',\n",
       "                   random_state=None, solver='warn', tol=0.0001, verbose=0,\n",
       "                   warm_start=False)"
      ]
     },
     "execution_count": 18,
     "metadata": {},
     "output_type": "execute_result"
    },
    {
     "name": "stdout",
     "output_type": "stream",
     "text": [
      "y_10m 2020-06-29 09:00:00\n",
      "2020-06-30 14:08:00\n",
      "PCA threshold 넘기기 위해 필요한 최소 Factor:  6\n"
     ]
    },
    {
     "data": {
      "text/plain": [
       "LogisticRegression(C=1.0, class_weight=None, dual=False, fit_intercept=True,\n",
       "                   intercept_scaling=1, l1_ratio=None, max_iter=100,\n",
       "                   multi_class='auto', n_jobs=None, penalty='l2',\n",
       "                   random_state=None, solver='warn', tol=0.0001, verbose=0,\n",
       "                   warm_start=False)"
      ]
     },
     "execution_count": 18,
     "metadata": {},
     "output_type": "execute_result"
    },
    {
     "name": "stdout",
     "output_type": "stream",
     "text": [
      "y_10m 2020-06-30 09:00:00\n",
      "2020-06-30 14:08:00\n",
      "PCA threshold 넘기기 위해 필요한 최소 Factor:  6\n"
     ]
    },
    {
     "data": {
      "text/plain": [
       "LogisticRegression(C=1.0, class_weight=None, dual=False, fit_intercept=True,\n",
       "                   intercept_scaling=1, l1_ratio=None, max_iter=100,\n",
       "                   multi_class='auto', n_jobs=None, penalty='l2',\n",
       "                   random_state=None, solver='warn', tol=0.0001, verbose=0,\n",
       "                   warm_start=False)"
      ]
     },
     "execution_count": 18,
     "metadata": {},
     "output_type": "execute_result"
    },
    {
     "name": "stdout",
     "output_type": "stream",
     "text": [
      "y_15m 2020-05-13 15:20:00\n",
      "2020-06-30 14:08:00\n",
      "PCA threshold 넘기기 위해 필요한 최소 Factor:  6\n"
     ]
    },
    {
     "data": {
      "text/plain": [
       "LogisticRegression(C=1.0, class_weight=None, dual=False, fit_intercept=True,\n",
       "                   intercept_scaling=1, l1_ratio=None, max_iter=100,\n",
       "                   multi_class='auto', n_jobs=None, penalty='l2',\n",
       "                   random_state=None, solver='warn', tol=0.0001, verbose=0,\n",
       "                   warm_start=False)"
      ]
     },
     "execution_count": 18,
     "metadata": {},
     "output_type": "execute_result"
    },
    {
     "name": "stdout",
     "output_type": "stream",
     "text": [
      "y_15m 2020-05-14 15:20:00\n",
      "2020-06-30 14:08:00\n",
      "PCA threshold 넘기기 위해 필요한 최소 Factor:  6\n"
     ]
    },
    {
     "data": {
      "text/plain": [
       "LogisticRegression(C=1.0, class_weight=None, dual=False, fit_intercept=True,\n",
       "                   intercept_scaling=1, l1_ratio=None, max_iter=100,\n",
       "                   multi_class='auto', n_jobs=None, penalty='l2',\n",
       "                   random_state=None, solver='warn', tol=0.0001, verbose=0,\n",
       "                   warm_start=False)"
      ]
     },
     "execution_count": 18,
     "metadata": {},
     "output_type": "execute_result"
    },
    {
     "name": "stdout",
     "output_type": "stream",
     "text": [
      "y_15m 2020-05-15 15:20:00\n",
      "2020-06-30 14:08:00\n",
      "PCA threshold 넘기기 위해 필요한 최소 Factor:  6\n"
     ]
    },
    {
     "data": {
      "text/plain": [
       "LogisticRegression(C=1.0, class_weight=None, dual=False, fit_intercept=True,\n",
       "                   intercept_scaling=1, l1_ratio=None, max_iter=100,\n",
       "                   multi_class='auto', n_jobs=None, penalty='l2',\n",
       "                   random_state=None, solver='warn', tol=0.0001, verbose=0,\n",
       "                   warm_start=False)"
      ]
     },
     "execution_count": 18,
     "metadata": {},
     "output_type": "execute_result"
    },
    {
     "name": "stdout",
     "output_type": "stream",
     "text": [
      "y_15m 2020-05-18 15:20:00\n",
      "2020-06-30 14:08:00\n",
      "PCA threshold 넘기기 위해 필요한 최소 Factor:  6\n"
     ]
    },
    {
     "data": {
      "text/plain": [
       "LogisticRegression(C=1.0, class_weight=None, dual=False, fit_intercept=True,\n",
       "                   intercept_scaling=1, l1_ratio=None, max_iter=100,\n",
       "                   multi_class='auto', n_jobs=None, penalty='l2',\n",
       "                   random_state=None, solver='warn', tol=0.0001, verbose=0,\n",
       "                   warm_start=False)"
      ]
     },
     "execution_count": 18,
     "metadata": {},
     "output_type": "execute_result"
    },
    {
     "name": "stdout",
     "output_type": "stream",
     "text": [
      "y_15m 2020-05-19 15:20:00\n",
      "2020-06-30 14:08:00\n",
      "PCA threshold 넘기기 위해 필요한 최소 Factor:  6\n"
     ]
    },
    {
     "data": {
      "text/plain": [
       "LogisticRegression(C=1.0, class_weight=None, dual=False, fit_intercept=True,\n",
       "                   intercept_scaling=1, l1_ratio=None, max_iter=100,\n",
       "                   multi_class='auto', n_jobs=None, penalty='l2',\n",
       "                   random_state=None, solver='warn', tol=0.0001, verbose=0,\n",
       "                   warm_start=False)"
      ]
     },
     "execution_count": 18,
     "metadata": {},
     "output_type": "execute_result"
    },
    {
     "name": "stdout",
     "output_type": "stream",
     "text": [
      "y_15m 2020-05-20 15:20:00\n",
      "2020-06-30 14:08:00\n",
      "PCA threshold 넘기기 위해 필요한 최소 Factor:  6\n"
     ]
    },
    {
     "data": {
      "text/plain": [
       "LogisticRegression(C=1.0, class_weight=None, dual=False, fit_intercept=True,\n",
       "                   intercept_scaling=1, l1_ratio=None, max_iter=100,\n",
       "                   multi_class='auto', n_jobs=None, penalty='l2',\n",
       "                   random_state=None, solver='warn', tol=0.0001, verbose=0,\n",
       "                   warm_start=False)"
      ]
     },
     "execution_count": 18,
     "metadata": {},
     "output_type": "execute_result"
    },
    {
     "name": "stdout",
     "output_type": "stream",
     "text": [
      "y_15m 2020-05-21 15:20:00\n",
      "2020-06-30 14:08:00\n",
      "PCA threshold 넘기기 위해 필요한 최소 Factor:  6\n"
     ]
    },
    {
     "data": {
      "text/plain": [
       "LogisticRegression(C=1.0, class_weight=None, dual=False, fit_intercept=True,\n",
       "                   intercept_scaling=1, l1_ratio=None, max_iter=100,\n",
       "                   multi_class='auto', n_jobs=None, penalty='l2',\n",
       "                   random_state=None, solver='warn', tol=0.0001, verbose=0,\n",
       "                   warm_start=False)"
      ]
     },
     "execution_count": 18,
     "metadata": {},
     "output_type": "execute_result"
    },
    {
     "name": "stdout",
     "output_type": "stream",
     "text": [
      "y_15m 2020-05-22 15:20:00\n",
      "2020-06-30 14:08:00\n",
      "PCA threshold 넘기기 위해 필요한 최소 Factor:  6\n"
     ]
    },
    {
     "data": {
      "text/plain": [
       "LogisticRegression(C=1.0, class_weight=None, dual=False, fit_intercept=True,\n",
       "                   intercept_scaling=1, l1_ratio=None, max_iter=100,\n",
       "                   multi_class='auto', n_jobs=None, penalty='l2',\n",
       "                   random_state=None, solver='warn', tol=0.0001, verbose=0,\n",
       "                   warm_start=False)"
      ]
     },
     "execution_count": 18,
     "metadata": {},
     "output_type": "execute_result"
    },
    {
     "name": "stdout",
     "output_type": "stream",
     "text": [
      "y_15m 2020-05-25 15:20:00\n",
      "2020-06-30 14:08:00\n",
      "PCA threshold 넘기기 위해 필요한 최소 Factor:  6\n"
     ]
    },
    {
     "data": {
      "text/plain": [
       "LogisticRegression(C=1.0, class_weight=None, dual=False, fit_intercept=True,\n",
       "                   intercept_scaling=1, l1_ratio=None, max_iter=100,\n",
       "                   multi_class='auto', n_jobs=None, penalty='l2',\n",
       "                   random_state=None, solver='warn', tol=0.0001, verbose=0,\n",
       "                   warm_start=False)"
      ]
     },
     "execution_count": 18,
     "metadata": {},
     "output_type": "execute_result"
    },
    {
     "name": "stdout",
     "output_type": "stream",
     "text": [
      "y_15m 2020-05-26 15:20:00\n",
      "2020-06-30 14:08:00\n",
      "PCA threshold 넘기기 위해 필요한 최소 Factor:  6\n"
     ]
    },
    {
     "data": {
      "text/plain": [
       "LogisticRegression(C=1.0, class_weight=None, dual=False, fit_intercept=True,\n",
       "                   intercept_scaling=1, l1_ratio=None, max_iter=100,\n",
       "                   multi_class='auto', n_jobs=None, penalty='l2',\n",
       "                   random_state=None, solver='warn', tol=0.0001, verbose=0,\n",
       "                   warm_start=False)"
      ]
     },
     "execution_count": 18,
     "metadata": {},
     "output_type": "execute_result"
    },
    {
     "name": "stdout",
     "output_type": "stream",
     "text": [
      "y_15m 2020-05-27 15:20:00\n",
      "2020-06-30 14:08:00\n",
      "PCA threshold 넘기기 위해 필요한 최소 Factor:  6\n"
     ]
    },
    {
     "data": {
      "text/plain": [
       "LogisticRegression(C=1.0, class_weight=None, dual=False, fit_intercept=True,\n",
       "                   intercept_scaling=1, l1_ratio=None, max_iter=100,\n",
       "                   multi_class='auto', n_jobs=None, penalty='l2',\n",
       "                   random_state=None, solver='warn', tol=0.0001, verbose=0,\n",
       "                   warm_start=False)"
      ]
     },
     "execution_count": 18,
     "metadata": {},
     "output_type": "execute_result"
    },
    {
     "name": "stdout",
     "output_type": "stream",
     "text": [
      "y_15m 2020-05-28 15:20:00\n",
      "2020-06-30 14:08:00\n",
      "PCA threshold 넘기기 위해 필요한 최소 Factor:  6\n"
     ]
    },
    {
     "data": {
      "text/plain": [
       "LogisticRegression(C=1.0, class_weight=None, dual=False, fit_intercept=True,\n",
       "                   intercept_scaling=1, l1_ratio=None, max_iter=100,\n",
       "                   multi_class='auto', n_jobs=None, penalty='l2',\n",
       "                   random_state=None, solver='warn', tol=0.0001, verbose=0,\n",
       "                   warm_start=False)"
      ]
     },
     "execution_count": 18,
     "metadata": {},
     "output_type": "execute_result"
    },
    {
     "name": "stdout",
     "output_type": "stream",
     "text": [
      "y_15m 2020-05-29 15:20:00\n",
      "2020-06-30 14:08:00\n",
      "PCA threshold 넘기기 위해 필요한 최소 Factor:  6\n"
     ]
    },
    {
     "data": {
      "text/plain": [
       "LogisticRegression(C=1.0, class_weight=None, dual=False, fit_intercept=True,\n",
       "                   intercept_scaling=1, l1_ratio=None, max_iter=100,\n",
       "                   multi_class='auto', n_jobs=None, penalty='l2',\n",
       "                   random_state=None, solver='warn', tol=0.0001, verbose=0,\n",
       "                   warm_start=False)"
      ]
     },
     "execution_count": 18,
     "metadata": {},
     "output_type": "execute_result"
    },
    {
     "name": "stdout",
     "output_type": "stream",
     "text": [
      "y_15m 2020-06-01 15:20:00\n",
      "2020-06-30 14:08:00\n",
      "PCA threshold 넘기기 위해 필요한 최소 Factor:  6\n"
     ]
    },
    {
     "data": {
      "text/plain": [
       "LogisticRegression(C=1.0, class_weight=None, dual=False, fit_intercept=True,\n",
       "                   intercept_scaling=1, l1_ratio=None, max_iter=100,\n",
       "                   multi_class='auto', n_jobs=None, penalty='l2',\n",
       "                   random_state=None, solver='warn', tol=0.0001, verbose=0,\n",
       "                   warm_start=False)"
      ]
     },
     "execution_count": 18,
     "metadata": {},
     "output_type": "execute_result"
    },
    {
     "name": "stdout",
     "output_type": "stream",
     "text": [
      "y_15m 2020-06-02 15:20:00\n",
      "2020-06-30 14:08:00\n",
      "PCA threshold 넘기기 위해 필요한 최소 Factor:  6\n"
     ]
    },
    {
     "data": {
      "text/plain": [
       "LogisticRegression(C=1.0, class_weight=None, dual=False, fit_intercept=True,\n",
       "                   intercept_scaling=1, l1_ratio=None, max_iter=100,\n",
       "                   multi_class='auto', n_jobs=None, penalty='l2',\n",
       "                   random_state=None, solver='warn', tol=0.0001, verbose=0,\n",
       "                   warm_start=False)"
      ]
     },
     "execution_count": 18,
     "metadata": {},
     "output_type": "execute_result"
    },
    {
     "name": "stdout",
     "output_type": "stream",
     "text": [
      "y_15m 2020-06-03 15:20:00\n",
      "2020-06-30 14:08:00\n",
      "PCA threshold 넘기기 위해 필요한 최소 Factor:  6\n"
     ]
    },
    {
     "data": {
      "text/plain": [
       "LogisticRegression(C=1.0, class_weight=None, dual=False, fit_intercept=True,\n",
       "                   intercept_scaling=1, l1_ratio=None, max_iter=100,\n",
       "                   multi_class='auto', n_jobs=None, penalty='l2',\n",
       "                   random_state=None, solver='warn', tol=0.0001, verbose=0,\n",
       "                   warm_start=False)"
      ]
     },
     "execution_count": 18,
     "metadata": {},
     "output_type": "execute_result"
    },
    {
     "name": "stdout",
     "output_type": "stream",
     "text": [
      "y_15m 2020-06-04 15:20:00\n",
      "2020-06-30 14:08:00\n",
      "PCA threshold 넘기기 위해 필요한 최소 Factor:  6\n"
     ]
    },
    {
     "data": {
      "text/plain": [
       "LogisticRegression(C=1.0, class_weight=None, dual=False, fit_intercept=True,\n",
       "                   intercept_scaling=1, l1_ratio=None, max_iter=100,\n",
       "                   multi_class='auto', n_jobs=None, penalty='l2',\n",
       "                   random_state=None, solver='warn', tol=0.0001, verbose=0,\n",
       "                   warm_start=False)"
      ]
     },
     "execution_count": 18,
     "metadata": {},
     "output_type": "execute_result"
    },
    {
     "name": "stdout",
     "output_type": "stream",
     "text": [
      "y_15m 2020-06-05 15:20:00\n",
      "2020-06-30 14:08:00\n",
      "PCA threshold 넘기기 위해 필요한 최소 Factor:  6\n"
     ]
    },
    {
     "data": {
      "text/plain": [
       "LogisticRegression(C=1.0, class_weight=None, dual=False, fit_intercept=True,\n",
       "                   intercept_scaling=1, l1_ratio=None, max_iter=100,\n",
       "                   multi_class='auto', n_jobs=None, penalty='l2',\n",
       "                   random_state=None, solver='warn', tol=0.0001, verbose=0,\n",
       "                   warm_start=False)"
      ]
     },
     "execution_count": 18,
     "metadata": {},
     "output_type": "execute_result"
    },
    {
     "name": "stdout",
     "output_type": "stream",
     "text": [
      "y_15m 2020-06-08 15:20:00\n",
      "2020-06-30 14:08:00\n",
      "PCA threshold 넘기기 위해 필요한 최소 Factor:  6\n"
     ]
    },
    {
     "data": {
      "text/plain": [
       "LogisticRegression(C=1.0, class_weight=None, dual=False, fit_intercept=True,\n",
       "                   intercept_scaling=1, l1_ratio=None, max_iter=100,\n",
       "                   multi_class='auto', n_jobs=None, penalty='l2',\n",
       "                   random_state=None, solver='warn', tol=0.0001, verbose=0,\n",
       "                   warm_start=False)"
      ]
     },
     "execution_count": 18,
     "metadata": {},
     "output_type": "execute_result"
    },
    {
     "name": "stdout",
     "output_type": "stream",
     "text": [
      "y_15m 2020-06-09 15:20:00\n",
      "2020-06-30 14:08:00\n",
      "PCA threshold 넘기기 위해 필요한 최소 Factor:  6\n"
     ]
    },
    {
     "data": {
      "text/plain": [
       "LogisticRegression(C=1.0, class_weight=None, dual=False, fit_intercept=True,\n",
       "                   intercept_scaling=1, l1_ratio=None, max_iter=100,\n",
       "                   multi_class='auto', n_jobs=None, penalty='l2',\n",
       "                   random_state=None, solver='warn', tol=0.0001, verbose=0,\n",
       "                   warm_start=False)"
      ]
     },
     "execution_count": 18,
     "metadata": {},
     "output_type": "execute_result"
    },
    {
     "name": "stdout",
     "output_type": "stream",
     "text": [
      "y_15m 2020-06-10 15:20:00\n",
      "2020-06-30 14:08:00\n",
      "PCA threshold 넘기기 위해 필요한 최소 Factor:  6\n"
     ]
    },
    {
     "data": {
      "text/plain": [
       "LogisticRegression(C=1.0, class_weight=None, dual=False, fit_intercept=True,\n",
       "                   intercept_scaling=1, l1_ratio=None, max_iter=100,\n",
       "                   multi_class='auto', n_jobs=None, penalty='l2',\n",
       "                   random_state=None, solver='warn', tol=0.0001, verbose=0,\n",
       "                   warm_start=False)"
      ]
     },
     "execution_count": 18,
     "metadata": {},
     "output_type": "execute_result"
    },
    {
     "name": "stdout",
     "output_type": "stream",
     "text": [
      "y_15m 2020-06-12 09:00:00\n",
      "2020-06-30 14:08:00\n",
      "PCA threshold 넘기기 위해 필요한 최소 Factor:  6\n"
     ]
    },
    {
     "data": {
      "text/plain": [
       "LogisticRegression(C=1.0, class_weight=None, dual=False, fit_intercept=True,\n",
       "                   intercept_scaling=1, l1_ratio=None, max_iter=100,\n",
       "                   multi_class='auto', n_jobs=None, penalty='l2',\n",
       "                   random_state=None, solver='warn', tol=0.0001, verbose=0,\n",
       "                   warm_start=False)"
      ]
     },
     "execution_count": 18,
     "metadata": {},
     "output_type": "execute_result"
    },
    {
     "name": "stdout",
     "output_type": "stream",
     "text": [
      "y_15m 2020-06-15 09:00:00\n",
      "2020-06-30 14:08:00\n",
      "PCA threshold 넘기기 위해 필요한 최소 Factor:  6\n"
     ]
    },
    {
     "data": {
      "text/plain": [
       "LogisticRegression(C=1.0, class_weight=None, dual=False, fit_intercept=True,\n",
       "                   intercept_scaling=1, l1_ratio=None, max_iter=100,\n",
       "                   multi_class='auto', n_jobs=None, penalty='l2',\n",
       "                   random_state=None, solver='warn', tol=0.0001, verbose=0,\n",
       "                   warm_start=False)"
      ]
     },
     "execution_count": 18,
     "metadata": {},
     "output_type": "execute_result"
    },
    {
     "name": "stdout",
     "output_type": "stream",
     "text": [
      "y_15m 2020-06-16 09:00:00\n",
      "2020-06-30 14:08:00\n",
      "PCA threshold 넘기기 위해 필요한 최소 Factor:  6\n"
     ]
    },
    {
     "data": {
      "text/plain": [
       "LogisticRegression(C=1.0, class_weight=None, dual=False, fit_intercept=True,\n",
       "                   intercept_scaling=1, l1_ratio=None, max_iter=100,\n",
       "                   multi_class='auto', n_jobs=None, penalty='l2',\n",
       "                   random_state=None, solver='warn', tol=0.0001, verbose=0,\n",
       "                   warm_start=False)"
      ]
     },
     "execution_count": 18,
     "metadata": {},
     "output_type": "execute_result"
    },
    {
     "name": "stdout",
     "output_type": "stream",
     "text": [
      "y_15m 2020-06-17 09:00:00\n",
      "2020-06-30 14:08:00\n",
      "PCA threshold 넘기기 위해 필요한 최소 Factor:  6\n"
     ]
    },
    {
     "data": {
      "text/plain": [
       "LogisticRegression(C=1.0, class_weight=None, dual=False, fit_intercept=True,\n",
       "                   intercept_scaling=1, l1_ratio=None, max_iter=100,\n",
       "                   multi_class='auto', n_jobs=None, penalty='l2',\n",
       "                   random_state=None, solver='warn', tol=0.0001, verbose=0,\n",
       "                   warm_start=False)"
      ]
     },
     "execution_count": 18,
     "metadata": {},
     "output_type": "execute_result"
    },
    {
     "name": "stdout",
     "output_type": "stream",
     "text": [
      "y_15m 2020-06-18 09:00:00\n",
      "2020-06-30 14:08:00\n",
      "PCA threshold 넘기기 위해 필요한 최소 Factor:  6\n"
     ]
    },
    {
     "data": {
      "text/plain": [
       "LogisticRegression(C=1.0, class_weight=None, dual=False, fit_intercept=True,\n",
       "                   intercept_scaling=1, l1_ratio=None, max_iter=100,\n",
       "                   multi_class='auto', n_jobs=None, penalty='l2',\n",
       "                   random_state=None, solver='warn', tol=0.0001, verbose=0,\n",
       "                   warm_start=False)"
      ]
     },
     "execution_count": 18,
     "metadata": {},
     "output_type": "execute_result"
    },
    {
     "name": "stdout",
     "output_type": "stream",
     "text": [
      "y_15m 2020-06-19 09:00:00\n",
      "2020-06-30 14:08:00\n",
      "PCA threshold 넘기기 위해 필요한 최소 Factor:  6\n"
     ]
    },
    {
     "data": {
      "text/plain": [
       "LogisticRegression(C=1.0, class_weight=None, dual=False, fit_intercept=True,\n",
       "                   intercept_scaling=1, l1_ratio=None, max_iter=100,\n",
       "                   multi_class='auto', n_jobs=None, penalty='l2',\n",
       "                   random_state=None, solver='warn', tol=0.0001, verbose=0,\n",
       "                   warm_start=False)"
      ]
     },
     "execution_count": 18,
     "metadata": {},
     "output_type": "execute_result"
    },
    {
     "name": "stdout",
     "output_type": "stream",
     "text": [
      "y_15m 2020-06-22 09:00:00\n",
      "2020-06-30 14:08:00\n",
      "PCA threshold 넘기기 위해 필요한 최소 Factor:  6\n"
     ]
    },
    {
     "data": {
      "text/plain": [
       "LogisticRegression(C=1.0, class_weight=None, dual=False, fit_intercept=True,\n",
       "                   intercept_scaling=1, l1_ratio=None, max_iter=100,\n",
       "                   multi_class='auto', n_jobs=None, penalty='l2',\n",
       "                   random_state=None, solver='warn', tol=0.0001, verbose=0,\n",
       "                   warm_start=False)"
      ]
     },
     "execution_count": 18,
     "metadata": {},
     "output_type": "execute_result"
    },
    {
     "name": "stdout",
     "output_type": "stream",
     "text": [
      "y_15m 2020-06-23 09:00:00\n",
      "2020-06-30 14:08:00\n",
      "PCA threshold 넘기기 위해 필요한 최소 Factor:  6\n"
     ]
    },
    {
     "data": {
      "text/plain": [
       "LogisticRegression(C=1.0, class_weight=None, dual=False, fit_intercept=True,\n",
       "                   intercept_scaling=1, l1_ratio=None, max_iter=100,\n",
       "                   multi_class='auto', n_jobs=None, penalty='l2',\n",
       "                   random_state=None, solver='warn', tol=0.0001, verbose=0,\n",
       "                   warm_start=False)"
      ]
     },
     "execution_count": 18,
     "metadata": {},
     "output_type": "execute_result"
    },
    {
     "name": "stdout",
     "output_type": "stream",
     "text": [
      "y_15m 2020-06-24 09:00:00\n",
      "2020-06-30 14:08:00\n",
      "PCA threshold 넘기기 위해 필요한 최소 Factor:  6\n"
     ]
    },
    {
     "data": {
      "text/plain": [
       "LogisticRegression(C=1.0, class_weight=None, dual=False, fit_intercept=True,\n",
       "                   intercept_scaling=1, l1_ratio=None, max_iter=100,\n",
       "                   multi_class='auto', n_jobs=None, penalty='l2',\n",
       "                   random_state=None, solver='warn', tol=0.0001, verbose=0,\n",
       "                   warm_start=False)"
      ]
     },
     "execution_count": 18,
     "metadata": {},
     "output_type": "execute_result"
    },
    {
     "name": "stdout",
     "output_type": "stream",
     "text": [
      "y_15m 2020-06-25 09:00:00\n",
      "2020-06-30 14:08:00\n",
      "PCA threshold 넘기기 위해 필요한 최소 Factor:  6\n"
     ]
    },
    {
     "data": {
      "text/plain": [
       "LogisticRegression(C=1.0, class_weight=None, dual=False, fit_intercept=True,\n",
       "                   intercept_scaling=1, l1_ratio=None, max_iter=100,\n",
       "                   multi_class='auto', n_jobs=None, penalty='l2',\n",
       "                   random_state=None, solver='warn', tol=0.0001, verbose=0,\n",
       "                   warm_start=False)"
      ]
     },
     "execution_count": 18,
     "metadata": {},
     "output_type": "execute_result"
    },
    {
     "name": "stdout",
     "output_type": "stream",
     "text": [
      "y_15m 2020-06-26 09:00:00\n",
      "2020-06-30 14:08:00\n",
      "PCA threshold 넘기기 위해 필요한 최소 Factor:  6\n"
     ]
    },
    {
     "data": {
      "text/plain": [
       "LogisticRegression(C=1.0, class_weight=None, dual=False, fit_intercept=True,\n",
       "                   intercept_scaling=1, l1_ratio=None, max_iter=100,\n",
       "                   multi_class='auto', n_jobs=None, penalty='l2',\n",
       "                   random_state=None, solver='warn', tol=0.0001, verbose=0,\n",
       "                   warm_start=False)"
      ]
     },
     "execution_count": 18,
     "metadata": {},
     "output_type": "execute_result"
    },
    {
     "name": "stdout",
     "output_type": "stream",
     "text": [
      "y_15m 2020-06-29 09:00:00\n",
      "2020-06-30 14:08:00\n",
      "PCA threshold 넘기기 위해 필요한 최소 Factor:  6\n"
     ]
    },
    {
     "data": {
      "text/plain": [
       "LogisticRegression(C=1.0, class_weight=None, dual=False, fit_intercept=True,\n",
       "                   intercept_scaling=1, l1_ratio=None, max_iter=100,\n",
       "                   multi_class='auto', n_jobs=None, penalty='l2',\n",
       "                   random_state=None, solver='warn', tol=0.0001, verbose=0,\n",
       "                   warm_start=False)"
      ]
     },
     "execution_count": 18,
     "metadata": {},
     "output_type": "execute_result"
    },
    {
     "name": "stdout",
     "output_type": "stream",
     "text": [
      "y_15m 2020-06-30 09:00:00\n",
      "2020-06-30 14:08:00\n",
      "PCA threshold 넘기기 위해 필요한 최소 Factor:  6\n"
     ]
    },
    {
     "data": {
      "text/plain": [
       "LogisticRegression(C=1.0, class_weight=None, dual=False, fit_intercept=True,\n",
       "                   intercept_scaling=1, l1_ratio=None, max_iter=100,\n",
       "                   multi_class='auto', n_jobs=None, penalty='l2',\n",
       "                   random_state=None, solver='warn', tol=0.0001, verbose=0,\n",
       "                   warm_start=False)"
      ]
     },
     "execution_count": 18,
     "metadata": {},
     "output_type": "execute_result"
    },
    {
     "name": "stdout",
     "output_type": "stream",
     "text": [
      "y_20m 2020-05-13 15:20:00\n",
      "2020-06-30 14:08:00\n",
      "PCA threshold 넘기기 위해 필요한 최소 Factor:  6\n"
     ]
    },
    {
     "data": {
      "text/plain": [
       "LogisticRegression(C=1.0, class_weight=None, dual=False, fit_intercept=True,\n",
       "                   intercept_scaling=1, l1_ratio=None, max_iter=100,\n",
       "                   multi_class='auto', n_jobs=None, penalty='l2',\n",
       "                   random_state=None, solver='warn', tol=0.0001, verbose=0,\n",
       "                   warm_start=False)"
      ]
     },
     "execution_count": 18,
     "metadata": {},
     "output_type": "execute_result"
    },
    {
     "name": "stdout",
     "output_type": "stream",
     "text": [
      "y_20m 2020-05-14 15:20:00\n",
      "2020-06-30 14:08:00\n",
      "PCA threshold 넘기기 위해 필요한 최소 Factor:  6\n"
     ]
    },
    {
     "data": {
      "text/plain": [
       "LogisticRegression(C=1.0, class_weight=None, dual=False, fit_intercept=True,\n",
       "                   intercept_scaling=1, l1_ratio=None, max_iter=100,\n",
       "                   multi_class='auto', n_jobs=None, penalty='l2',\n",
       "                   random_state=None, solver='warn', tol=0.0001, verbose=0,\n",
       "                   warm_start=False)"
      ]
     },
     "execution_count": 18,
     "metadata": {},
     "output_type": "execute_result"
    },
    {
     "name": "stdout",
     "output_type": "stream",
     "text": [
      "y_20m 2020-05-15 15:20:00\n",
      "2020-06-30 14:08:00\n",
      "PCA threshold 넘기기 위해 필요한 최소 Factor:  6\n"
     ]
    },
    {
     "data": {
      "text/plain": [
       "LogisticRegression(C=1.0, class_weight=None, dual=False, fit_intercept=True,\n",
       "                   intercept_scaling=1, l1_ratio=None, max_iter=100,\n",
       "                   multi_class='auto', n_jobs=None, penalty='l2',\n",
       "                   random_state=None, solver='warn', tol=0.0001, verbose=0,\n",
       "                   warm_start=False)"
      ]
     },
     "execution_count": 18,
     "metadata": {},
     "output_type": "execute_result"
    },
    {
     "name": "stdout",
     "output_type": "stream",
     "text": [
      "y_20m 2020-05-18 15:20:00\n",
      "2020-06-30 14:08:00\n",
      "PCA threshold 넘기기 위해 필요한 최소 Factor:  6\n"
     ]
    },
    {
     "data": {
      "text/plain": [
       "LogisticRegression(C=1.0, class_weight=None, dual=False, fit_intercept=True,\n",
       "                   intercept_scaling=1, l1_ratio=None, max_iter=100,\n",
       "                   multi_class='auto', n_jobs=None, penalty='l2',\n",
       "                   random_state=None, solver='warn', tol=0.0001, verbose=0,\n",
       "                   warm_start=False)"
      ]
     },
     "execution_count": 18,
     "metadata": {},
     "output_type": "execute_result"
    },
    {
     "name": "stdout",
     "output_type": "stream",
     "text": [
      "y_20m 2020-05-19 15:20:00\n",
      "2020-06-30 14:08:00\n",
      "PCA threshold 넘기기 위해 필요한 최소 Factor:  6\n"
     ]
    },
    {
     "data": {
      "text/plain": [
       "LogisticRegression(C=1.0, class_weight=None, dual=False, fit_intercept=True,\n",
       "                   intercept_scaling=1, l1_ratio=None, max_iter=100,\n",
       "                   multi_class='auto', n_jobs=None, penalty='l2',\n",
       "                   random_state=None, solver='warn', tol=0.0001, verbose=0,\n",
       "                   warm_start=False)"
      ]
     },
     "execution_count": 18,
     "metadata": {},
     "output_type": "execute_result"
    },
    {
     "name": "stdout",
     "output_type": "stream",
     "text": [
      "y_20m 2020-05-20 15:20:00\n",
      "2020-06-30 14:08:00\n",
      "PCA threshold 넘기기 위해 필요한 최소 Factor:  6\n"
     ]
    },
    {
     "data": {
      "text/plain": [
       "LogisticRegression(C=1.0, class_weight=None, dual=False, fit_intercept=True,\n",
       "                   intercept_scaling=1, l1_ratio=None, max_iter=100,\n",
       "                   multi_class='auto', n_jobs=None, penalty='l2',\n",
       "                   random_state=None, solver='warn', tol=0.0001, verbose=0,\n",
       "                   warm_start=False)"
      ]
     },
     "execution_count": 18,
     "metadata": {},
     "output_type": "execute_result"
    },
    {
     "name": "stdout",
     "output_type": "stream",
     "text": [
      "y_20m 2020-05-21 15:20:00\n",
      "2020-06-30 14:08:00\n",
      "PCA threshold 넘기기 위해 필요한 최소 Factor:  6\n"
     ]
    },
    {
     "data": {
      "text/plain": [
       "LogisticRegression(C=1.0, class_weight=None, dual=False, fit_intercept=True,\n",
       "                   intercept_scaling=1, l1_ratio=None, max_iter=100,\n",
       "                   multi_class='auto', n_jobs=None, penalty='l2',\n",
       "                   random_state=None, solver='warn', tol=0.0001, verbose=0,\n",
       "                   warm_start=False)"
      ]
     },
     "execution_count": 18,
     "metadata": {},
     "output_type": "execute_result"
    },
    {
     "name": "stdout",
     "output_type": "stream",
     "text": [
      "y_20m 2020-05-22 15:20:00\n",
      "2020-06-30 14:08:00\n",
      "PCA threshold 넘기기 위해 필요한 최소 Factor:  6\n"
     ]
    },
    {
     "data": {
      "text/plain": [
       "LogisticRegression(C=1.0, class_weight=None, dual=False, fit_intercept=True,\n",
       "                   intercept_scaling=1, l1_ratio=None, max_iter=100,\n",
       "                   multi_class='auto', n_jobs=None, penalty='l2',\n",
       "                   random_state=None, solver='warn', tol=0.0001, verbose=0,\n",
       "                   warm_start=False)"
      ]
     },
     "execution_count": 18,
     "metadata": {},
     "output_type": "execute_result"
    },
    {
     "name": "stdout",
     "output_type": "stream",
     "text": [
      "y_20m 2020-05-25 15:20:00\n",
      "2020-06-30 14:08:00\n",
      "PCA threshold 넘기기 위해 필요한 최소 Factor:  6\n"
     ]
    },
    {
     "data": {
      "text/plain": [
       "LogisticRegression(C=1.0, class_weight=None, dual=False, fit_intercept=True,\n",
       "                   intercept_scaling=1, l1_ratio=None, max_iter=100,\n",
       "                   multi_class='auto', n_jobs=None, penalty='l2',\n",
       "                   random_state=None, solver='warn', tol=0.0001, verbose=0,\n",
       "                   warm_start=False)"
      ]
     },
     "execution_count": 18,
     "metadata": {},
     "output_type": "execute_result"
    },
    {
     "name": "stdout",
     "output_type": "stream",
     "text": [
      "y_20m 2020-05-26 15:20:00\n",
      "2020-06-30 14:08:00\n",
      "PCA threshold 넘기기 위해 필요한 최소 Factor:  6\n"
     ]
    },
    {
     "data": {
      "text/plain": [
       "LogisticRegression(C=1.0, class_weight=None, dual=False, fit_intercept=True,\n",
       "                   intercept_scaling=1, l1_ratio=None, max_iter=100,\n",
       "                   multi_class='auto', n_jobs=None, penalty='l2',\n",
       "                   random_state=None, solver='warn', tol=0.0001, verbose=0,\n",
       "                   warm_start=False)"
      ]
     },
     "execution_count": 18,
     "metadata": {},
     "output_type": "execute_result"
    },
    {
     "name": "stdout",
     "output_type": "stream",
     "text": [
      "y_20m 2020-05-27 15:20:00\n",
      "2020-06-30 14:08:00\n",
      "PCA threshold 넘기기 위해 필요한 최소 Factor:  6\n"
     ]
    },
    {
     "data": {
      "text/plain": [
       "LogisticRegression(C=1.0, class_weight=None, dual=False, fit_intercept=True,\n",
       "                   intercept_scaling=1, l1_ratio=None, max_iter=100,\n",
       "                   multi_class='auto', n_jobs=None, penalty='l2',\n",
       "                   random_state=None, solver='warn', tol=0.0001, verbose=0,\n",
       "                   warm_start=False)"
      ]
     },
     "execution_count": 18,
     "metadata": {},
     "output_type": "execute_result"
    },
    {
     "name": "stdout",
     "output_type": "stream",
     "text": [
      "y_20m 2020-05-28 15:20:00\n",
      "2020-06-30 14:08:00\n",
      "PCA threshold 넘기기 위해 필요한 최소 Factor:  6\n"
     ]
    },
    {
     "data": {
      "text/plain": [
       "LogisticRegression(C=1.0, class_weight=None, dual=False, fit_intercept=True,\n",
       "                   intercept_scaling=1, l1_ratio=None, max_iter=100,\n",
       "                   multi_class='auto', n_jobs=None, penalty='l2',\n",
       "                   random_state=None, solver='warn', tol=0.0001, verbose=0,\n",
       "                   warm_start=False)"
      ]
     },
     "execution_count": 18,
     "metadata": {},
     "output_type": "execute_result"
    },
    {
     "name": "stdout",
     "output_type": "stream",
     "text": [
      "y_20m 2020-05-29 15:20:00\n",
      "2020-06-30 14:08:00\n",
      "PCA threshold 넘기기 위해 필요한 최소 Factor:  6\n"
     ]
    },
    {
     "data": {
      "text/plain": [
       "LogisticRegression(C=1.0, class_weight=None, dual=False, fit_intercept=True,\n",
       "                   intercept_scaling=1, l1_ratio=None, max_iter=100,\n",
       "                   multi_class='auto', n_jobs=None, penalty='l2',\n",
       "                   random_state=None, solver='warn', tol=0.0001, verbose=0,\n",
       "                   warm_start=False)"
      ]
     },
     "execution_count": 18,
     "metadata": {},
     "output_type": "execute_result"
    },
    {
     "name": "stdout",
     "output_type": "stream",
     "text": [
      "y_20m 2020-06-01 15:20:00\n",
      "2020-06-30 14:08:00\n",
      "PCA threshold 넘기기 위해 필요한 최소 Factor:  6\n"
     ]
    },
    {
     "data": {
      "text/plain": [
       "LogisticRegression(C=1.0, class_weight=None, dual=False, fit_intercept=True,\n",
       "                   intercept_scaling=1, l1_ratio=None, max_iter=100,\n",
       "                   multi_class='auto', n_jobs=None, penalty='l2',\n",
       "                   random_state=None, solver='warn', tol=0.0001, verbose=0,\n",
       "                   warm_start=False)"
      ]
     },
     "execution_count": 18,
     "metadata": {},
     "output_type": "execute_result"
    },
    {
     "name": "stdout",
     "output_type": "stream",
     "text": [
      "y_20m 2020-06-02 15:20:00\n",
      "2020-06-30 14:08:00\n",
      "PCA threshold 넘기기 위해 필요한 최소 Factor:  6\n"
     ]
    },
    {
     "data": {
      "text/plain": [
       "LogisticRegression(C=1.0, class_weight=None, dual=False, fit_intercept=True,\n",
       "                   intercept_scaling=1, l1_ratio=None, max_iter=100,\n",
       "                   multi_class='auto', n_jobs=None, penalty='l2',\n",
       "                   random_state=None, solver='warn', tol=0.0001, verbose=0,\n",
       "                   warm_start=False)"
      ]
     },
     "execution_count": 18,
     "metadata": {},
     "output_type": "execute_result"
    },
    {
     "name": "stdout",
     "output_type": "stream",
     "text": [
      "y_20m 2020-06-03 15:20:00\n",
      "2020-06-30 14:08:00\n",
      "PCA threshold 넘기기 위해 필요한 최소 Factor:  6\n"
     ]
    },
    {
     "data": {
      "text/plain": [
       "LogisticRegression(C=1.0, class_weight=None, dual=False, fit_intercept=True,\n",
       "                   intercept_scaling=1, l1_ratio=None, max_iter=100,\n",
       "                   multi_class='auto', n_jobs=None, penalty='l2',\n",
       "                   random_state=None, solver='warn', tol=0.0001, verbose=0,\n",
       "                   warm_start=False)"
      ]
     },
     "execution_count": 18,
     "metadata": {},
     "output_type": "execute_result"
    },
    {
     "name": "stdout",
     "output_type": "stream",
     "text": [
      "y_20m 2020-06-04 15:20:00\n",
      "2020-06-30 14:08:00\n",
      "PCA threshold 넘기기 위해 필요한 최소 Factor:  6\n"
     ]
    },
    {
     "data": {
      "text/plain": [
       "LogisticRegression(C=1.0, class_weight=None, dual=False, fit_intercept=True,\n",
       "                   intercept_scaling=1, l1_ratio=None, max_iter=100,\n",
       "                   multi_class='auto', n_jobs=None, penalty='l2',\n",
       "                   random_state=None, solver='warn', tol=0.0001, verbose=0,\n",
       "                   warm_start=False)"
      ]
     },
     "execution_count": 18,
     "metadata": {},
     "output_type": "execute_result"
    },
    {
     "name": "stdout",
     "output_type": "stream",
     "text": [
      "y_20m 2020-06-05 15:20:00\n",
      "2020-06-30 14:08:00\n",
      "PCA threshold 넘기기 위해 필요한 최소 Factor:  6\n"
     ]
    },
    {
     "data": {
      "text/plain": [
       "LogisticRegression(C=1.0, class_weight=None, dual=False, fit_intercept=True,\n",
       "                   intercept_scaling=1, l1_ratio=None, max_iter=100,\n",
       "                   multi_class='auto', n_jobs=None, penalty='l2',\n",
       "                   random_state=None, solver='warn', tol=0.0001, verbose=0,\n",
       "                   warm_start=False)"
      ]
     },
     "execution_count": 18,
     "metadata": {},
     "output_type": "execute_result"
    },
    {
     "name": "stdout",
     "output_type": "stream",
     "text": [
      "y_20m 2020-06-08 15:20:00\n",
      "2020-06-30 14:08:00\n",
      "PCA threshold 넘기기 위해 필요한 최소 Factor:  6\n"
     ]
    },
    {
     "data": {
      "text/plain": [
       "LogisticRegression(C=1.0, class_weight=None, dual=False, fit_intercept=True,\n",
       "                   intercept_scaling=1, l1_ratio=None, max_iter=100,\n",
       "                   multi_class='auto', n_jobs=None, penalty='l2',\n",
       "                   random_state=None, solver='warn', tol=0.0001, verbose=0,\n",
       "                   warm_start=False)"
      ]
     },
     "execution_count": 18,
     "metadata": {},
     "output_type": "execute_result"
    },
    {
     "name": "stdout",
     "output_type": "stream",
     "text": [
      "y_20m 2020-06-09 15:20:00\n",
      "2020-06-30 14:08:00\n",
      "PCA threshold 넘기기 위해 필요한 최소 Factor:  6\n"
     ]
    },
    {
     "data": {
      "text/plain": [
       "LogisticRegression(C=1.0, class_weight=None, dual=False, fit_intercept=True,\n",
       "                   intercept_scaling=1, l1_ratio=None, max_iter=100,\n",
       "                   multi_class='auto', n_jobs=None, penalty='l2',\n",
       "                   random_state=None, solver='warn', tol=0.0001, verbose=0,\n",
       "                   warm_start=False)"
      ]
     },
     "execution_count": 18,
     "metadata": {},
     "output_type": "execute_result"
    },
    {
     "name": "stdout",
     "output_type": "stream",
     "text": [
      "y_20m 2020-06-10 15:20:00\n",
      "2020-06-30 14:08:00\n",
      "PCA threshold 넘기기 위해 필요한 최소 Factor:  6\n"
     ]
    },
    {
     "data": {
      "text/plain": [
       "LogisticRegression(C=1.0, class_weight=None, dual=False, fit_intercept=True,\n",
       "                   intercept_scaling=1, l1_ratio=None, max_iter=100,\n",
       "                   multi_class='auto', n_jobs=None, penalty='l2',\n",
       "                   random_state=None, solver='warn', tol=0.0001, verbose=0,\n",
       "                   warm_start=False)"
      ]
     },
     "execution_count": 18,
     "metadata": {},
     "output_type": "execute_result"
    },
    {
     "name": "stdout",
     "output_type": "stream",
     "text": [
      "y_20m 2020-06-12 09:00:00\n",
      "2020-06-30 14:08:00\n",
      "PCA threshold 넘기기 위해 필요한 최소 Factor:  6\n"
     ]
    },
    {
     "data": {
      "text/plain": [
       "LogisticRegression(C=1.0, class_weight=None, dual=False, fit_intercept=True,\n",
       "                   intercept_scaling=1, l1_ratio=None, max_iter=100,\n",
       "                   multi_class='auto', n_jobs=None, penalty='l2',\n",
       "                   random_state=None, solver='warn', tol=0.0001, verbose=0,\n",
       "                   warm_start=False)"
      ]
     },
     "execution_count": 18,
     "metadata": {},
     "output_type": "execute_result"
    },
    {
     "name": "stdout",
     "output_type": "stream",
     "text": [
      "y_20m 2020-06-15 09:00:00\n",
      "2020-06-30 14:08:00\n",
      "PCA threshold 넘기기 위해 필요한 최소 Factor:  6\n"
     ]
    },
    {
     "data": {
      "text/plain": [
       "LogisticRegression(C=1.0, class_weight=None, dual=False, fit_intercept=True,\n",
       "                   intercept_scaling=1, l1_ratio=None, max_iter=100,\n",
       "                   multi_class='auto', n_jobs=None, penalty='l2',\n",
       "                   random_state=None, solver='warn', tol=0.0001, verbose=0,\n",
       "                   warm_start=False)"
      ]
     },
     "execution_count": 18,
     "metadata": {},
     "output_type": "execute_result"
    },
    {
     "name": "stdout",
     "output_type": "stream",
     "text": [
      "y_20m 2020-06-16 09:00:00\n",
      "2020-06-30 14:08:00\n",
      "PCA threshold 넘기기 위해 필요한 최소 Factor:  6\n"
     ]
    },
    {
     "data": {
      "text/plain": [
       "LogisticRegression(C=1.0, class_weight=None, dual=False, fit_intercept=True,\n",
       "                   intercept_scaling=1, l1_ratio=None, max_iter=100,\n",
       "                   multi_class='auto', n_jobs=None, penalty='l2',\n",
       "                   random_state=None, solver='warn', tol=0.0001, verbose=0,\n",
       "                   warm_start=False)"
      ]
     },
     "execution_count": 18,
     "metadata": {},
     "output_type": "execute_result"
    },
    {
     "name": "stdout",
     "output_type": "stream",
     "text": [
      "y_20m 2020-06-17 09:00:00\n",
      "2020-06-30 14:08:00\n",
      "PCA threshold 넘기기 위해 필요한 최소 Factor:  6\n"
     ]
    },
    {
     "data": {
      "text/plain": [
       "LogisticRegression(C=1.0, class_weight=None, dual=False, fit_intercept=True,\n",
       "                   intercept_scaling=1, l1_ratio=None, max_iter=100,\n",
       "                   multi_class='auto', n_jobs=None, penalty='l2',\n",
       "                   random_state=None, solver='warn', tol=0.0001, verbose=0,\n",
       "                   warm_start=False)"
      ]
     },
     "execution_count": 18,
     "metadata": {},
     "output_type": "execute_result"
    },
    {
     "name": "stdout",
     "output_type": "stream",
     "text": [
      "y_20m 2020-06-18 09:00:00\n",
      "2020-06-30 14:08:00\n",
      "PCA threshold 넘기기 위해 필요한 최소 Factor:  6\n"
     ]
    },
    {
     "data": {
      "text/plain": [
       "LogisticRegression(C=1.0, class_weight=None, dual=False, fit_intercept=True,\n",
       "                   intercept_scaling=1, l1_ratio=None, max_iter=100,\n",
       "                   multi_class='auto', n_jobs=None, penalty='l2',\n",
       "                   random_state=None, solver='warn', tol=0.0001, verbose=0,\n",
       "                   warm_start=False)"
      ]
     },
     "execution_count": 18,
     "metadata": {},
     "output_type": "execute_result"
    },
    {
     "name": "stdout",
     "output_type": "stream",
     "text": [
      "y_20m 2020-06-19 09:00:00\n",
      "2020-06-30 14:08:00\n",
      "PCA threshold 넘기기 위해 필요한 최소 Factor:  6\n"
     ]
    },
    {
     "data": {
      "text/plain": [
       "LogisticRegression(C=1.0, class_weight=None, dual=False, fit_intercept=True,\n",
       "                   intercept_scaling=1, l1_ratio=None, max_iter=100,\n",
       "                   multi_class='auto', n_jobs=None, penalty='l2',\n",
       "                   random_state=None, solver='warn', tol=0.0001, verbose=0,\n",
       "                   warm_start=False)"
      ]
     },
     "execution_count": 18,
     "metadata": {},
     "output_type": "execute_result"
    },
    {
     "name": "stdout",
     "output_type": "stream",
     "text": [
      "y_20m 2020-06-22 09:00:00\n",
      "2020-06-30 14:08:00\n",
      "PCA threshold 넘기기 위해 필요한 최소 Factor:  6\n"
     ]
    },
    {
     "data": {
      "text/plain": [
       "LogisticRegression(C=1.0, class_weight=None, dual=False, fit_intercept=True,\n",
       "                   intercept_scaling=1, l1_ratio=None, max_iter=100,\n",
       "                   multi_class='auto', n_jobs=None, penalty='l2',\n",
       "                   random_state=None, solver='warn', tol=0.0001, verbose=0,\n",
       "                   warm_start=False)"
      ]
     },
     "execution_count": 18,
     "metadata": {},
     "output_type": "execute_result"
    },
    {
     "name": "stdout",
     "output_type": "stream",
     "text": [
      "y_20m 2020-06-23 09:00:00\n",
      "2020-06-30 14:08:00\n",
      "PCA threshold 넘기기 위해 필요한 최소 Factor:  6\n"
     ]
    },
    {
     "data": {
      "text/plain": [
       "LogisticRegression(C=1.0, class_weight=None, dual=False, fit_intercept=True,\n",
       "                   intercept_scaling=1, l1_ratio=None, max_iter=100,\n",
       "                   multi_class='auto', n_jobs=None, penalty='l2',\n",
       "                   random_state=None, solver='warn', tol=0.0001, verbose=0,\n",
       "                   warm_start=False)"
      ]
     },
     "execution_count": 18,
     "metadata": {},
     "output_type": "execute_result"
    },
    {
     "name": "stdout",
     "output_type": "stream",
     "text": [
      "y_20m 2020-06-24 09:00:00\n",
      "2020-06-30 14:08:00\n",
      "PCA threshold 넘기기 위해 필요한 최소 Factor:  6\n"
     ]
    },
    {
     "data": {
      "text/plain": [
       "LogisticRegression(C=1.0, class_weight=None, dual=False, fit_intercept=True,\n",
       "                   intercept_scaling=1, l1_ratio=None, max_iter=100,\n",
       "                   multi_class='auto', n_jobs=None, penalty='l2',\n",
       "                   random_state=None, solver='warn', tol=0.0001, verbose=0,\n",
       "                   warm_start=False)"
      ]
     },
     "execution_count": 18,
     "metadata": {},
     "output_type": "execute_result"
    },
    {
     "name": "stdout",
     "output_type": "stream",
     "text": [
      "y_20m 2020-06-25 09:00:00\n",
      "2020-06-30 14:08:00\n",
      "PCA threshold 넘기기 위해 필요한 최소 Factor:  6\n"
     ]
    },
    {
     "data": {
      "text/plain": [
       "LogisticRegression(C=1.0, class_weight=None, dual=False, fit_intercept=True,\n",
       "                   intercept_scaling=1, l1_ratio=None, max_iter=100,\n",
       "                   multi_class='auto', n_jobs=None, penalty='l2',\n",
       "                   random_state=None, solver='warn', tol=0.0001, verbose=0,\n",
       "                   warm_start=False)"
      ]
     },
     "execution_count": 18,
     "metadata": {},
     "output_type": "execute_result"
    },
    {
     "name": "stdout",
     "output_type": "stream",
     "text": [
      "y_20m 2020-06-26 09:00:00\n",
      "2020-06-30 14:08:00\n",
      "PCA threshold 넘기기 위해 필요한 최소 Factor:  6\n"
     ]
    },
    {
     "data": {
      "text/plain": [
       "LogisticRegression(C=1.0, class_weight=None, dual=False, fit_intercept=True,\n",
       "                   intercept_scaling=1, l1_ratio=None, max_iter=100,\n",
       "                   multi_class='auto', n_jobs=None, penalty='l2',\n",
       "                   random_state=None, solver='warn', tol=0.0001, verbose=0,\n",
       "                   warm_start=False)"
      ]
     },
     "execution_count": 18,
     "metadata": {},
     "output_type": "execute_result"
    },
    {
     "name": "stdout",
     "output_type": "stream",
     "text": [
      "y_20m 2020-06-29 09:00:00\n",
      "2020-06-30 14:08:00\n",
      "PCA threshold 넘기기 위해 필요한 최소 Factor:  6\n"
     ]
    },
    {
     "data": {
      "text/plain": [
       "LogisticRegression(C=1.0, class_weight=None, dual=False, fit_intercept=True,\n",
       "                   intercept_scaling=1, l1_ratio=None, max_iter=100,\n",
       "                   multi_class='auto', n_jobs=None, penalty='l2',\n",
       "                   random_state=None, solver='warn', tol=0.0001, verbose=0,\n",
       "                   warm_start=False)"
      ]
     },
     "execution_count": 18,
     "metadata": {},
     "output_type": "execute_result"
    },
    {
     "name": "stdout",
     "output_type": "stream",
     "text": [
      "y_20m 2020-06-30 09:00:00\n",
      "2020-06-30 14:08:00\n",
      "PCA threshold 넘기기 위해 필요한 최소 Factor:  6\n"
     ]
    },
    {
     "data": {
      "text/plain": [
       "LogisticRegression(C=1.0, class_weight=None, dual=False, fit_intercept=True,\n",
       "                   intercept_scaling=1, l1_ratio=None, max_iter=100,\n",
       "                   multi_class='auto', n_jobs=None, penalty='l2',\n",
       "                   random_state=None, solver='warn', tol=0.0001, verbose=0,\n",
       "                   warm_start=False)"
      ]
     },
     "execution_count": 18,
     "metadata": {},
     "output_type": "execute_result"
    }
   ],
   "source": [
    "# PCA & Moving Window & Prediction(Softmax)\n",
    "\n",
    "window_size = 396 # 1 day data\n",
    "train_size = window_size * 5\n",
    "test_size = window_size\n",
    "\n",
    "result_dict = {}\n",
    "\n",
    "for j in range(len(date_list)):\n",
    "    y_label = \"y_\" + str(date_list[j]) + \"m\"\n",
    "    y = y_data.loc[train_test_index:, y_label]\n",
    "    i = train_test_index\n",
    "    test_results = pd.DataFrame(columns=['act_'+str(date_list[j]),'pred_'+str(date_list[j])])\n",
    "    while(i + train_size + test_size <= len(data)):\n",
    "        print(y_label,raw_data['datetime'].loc[i + train_size + test_size] )\n",
    "        print(raw_data['datetime'].loc[len(data)])\n",
    "        \n",
    "        # PCA func (with YK's func)\n",
    "        _, _, sub_data = run_pca_analysis(pca_selection_data_set, \n",
    "                                          classify_predict_data_set.loc[i:i+train_size + test_size] ,\n",
    "                                          selected_variable, 0.7, draw_plot = False )\n",
    "        \n",
    "        \n",
    " \n",
    "           # 데이터 쪼개기 : train & test data\n",
    "        train = pd.concat([sub_data.loc[i : i + train_size], y.loc[i : i + train_size]], axis=1)\n",
    "        test = pd.concat([sub_data.loc[i+train_size : i+train_size + test_size], y.loc[i+train_size : i+train_size + test_size]], axis=1)\n",
    "        \n",
    "        # train : like logistic regression(with softmax)\n",
    "        \n",
    "        softmax_reg = LogisticRegression(multi_class=\"auto\", random_state = None)\n",
    "        softmax_reg.fit(train.iloc[:,:-1], train.iloc[:, -1])\n",
    "        \n",
    "        \n",
    "        # test : \n",
    "        res = softmax_reg.predict(test.iloc[:,:-1])\n",
    "        \n",
    "        test_results = pd.concat([test_results, \n",
    "                                  pd.DataFrame({'act_'+str(date_list[j]):test.iloc[:, -1],\n",
    "                                                'pred_'+str(date_list[j]):res})])\n",
    "        \n",
    "        i = i + window_size\n",
    "        \n",
    "    result_dict[y_label] = test_results # {'y_1m' : [], 'y_3m' : []} []은 y & yhat"
   ]
  },
  {
   "cell_type": "markdown",
   "metadata": {},
   "source": [
    "# Decision Tree"
   ]
  },
  {
   "cell_type": "code",
   "execution_count": 100,
   "metadata": {},
   "outputs": [
    {
     "name": "stdout",
     "output_type": "stream",
     "text": [
      "y_1m 2020-05-13 15:20:00\n",
      "2020-06-30 14:08:00\n",
      "PCA threshold 넘기기 위해 필요한 최소 Factor:  6\n"
     ]
    },
    {
     "data": {
      "text/plain": [
       "DecisionTreeClassifier(class_weight=None, criterion='gini', max_depth=None,\n",
       "                       max_features=None, max_leaf_nodes=None,\n",
       "                       min_impurity_decrease=0.0, min_impurity_split=None,\n",
       "                       min_samples_leaf=1, min_samples_split=500,\n",
       "                       min_weight_fraction_leaf=0.0, presort=False,\n",
       "                       random_state=123, splitter='best')"
      ]
     },
     "execution_count": 100,
     "metadata": {},
     "output_type": "execute_result"
    },
    {
     "name": "stdout",
     "output_type": "stream",
     "text": [
      "y_1m 2020-05-14 15:20:00\n",
      "2020-06-30 14:08:00\n",
      "PCA threshold 넘기기 위해 필요한 최소 Factor:  6\n"
     ]
    },
    {
     "data": {
      "text/plain": [
       "DecisionTreeClassifier(class_weight=None, criterion='gini', max_depth=None,\n",
       "                       max_features=None, max_leaf_nodes=None,\n",
       "                       min_impurity_decrease=0.0, min_impurity_split=None,\n",
       "                       min_samples_leaf=1, min_samples_split=500,\n",
       "                       min_weight_fraction_leaf=0.0, presort=False,\n",
       "                       random_state=123, splitter='best')"
      ]
     },
     "execution_count": 100,
     "metadata": {},
     "output_type": "execute_result"
    },
    {
     "name": "stdout",
     "output_type": "stream",
     "text": [
      "y_1m 2020-05-15 15:20:00\n",
      "2020-06-30 14:08:00\n",
      "PCA threshold 넘기기 위해 필요한 최소 Factor:  6\n"
     ]
    },
    {
     "data": {
      "text/plain": [
       "DecisionTreeClassifier(class_weight=None, criterion='gini', max_depth=None,\n",
       "                       max_features=None, max_leaf_nodes=None,\n",
       "                       min_impurity_decrease=0.0, min_impurity_split=None,\n",
       "                       min_samples_leaf=1, min_samples_split=500,\n",
       "                       min_weight_fraction_leaf=0.0, presort=False,\n",
       "                       random_state=123, splitter='best')"
      ]
     },
     "execution_count": 100,
     "metadata": {},
     "output_type": "execute_result"
    },
    {
     "name": "stdout",
     "output_type": "stream",
     "text": [
      "y_1m 2020-05-18 15:20:00\n",
      "2020-06-30 14:08:00\n",
      "PCA threshold 넘기기 위해 필요한 최소 Factor:  6\n"
     ]
    },
    {
     "data": {
      "text/plain": [
       "DecisionTreeClassifier(class_weight=None, criterion='gini', max_depth=None,\n",
       "                       max_features=None, max_leaf_nodes=None,\n",
       "                       min_impurity_decrease=0.0, min_impurity_split=None,\n",
       "                       min_samples_leaf=1, min_samples_split=500,\n",
       "                       min_weight_fraction_leaf=0.0, presort=False,\n",
       "                       random_state=123, splitter='best')"
      ]
     },
     "execution_count": 100,
     "metadata": {},
     "output_type": "execute_result"
    },
    {
     "name": "stdout",
     "output_type": "stream",
     "text": [
      "y_1m 2020-05-19 15:20:00\n",
      "2020-06-30 14:08:00\n",
      "PCA threshold 넘기기 위해 필요한 최소 Factor:  6\n"
     ]
    },
    {
     "data": {
      "text/plain": [
       "DecisionTreeClassifier(class_weight=None, criterion='gini', max_depth=None,\n",
       "                       max_features=None, max_leaf_nodes=None,\n",
       "                       min_impurity_decrease=0.0, min_impurity_split=None,\n",
       "                       min_samples_leaf=1, min_samples_split=500,\n",
       "                       min_weight_fraction_leaf=0.0, presort=False,\n",
       "                       random_state=123, splitter='best')"
      ]
     },
     "execution_count": 100,
     "metadata": {},
     "output_type": "execute_result"
    },
    {
     "name": "stdout",
     "output_type": "stream",
     "text": [
      "y_1m 2020-05-20 15:20:00\n",
      "2020-06-30 14:08:00\n",
      "PCA threshold 넘기기 위해 필요한 최소 Factor:  6\n"
     ]
    },
    {
     "data": {
      "text/plain": [
       "DecisionTreeClassifier(class_weight=None, criterion='gini', max_depth=None,\n",
       "                       max_features=None, max_leaf_nodes=None,\n",
       "                       min_impurity_decrease=0.0, min_impurity_split=None,\n",
       "                       min_samples_leaf=1, min_samples_split=500,\n",
       "                       min_weight_fraction_leaf=0.0, presort=False,\n",
       "                       random_state=123, splitter='best')"
      ]
     },
     "execution_count": 100,
     "metadata": {},
     "output_type": "execute_result"
    },
    {
     "name": "stdout",
     "output_type": "stream",
     "text": [
      "y_1m 2020-05-21 15:20:00\n",
      "2020-06-30 14:08:00\n",
      "PCA threshold 넘기기 위해 필요한 최소 Factor:  6\n"
     ]
    },
    {
     "data": {
      "text/plain": [
       "DecisionTreeClassifier(class_weight=None, criterion='gini', max_depth=None,\n",
       "                       max_features=None, max_leaf_nodes=None,\n",
       "                       min_impurity_decrease=0.0, min_impurity_split=None,\n",
       "                       min_samples_leaf=1, min_samples_split=500,\n",
       "                       min_weight_fraction_leaf=0.0, presort=False,\n",
       "                       random_state=123, splitter='best')"
      ]
     },
     "execution_count": 100,
     "metadata": {},
     "output_type": "execute_result"
    },
    {
     "name": "stdout",
     "output_type": "stream",
     "text": [
      "y_1m 2020-05-22 15:20:00\n",
      "2020-06-30 14:08:00\n",
      "PCA threshold 넘기기 위해 필요한 최소 Factor:  6\n"
     ]
    },
    {
     "data": {
      "text/plain": [
       "DecisionTreeClassifier(class_weight=None, criterion='gini', max_depth=None,\n",
       "                       max_features=None, max_leaf_nodes=None,\n",
       "                       min_impurity_decrease=0.0, min_impurity_split=None,\n",
       "                       min_samples_leaf=1, min_samples_split=500,\n",
       "                       min_weight_fraction_leaf=0.0, presort=False,\n",
       "                       random_state=123, splitter='best')"
      ]
     },
     "execution_count": 100,
     "metadata": {},
     "output_type": "execute_result"
    },
    {
     "name": "stdout",
     "output_type": "stream",
     "text": [
      "y_1m 2020-05-25 15:20:00\n",
      "2020-06-30 14:08:00\n",
      "PCA threshold 넘기기 위해 필요한 최소 Factor:  6\n"
     ]
    },
    {
     "data": {
      "text/plain": [
       "DecisionTreeClassifier(class_weight=None, criterion='gini', max_depth=None,\n",
       "                       max_features=None, max_leaf_nodes=None,\n",
       "                       min_impurity_decrease=0.0, min_impurity_split=None,\n",
       "                       min_samples_leaf=1, min_samples_split=500,\n",
       "                       min_weight_fraction_leaf=0.0, presort=False,\n",
       "                       random_state=123, splitter='best')"
      ]
     },
     "execution_count": 100,
     "metadata": {},
     "output_type": "execute_result"
    },
    {
     "name": "stdout",
     "output_type": "stream",
     "text": [
      "y_1m 2020-05-26 15:20:00\n",
      "2020-06-30 14:08:00\n",
      "PCA threshold 넘기기 위해 필요한 최소 Factor:  6\n"
     ]
    },
    {
     "data": {
      "text/plain": [
       "DecisionTreeClassifier(class_weight=None, criterion='gini', max_depth=None,\n",
       "                       max_features=None, max_leaf_nodes=None,\n",
       "                       min_impurity_decrease=0.0, min_impurity_split=None,\n",
       "                       min_samples_leaf=1, min_samples_split=500,\n",
       "                       min_weight_fraction_leaf=0.0, presort=False,\n",
       "                       random_state=123, splitter='best')"
      ]
     },
     "execution_count": 100,
     "metadata": {},
     "output_type": "execute_result"
    },
    {
     "name": "stdout",
     "output_type": "stream",
     "text": [
      "y_1m 2020-05-27 15:20:00\n",
      "2020-06-30 14:08:00\n",
      "PCA threshold 넘기기 위해 필요한 최소 Factor:  6\n"
     ]
    },
    {
     "data": {
      "text/plain": [
       "DecisionTreeClassifier(class_weight=None, criterion='gini', max_depth=None,\n",
       "                       max_features=None, max_leaf_nodes=None,\n",
       "                       min_impurity_decrease=0.0, min_impurity_split=None,\n",
       "                       min_samples_leaf=1, min_samples_split=500,\n",
       "                       min_weight_fraction_leaf=0.0, presort=False,\n",
       "                       random_state=123, splitter='best')"
      ]
     },
     "execution_count": 100,
     "metadata": {},
     "output_type": "execute_result"
    },
    {
     "name": "stdout",
     "output_type": "stream",
     "text": [
      "y_1m 2020-05-28 15:20:00\n",
      "2020-06-30 14:08:00\n",
      "PCA threshold 넘기기 위해 필요한 최소 Factor:  6\n"
     ]
    },
    {
     "data": {
      "text/plain": [
       "DecisionTreeClassifier(class_weight=None, criterion='gini', max_depth=None,\n",
       "                       max_features=None, max_leaf_nodes=None,\n",
       "                       min_impurity_decrease=0.0, min_impurity_split=None,\n",
       "                       min_samples_leaf=1, min_samples_split=500,\n",
       "                       min_weight_fraction_leaf=0.0, presort=False,\n",
       "                       random_state=123, splitter='best')"
      ]
     },
     "execution_count": 100,
     "metadata": {},
     "output_type": "execute_result"
    },
    {
     "name": "stdout",
     "output_type": "stream",
     "text": [
      "y_1m 2020-05-29 15:20:00\n",
      "2020-06-30 14:08:00\n",
      "PCA threshold 넘기기 위해 필요한 최소 Factor:  6\n"
     ]
    },
    {
     "data": {
      "text/plain": [
       "DecisionTreeClassifier(class_weight=None, criterion='gini', max_depth=None,\n",
       "                       max_features=None, max_leaf_nodes=None,\n",
       "                       min_impurity_decrease=0.0, min_impurity_split=None,\n",
       "                       min_samples_leaf=1, min_samples_split=500,\n",
       "                       min_weight_fraction_leaf=0.0, presort=False,\n",
       "                       random_state=123, splitter='best')"
      ]
     },
     "execution_count": 100,
     "metadata": {},
     "output_type": "execute_result"
    },
    {
     "name": "stdout",
     "output_type": "stream",
     "text": [
      "y_1m 2020-06-01 15:20:00\n",
      "2020-06-30 14:08:00\n",
      "PCA threshold 넘기기 위해 필요한 최소 Factor:  6\n"
     ]
    },
    {
     "data": {
      "text/plain": [
       "DecisionTreeClassifier(class_weight=None, criterion='gini', max_depth=None,\n",
       "                       max_features=None, max_leaf_nodes=None,\n",
       "                       min_impurity_decrease=0.0, min_impurity_split=None,\n",
       "                       min_samples_leaf=1, min_samples_split=500,\n",
       "                       min_weight_fraction_leaf=0.0, presort=False,\n",
       "                       random_state=123, splitter='best')"
      ]
     },
     "execution_count": 100,
     "metadata": {},
     "output_type": "execute_result"
    },
    {
     "name": "stdout",
     "output_type": "stream",
     "text": [
      "y_1m 2020-06-02 15:20:00\n",
      "2020-06-30 14:08:00\n",
      "PCA threshold 넘기기 위해 필요한 최소 Factor:  6\n"
     ]
    },
    {
     "data": {
      "text/plain": [
       "DecisionTreeClassifier(class_weight=None, criterion='gini', max_depth=None,\n",
       "                       max_features=None, max_leaf_nodes=None,\n",
       "                       min_impurity_decrease=0.0, min_impurity_split=None,\n",
       "                       min_samples_leaf=1, min_samples_split=500,\n",
       "                       min_weight_fraction_leaf=0.0, presort=False,\n",
       "                       random_state=123, splitter='best')"
      ]
     },
     "execution_count": 100,
     "metadata": {},
     "output_type": "execute_result"
    },
    {
     "name": "stdout",
     "output_type": "stream",
     "text": [
      "y_1m 2020-06-03 15:20:00\n",
      "2020-06-30 14:08:00\n",
      "PCA threshold 넘기기 위해 필요한 최소 Factor:  6\n"
     ]
    },
    {
     "data": {
      "text/plain": [
       "DecisionTreeClassifier(class_weight=None, criterion='gini', max_depth=None,\n",
       "                       max_features=None, max_leaf_nodes=None,\n",
       "                       min_impurity_decrease=0.0, min_impurity_split=None,\n",
       "                       min_samples_leaf=1, min_samples_split=500,\n",
       "                       min_weight_fraction_leaf=0.0, presort=False,\n",
       "                       random_state=123, splitter='best')"
      ]
     },
     "execution_count": 100,
     "metadata": {},
     "output_type": "execute_result"
    },
    {
     "name": "stdout",
     "output_type": "stream",
     "text": [
      "y_1m 2020-06-04 15:20:00\n",
      "2020-06-30 14:08:00\n",
      "PCA threshold 넘기기 위해 필요한 최소 Factor:  6\n"
     ]
    },
    {
     "data": {
      "text/plain": [
       "DecisionTreeClassifier(class_weight=None, criterion='gini', max_depth=None,\n",
       "                       max_features=None, max_leaf_nodes=None,\n",
       "                       min_impurity_decrease=0.0, min_impurity_split=None,\n",
       "                       min_samples_leaf=1, min_samples_split=500,\n",
       "                       min_weight_fraction_leaf=0.0, presort=False,\n",
       "                       random_state=123, splitter='best')"
      ]
     },
     "execution_count": 100,
     "metadata": {},
     "output_type": "execute_result"
    },
    {
     "name": "stdout",
     "output_type": "stream",
     "text": [
      "y_1m 2020-06-05 15:20:00\n",
      "2020-06-30 14:08:00\n",
      "PCA threshold 넘기기 위해 필요한 최소 Factor:  6\n"
     ]
    },
    {
     "data": {
      "text/plain": [
       "DecisionTreeClassifier(class_weight=None, criterion='gini', max_depth=None,\n",
       "                       max_features=None, max_leaf_nodes=None,\n",
       "                       min_impurity_decrease=0.0, min_impurity_split=None,\n",
       "                       min_samples_leaf=1, min_samples_split=500,\n",
       "                       min_weight_fraction_leaf=0.0, presort=False,\n",
       "                       random_state=123, splitter='best')"
      ]
     },
     "execution_count": 100,
     "metadata": {},
     "output_type": "execute_result"
    },
    {
     "name": "stdout",
     "output_type": "stream",
     "text": [
      "y_1m 2020-06-08 15:20:00\n",
      "2020-06-30 14:08:00\n",
      "PCA threshold 넘기기 위해 필요한 최소 Factor:  6\n"
     ]
    },
    {
     "data": {
      "text/plain": [
       "DecisionTreeClassifier(class_weight=None, criterion='gini', max_depth=None,\n",
       "                       max_features=None, max_leaf_nodes=None,\n",
       "                       min_impurity_decrease=0.0, min_impurity_split=None,\n",
       "                       min_samples_leaf=1, min_samples_split=500,\n",
       "                       min_weight_fraction_leaf=0.0, presort=False,\n",
       "                       random_state=123, splitter='best')"
      ]
     },
     "execution_count": 100,
     "metadata": {},
     "output_type": "execute_result"
    },
    {
     "name": "stdout",
     "output_type": "stream",
     "text": [
      "y_1m 2020-06-09 15:20:00\n",
      "2020-06-30 14:08:00\n",
      "PCA threshold 넘기기 위해 필요한 최소 Factor:  6\n"
     ]
    },
    {
     "data": {
      "text/plain": [
       "DecisionTreeClassifier(class_weight=None, criterion='gini', max_depth=None,\n",
       "                       max_features=None, max_leaf_nodes=None,\n",
       "                       min_impurity_decrease=0.0, min_impurity_split=None,\n",
       "                       min_samples_leaf=1, min_samples_split=500,\n",
       "                       min_weight_fraction_leaf=0.0, presort=False,\n",
       "                       random_state=123, splitter='best')"
      ]
     },
     "execution_count": 100,
     "metadata": {},
     "output_type": "execute_result"
    },
    {
     "name": "stdout",
     "output_type": "stream",
     "text": [
      "y_1m 2020-06-10 15:20:00\n",
      "2020-06-30 14:08:00\n",
      "PCA threshold 넘기기 위해 필요한 최소 Factor:  6\n"
     ]
    },
    {
     "data": {
      "text/plain": [
       "DecisionTreeClassifier(class_weight=None, criterion='gini', max_depth=None,\n",
       "                       max_features=None, max_leaf_nodes=None,\n",
       "                       min_impurity_decrease=0.0, min_impurity_split=None,\n",
       "                       min_samples_leaf=1, min_samples_split=500,\n",
       "                       min_weight_fraction_leaf=0.0, presort=False,\n",
       "                       random_state=123, splitter='best')"
      ]
     },
     "execution_count": 100,
     "metadata": {},
     "output_type": "execute_result"
    },
    {
     "name": "stdout",
     "output_type": "stream",
     "text": [
      "y_1m 2020-06-12 09:00:00\n",
      "2020-06-30 14:08:00\n",
      "PCA threshold 넘기기 위해 필요한 최소 Factor:  6\n"
     ]
    },
    {
     "data": {
      "text/plain": [
       "DecisionTreeClassifier(class_weight=None, criterion='gini', max_depth=None,\n",
       "                       max_features=None, max_leaf_nodes=None,\n",
       "                       min_impurity_decrease=0.0, min_impurity_split=None,\n",
       "                       min_samples_leaf=1, min_samples_split=500,\n",
       "                       min_weight_fraction_leaf=0.0, presort=False,\n",
       "                       random_state=123, splitter='best')"
      ]
     },
     "execution_count": 100,
     "metadata": {},
     "output_type": "execute_result"
    },
    {
     "name": "stdout",
     "output_type": "stream",
     "text": [
      "y_1m 2020-06-15 09:00:00\n",
      "2020-06-30 14:08:00\n",
      "PCA threshold 넘기기 위해 필요한 최소 Factor:  6\n"
     ]
    },
    {
     "data": {
      "text/plain": [
       "DecisionTreeClassifier(class_weight=None, criterion='gini', max_depth=None,\n",
       "                       max_features=None, max_leaf_nodes=None,\n",
       "                       min_impurity_decrease=0.0, min_impurity_split=None,\n",
       "                       min_samples_leaf=1, min_samples_split=500,\n",
       "                       min_weight_fraction_leaf=0.0, presort=False,\n",
       "                       random_state=123, splitter='best')"
      ]
     },
     "execution_count": 100,
     "metadata": {},
     "output_type": "execute_result"
    },
    {
     "name": "stdout",
     "output_type": "stream",
     "text": [
      "y_1m 2020-06-16 09:00:00\n",
      "2020-06-30 14:08:00\n",
      "PCA threshold 넘기기 위해 필요한 최소 Factor:  6\n"
     ]
    },
    {
     "data": {
      "text/plain": [
       "DecisionTreeClassifier(class_weight=None, criterion='gini', max_depth=None,\n",
       "                       max_features=None, max_leaf_nodes=None,\n",
       "                       min_impurity_decrease=0.0, min_impurity_split=None,\n",
       "                       min_samples_leaf=1, min_samples_split=500,\n",
       "                       min_weight_fraction_leaf=0.0, presort=False,\n",
       "                       random_state=123, splitter='best')"
      ]
     },
     "execution_count": 100,
     "metadata": {},
     "output_type": "execute_result"
    },
    {
     "name": "stdout",
     "output_type": "stream",
     "text": [
      "y_1m 2020-06-17 09:00:00\n",
      "2020-06-30 14:08:00\n",
      "PCA threshold 넘기기 위해 필요한 최소 Factor:  6\n"
     ]
    },
    {
     "data": {
      "text/plain": [
       "DecisionTreeClassifier(class_weight=None, criterion='gini', max_depth=None,\n",
       "                       max_features=None, max_leaf_nodes=None,\n",
       "                       min_impurity_decrease=0.0, min_impurity_split=None,\n",
       "                       min_samples_leaf=1, min_samples_split=500,\n",
       "                       min_weight_fraction_leaf=0.0, presort=False,\n",
       "                       random_state=123, splitter='best')"
      ]
     },
     "execution_count": 100,
     "metadata": {},
     "output_type": "execute_result"
    },
    {
     "name": "stdout",
     "output_type": "stream",
     "text": [
      "y_1m 2020-06-18 09:00:00\n",
      "2020-06-30 14:08:00\n",
      "PCA threshold 넘기기 위해 필요한 최소 Factor:  6\n"
     ]
    },
    {
     "data": {
      "text/plain": [
       "DecisionTreeClassifier(class_weight=None, criterion='gini', max_depth=None,\n",
       "                       max_features=None, max_leaf_nodes=None,\n",
       "                       min_impurity_decrease=0.0, min_impurity_split=None,\n",
       "                       min_samples_leaf=1, min_samples_split=500,\n",
       "                       min_weight_fraction_leaf=0.0, presort=False,\n",
       "                       random_state=123, splitter='best')"
      ]
     },
     "execution_count": 100,
     "metadata": {},
     "output_type": "execute_result"
    },
    {
     "name": "stdout",
     "output_type": "stream",
     "text": [
      "y_1m 2020-06-19 09:00:00\n",
      "2020-06-30 14:08:00\n",
      "PCA threshold 넘기기 위해 필요한 최소 Factor:  6\n"
     ]
    },
    {
     "data": {
      "text/plain": [
       "DecisionTreeClassifier(class_weight=None, criterion='gini', max_depth=None,\n",
       "                       max_features=None, max_leaf_nodes=None,\n",
       "                       min_impurity_decrease=0.0, min_impurity_split=None,\n",
       "                       min_samples_leaf=1, min_samples_split=500,\n",
       "                       min_weight_fraction_leaf=0.0, presort=False,\n",
       "                       random_state=123, splitter='best')"
      ]
     },
     "execution_count": 100,
     "metadata": {},
     "output_type": "execute_result"
    },
    {
     "name": "stdout",
     "output_type": "stream",
     "text": [
      "y_1m 2020-06-22 09:00:00\n",
      "2020-06-30 14:08:00\n",
      "PCA threshold 넘기기 위해 필요한 최소 Factor:  6\n"
     ]
    },
    {
     "data": {
      "text/plain": [
       "DecisionTreeClassifier(class_weight=None, criterion='gini', max_depth=None,\n",
       "                       max_features=None, max_leaf_nodes=None,\n",
       "                       min_impurity_decrease=0.0, min_impurity_split=None,\n",
       "                       min_samples_leaf=1, min_samples_split=500,\n",
       "                       min_weight_fraction_leaf=0.0, presort=False,\n",
       "                       random_state=123, splitter='best')"
      ]
     },
     "execution_count": 100,
     "metadata": {},
     "output_type": "execute_result"
    },
    {
     "name": "stdout",
     "output_type": "stream",
     "text": [
      "y_1m 2020-06-23 09:00:00\n",
      "2020-06-30 14:08:00\n",
      "PCA threshold 넘기기 위해 필요한 최소 Factor:  6\n"
     ]
    },
    {
     "data": {
      "text/plain": [
       "DecisionTreeClassifier(class_weight=None, criterion='gini', max_depth=None,\n",
       "                       max_features=None, max_leaf_nodes=None,\n",
       "                       min_impurity_decrease=0.0, min_impurity_split=None,\n",
       "                       min_samples_leaf=1, min_samples_split=500,\n",
       "                       min_weight_fraction_leaf=0.0, presort=False,\n",
       "                       random_state=123, splitter='best')"
      ]
     },
     "execution_count": 100,
     "metadata": {},
     "output_type": "execute_result"
    },
    {
     "name": "stdout",
     "output_type": "stream",
     "text": [
      "y_1m 2020-06-24 09:00:00\n",
      "2020-06-30 14:08:00\n",
      "PCA threshold 넘기기 위해 필요한 최소 Factor:  6\n"
     ]
    },
    {
     "data": {
      "text/plain": [
       "DecisionTreeClassifier(class_weight=None, criterion='gini', max_depth=None,\n",
       "                       max_features=None, max_leaf_nodes=None,\n",
       "                       min_impurity_decrease=0.0, min_impurity_split=None,\n",
       "                       min_samples_leaf=1, min_samples_split=500,\n",
       "                       min_weight_fraction_leaf=0.0, presort=False,\n",
       "                       random_state=123, splitter='best')"
      ]
     },
     "execution_count": 100,
     "metadata": {},
     "output_type": "execute_result"
    },
    {
     "name": "stdout",
     "output_type": "stream",
     "text": [
      "y_1m 2020-06-25 09:00:00\n",
      "2020-06-30 14:08:00\n",
      "PCA threshold 넘기기 위해 필요한 최소 Factor:  6\n"
     ]
    },
    {
     "data": {
      "text/plain": [
       "DecisionTreeClassifier(class_weight=None, criterion='gini', max_depth=None,\n",
       "                       max_features=None, max_leaf_nodes=None,\n",
       "                       min_impurity_decrease=0.0, min_impurity_split=None,\n",
       "                       min_samples_leaf=1, min_samples_split=500,\n",
       "                       min_weight_fraction_leaf=0.0, presort=False,\n",
       "                       random_state=123, splitter='best')"
      ]
     },
     "execution_count": 100,
     "metadata": {},
     "output_type": "execute_result"
    },
    {
     "name": "stdout",
     "output_type": "stream",
     "text": [
      "y_1m 2020-06-26 09:00:00\n",
      "2020-06-30 14:08:00\n",
      "PCA threshold 넘기기 위해 필요한 최소 Factor:  6\n"
     ]
    },
    {
     "data": {
      "text/plain": [
       "DecisionTreeClassifier(class_weight=None, criterion='gini', max_depth=None,\n",
       "                       max_features=None, max_leaf_nodes=None,\n",
       "                       min_impurity_decrease=0.0, min_impurity_split=None,\n",
       "                       min_samples_leaf=1, min_samples_split=500,\n",
       "                       min_weight_fraction_leaf=0.0, presort=False,\n",
       "                       random_state=123, splitter='best')"
      ]
     },
     "execution_count": 100,
     "metadata": {},
     "output_type": "execute_result"
    },
    {
     "name": "stdout",
     "output_type": "stream",
     "text": [
      "y_1m 2020-06-29 09:00:00\n",
      "2020-06-30 14:08:00\n",
      "PCA threshold 넘기기 위해 필요한 최소 Factor:  6\n"
     ]
    },
    {
     "data": {
      "text/plain": [
       "DecisionTreeClassifier(class_weight=None, criterion='gini', max_depth=None,\n",
       "                       max_features=None, max_leaf_nodes=None,\n",
       "                       min_impurity_decrease=0.0, min_impurity_split=None,\n",
       "                       min_samples_leaf=1, min_samples_split=500,\n",
       "                       min_weight_fraction_leaf=0.0, presort=False,\n",
       "                       random_state=123, splitter='best')"
      ]
     },
     "execution_count": 100,
     "metadata": {},
     "output_type": "execute_result"
    },
    {
     "name": "stdout",
     "output_type": "stream",
     "text": [
      "y_1m 2020-06-30 09:00:00\n",
      "2020-06-30 14:08:00\n",
      "PCA threshold 넘기기 위해 필요한 최소 Factor:  6\n"
     ]
    },
    {
     "data": {
      "text/plain": [
       "DecisionTreeClassifier(class_weight=None, criterion='gini', max_depth=None,\n",
       "                       max_features=None, max_leaf_nodes=None,\n",
       "                       min_impurity_decrease=0.0, min_impurity_split=None,\n",
       "                       min_samples_leaf=1, min_samples_split=500,\n",
       "                       min_weight_fraction_leaf=0.0, presort=False,\n",
       "                       random_state=123, splitter='best')"
      ]
     },
     "execution_count": 100,
     "metadata": {},
     "output_type": "execute_result"
    },
    {
     "name": "stdout",
     "output_type": "stream",
     "text": [
      "y_3m 2020-05-13 15:20:00\n",
      "2020-06-30 14:08:00\n",
      "PCA threshold 넘기기 위해 필요한 최소 Factor:  6\n"
     ]
    },
    {
     "data": {
      "text/plain": [
       "DecisionTreeClassifier(class_weight=None, criterion='gini', max_depth=None,\n",
       "                       max_features=None, max_leaf_nodes=None,\n",
       "                       min_impurity_decrease=0.0, min_impurity_split=None,\n",
       "                       min_samples_leaf=1, min_samples_split=500,\n",
       "                       min_weight_fraction_leaf=0.0, presort=False,\n",
       "                       random_state=123, splitter='best')"
      ]
     },
     "execution_count": 100,
     "metadata": {},
     "output_type": "execute_result"
    },
    {
     "name": "stdout",
     "output_type": "stream",
     "text": [
      "y_3m 2020-05-14 15:20:00\n",
      "2020-06-30 14:08:00\n",
      "PCA threshold 넘기기 위해 필요한 최소 Factor:  6\n"
     ]
    },
    {
     "data": {
      "text/plain": [
       "DecisionTreeClassifier(class_weight=None, criterion='gini', max_depth=None,\n",
       "                       max_features=None, max_leaf_nodes=None,\n",
       "                       min_impurity_decrease=0.0, min_impurity_split=None,\n",
       "                       min_samples_leaf=1, min_samples_split=500,\n",
       "                       min_weight_fraction_leaf=0.0, presort=False,\n",
       "                       random_state=123, splitter='best')"
      ]
     },
     "execution_count": 100,
     "metadata": {},
     "output_type": "execute_result"
    },
    {
     "name": "stdout",
     "output_type": "stream",
     "text": [
      "y_3m 2020-05-15 15:20:00\n",
      "2020-06-30 14:08:00\n",
      "PCA threshold 넘기기 위해 필요한 최소 Factor:  6\n"
     ]
    },
    {
     "data": {
      "text/plain": [
       "DecisionTreeClassifier(class_weight=None, criterion='gini', max_depth=None,\n",
       "                       max_features=None, max_leaf_nodes=None,\n",
       "                       min_impurity_decrease=0.0, min_impurity_split=None,\n",
       "                       min_samples_leaf=1, min_samples_split=500,\n",
       "                       min_weight_fraction_leaf=0.0, presort=False,\n",
       "                       random_state=123, splitter='best')"
      ]
     },
     "execution_count": 100,
     "metadata": {},
     "output_type": "execute_result"
    },
    {
     "name": "stdout",
     "output_type": "stream",
     "text": [
      "y_3m 2020-05-18 15:20:00\n",
      "2020-06-30 14:08:00\n",
      "PCA threshold 넘기기 위해 필요한 최소 Factor:  6\n"
     ]
    },
    {
     "data": {
      "text/plain": [
       "DecisionTreeClassifier(class_weight=None, criterion='gini', max_depth=None,\n",
       "                       max_features=None, max_leaf_nodes=None,\n",
       "                       min_impurity_decrease=0.0, min_impurity_split=None,\n",
       "                       min_samples_leaf=1, min_samples_split=500,\n",
       "                       min_weight_fraction_leaf=0.0, presort=False,\n",
       "                       random_state=123, splitter='best')"
      ]
     },
     "execution_count": 100,
     "metadata": {},
     "output_type": "execute_result"
    },
    {
     "name": "stdout",
     "output_type": "stream",
     "text": [
      "y_3m 2020-05-19 15:20:00\n",
      "2020-06-30 14:08:00\n",
      "PCA threshold 넘기기 위해 필요한 최소 Factor:  6\n"
     ]
    },
    {
     "data": {
      "text/plain": [
       "DecisionTreeClassifier(class_weight=None, criterion='gini', max_depth=None,\n",
       "                       max_features=None, max_leaf_nodes=None,\n",
       "                       min_impurity_decrease=0.0, min_impurity_split=None,\n",
       "                       min_samples_leaf=1, min_samples_split=500,\n",
       "                       min_weight_fraction_leaf=0.0, presort=False,\n",
       "                       random_state=123, splitter='best')"
      ]
     },
     "execution_count": 100,
     "metadata": {},
     "output_type": "execute_result"
    },
    {
     "name": "stdout",
     "output_type": "stream",
     "text": [
      "y_3m 2020-05-20 15:20:00\n",
      "2020-06-30 14:08:00\n",
      "PCA threshold 넘기기 위해 필요한 최소 Factor:  6\n"
     ]
    },
    {
     "data": {
      "text/plain": [
       "DecisionTreeClassifier(class_weight=None, criterion='gini', max_depth=None,\n",
       "                       max_features=None, max_leaf_nodes=None,\n",
       "                       min_impurity_decrease=0.0, min_impurity_split=None,\n",
       "                       min_samples_leaf=1, min_samples_split=500,\n",
       "                       min_weight_fraction_leaf=0.0, presort=False,\n",
       "                       random_state=123, splitter='best')"
      ]
     },
     "execution_count": 100,
     "metadata": {},
     "output_type": "execute_result"
    },
    {
     "name": "stdout",
     "output_type": "stream",
     "text": [
      "y_3m 2020-05-21 15:20:00\n",
      "2020-06-30 14:08:00\n",
      "PCA threshold 넘기기 위해 필요한 최소 Factor:  6\n"
     ]
    },
    {
     "data": {
      "text/plain": [
       "DecisionTreeClassifier(class_weight=None, criterion='gini', max_depth=None,\n",
       "                       max_features=None, max_leaf_nodes=None,\n",
       "                       min_impurity_decrease=0.0, min_impurity_split=None,\n",
       "                       min_samples_leaf=1, min_samples_split=500,\n",
       "                       min_weight_fraction_leaf=0.0, presort=False,\n",
       "                       random_state=123, splitter='best')"
      ]
     },
     "execution_count": 100,
     "metadata": {},
     "output_type": "execute_result"
    },
    {
     "name": "stdout",
     "output_type": "stream",
     "text": [
      "y_3m 2020-05-22 15:20:00\n",
      "2020-06-30 14:08:00\n",
      "PCA threshold 넘기기 위해 필요한 최소 Factor:  6\n"
     ]
    },
    {
     "data": {
      "text/plain": [
       "DecisionTreeClassifier(class_weight=None, criterion='gini', max_depth=None,\n",
       "                       max_features=None, max_leaf_nodes=None,\n",
       "                       min_impurity_decrease=0.0, min_impurity_split=None,\n",
       "                       min_samples_leaf=1, min_samples_split=500,\n",
       "                       min_weight_fraction_leaf=0.0, presort=False,\n",
       "                       random_state=123, splitter='best')"
      ]
     },
     "execution_count": 100,
     "metadata": {},
     "output_type": "execute_result"
    },
    {
     "name": "stdout",
     "output_type": "stream",
     "text": [
      "y_3m 2020-05-25 15:20:00\n",
      "2020-06-30 14:08:00\n",
      "PCA threshold 넘기기 위해 필요한 최소 Factor:  6\n"
     ]
    },
    {
     "data": {
      "text/plain": [
       "DecisionTreeClassifier(class_weight=None, criterion='gini', max_depth=None,\n",
       "                       max_features=None, max_leaf_nodes=None,\n",
       "                       min_impurity_decrease=0.0, min_impurity_split=None,\n",
       "                       min_samples_leaf=1, min_samples_split=500,\n",
       "                       min_weight_fraction_leaf=0.0, presort=False,\n",
       "                       random_state=123, splitter='best')"
      ]
     },
     "execution_count": 100,
     "metadata": {},
     "output_type": "execute_result"
    },
    {
     "name": "stdout",
     "output_type": "stream",
     "text": [
      "y_3m 2020-05-26 15:20:00\n",
      "2020-06-30 14:08:00\n",
      "PCA threshold 넘기기 위해 필요한 최소 Factor:  6\n"
     ]
    },
    {
     "data": {
      "text/plain": [
       "DecisionTreeClassifier(class_weight=None, criterion='gini', max_depth=None,\n",
       "                       max_features=None, max_leaf_nodes=None,\n",
       "                       min_impurity_decrease=0.0, min_impurity_split=None,\n",
       "                       min_samples_leaf=1, min_samples_split=500,\n",
       "                       min_weight_fraction_leaf=0.0, presort=False,\n",
       "                       random_state=123, splitter='best')"
      ]
     },
     "execution_count": 100,
     "metadata": {},
     "output_type": "execute_result"
    },
    {
     "name": "stdout",
     "output_type": "stream",
     "text": [
      "y_3m 2020-05-27 15:20:00\n",
      "2020-06-30 14:08:00\n",
      "PCA threshold 넘기기 위해 필요한 최소 Factor:  6\n"
     ]
    },
    {
     "data": {
      "text/plain": [
       "DecisionTreeClassifier(class_weight=None, criterion='gini', max_depth=None,\n",
       "                       max_features=None, max_leaf_nodes=None,\n",
       "                       min_impurity_decrease=0.0, min_impurity_split=None,\n",
       "                       min_samples_leaf=1, min_samples_split=500,\n",
       "                       min_weight_fraction_leaf=0.0, presort=False,\n",
       "                       random_state=123, splitter='best')"
      ]
     },
     "execution_count": 100,
     "metadata": {},
     "output_type": "execute_result"
    },
    {
     "name": "stdout",
     "output_type": "stream",
     "text": [
      "y_3m 2020-05-28 15:20:00\n",
      "2020-06-30 14:08:00\n",
      "PCA threshold 넘기기 위해 필요한 최소 Factor:  6\n"
     ]
    },
    {
     "data": {
      "text/plain": [
       "DecisionTreeClassifier(class_weight=None, criterion='gini', max_depth=None,\n",
       "                       max_features=None, max_leaf_nodes=None,\n",
       "                       min_impurity_decrease=0.0, min_impurity_split=None,\n",
       "                       min_samples_leaf=1, min_samples_split=500,\n",
       "                       min_weight_fraction_leaf=0.0, presort=False,\n",
       "                       random_state=123, splitter='best')"
      ]
     },
     "execution_count": 100,
     "metadata": {},
     "output_type": "execute_result"
    },
    {
     "name": "stdout",
     "output_type": "stream",
     "text": [
      "y_3m 2020-05-29 15:20:00\n",
      "2020-06-30 14:08:00\n",
      "PCA threshold 넘기기 위해 필요한 최소 Factor:  6\n"
     ]
    },
    {
     "data": {
      "text/plain": [
       "DecisionTreeClassifier(class_weight=None, criterion='gini', max_depth=None,\n",
       "                       max_features=None, max_leaf_nodes=None,\n",
       "                       min_impurity_decrease=0.0, min_impurity_split=None,\n",
       "                       min_samples_leaf=1, min_samples_split=500,\n",
       "                       min_weight_fraction_leaf=0.0, presort=False,\n",
       "                       random_state=123, splitter='best')"
      ]
     },
     "execution_count": 100,
     "metadata": {},
     "output_type": "execute_result"
    },
    {
     "name": "stdout",
     "output_type": "stream",
     "text": [
      "y_3m 2020-06-01 15:20:00\n",
      "2020-06-30 14:08:00\n",
      "PCA threshold 넘기기 위해 필요한 최소 Factor:  6\n"
     ]
    },
    {
     "data": {
      "text/plain": [
       "DecisionTreeClassifier(class_weight=None, criterion='gini', max_depth=None,\n",
       "                       max_features=None, max_leaf_nodes=None,\n",
       "                       min_impurity_decrease=0.0, min_impurity_split=None,\n",
       "                       min_samples_leaf=1, min_samples_split=500,\n",
       "                       min_weight_fraction_leaf=0.0, presort=False,\n",
       "                       random_state=123, splitter='best')"
      ]
     },
     "execution_count": 100,
     "metadata": {},
     "output_type": "execute_result"
    },
    {
     "name": "stdout",
     "output_type": "stream",
     "text": [
      "y_3m 2020-06-02 15:20:00\n",
      "2020-06-30 14:08:00\n",
      "PCA threshold 넘기기 위해 필요한 최소 Factor:  6\n"
     ]
    },
    {
     "data": {
      "text/plain": [
       "DecisionTreeClassifier(class_weight=None, criterion='gini', max_depth=None,\n",
       "                       max_features=None, max_leaf_nodes=None,\n",
       "                       min_impurity_decrease=0.0, min_impurity_split=None,\n",
       "                       min_samples_leaf=1, min_samples_split=500,\n",
       "                       min_weight_fraction_leaf=0.0, presort=False,\n",
       "                       random_state=123, splitter='best')"
      ]
     },
     "execution_count": 100,
     "metadata": {},
     "output_type": "execute_result"
    },
    {
     "name": "stdout",
     "output_type": "stream",
     "text": [
      "y_3m 2020-06-03 15:20:00\n",
      "2020-06-30 14:08:00\n",
      "PCA threshold 넘기기 위해 필요한 최소 Factor:  6\n"
     ]
    },
    {
     "data": {
      "text/plain": [
       "DecisionTreeClassifier(class_weight=None, criterion='gini', max_depth=None,\n",
       "                       max_features=None, max_leaf_nodes=None,\n",
       "                       min_impurity_decrease=0.0, min_impurity_split=None,\n",
       "                       min_samples_leaf=1, min_samples_split=500,\n",
       "                       min_weight_fraction_leaf=0.0, presort=False,\n",
       "                       random_state=123, splitter='best')"
      ]
     },
     "execution_count": 100,
     "metadata": {},
     "output_type": "execute_result"
    },
    {
     "name": "stdout",
     "output_type": "stream",
     "text": [
      "y_3m 2020-06-04 15:20:00\n",
      "2020-06-30 14:08:00\n",
      "PCA threshold 넘기기 위해 필요한 최소 Factor:  6\n"
     ]
    },
    {
     "data": {
      "text/plain": [
       "DecisionTreeClassifier(class_weight=None, criterion='gini', max_depth=None,\n",
       "                       max_features=None, max_leaf_nodes=None,\n",
       "                       min_impurity_decrease=0.0, min_impurity_split=None,\n",
       "                       min_samples_leaf=1, min_samples_split=500,\n",
       "                       min_weight_fraction_leaf=0.0, presort=False,\n",
       "                       random_state=123, splitter='best')"
      ]
     },
     "execution_count": 100,
     "metadata": {},
     "output_type": "execute_result"
    },
    {
     "name": "stdout",
     "output_type": "stream",
     "text": [
      "y_3m 2020-06-05 15:20:00\n",
      "2020-06-30 14:08:00\n",
      "PCA threshold 넘기기 위해 필요한 최소 Factor:  6\n"
     ]
    },
    {
     "data": {
      "text/plain": [
       "DecisionTreeClassifier(class_weight=None, criterion='gini', max_depth=None,\n",
       "                       max_features=None, max_leaf_nodes=None,\n",
       "                       min_impurity_decrease=0.0, min_impurity_split=None,\n",
       "                       min_samples_leaf=1, min_samples_split=500,\n",
       "                       min_weight_fraction_leaf=0.0, presort=False,\n",
       "                       random_state=123, splitter='best')"
      ]
     },
     "execution_count": 100,
     "metadata": {},
     "output_type": "execute_result"
    },
    {
     "name": "stdout",
     "output_type": "stream",
     "text": [
      "y_3m 2020-06-08 15:20:00\n",
      "2020-06-30 14:08:00\n",
      "PCA threshold 넘기기 위해 필요한 최소 Factor:  6\n"
     ]
    },
    {
     "data": {
      "text/plain": [
       "DecisionTreeClassifier(class_weight=None, criterion='gini', max_depth=None,\n",
       "                       max_features=None, max_leaf_nodes=None,\n",
       "                       min_impurity_decrease=0.0, min_impurity_split=None,\n",
       "                       min_samples_leaf=1, min_samples_split=500,\n",
       "                       min_weight_fraction_leaf=0.0, presort=False,\n",
       "                       random_state=123, splitter='best')"
      ]
     },
     "execution_count": 100,
     "metadata": {},
     "output_type": "execute_result"
    },
    {
     "name": "stdout",
     "output_type": "stream",
     "text": [
      "y_3m 2020-06-09 15:20:00\n",
      "2020-06-30 14:08:00\n",
      "PCA threshold 넘기기 위해 필요한 최소 Factor:  6\n"
     ]
    },
    {
     "data": {
      "text/plain": [
       "DecisionTreeClassifier(class_weight=None, criterion='gini', max_depth=None,\n",
       "                       max_features=None, max_leaf_nodes=None,\n",
       "                       min_impurity_decrease=0.0, min_impurity_split=None,\n",
       "                       min_samples_leaf=1, min_samples_split=500,\n",
       "                       min_weight_fraction_leaf=0.0, presort=False,\n",
       "                       random_state=123, splitter='best')"
      ]
     },
     "execution_count": 100,
     "metadata": {},
     "output_type": "execute_result"
    },
    {
     "name": "stdout",
     "output_type": "stream",
     "text": [
      "y_3m 2020-06-10 15:20:00\n",
      "2020-06-30 14:08:00\n",
      "PCA threshold 넘기기 위해 필요한 최소 Factor:  6\n"
     ]
    },
    {
     "data": {
      "text/plain": [
       "DecisionTreeClassifier(class_weight=None, criterion='gini', max_depth=None,\n",
       "                       max_features=None, max_leaf_nodes=None,\n",
       "                       min_impurity_decrease=0.0, min_impurity_split=None,\n",
       "                       min_samples_leaf=1, min_samples_split=500,\n",
       "                       min_weight_fraction_leaf=0.0, presort=False,\n",
       "                       random_state=123, splitter='best')"
      ]
     },
     "execution_count": 100,
     "metadata": {},
     "output_type": "execute_result"
    },
    {
     "name": "stdout",
     "output_type": "stream",
     "text": [
      "y_3m 2020-06-12 09:00:00\n",
      "2020-06-30 14:08:00\n",
      "PCA threshold 넘기기 위해 필요한 최소 Factor:  6\n"
     ]
    },
    {
     "data": {
      "text/plain": [
       "DecisionTreeClassifier(class_weight=None, criterion='gini', max_depth=None,\n",
       "                       max_features=None, max_leaf_nodes=None,\n",
       "                       min_impurity_decrease=0.0, min_impurity_split=None,\n",
       "                       min_samples_leaf=1, min_samples_split=500,\n",
       "                       min_weight_fraction_leaf=0.0, presort=False,\n",
       "                       random_state=123, splitter='best')"
      ]
     },
     "execution_count": 100,
     "metadata": {},
     "output_type": "execute_result"
    },
    {
     "name": "stdout",
     "output_type": "stream",
     "text": [
      "y_3m 2020-06-15 09:00:00\n",
      "2020-06-30 14:08:00\n",
      "PCA threshold 넘기기 위해 필요한 최소 Factor:  6\n"
     ]
    },
    {
     "data": {
      "text/plain": [
       "DecisionTreeClassifier(class_weight=None, criterion='gini', max_depth=None,\n",
       "                       max_features=None, max_leaf_nodes=None,\n",
       "                       min_impurity_decrease=0.0, min_impurity_split=None,\n",
       "                       min_samples_leaf=1, min_samples_split=500,\n",
       "                       min_weight_fraction_leaf=0.0, presort=False,\n",
       "                       random_state=123, splitter='best')"
      ]
     },
     "execution_count": 100,
     "metadata": {},
     "output_type": "execute_result"
    },
    {
     "name": "stdout",
     "output_type": "stream",
     "text": [
      "y_3m 2020-06-16 09:00:00\n",
      "2020-06-30 14:08:00\n",
      "PCA threshold 넘기기 위해 필요한 최소 Factor:  6\n"
     ]
    },
    {
     "data": {
      "text/plain": [
       "DecisionTreeClassifier(class_weight=None, criterion='gini', max_depth=None,\n",
       "                       max_features=None, max_leaf_nodes=None,\n",
       "                       min_impurity_decrease=0.0, min_impurity_split=None,\n",
       "                       min_samples_leaf=1, min_samples_split=500,\n",
       "                       min_weight_fraction_leaf=0.0, presort=False,\n",
       "                       random_state=123, splitter='best')"
      ]
     },
     "execution_count": 100,
     "metadata": {},
     "output_type": "execute_result"
    },
    {
     "name": "stdout",
     "output_type": "stream",
     "text": [
      "y_3m 2020-06-17 09:00:00\n",
      "2020-06-30 14:08:00\n",
      "PCA threshold 넘기기 위해 필요한 최소 Factor:  6\n"
     ]
    },
    {
     "data": {
      "text/plain": [
       "DecisionTreeClassifier(class_weight=None, criterion='gini', max_depth=None,\n",
       "                       max_features=None, max_leaf_nodes=None,\n",
       "                       min_impurity_decrease=0.0, min_impurity_split=None,\n",
       "                       min_samples_leaf=1, min_samples_split=500,\n",
       "                       min_weight_fraction_leaf=0.0, presort=False,\n",
       "                       random_state=123, splitter='best')"
      ]
     },
     "execution_count": 100,
     "metadata": {},
     "output_type": "execute_result"
    },
    {
     "name": "stdout",
     "output_type": "stream",
     "text": [
      "y_3m 2020-06-18 09:00:00\n",
      "2020-06-30 14:08:00\n",
      "PCA threshold 넘기기 위해 필요한 최소 Factor:  6\n"
     ]
    },
    {
     "data": {
      "text/plain": [
       "DecisionTreeClassifier(class_weight=None, criterion='gini', max_depth=None,\n",
       "                       max_features=None, max_leaf_nodes=None,\n",
       "                       min_impurity_decrease=0.0, min_impurity_split=None,\n",
       "                       min_samples_leaf=1, min_samples_split=500,\n",
       "                       min_weight_fraction_leaf=0.0, presort=False,\n",
       "                       random_state=123, splitter='best')"
      ]
     },
     "execution_count": 100,
     "metadata": {},
     "output_type": "execute_result"
    },
    {
     "name": "stdout",
     "output_type": "stream",
     "text": [
      "y_3m 2020-06-19 09:00:00\n",
      "2020-06-30 14:08:00\n",
      "PCA threshold 넘기기 위해 필요한 최소 Factor:  6\n"
     ]
    },
    {
     "data": {
      "text/plain": [
       "DecisionTreeClassifier(class_weight=None, criterion='gini', max_depth=None,\n",
       "                       max_features=None, max_leaf_nodes=None,\n",
       "                       min_impurity_decrease=0.0, min_impurity_split=None,\n",
       "                       min_samples_leaf=1, min_samples_split=500,\n",
       "                       min_weight_fraction_leaf=0.0, presort=False,\n",
       "                       random_state=123, splitter='best')"
      ]
     },
     "execution_count": 100,
     "metadata": {},
     "output_type": "execute_result"
    },
    {
     "name": "stdout",
     "output_type": "stream",
     "text": [
      "y_3m 2020-06-22 09:00:00\n",
      "2020-06-30 14:08:00\n",
      "PCA threshold 넘기기 위해 필요한 최소 Factor:  6\n"
     ]
    },
    {
     "data": {
      "text/plain": [
       "DecisionTreeClassifier(class_weight=None, criterion='gini', max_depth=None,\n",
       "                       max_features=None, max_leaf_nodes=None,\n",
       "                       min_impurity_decrease=0.0, min_impurity_split=None,\n",
       "                       min_samples_leaf=1, min_samples_split=500,\n",
       "                       min_weight_fraction_leaf=0.0, presort=False,\n",
       "                       random_state=123, splitter='best')"
      ]
     },
     "execution_count": 100,
     "metadata": {},
     "output_type": "execute_result"
    },
    {
     "name": "stdout",
     "output_type": "stream",
     "text": [
      "y_3m 2020-06-23 09:00:00\n",
      "2020-06-30 14:08:00\n",
      "PCA threshold 넘기기 위해 필요한 최소 Factor:  6\n"
     ]
    },
    {
     "data": {
      "text/plain": [
       "DecisionTreeClassifier(class_weight=None, criterion='gini', max_depth=None,\n",
       "                       max_features=None, max_leaf_nodes=None,\n",
       "                       min_impurity_decrease=0.0, min_impurity_split=None,\n",
       "                       min_samples_leaf=1, min_samples_split=500,\n",
       "                       min_weight_fraction_leaf=0.0, presort=False,\n",
       "                       random_state=123, splitter='best')"
      ]
     },
     "execution_count": 100,
     "metadata": {},
     "output_type": "execute_result"
    },
    {
     "name": "stdout",
     "output_type": "stream",
     "text": [
      "y_3m 2020-06-24 09:00:00\n",
      "2020-06-30 14:08:00\n",
      "PCA threshold 넘기기 위해 필요한 최소 Factor:  6\n"
     ]
    },
    {
     "data": {
      "text/plain": [
       "DecisionTreeClassifier(class_weight=None, criterion='gini', max_depth=None,\n",
       "                       max_features=None, max_leaf_nodes=None,\n",
       "                       min_impurity_decrease=0.0, min_impurity_split=None,\n",
       "                       min_samples_leaf=1, min_samples_split=500,\n",
       "                       min_weight_fraction_leaf=0.0, presort=False,\n",
       "                       random_state=123, splitter='best')"
      ]
     },
     "execution_count": 100,
     "metadata": {},
     "output_type": "execute_result"
    },
    {
     "name": "stdout",
     "output_type": "stream",
     "text": [
      "y_3m 2020-06-25 09:00:00\n",
      "2020-06-30 14:08:00\n",
      "PCA threshold 넘기기 위해 필요한 최소 Factor:  6\n"
     ]
    },
    {
     "data": {
      "text/plain": [
       "DecisionTreeClassifier(class_weight=None, criterion='gini', max_depth=None,\n",
       "                       max_features=None, max_leaf_nodes=None,\n",
       "                       min_impurity_decrease=0.0, min_impurity_split=None,\n",
       "                       min_samples_leaf=1, min_samples_split=500,\n",
       "                       min_weight_fraction_leaf=0.0, presort=False,\n",
       "                       random_state=123, splitter='best')"
      ]
     },
     "execution_count": 100,
     "metadata": {},
     "output_type": "execute_result"
    },
    {
     "name": "stdout",
     "output_type": "stream",
     "text": [
      "y_3m 2020-06-26 09:00:00\n",
      "2020-06-30 14:08:00\n",
      "PCA threshold 넘기기 위해 필요한 최소 Factor:  6\n"
     ]
    },
    {
     "data": {
      "text/plain": [
       "DecisionTreeClassifier(class_weight=None, criterion='gini', max_depth=None,\n",
       "                       max_features=None, max_leaf_nodes=None,\n",
       "                       min_impurity_decrease=0.0, min_impurity_split=None,\n",
       "                       min_samples_leaf=1, min_samples_split=500,\n",
       "                       min_weight_fraction_leaf=0.0, presort=False,\n",
       "                       random_state=123, splitter='best')"
      ]
     },
     "execution_count": 100,
     "metadata": {},
     "output_type": "execute_result"
    },
    {
     "name": "stdout",
     "output_type": "stream",
     "text": [
      "y_3m 2020-06-29 09:00:00\n",
      "2020-06-30 14:08:00\n",
      "PCA threshold 넘기기 위해 필요한 최소 Factor:  6\n"
     ]
    },
    {
     "data": {
      "text/plain": [
       "DecisionTreeClassifier(class_weight=None, criterion='gini', max_depth=None,\n",
       "                       max_features=None, max_leaf_nodes=None,\n",
       "                       min_impurity_decrease=0.0, min_impurity_split=None,\n",
       "                       min_samples_leaf=1, min_samples_split=500,\n",
       "                       min_weight_fraction_leaf=0.0, presort=False,\n",
       "                       random_state=123, splitter='best')"
      ]
     },
     "execution_count": 100,
     "metadata": {},
     "output_type": "execute_result"
    },
    {
     "name": "stdout",
     "output_type": "stream",
     "text": [
      "y_3m 2020-06-30 09:00:00\n",
      "2020-06-30 14:08:00\n",
      "PCA threshold 넘기기 위해 필요한 최소 Factor:  6\n"
     ]
    },
    {
     "data": {
      "text/plain": [
       "DecisionTreeClassifier(class_weight=None, criterion='gini', max_depth=None,\n",
       "                       max_features=None, max_leaf_nodes=None,\n",
       "                       min_impurity_decrease=0.0, min_impurity_split=None,\n",
       "                       min_samples_leaf=1, min_samples_split=500,\n",
       "                       min_weight_fraction_leaf=0.0, presort=False,\n",
       "                       random_state=123, splitter='best')"
      ]
     },
     "execution_count": 100,
     "metadata": {},
     "output_type": "execute_result"
    },
    {
     "name": "stdout",
     "output_type": "stream",
     "text": [
      "y_5m 2020-05-13 15:20:00\n",
      "2020-06-30 14:08:00\n",
      "PCA threshold 넘기기 위해 필요한 최소 Factor:  6\n"
     ]
    },
    {
     "data": {
      "text/plain": [
       "DecisionTreeClassifier(class_weight=None, criterion='gini', max_depth=None,\n",
       "                       max_features=None, max_leaf_nodes=None,\n",
       "                       min_impurity_decrease=0.0, min_impurity_split=None,\n",
       "                       min_samples_leaf=1, min_samples_split=500,\n",
       "                       min_weight_fraction_leaf=0.0, presort=False,\n",
       "                       random_state=123, splitter='best')"
      ]
     },
     "execution_count": 100,
     "metadata": {},
     "output_type": "execute_result"
    },
    {
     "name": "stdout",
     "output_type": "stream",
     "text": [
      "y_5m 2020-05-14 15:20:00\n",
      "2020-06-30 14:08:00\n",
      "PCA threshold 넘기기 위해 필요한 최소 Factor:  6\n"
     ]
    },
    {
     "data": {
      "text/plain": [
       "DecisionTreeClassifier(class_weight=None, criterion='gini', max_depth=None,\n",
       "                       max_features=None, max_leaf_nodes=None,\n",
       "                       min_impurity_decrease=0.0, min_impurity_split=None,\n",
       "                       min_samples_leaf=1, min_samples_split=500,\n",
       "                       min_weight_fraction_leaf=0.0, presort=False,\n",
       "                       random_state=123, splitter='best')"
      ]
     },
     "execution_count": 100,
     "metadata": {},
     "output_type": "execute_result"
    },
    {
     "name": "stdout",
     "output_type": "stream",
     "text": [
      "y_5m 2020-05-15 15:20:00\n",
      "2020-06-30 14:08:00\n",
      "PCA threshold 넘기기 위해 필요한 최소 Factor:  6\n"
     ]
    },
    {
     "data": {
      "text/plain": [
       "DecisionTreeClassifier(class_weight=None, criterion='gini', max_depth=None,\n",
       "                       max_features=None, max_leaf_nodes=None,\n",
       "                       min_impurity_decrease=0.0, min_impurity_split=None,\n",
       "                       min_samples_leaf=1, min_samples_split=500,\n",
       "                       min_weight_fraction_leaf=0.0, presort=False,\n",
       "                       random_state=123, splitter='best')"
      ]
     },
     "execution_count": 100,
     "metadata": {},
     "output_type": "execute_result"
    },
    {
     "name": "stdout",
     "output_type": "stream",
     "text": [
      "y_5m 2020-05-18 15:20:00\n",
      "2020-06-30 14:08:00\n",
      "PCA threshold 넘기기 위해 필요한 최소 Factor:  6\n"
     ]
    },
    {
     "data": {
      "text/plain": [
       "DecisionTreeClassifier(class_weight=None, criterion='gini', max_depth=None,\n",
       "                       max_features=None, max_leaf_nodes=None,\n",
       "                       min_impurity_decrease=0.0, min_impurity_split=None,\n",
       "                       min_samples_leaf=1, min_samples_split=500,\n",
       "                       min_weight_fraction_leaf=0.0, presort=False,\n",
       "                       random_state=123, splitter='best')"
      ]
     },
     "execution_count": 100,
     "metadata": {},
     "output_type": "execute_result"
    },
    {
     "name": "stdout",
     "output_type": "stream",
     "text": [
      "y_5m 2020-05-19 15:20:00\n",
      "2020-06-30 14:08:00\n",
      "PCA threshold 넘기기 위해 필요한 최소 Factor:  6\n"
     ]
    },
    {
     "data": {
      "text/plain": [
       "DecisionTreeClassifier(class_weight=None, criterion='gini', max_depth=None,\n",
       "                       max_features=None, max_leaf_nodes=None,\n",
       "                       min_impurity_decrease=0.0, min_impurity_split=None,\n",
       "                       min_samples_leaf=1, min_samples_split=500,\n",
       "                       min_weight_fraction_leaf=0.0, presort=False,\n",
       "                       random_state=123, splitter='best')"
      ]
     },
     "execution_count": 100,
     "metadata": {},
     "output_type": "execute_result"
    },
    {
     "name": "stdout",
     "output_type": "stream",
     "text": [
      "y_5m 2020-05-20 15:20:00\n",
      "2020-06-30 14:08:00\n",
      "PCA threshold 넘기기 위해 필요한 최소 Factor:  6\n"
     ]
    },
    {
     "data": {
      "text/plain": [
       "DecisionTreeClassifier(class_weight=None, criterion='gini', max_depth=None,\n",
       "                       max_features=None, max_leaf_nodes=None,\n",
       "                       min_impurity_decrease=0.0, min_impurity_split=None,\n",
       "                       min_samples_leaf=1, min_samples_split=500,\n",
       "                       min_weight_fraction_leaf=0.0, presort=False,\n",
       "                       random_state=123, splitter='best')"
      ]
     },
     "execution_count": 100,
     "metadata": {},
     "output_type": "execute_result"
    },
    {
     "name": "stdout",
     "output_type": "stream",
     "text": [
      "y_5m 2020-05-21 15:20:00\n",
      "2020-06-30 14:08:00\n",
      "PCA threshold 넘기기 위해 필요한 최소 Factor:  6\n"
     ]
    },
    {
     "data": {
      "text/plain": [
       "DecisionTreeClassifier(class_weight=None, criterion='gini', max_depth=None,\n",
       "                       max_features=None, max_leaf_nodes=None,\n",
       "                       min_impurity_decrease=0.0, min_impurity_split=None,\n",
       "                       min_samples_leaf=1, min_samples_split=500,\n",
       "                       min_weight_fraction_leaf=0.0, presort=False,\n",
       "                       random_state=123, splitter='best')"
      ]
     },
     "execution_count": 100,
     "metadata": {},
     "output_type": "execute_result"
    },
    {
     "name": "stdout",
     "output_type": "stream",
     "text": [
      "y_5m 2020-05-22 15:20:00\n",
      "2020-06-30 14:08:00\n",
      "PCA threshold 넘기기 위해 필요한 최소 Factor:  6\n"
     ]
    },
    {
     "data": {
      "text/plain": [
       "DecisionTreeClassifier(class_weight=None, criterion='gini', max_depth=None,\n",
       "                       max_features=None, max_leaf_nodes=None,\n",
       "                       min_impurity_decrease=0.0, min_impurity_split=None,\n",
       "                       min_samples_leaf=1, min_samples_split=500,\n",
       "                       min_weight_fraction_leaf=0.0, presort=False,\n",
       "                       random_state=123, splitter='best')"
      ]
     },
     "execution_count": 100,
     "metadata": {},
     "output_type": "execute_result"
    },
    {
     "name": "stdout",
     "output_type": "stream",
     "text": [
      "y_5m 2020-05-25 15:20:00\n",
      "2020-06-30 14:08:00\n",
      "PCA threshold 넘기기 위해 필요한 최소 Factor:  6\n"
     ]
    },
    {
     "data": {
      "text/plain": [
       "DecisionTreeClassifier(class_weight=None, criterion='gini', max_depth=None,\n",
       "                       max_features=None, max_leaf_nodes=None,\n",
       "                       min_impurity_decrease=0.0, min_impurity_split=None,\n",
       "                       min_samples_leaf=1, min_samples_split=500,\n",
       "                       min_weight_fraction_leaf=0.0, presort=False,\n",
       "                       random_state=123, splitter='best')"
      ]
     },
     "execution_count": 100,
     "metadata": {},
     "output_type": "execute_result"
    },
    {
     "name": "stdout",
     "output_type": "stream",
     "text": [
      "y_5m 2020-05-26 15:20:00\n",
      "2020-06-30 14:08:00\n",
      "PCA threshold 넘기기 위해 필요한 최소 Factor:  6\n"
     ]
    },
    {
     "data": {
      "text/plain": [
       "DecisionTreeClassifier(class_weight=None, criterion='gini', max_depth=None,\n",
       "                       max_features=None, max_leaf_nodes=None,\n",
       "                       min_impurity_decrease=0.0, min_impurity_split=None,\n",
       "                       min_samples_leaf=1, min_samples_split=500,\n",
       "                       min_weight_fraction_leaf=0.0, presort=False,\n",
       "                       random_state=123, splitter='best')"
      ]
     },
     "execution_count": 100,
     "metadata": {},
     "output_type": "execute_result"
    },
    {
     "name": "stdout",
     "output_type": "stream",
     "text": [
      "y_5m 2020-05-27 15:20:00\n",
      "2020-06-30 14:08:00\n",
      "PCA threshold 넘기기 위해 필요한 최소 Factor:  6\n"
     ]
    },
    {
     "data": {
      "text/plain": [
       "DecisionTreeClassifier(class_weight=None, criterion='gini', max_depth=None,\n",
       "                       max_features=None, max_leaf_nodes=None,\n",
       "                       min_impurity_decrease=0.0, min_impurity_split=None,\n",
       "                       min_samples_leaf=1, min_samples_split=500,\n",
       "                       min_weight_fraction_leaf=0.0, presort=False,\n",
       "                       random_state=123, splitter='best')"
      ]
     },
     "execution_count": 100,
     "metadata": {},
     "output_type": "execute_result"
    },
    {
     "name": "stdout",
     "output_type": "stream",
     "text": [
      "y_5m 2020-05-28 15:20:00\n",
      "2020-06-30 14:08:00\n",
      "PCA threshold 넘기기 위해 필요한 최소 Factor:  6\n"
     ]
    },
    {
     "data": {
      "text/plain": [
       "DecisionTreeClassifier(class_weight=None, criterion='gini', max_depth=None,\n",
       "                       max_features=None, max_leaf_nodes=None,\n",
       "                       min_impurity_decrease=0.0, min_impurity_split=None,\n",
       "                       min_samples_leaf=1, min_samples_split=500,\n",
       "                       min_weight_fraction_leaf=0.0, presort=False,\n",
       "                       random_state=123, splitter='best')"
      ]
     },
     "execution_count": 100,
     "metadata": {},
     "output_type": "execute_result"
    },
    {
     "name": "stdout",
     "output_type": "stream",
     "text": [
      "y_5m 2020-05-29 15:20:00\n",
      "2020-06-30 14:08:00\n",
      "PCA threshold 넘기기 위해 필요한 최소 Factor:  6\n"
     ]
    },
    {
     "data": {
      "text/plain": [
       "DecisionTreeClassifier(class_weight=None, criterion='gini', max_depth=None,\n",
       "                       max_features=None, max_leaf_nodes=None,\n",
       "                       min_impurity_decrease=0.0, min_impurity_split=None,\n",
       "                       min_samples_leaf=1, min_samples_split=500,\n",
       "                       min_weight_fraction_leaf=0.0, presort=False,\n",
       "                       random_state=123, splitter='best')"
      ]
     },
     "execution_count": 100,
     "metadata": {},
     "output_type": "execute_result"
    },
    {
     "name": "stdout",
     "output_type": "stream",
     "text": [
      "y_5m 2020-06-01 15:20:00\n",
      "2020-06-30 14:08:00\n",
      "PCA threshold 넘기기 위해 필요한 최소 Factor:  6\n"
     ]
    },
    {
     "data": {
      "text/plain": [
       "DecisionTreeClassifier(class_weight=None, criterion='gini', max_depth=None,\n",
       "                       max_features=None, max_leaf_nodes=None,\n",
       "                       min_impurity_decrease=0.0, min_impurity_split=None,\n",
       "                       min_samples_leaf=1, min_samples_split=500,\n",
       "                       min_weight_fraction_leaf=0.0, presort=False,\n",
       "                       random_state=123, splitter='best')"
      ]
     },
     "execution_count": 100,
     "metadata": {},
     "output_type": "execute_result"
    },
    {
     "name": "stdout",
     "output_type": "stream",
     "text": [
      "y_5m 2020-06-02 15:20:00\n",
      "2020-06-30 14:08:00\n",
      "PCA threshold 넘기기 위해 필요한 최소 Factor:  6\n"
     ]
    },
    {
     "data": {
      "text/plain": [
       "DecisionTreeClassifier(class_weight=None, criterion='gini', max_depth=None,\n",
       "                       max_features=None, max_leaf_nodes=None,\n",
       "                       min_impurity_decrease=0.0, min_impurity_split=None,\n",
       "                       min_samples_leaf=1, min_samples_split=500,\n",
       "                       min_weight_fraction_leaf=0.0, presort=False,\n",
       "                       random_state=123, splitter='best')"
      ]
     },
     "execution_count": 100,
     "metadata": {},
     "output_type": "execute_result"
    },
    {
     "name": "stdout",
     "output_type": "stream",
     "text": [
      "y_5m 2020-06-03 15:20:00\n",
      "2020-06-30 14:08:00\n",
      "PCA threshold 넘기기 위해 필요한 최소 Factor:  6\n"
     ]
    },
    {
     "data": {
      "text/plain": [
       "DecisionTreeClassifier(class_weight=None, criterion='gini', max_depth=None,\n",
       "                       max_features=None, max_leaf_nodes=None,\n",
       "                       min_impurity_decrease=0.0, min_impurity_split=None,\n",
       "                       min_samples_leaf=1, min_samples_split=500,\n",
       "                       min_weight_fraction_leaf=0.0, presort=False,\n",
       "                       random_state=123, splitter='best')"
      ]
     },
     "execution_count": 100,
     "metadata": {},
     "output_type": "execute_result"
    },
    {
     "name": "stdout",
     "output_type": "stream",
     "text": [
      "y_5m 2020-06-04 15:20:00\n",
      "2020-06-30 14:08:00\n",
      "PCA threshold 넘기기 위해 필요한 최소 Factor:  6\n"
     ]
    },
    {
     "data": {
      "text/plain": [
       "DecisionTreeClassifier(class_weight=None, criterion='gini', max_depth=None,\n",
       "                       max_features=None, max_leaf_nodes=None,\n",
       "                       min_impurity_decrease=0.0, min_impurity_split=None,\n",
       "                       min_samples_leaf=1, min_samples_split=500,\n",
       "                       min_weight_fraction_leaf=0.0, presort=False,\n",
       "                       random_state=123, splitter='best')"
      ]
     },
     "execution_count": 100,
     "metadata": {},
     "output_type": "execute_result"
    },
    {
     "name": "stdout",
     "output_type": "stream",
     "text": [
      "y_5m 2020-06-05 15:20:00\n",
      "2020-06-30 14:08:00\n",
      "PCA threshold 넘기기 위해 필요한 최소 Factor:  6\n"
     ]
    },
    {
     "data": {
      "text/plain": [
       "DecisionTreeClassifier(class_weight=None, criterion='gini', max_depth=None,\n",
       "                       max_features=None, max_leaf_nodes=None,\n",
       "                       min_impurity_decrease=0.0, min_impurity_split=None,\n",
       "                       min_samples_leaf=1, min_samples_split=500,\n",
       "                       min_weight_fraction_leaf=0.0, presort=False,\n",
       "                       random_state=123, splitter='best')"
      ]
     },
     "execution_count": 100,
     "metadata": {},
     "output_type": "execute_result"
    },
    {
     "name": "stdout",
     "output_type": "stream",
     "text": [
      "y_5m 2020-06-08 15:20:00\n",
      "2020-06-30 14:08:00\n",
      "PCA threshold 넘기기 위해 필요한 최소 Factor:  6\n"
     ]
    },
    {
     "data": {
      "text/plain": [
       "DecisionTreeClassifier(class_weight=None, criterion='gini', max_depth=None,\n",
       "                       max_features=None, max_leaf_nodes=None,\n",
       "                       min_impurity_decrease=0.0, min_impurity_split=None,\n",
       "                       min_samples_leaf=1, min_samples_split=500,\n",
       "                       min_weight_fraction_leaf=0.0, presort=False,\n",
       "                       random_state=123, splitter='best')"
      ]
     },
     "execution_count": 100,
     "metadata": {},
     "output_type": "execute_result"
    },
    {
     "name": "stdout",
     "output_type": "stream",
     "text": [
      "y_5m 2020-06-09 15:20:00\n",
      "2020-06-30 14:08:00\n",
      "PCA threshold 넘기기 위해 필요한 최소 Factor:  6\n"
     ]
    },
    {
     "data": {
      "text/plain": [
       "DecisionTreeClassifier(class_weight=None, criterion='gini', max_depth=None,\n",
       "                       max_features=None, max_leaf_nodes=None,\n",
       "                       min_impurity_decrease=0.0, min_impurity_split=None,\n",
       "                       min_samples_leaf=1, min_samples_split=500,\n",
       "                       min_weight_fraction_leaf=0.0, presort=False,\n",
       "                       random_state=123, splitter='best')"
      ]
     },
     "execution_count": 100,
     "metadata": {},
     "output_type": "execute_result"
    },
    {
     "name": "stdout",
     "output_type": "stream",
     "text": [
      "y_5m 2020-06-10 15:20:00\n",
      "2020-06-30 14:08:00\n",
      "PCA threshold 넘기기 위해 필요한 최소 Factor:  6\n"
     ]
    },
    {
     "data": {
      "text/plain": [
       "DecisionTreeClassifier(class_weight=None, criterion='gini', max_depth=None,\n",
       "                       max_features=None, max_leaf_nodes=None,\n",
       "                       min_impurity_decrease=0.0, min_impurity_split=None,\n",
       "                       min_samples_leaf=1, min_samples_split=500,\n",
       "                       min_weight_fraction_leaf=0.0, presort=False,\n",
       "                       random_state=123, splitter='best')"
      ]
     },
     "execution_count": 100,
     "metadata": {},
     "output_type": "execute_result"
    },
    {
     "name": "stdout",
     "output_type": "stream",
     "text": [
      "y_5m 2020-06-12 09:00:00\n",
      "2020-06-30 14:08:00\n",
      "PCA threshold 넘기기 위해 필요한 최소 Factor:  6\n"
     ]
    },
    {
     "data": {
      "text/plain": [
       "DecisionTreeClassifier(class_weight=None, criterion='gini', max_depth=None,\n",
       "                       max_features=None, max_leaf_nodes=None,\n",
       "                       min_impurity_decrease=0.0, min_impurity_split=None,\n",
       "                       min_samples_leaf=1, min_samples_split=500,\n",
       "                       min_weight_fraction_leaf=0.0, presort=False,\n",
       "                       random_state=123, splitter='best')"
      ]
     },
     "execution_count": 100,
     "metadata": {},
     "output_type": "execute_result"
    },
    {
     "name": "stdout",
     "output_type": "stream",
     "text": [
      "y_5m 2020-06-15 09:00:00\n",
      "2020-06-30 14:08:00\n",
      "PCA threshold 넘기기 위해 필요한 최소 Factor:  6\n"
     ]
    },
    {
     "data": {
      "text/plain": [
       "DecisionTreeClassifier(class_weight=None, criterion='gini', max_depth=None,\n",
       "                       max_features=None, max_leaf_nodes=None,\n",
       "                       min_impurity_decrease=0.0, min_impurity_split=None,\n",
       "                       min_samples_leaf=1, min_samples_split=500,\n",
       "                       min_weight_fraction_leaf=0.0, presort=False,\n",
       "                       random_state=123, splitter='best')"
      ]
     },
     "execution_count": 100,
     "metadata": {},
     "output_type": "execute_result"
    },
    {
     "name": "stdout",
     "output_type": "stream",
     "text": [
      "y_5m 2020-06-16 09:00:00\n",
      "2020-06-30 14:08:00\n",
      "PCA threshold 넘기기 위해 필요한 최소 Factor:  6\n"
     ]
    },
    {
     "data": {
      "text/plain": [
       "DecisionTreeClassifier(class_weight=None, criterion='gini', max_depth=None,\n",
       "                       max_features=None, max_leaf_nodes=None,\n",
       "                       min_impurity_decrease=0.0, min_impurity_split=None,\n",
       "                       min_samples_leaf=1, min_samples_split=500,\n",
       "                       min_weight_fraction_leaf=0.0, presort=False,\n",
       "                       random_state=123, splitter='best')"
      ]
     },
     "execution_count": 100,
     "metadata": {},
     "output_type": "execute_result"
    },
    {
     "name": "stdout",
     "output_type": "stream",
     "text": [
      "y_5m 2020-06-17 09:00:00\n",
      "2020-06-30 14:08:00\n",
      "PCA threshold 넘기기 위해 필요한 최소 Factor:  6\n"
     ]
    },
    {
     "data": {
      "text/plain": [
       "DecisionTreeClassifier(class_weight=None, criterion='gini', max_depth=None,\n",
       "                       max_features=None, max_leaf_nodes=None,\n",
       "                       min_impurity_decrease=0.0, min_impurity_split=None,\n",
       "                       min_samples_leaf=1, min_samples_split=500,\n",
       "                       min_weight_fraction_leaf=0.0, presort=False,\n",
       "                       random_state=123, splitter='best')"
      ]
     },
     "execution_count": 100,
     "metadata": {},
     "output_type": "execute_result"
    },
    {
     "name": "stdout",
     "output_type": "stream",
     "text": [
      "y_5m 2020-06-18 09:00:00\n",
      "2020-06-30 14:08:00\n",
      "PCA threshold 넘기기 위해 필요한 최소 Factor:  6\n"
     ]
    },
    {
     "data": {
      "text/plain": [
       "DecisionTreeClassifier(class_weight=None, criterion='gini', max_depth=None,\n",
       "                       max_features=None, max_leaf_nodes=None,\n",
       "                       min_impurity_decrease=0.0, min_impurity_split=None,\n",
       "                       min_samples_leaf=1, min_samples_split=500,\n",
       "                       min_weight_fraction_leaf=0.0, presort=False,\n",
       "                       random_state=123, splitter='best')"
      ]
     },
     "execution_count": 100,
     "metadata": {},
     "output_type": "execute_result"
    },
    {
     "name": "stdout",
     "output_type": "stream",
     "text": [
      "y_5m 2020-06-19 09:00:00\n",
      "2020-06-30 14:08:00\n",
      "PCA threshold 넘기기 위해 필요한 최소 Factor:  6\n"
     ]
    },
    {
     "data": {
      "text/plain": [
       "DecisionTreeClassifier(class_weight=None, criterion='gini', max_depth=None,\n",
       "                       max_features=None, max_leaf_nodes=None,\n",
       "                       min_impurity_decrease=0.0, min_impurity_split=None,\n",
       "                       min_samples_leaf=1, min_samples_split=500,\n",
       "                       min_weight_fraction_leaf=0.0, presort=False,\n",
       "                       random_state=123, splitter='best')"
      ]
     },
     "execution_count": 100,
     "metadata": {},
     "output_type": "execute_result"
    },
    {
     "name": "stdout",
     "output_type": "stream",
     "text": [
      "y_5m 2020-06-22 09:00:00\n",
      "2020-06-30 14:08:00\n",
      "PCA threshold 넘기기 위해 필요한 최소 Factor:  6\n"
     ]
    },
    {
     "data": {
      "text/plain": [
       "DecisionTreeClassifier(class_weight=None, criterion='gini', max_depth=None,\n",
       "                       max_features=None, max_leaf_nodes=None,\n",
       "                       min_impurity_decrease=0.0, min_impurity_split=None,\n",
       "                       min_samples_leaf=1, min_samples_split=500,\n",
       "                       min_weight_fraction_leaf=0.0, presort=False,\n",
       "                       random_state=123, splitter='best')"
      ]
     },
     "execution_count": 100,
     "metadata": {},
     "output_type": "execute_result"
    },
    {
     "name": "stdout",
     "output_type": "stream",
     "text": [
      "y_5m 2020-06-23 09:00:00\n",
      "2020-06-30 14:08:00\n",
      "PCA threshold 넘기기 위해 필요한 최소 Factor:  6\n"
     ]
    },
    {
     "data": {
      "text/plain": [
       "DecisionTreeClassifier(class_weight=None, criterion='gini', max_depth=None,\n",
       "                       max_features=None, max_leaf_nodes=None,\n",
       "                       min_impurity_decrease=0.0, min_impurity_split=None,\n",
       "                       min_samples_leaf=1, min_samples_split=500,\n",
       "                       min_weight_fraction_leaf=0.0, presort=False,\n",
       "                       random_state=123, splitter='best')"
      ]
     },
     "execution_count": 100,
     "metadata": {},
     "output_type": "execute_result"
    },
    {
     "name": "stdout",
     "output_type": "stream",
     "text": [
      "y_5m 2020-06-24 09:00:00\n",
      "2020-06-30 14:08:00\n",
      "PCA threshold 넘기기 위해 필요한 최소 Factor:  6\n"
     ]
    },
    {
     "data": {
      "text/plain": [
       "DecisionTreeClassifier(class_weight=None, criterion='gini', max_depth=None,\n",
       "                       max_features=None, max_leaf_nodes=None,\n",
       "                       min_impurity_decrease=0.0, min_impurity_split=None,\n",
       "                       min_samples_leaf=1, min_samples_split=500,\n",
       "                       min_weight_fraction_leaf=0.0, presort=False,\n",
       "                       random_state=123, splitter='best')"
      ]
     },
     "execution_count": 100,
     "metadata": {},
     "output_type": "execute_result"
    },
    {
     "name": "stdout",
     "output_type": "stream",
     "text": [
      "y_5m 2020-06-25 09:00:00\n",
      "2020-06-30 14:08:00\n",
      "PCA threshold 넘기기 위해 필요한 최소 Factor:  6\n"
     ]
    },
    {
     "data": {
      "text/plain": [
       "DecisionTreeClassifier(class_weight=None, criterion='gini', max_depth=None,\n",
       "                       max_features=None, max_leaf_nodes=None,\n",
       "                       min_impurity_decrease=0.0, min_impurity_split=None,\n",
       "                       min_samples_leaf=1, min_samples_split=500,\n",
       "                       min_weight_fraction_leaf=0.0, presort=False,\n",
       "                       random_state=123, splitter='best')"
      ]
     },
     "execution_count": 100,
     "metadata": {},
     "output_type": "execute_result"
    },
    {
     "name": "stdout",
     "output_type": "stream",
     "text": [
      "y_5m 2020-06-26 09:00:00\n",
      "2020-06-30 14:08:00\n",
      "PCA threshold 넘기기 위해 필요한 최소 Factor:  6\n"
     ]
    },
    {
     "data": {
      "text/plain": [
       "DecisionTreeClassifier(class_weight=None, criterion='gini', max_depth=None,\n",
       "                       max_features=None, max_leaf_nodes=None,\n",
       "                       min_impurity_decrease=0.0, min_impurity_split=None,\n",
       "                       min_samples_leaf=1, min_samples_split=500,\n",
       "                       min_weight_fraction_leaf=0.0, presort=False,\n",
       "                       random_state=123, splitter='best')"
      ]
     },
     "execution_count": 100,
     "metadata": {},
     "output_type": "execute_result"
    },
    {
     "name": "stdout",
     "output_type": "stream",
     "text": [
      "y_5m 2020-06-29 09:00:00\n",
      "2020-06-30 14:08:00\n",
      "PCA threshold 넘기기 위해 필요한 최소 Factor:  6\n"
     ]
    },
    {
     "data": {
      "text/plain": [
       "DecisionTreeClassifier(class_weight=None, criterion='gini', max_depth=None,\n",
       "                       max_features=None, max_leaf_nodes=None,\n",
       "                       min_impurity_decrease=0.0, min_impurity_split=None,\n",
       "                       min_samples_leaf=1, min_samples_split=500,\n",
       "                       min_weight_fraction_leaf=0.0, presort=False,\n",
       "                       random_state=123, splitter='best')"
      ]
     },
     "execution_count": 100,
     "metadata": {},
     "output_type": "execute_result"
    },
    {
     "name": "stdout",
     "output_type": "stream",
     "text": [
      "y_5m 2020-06-30 09:00:00\n",
      "2020-06-30 14:08:00\n",
      "PCA threshold 넘기기 위해 필요한 최소 Factor:  6\n"
     ]
    },
    {
     "data": {
      "text/plain": [
       "DecisionTreeClassifier(class_weight=None, criterion='gini', max_depth=None,\n",
       "                       max_features=None, max_leaf_nodes=None,\n",
       "                       min_impurity_decrease=0.0, min_impurity_split=None,\n",
       "                       min_samples_leaf=1, min_samples_split=500,\n",
       "                       min_weight_fraction_leaf=0.0, presort=False,\n",
       "                       random_state=123, splitter='best')"
      ]
     },
     "execution_count": 100,
     "metadata": {},
     "output_type": "execute_result"
    },
    {
     "name": "stdout",
     "output_type": "stream",
     "text": [
      "y_10m 2020-05-13 15:20:00\n",
      "2020-06-30 14:08:00\n",
      "PCA threshold 넘기기 위해 필요한 최소 Factor:  6\n"
     ]
    },
    {
     "data": {
      "text/plain": [
       "DecisionTreeClassifier(class_weight=None, criterion='gini', max_depth=None,\n",
       "                       max_features=None, max_leaf_nodes=None,\n",
       "                       min_impurity_decrease=0.0, min_impurity_split=None,\n",
       "                       min_samples_leaf=1, min_samples_split=500,\n",
       "                       min_weight_fraction_leaf=0.0, presort=False,\n",
       "                       random_state=123, splitter='best')"
      ]
     },
     "execution_count": 100,
     "metadata": {},
     "output_type": "execute_result"
    },
    {
     "name": "stdout",
     "output_type": "stream",
     "text": [
      "y_10m 2020-05-14 15:20:00\n",
      "2020-06-30 14:08:00\n",
      "PCA threshold 넘기기 위해 필요한 최소 Factor:  6\n"
     ]
    },
    {
     "data": {
      "text/plain": [
       "DecisionTreeClassifier(class_weight=None, criterion='gini', max_depth=None,\n",
       "                       max_features=None, max_leaf_nodes=None,\n",
       "                       min_impurity_decrease=0.0, min_impurity_split=None,\n",
       "                       min_samples_leaf=1, min_samples_split=500,\n",
       "                       min_weight_fraction_leaf=0.0, presort=False,\n",
       "                       random_state=123, splitter='best')"
      ]
     },
     "execution_count": 100,
     "metadata": {},
     "output_type": "execute_result"
    },
    {
     "name": "stdout",
     "output_type": "stream",
     "text": [
      "y_10m 2020-05-15 15:20:00\n",
      "2020-06-30 14:08:00\n",
      "PCA threshold 넘기기 위해 필요한 최소 Factor:  6\n"
     ]
    },
    {
     "data": {
      "text/plain": [
       "DecisionTreeClassifier(class_weight=None, criterion='gini', max_depth=None,\n",
       "                       max_features=None, max_leaf_nodes=None,\n",
       "                       min_impurity_decrease=0.0, min_impurity_split=None,\n",
       "                       min_samples_leaf=1, min_samples_split=500,\n",
       "                       min_weight_fraction_leaf=0.0, presort=False,\n",
       "                       random_state=123, splitter='best')"
      ]
     },
     "execution_count": 100,
     "metadata": {},
     "output_type": "execute_result"
    },
    {
     "name": "stdout",
     "output_type": "stream",
     "text": [
      "y_10m 2020-05-18 15:20:00\n",
      "2020-06-30 14:08:00\n",
      "PCA threshold 넘기기 위해 필요한 최소 Factor:  6\n"
     ]
    },
    {
     "data": {
      "text/plain": [
       "DecisionTreeClassifier(class_weight=None, criterion='gini', max_depth=None,\n",
       "                       max_features=None, max_leaf_nodes=None,\n",
       "                       min_impurity_decrease=0.0, min_impurity_split=None,\n",
       "                       min_samples_leaf=1, min_samples_split=500,\n",
       "                       min_weight_fraction_leaf=0.0, presort=False,\n",
       "                       random_state=123, splitter='best')"
      ]
     },
     "execution_count": 100,
     "metadata": {},
     "output_type": "execute_result"
    },
    {
     "name": "stdout",
     "output_type": "stream",
     "text": [
      "y_10m 2020-05-19 15:20:00\n",
      "2020-06-30 14:08:00\n",
      "PCA threshold 넘기기 위해 필요한 최소 Factor:  6\n"
     ]
    },
    {
     "data": {
      "text/plain": [
       "DecisionTreeClassifier(class_weight=None, criterion='gini', max_depth=None,\n",
       "                       max_features=None, max_leaf_nodes=None,\n",
       "                       min_impurity_decrease=0.0, min_impurity_split=None,\n",
       "                       min_samples_leaf=1, min_samples_split=500,\n",
       "                       min_weight_fraction_leaf=0.0, presort=False,\n",
       "                       random_state=123, splitter='best')"
      ]
     },
     "execution_count": 100,
     "metadata": {},
     "output_type": "execute_result"
    },
    {
     "name": "stdout",
     "output_type": "stream",
     "text": [
      "y_10m 2020-05-20 15:20:00\n",
      "2020-06-30 14:08:00\n",
      "PCA threshold 넘기기 위해 필요한 최소 Factor:  6\n"
     ]
    },
    {
     "data": {
      "text/plain": [
       "DecisionTreeClassifier(class_weight=None, criterion='gini', max_depth=None,\n",
       "                       max_features=None, max_leaf_nodes=None,\n",
       "                       min_impurity_decrease=0.0, min_impurity_split=None,\n",
       "                       min_samples_leaf=1, min_samples_split=500,\n",
       "                       min_weight_fraction_leaf=0.0, presort=False,\n",
       "                       random_state=123, splitter='best')"
      ]
     },
     "execution_count": 100,
     "metadata": {},
     "output_type": "execute_result"
    },
    {
     "name": "stdout",
     "output_type": "stream",
     "text": [
      "y_10m 2020-05-21 15:20:00\n",
      "2020-06-30 14:08:00\n",
      "PCA threshold 넘기기 위해 필요한 최소 Factor:  6\n"
     ]
    },
    {
     "data": {
      "text/plain": [
       "DecisionTreeClassifier(class_weight=None, criterion='gini', max_depth=None,\n",
       "                       max_features=None, max_leaf_nodes=None,\n",
       "                       min_impurity_decrease=0.0, min_impurity_split=None,\n",
       "                       min_samples_leaf=1, min_samples_split=500,\n",
       "                       min_weight_fraction_leaf=0.0, presort=False,\n",
       "                       random_state=123, splitter='best')"
      ]
     },
     "execution_count": 100,
     "metadata": {},
     "output_type": "execute_result"
    },
    {
     "name": "stdout",
     "output_type": "stream",
     "text": [
      "y_10m 2020-05-22 15:20:00\n",
      "2020-06-30 14:08:00\n",
      "PCA threshold 넘기기 위해 필요한 최소 Factor:  6\n"
     ]
    },
    {
     "data": {
      "text/plain": [
       "DecisionTreeClassifier(class_weight=None, criterion='gini', max_depth=None,\n",
       "                       max_features=None, max_leaf_nodes=None,\n",
       "                       min_impurity_decrease=0.0, min_impurity_split=None,\n",
       "                       min_samples_leaf=1, min_samples_split=500,\n",
       "                       min_weight_fraction_leaf=0.0, presort=False,\n",
       "                       random_state=123, splitter='best')"
      ]
     },
     "execution_count": 100,
     "metadata": {},
     "output_type": "execute_result"
    },
    {
     "name": "stdout",
     "output_type": "stream",
     "text": [
      "y_10m 2020-05-25 15:20:00\n",
      "2020-06-30 14:08:00\n",
      "PCA threshold 넘기기 위해 필요한 최소 Factor:  6\n"
     ]
    },
    {
     "data": {
      "text/plain": [
       "DecisionTreeClassifier(class_weight=None, criterion='gini', max_depth=None,\n",
       "                       max_features=None, max_leaf_nodes=None,\n",
       "                       min_impurity_decrease=0.0, min_impurity_split=None,\n",
       "                       min_samples_leaf=1, min_samples_split=500,\n",
       "                       min_weight_fraction_leaf=0.0, presort=False,\n",
       "                       random_state=123, splitter='best')"
      ]
     },
     "execution_count": 100,
     "metadata": {},
     "output_type": "execute_result"
    },
    {
     "name": "stdout",
     "output_type": "stream",
     "text": [
      "y_10m 2020-05-26 15:20:00\n",
      "2020-06-30 14:08:00\n",
      "PCA threshold 넘기기 위해 필요한 최소 Factor:  6\n"
     ]
    },
    {
     "data": {
      "text/plain": [
       "DecisionTreeClassifier(class_weight=None, criterion='gini', max_depth=None,\n",
       "                       max_features=None, max_leaf_nodes=None,\n",
       "                       min_impurity_decrease=0.0, min_impurity_split=None,\n",
       "                       min_samples_leaf=1, min_samples_split=500,\n",
       "                       min_weight_fraction_leaf=0.0, presort=False,\n",
       "                       random_state=123, splitter='best')"
      ]
     },
     "execution_count": 100,
     "metadata": {},
     "output_type": "execute_result"
    },
    {
     "name": "stdout",
     "output_type": "stream",
     "text": [
      "y_10m 2020-05-27 15:20:00\n",
      "2020-06-30 14:08:00\n",
      "PCA threshold 넘기기 위해 필요한 최소 Factor:  6\n"
     ]
    },
    {
     "data": {
      "text/plain": [
       "DecisionTreeClassifier(class_weight=None, criterion='gini', max_depth=None,\n",
       "                       max_features=None, max_leaf_nodes=None,\n",
       "                       min_impurity_decrease=0.0, min_impurity_split=None,\n",
       "                       min_samples_leaf=1, min_samples_split=500,\n",
       "                       min_weight_fraction_leaf=0.0, presort=False,\n",
       "                       random_state=123, splitter='best')"
      ]
     },
     "execution_count": 100,
     "metadata": {},
     "output_type": "execute_result"
    },
    {
     "name": "stdout",
     "output_type": "stream",
     "text": [
      "y_10m 2020-05-28 15:20:00\n",
      "2020-06-30 14:08:00\n",
      "PCA threshold 넘기기 위해 필요한 최소 Factor:  6\n"
     ]
    },
    {
     "data": {
      "text/plain": [
       "DecisionTreeClassifier(class_weight=None, criterion='gini', max_depth=None,\n",
       "                       max_features=None, max_leaf_nodes=None,\n",
       "                       min_impurity_decrease=0.0, min_impurity_split=None,\n",
       "                       min_samples_leaf=1, min_samples_split=500,\n",
       "                       min_weight_fraction_leaf=0.0, presort=False,\n",
       "                       random_state=123, splitter='best')"
      ]
     },
     "execution_count": 100,
     "metadata": {},
     "output_type": "execute_result"
    },
    {
     "name": "stdout",
     "output_type": "stream",
     "text": [
      "y_10m 2020-05-29 15:20:00\n",
      "2020-06-30 14:08:00\n",
      "PCA threshold 넘기기 위해 필요한 최소 Factor:  6\n"
     ]
    },
    {
     "data": {
      "text/plain": [
       "DecisionTreeClassifier(class_weight=None, criterion='gini', max_depth=None,\n",
       "                       max_features=None, max_leaf_nodes=None,\n",
       "                       min_impurity_decrease=0.0, min_impurity_split=None,\n",
       "                       min_samples_leaf=1, min_samples_split=500,\n",
       "                       min_weight_fraction_leaf=0.0, presort=False,\n",
       "                       random_state=123, splitter='best')"
      ]
     },
     "execution_count": 100,
     "metadata": {},
     "output_type": "execute_result"
    },
    {
     "name": "stdout",
     "output_type": "stream",
     "text": [
      "y_10m 2020-06-01 15:20:00\n",
      "2020-06-30 14:08:00\n",
      "PCA threshold 넘기기 위해 필요한 최소 Factor:  6\n"
     ]
    },
    {
     "data": {
      "text/plain": [
       "DecisionTreeClassifier(class_weight=None, criterion='gini', max_depth=None,\n",
       "                       max_features=None, max_leaf_nodes=None,\n",
       "                       min_impurity_decrease=0.0, min_impurity_split=None,\n",
       "                       min_samples_leaf=1, min_samples_split=500,\n",
       "                       min_weight_fraction_leaf=0.0, presort=False,\n",
       "                       random_state=123, splitter='best')"
      ]
     },
     "execution_count": 100,
     "metadata": {},
     "output_type": "execute_result"
    },
    {
     "name": "stdout",
     "output_type": "stream",
     "text": [
      "y_10m 2020-06-02 15:20:00\n",
      "2020-06-30 14:08:00\n",
      "PCA threshold 넘기기 위해 필요한 최소 Factor:  6\n"
     ]
    },
    {
     "data": {
      "text/plain": [
       "DecisionTreeClassifier(class_weight=None, criterion='gini', max_depth=None,\n",
       "                       max_features=None, max_leaf_nodes=None,\n",
       "                       min_impurity_decrease=0.0, min_impurity_split=None,\n",
       "                       min_samples_leaf=1, min_samples_split=500,\n",
       "                       min_weight_fraction_leaf=0.0, presort=False,\n",
       "                       random_state=123, splitter='best')"
      ]
     },
     "execution_count": 100,
     "metadata": {},
     "output_type": "execute_result"
    },
    {
     "name": "stdout",
     "output_type": "stream",
     "text": [
      "y_10m 2020-06-03 15:20:00\n",
      "2020-06-30 14:08:00\n",
      "PCA threshold 넘기기 위해 필요한 최소 Factor:  6\n"
     ]
    },
    {
     "data": {
      "text/plain": [
       "DecisionTreeClassifier(class_weight=None, criterion='gini', max_depth=None,\n",
       "                       max_features=None, max_leaf_nodes=None,\n",
       "                       min_impurity_decrease=0.0, min_impurity_split=None,\n",
       "                       min_samples_leaf=1, min_samples_split=500,\n",
       "                       min_weight_fraction_leaf=0.0, presort=False,\n",
       "                       random_state=123, splitter='best')"
      ]
     },
     "execution_count": 100,
     "metadata": {},
     "output_type": "execute_result"
    },
    {
     "name": "stdout",
     "output_type": "stream",
     "text": [
      "y_10m 2020-06-04 15:20:00\n",
      "2020-06-30 14:08:00\n",
      "PCA threshold 넘기기 위해 필요한 최소 Factor:  6\n"
     ]
    },
    {
     "data": {
      "text/plain": [
       "DecisionTreeClassifier(class_weight=None, criterion='gini', max_depth=None,\n",
       "                       max_features=None, max_leaf_nodes=None,\n",
       "                       min_impurity_decrease=0.0, min_impurity_split=None,\n",
       "                       min_samples_leaf=1, min_samples_split=500,\n",
       "                       min_weight_fraction_leaf=0.0, presort=False,\n",
       "                       random_state=123, splitter='best')"
      ]
     },
     "execution_count": 100,
     "metadata": {},
     "output_type": "execute_result"
    },
    {
     "name": "stdout",
     "output_type": "stream",
     "text": [
      "y_10m 2020-06-05 15:20:00\n",
      "2020-06-30 14:08:00\n",
      "PCA threshold 넘기기 위해 필요한 최소 Factor:  6\n"
     ]
    },
    {
     "data": {
      "text/plain": [
       "DecisionTreeClassifier(class_weight=None, criterion='gini', max_depth=None,\n",
       "                       max_features=None, max_leaf_nodes=None,\n",
       "                       min_impurity_decrease=0.0, min_impurity_split=None,\n",
       "                       min_samples_leaf=1, min_samples_split=500,\n",
       "                       min_weight_fraction_leaf=0.0, presort=False,\n",
       "                       random_state=123, splitter='best')"
      ]
     },
     "execution_count": 100,
     "metadata": {},
     "output_type": "execute_result"
    },
    {
     "name": "stdout",
     "output_type": "stream",
     "text": [
      "y_10m 2020-06-08 15:20:00\n",
      "2020-06-30 14:08:00\n",
      "PCA threshold 넘기기 위해 필요한 최소 Factor:  6\n"
     ]
    },
    {
     "data": {
      "text/plain": [
       "DecisionTreeClassifier(class_weight=None, criterion='gini', max_depth=None,\n",
       "                       max_features=None, max_leaf_nodes=None,\n",
       "                       min_impurity_decrease=0.0, min_impurity_split=None,\n",
       "                       min_samples_leaf=1, min_samples_split=500,\n",
       "                       min_weight_fraction_leaf=0.0, presort=False,\n",
       "                       random_state=123, splitter='best')"
      ]
     },
     "execution_count": 100,
     "metadata": {},
     "output_type": "execute_result"
    },
    {
     "name": "stdout",
     "output_type": "stream",
     "text": [
      "y_10m 2020-06-09 15:20:00\n",
      "2020-06-30 14:08:00\n",
      "PCA threshold 넘기기 위해 필요한 최소 Factor:  6\n"
     ]
    },
    {
     "data": {
      "text/plain": [
       "DecisionTreeClassifier(class_weight=None, criterion='gini', max_depth=None,\n",
       "                       max_features=None, max_leaf_nodes=None,\n",
       "                       min_impurity_decrease=0.0, min_impurity_split=None,\n",
       "                       min_samples_leaf=1, min_samples_split=500,\n",
       "                       min_weight_fraction_leaf=0.0, presort=False,\n",
       "                       random_state=123, splitter='best')"
      ]
     },
     "execution_count": 100,
     "metadata": {},
     "output_type": "execute_result"
    },
    {
     "name": "stdout",
     "output_type": "stream",
     "text": [
      "y_10m 2020-06-10 15:20:00\n",
      "2020-06-30 14:08:00\n",
      "PCA threshold 넘기기 위해 필요한 최소 Factor:  6\n"
     ]
    },
    {
     "data": {
      "text/plain": [
       "DecisionTreeClassifier(class_weight=None, criterion='gini', max_depth=None,\n",
       "                       max_features=None, max_leaf_nodes=None,\n",
       "                       min_impurity_decrease=0.0, min_impurity_split=None,\n",
       "                       min_samples_leaf=1, min_samples_split=500,\n",
       "                       min_weight_fraction_leaf=0.0, presort=False,\n",
       "                       random_state=123, splitter='best')"
      ]
     },
     "execution_count": 100,
     "metadata": {},
     "output_type": "execute_result"
    },
    {
     "name": "stdout",
     "output_type": "stream",
     "text": [
      "y_10m 2020-06-12 09:00:00\n",
      "2020-06-30 14:08:00\n",
      "PCA threshold 넘기기 위해 필요한 최소 Factor:  6\n"
     ]
    },
    {
     "data": {
      "text/plain": [
       "DecisionTreeClassifier(class_weight=None, criterion='gini', max_depth=None,\n",
       "                       max_features=None, max_leaf_nodes=None,\n",
       "                       min_impurity_decrease=0.0, min_impurity_split=None,\n",
       "                       min_samples_leaf=1, min_samples_split=500,\n",
       "                       min_weight_fraction_leaf=0.0, presort=False,\n",
       "                       random_state=123, splitter='best')"
      ]
     },
     "execution_count": 100,
     "metadata": {},
     "output_type": "execute_result"
    },
    {
     "name": "stdout",
     "output_type": "stream",
     "text": [
      "y_10m 2020-06-15 09:00:00\n",
      "2020-06-30 14:08:00\n",
      "PCA threshold 넘기기 위해 필요한 최소 Factor:  6\n"
     ]
    },
    {
     "data": {
      "text/plain": [
       "DecisionTreeClassifier(class_weight=None, criterion='gini', max_depth=None,\n",
       "                       max_features=None, max_leaf_nodes=None,\n",
       "                       min_impurity_decrease=0.0, min_impurity_split=None,\n",
       "                       min_samples_leaf=1, min_samples_split=500,\n",
       "                       min_weight_fraction_leaf=0.0, presort=False,\n",
       "                       random_state=123, splitter='best')"
      ]
     },
     "execution_count": 100,
     "metadata": {},
     "output_type": "execute_result"
    },
    {
     "name": "stdout",
     "output_type": "stream",
     "text": [
      "y_10m 2020-06-16 09:00:00\n",
      "2020-06-30 14:08:00\n",
      "PCA threshold 넘기기 위해 필요한 최소 Factor:  6\n"
     ]
    },
    {
     "data": {
      "text/plain": [
       "DecisionTreeClassifier(class_weight=None, criterion='gini', max_depth=None,\n",
       "                       max_features=None, max_leaf_nodes=None,\n",
       "                       min_impurity_decrease=0.0, min_impurity_split=None,\n",
       "                       min_samples_leaf=1, min_samples_split=500,\n",
       "                       min_weight_fraction_leaf=0.0, presort=False,\n",
       "                       random_state=123, splitter='best')"
      ]
     },
     "execution_count": 100,
     "metadata": {},
     "output_type": "execute_result"
    },
    {
     "name": "stdout",
     "output_type": "stream",
     "text": [
      "y_10m 2020-06-17 09:00:00\n",
      "2020-06-30 14:08:00\n",
      "PCA threshold 넘기기 위해 필요한 최소 Factor:  6\n"
     ]
    },
    {
     "data": {
      "text/plain": [
       "DecisionTreeClassifier(class_weight=None, criterion='gini', max_depth=None,\n",
       "                       max_features=None, max_leaf_nodes=None,\n",
       "                       min_impurity_decrease=0.0, min_impurity_split=None,\n",
       "                       min_samples_leaf=1, min_samples_split=500,\n",
       "                       min_weight_fraction_leaf=0.0, presort=False,\n",
       "                       random_state=123, splitter='best')"
      ]
     },
     "execution_count": 100,
     "metadata": {},
     "output_type": "execute_result"
    },
    {
     "name": "stdout",
     "output_type": "stream",
     "text": [
      "y_10m 2020-06-18 09:00:00\n",
      "2020-06-30 14:08:00\n",
      "PCA threshold 넘기기 위해 필요한 최소 Factor:  6\n"
     ]
    },
    {
     "data": {
      "text/plain": [
       "DecisionTreeClassifier(class_weight=None, criterion='gini', max_depth=None,\n",
       "                       max_features=None, max_leaf_nodes=None,\n",
       "                       min_impurity_decrease=0.0, min_impurity_split=None,\n",
       "                       min_samples_leaf=1, min_samples_split=500,\n",
       "                       min_weight_fraction_leaf=0.0, presort=False,\n",
       "                       random_state=123, splitter='best')"
      ]
     },
     "execution_count": 100,
     "metadata": {},
     "output_type": "execute_result"
    },
    {
     "name": "stdout",
     "output_type": "stream",
     "text": [
      "y_10m 2020-06-19 09:00:00\n",
      "2020-06-30 14:08:00\n",
      "PCA threshold 넘기기 위해 필요한 최소 Factor:  6\n"
     ]
    },
    {
     "data": {
      "text/plain": [
       "DecisionTreeClassifier(class_weight=None, criterion='gini', max_depth=None,\n",
       "                       max_features=None, max_leaf_nodes=None,\n",
       "                       min_impurity_decrease=0.0, min_impurity_split=None,\n",
       "                       min_samples_leaf=1, min_samples_split=500,\n",
       "                       min_weight_fraction_leaf=0.0, presort=False,\n",
       "                       random_state=123, splitter='best')"
      ]
     },
     "execution_count": 100,
     "metadata": {},
     "output_type": "execute_result"
    },
    {
     "name": "stdout",
     "output_type": "stream",
     "text": [
      "y_10m 2020-06-22 09:00:00\n",
      "2020-06-30 14:08:00\n",
      "PCA threshold 넘기기 위해 필요한 최소 Factor:  6\n"
     ]
    },
    {
     "data": {
      "text/plain": [
       "DecisionTreeClassifier(class_weight=None, criterion='gini', max_depth=None,\n",
       "                       max_features=None, max_leaf_nodes=None,\n",
       "                       min_impurity_decrease=0.0, min_impurity_split=None,\n",
       "                       min_samples_leaf=1, min_samples_split=500,\n",
       "                       min_weight_fraction_leaf=0.0, presort=False,\n",
       "                       random_state=123, splitter='best')"
      ]
     },
     "execution_count": 100,
     "metadata": {},
     "output_type": "execute_result"
    },
    {
     "name": "stdout",
     "output_type": "stream",
     "text": [
      "y_10m 2020-06-23 09:00:00\n",
      "2020-06-30 14:08:00\n",
      "PCA threshold 넘기기 위해 필요한 최소 Factor:  6\n"
     ]
    },
    {
     "data": {
      "text/plain": [
       "DecisionTreeClassifier(class_weight=None, criterion='gini', max_depth=None,\n",
       "                       max_features=None, max_leaf_nodes=None,\n",
       "                       min_impurity_decrease=0.0, min_impurity_split=None,\n",
       "                       min_samples_leaf=1, min_samples_split=500,\n",
       "                       min_weight_fraction_leaf=0.0, presort=False,\n",
       "                       random_state=123, splitter='best')"
      ]
     },
     "execution_count": 100,
     "metadata": {},
     "output_type": "execute_result"
    },
    {
     "name": "stdout",
     "output_type": "stream",
     "text": [
      "y_10m 2020-06-24 09:00:00\n",
      "2020-06-30 14:08:00\n",
      "PCA threshold 넘기기 위해 필요한 최소 Factor:  6\n"
     ]
    },
    {
     "data": {
      "text/plain": [
       "DecisionTreeClassifier(class_weight=None, criterion='gini', max_depth=None,\n",
       "                       max_features=None, max_leaf_nodes=None,\n",
       "                       min_impurity_decrease=0.0, min_impurity_split=None,\n",
       "                       min_samples_leaf=1, min_samples_split=500,\n",
       "                       min_weight_fraction_leaf=0.0, presort=False,\n",
       "                       random_state=123, splitter='best')"
      ]
     },
     "execution_count": 100,
     "metadata": {},
     "output_type": "execute_result"
    },
    {
     "name": "stdout",
     "output_type": "stream",
     "text": [
      "y_10m 2020-06-25 09:00:00\n",
      "2020-06-30 14:08:00\n",
      "PCA threshold 넘기기 위해 필요한 최소 Factor:  6\n"
     ]
    },
    {
     "data": {
      "text/plain": [
       "DecisionTreeClassifier(class_weight=None, criterion='gini', max_depth=None,\n",
       "                       max_features=None, max_leaf_nodes=None,\n",
       "                       min_impurity_decrease=0.0, min_impurity_split=None,\n",
       "                       min_samples_leaf=1, min_samples_split=500,\n",
       "                       min_weight_fraction_leaf=0.0, presort=False,\n",
       "                       random_state=123, splitter='best')"
      ]
     },
     "execution_count": 100,
     "metadata": {},
     "output_type": "execute_result"
    },
    {
     "name": "stdout",
     "output_type": "stream",
     "text": [
      "y_10m 2020-06-26 09:00:00\n",
      "2020-06-30 14:08:00\n",
      "PCA threshold 넘기기 위해 필요한 최소 Factor:  6\n"
     ]
    },
    {
     "data": {
      "text/plain": [
       "DecisionTreeClassifier(class_weight=None, criterion='gini', max_depth=None,\n",
       "                       max_features=None, max_leaf_nodes=None,\n",
       "                       min_impurity_decrease=0.0, min_impurity_split=None,\n",
       "                       min_samples_leaf=1, min_samples_split=500,\n",
       "                       min_weight_fraction_leaf=0.0, presort=False,\n",
       "                       random_state=123, splitter='best')"
      ]
     },
     "execution_count": 100,
     "metadata": {},
     "output_type": "execute_result"
    },
    {
     "name": "stdout",
     "output_type": "stream",
     "text": [
      "y_10m 2020-06-29 09:00:00\n",
      "2020-06-30 14:08:00\n",
      "PCA threshold 넘기기 위해 필요한 최소 Factor:  6\n"
     ]
    },
    {
     "data": {
      "text/plain": [
       "DecisionTreeClassifier(class_weight=None, criterion='gini', max_depth=None,\n",
       "                       max_features=None, max_leaf_nodes=None,\n",
       "                       min_impurity_decrease=0.0, min_impurity_split=None,\n",
       "                       min_samples_leaf=1, min_samples_split=500,\n",
       "                       min_weight_fraction_leaf=0.0, presort=False,\n",
       "                       random_state=123, splitter='best')"
      ]
     },
     "execution_count": 100,
     "metadata": {},
     "output_type": "execute_result"
    },
    {
     "name": "stdout",
     "output_type": "stream",
     "text": [
      "y_10m 2020-06-30 09:00:00\n",
      "2020-06-30 14:08:00\n",
      "PCA threshold 넘기기 위해 필요한 최소 Factor:  6\n"
     ]
    },
    {
     "data": {
      "text/plain": [
       "DecisionTreeClassifier(class_weight=None, criterion='gini', max_depth=None,\n",
       "                       max_features=None, max_leaf_nodes=None,\n",
       "                       min_impurity_decrease=0.0, min_impurity_split=None,\n",
       "                       min_samples_leaf=1, min_samples_split=500,\n",
       "                       min_weight_fraction_leaf=0.0, presort=False,\n",
       "                       random_state=123, splitter='best')"
      ]
     },
     "execution_count": 100,
     "metadata": {},
     "output_type": "execute_result"
    },
    {
     "name": "stdout",
     "output_type": "stream",
     "text": [
      "y_15m 2020-05-13 15:20:00\n",
      "2020-06-30 14:08:00\n",
      "PCA threshold 넘기기 위해 필요한 최소 Factor:  6\n"
     ]
    },
    {
     "data": {
      "text/plain": [
       "DecisionTreeClassifier(class_weight=None, criterion='gini', max_depth=None,\n",
       "                       max_features=None, max_leaf_nodes=None,\n",
       "                       min_impurity_decrease=0.0, min_impurity_split=None,\n",
       "                       min_samples_leaf=1, min_samples_split=500,\n",
       "                       min_weight_fraction_leaf=0.0, presort=False,\n",
       "                       random_state=123, splitter='best')"
      ]
     },
     "execution_count": 100,
     "metadata": {},
     "output_type": "execute_result"
    },
    {
     "name": "stdout",
     "output_type": "stream",
     "text": [
      "y_15m 2020-05-14 15:20:00\n",
      "2020-06-30 14:08:00\n",
      "PCA threshold 넘기기 위해 필요한 최소 Factor:  6\n"
     ]
    },
    {
     "data": {
      "text/plain": [
       "DecisionTreeClassifier(class_weight=None, criterion='gini', max_depth=None,\n",
       "                       max_features=None, max_leaf_nodes=None,\n",
       "                       min_impurity_decrease=0.0, min_impurity_split=None,\n",
       "                       min_samples_leaf=1, min_samples_split=500,\n",
       "                       min_weight_fraction_leaf=0.0, presort=False,\n",
       "                       random_state=123, splitter='best')"
      ]
     },
     "execution_count": 100,
     "metadata": {},
     "output_type": "execute_result"
    },
    {
     "name": "stdout",
     "output_type": "stream",
     "text": [
      "y_15m 2020-05-15 15:20:00\n",
      "2020-06-30 14:08:00\n",
      "PCA threshold 넘기기 위해 필요한 최소 Factor:  6\n"
     ]
    },
    {
     "data": {
      "text/plain": [
       "DecisionTreeClassifier(class_weight=None, criterion='gini', max_depth=None,\n",
       "                       max_features=None, max_leaf_nodes=None,\n",
       "                       min_impurity_decrease=0.0, min_impurity_split=None,\n",
       "                       min_samples_leaf=1, min_samples_split=500,\n",
       "                       min_weight_fraction_leaf=0.0, presort=False,\n",
       "                       random_state=123, splitter='best')"
      ]
     },
     "execution_count": 100,
     "metadata": {},
     "output_type": "execute_result"
    },
    {
     "name": "stdout",
     "output_type": "stream",
     "text": [
      "y_15m 2020-05-18 15:20:00\n",
      "2020-06-30 14:08:00\n",
      "PCA threshold 넘기기 위해 필요한 최소 Factor:  6\n"
     ]
    },
    {
     "data": {
      "text/plain": [
       "DecisionTreeClassifier(class_weight=None, criterion='gini', max_depth=None,\n",
       "                       max_features=None, max_leaf_nodes=None,\n",
       "                       min_impurity_decrease=0.0, min_impurity_split=None,\n",
       "                       min_samples_leaf=1, min_samples_split=500,\n",
       "                       min_weight_fraction_leaf=0.0, presort=False,\n",
       "                       random_state=123, splitter='best')"
      ]
     },
     "execution_count": 100,
     "metadata": {},
     "output_type": "execute_result"
    },
    {
     "name": "stdout",
     "output_type": "stream",
     "text": [
      "y_15m 2020-05-19 15:20:00\n",
      "2020-06-30 14:08:00\n",
      "PCA threshold 넘기기 위해 필요한 최소 Factor:  6\n"
     ]
    },
    {
     "data": {
      "text/plain": [
       "DecisionTreeClassifier(class_weight=None, criterion='gini', max_depth=None,\n",
       "                       max_features=None, max_leaf_nodes=None,\n",
       "                       min_impurity_decrease=0.0, min_impurity_split=None,\n",
       "                       min_samples_leaf=1, min_samples_split=500,\n",
       "                       min_weight_fraction_leaf=0.0, presort=False,\n",
       "                       random_state=123, splitter='best')"
      ]
     },
     "execution_count": 100,
     "metadata": {},
     "output_type": "execute_result"
    },
    {
     "name": "stdout",
     "output_type": "stream",
     "text": [
      "y_15m 2020-05-20 15:20:00\n",
      "2020-06-30 14:08:00\n",
      "PCA threshold 넘기기 위해 필요한 최소 Factor:  6\n"
     ]
    },
    {
     "data": {
      "text/plain": [
       "DecisionTreeClassifier(class_weight=None, criterion='gini', max_depth=None,\n",
       "                       max_features=None, max_leaf_nodes=None,\n",
       "                       min_impurity_decrease=0.0, min_impurity_split=None,\n",
       "                       min_samples_leaf=1, min_samples_split=500,\n",
       "                       min_weight_fraction_leaf=0.0, presort=False,\n",
       "                       random_state=123, splitter='best')"
      ]
     },
     "execution_count": 100,
     "metadata": {},
     "output_type": "execute_result"
    },
    {
     "name": "stdout",
     "output_type": "stream",
     "text": [
      "y_15m 2020-05-21 15:20:00\n",
      "2020-06-30 14:08:00\n",
      "PCA threshold 넘기기 위해 필요한 최소 Factor:  6\n"
     ]
    },
    {
     "data": {
      "text/plain": [
       "DecisionTreeClassifier(class_weight=None, criterion='gini', max_depth=None,\n",
       "                       max_features=None, max_leaf_nodes=None,\n",
       "                       min_impurity_decrease=0.0, min_impurity_split=None,\n",
       "                       min_samples_leaf=1, min_samples_split=500,\n",
       "                       min_weight_fraction_leaf=0.0, presort=False,\n",
       "                       random_state=123, splitter='best')"
      ]
     },
     "execution_count": 100,
     "metadata": {},
     "output_type": "execute_result"
    },
    {
     "name": "stdout",
     "output_type": "stream",
     "text": [
      "y_15m 2020-05-22 15:20:00\n",
      "2020-06-30 14:08:00\n",
      "PCA threshold 넘기기 위해 필요한 최소 Factor:  6\n"
     ]
    },
    {
     "data": {
      "text/plain": [
       "DecisionTreeClassifier(class_weight=None, criterion='gini', max_depth=None,\n",
       "                       max_features=None, max_leaf_nodes=None,\n",
       "                       min_impurity_decrease=0.0, min_impurity_split=None,\n",
       "                       min_samples_leaf=1, min_samples_split=500,\n",
       "                       min_weight_fraction_leaf=0.0, presort=False,\n",
       "                       random_state=123, splitter='best')"
      ]
     },
     "execution_count": 100,
     "metadata": {},
     "output_type": "execute_result"
    },
    {
     "name": "stdout",
     "output_type": "stream",
     "text": [
      "y_15m 2020-05-25 15:20:00\n",
      "2020-06-30 14:08:00\n",
      "PCA threshold 넘기기 위해 필요한 최소 Factor:  6\n"
     ]
    },
    {
     "data": {
      "text/plain": [
       "DecisionTreeClassifier(class_weight=None, criterion='gini', max_depth=None,\n",
       "                       max_features=None, max_leaf_nodes=None,\n",
       "                       min_impurity_decrease=0.0, min_impurity_split=None,\n",
       "                       min_samples_leaf=1, min_samples_split=500,\n",
       "                       min_weight_fraction_leaf=0.0, presort=False,\n",
       "                       random_state=123, splitter='best')"
      ]
     },
     "execution_count": 100,
     "metadata": {},
     "output_type": "execute_result"
    },
    {
     "name": "stdout",
     "output_type": "stream",
     "text": [
      "y_15m 2020-05-26 15:20:00\n",
      "2020-06-30 14:08:00\n",
      "PCA threshold 넘기기 위해 필요한 최소 Factor:  6\n"
     ]
    },
    {
     "data": {
      "text/plain": [
       "DecisionTreeClassifier(class_weight=None, criterion='gini', max_depth=None,\n",
       "                       max_features=None, max_leaf_nodes=None,\n",
       "                       min_impurity_decrease=0.0, min_impurity_split=None,\n",
       "                       min_samples_leaf=1, min_samples_split=500,\n",
       "                       min_weight_fraction_leaf=0.0, presort=False,\n",
       "                       random_state=123, splitter='best')"
      ]
     },
     "execution_count": 100,
     "metadata": {},
     "output_type": "execute_result"
    },
    {
     "name": "stdout",
     "output_type": "stream",
     "text": [
      "y_15m 2020-05-27 15:20:00\n",
      "2020-06-30 14:08:00\n",
      "PCA threshold 넘기기 위해 필요한 최소 Factor:  6\n"
     ]
    },
    {
     "data": {
      "text/plain": [
       "DecisionTreeClassifier(class_weight=None, criterion='gini', max_depth=None,\n",
       "                       max_features=None, max_leaf_nodes=None,\n",
       "                       min_impurity_decrease=0.0, min_impurity_split=None,\n",
       "                       min_samples_leaf=1, min_samples_split=500,\n",
       "                       min_weight_fraction_leaf=0.0, presort=False,\n",
       "                       random_state=123, splitter='best')"
      ]
     },
     "execution_count": 100,
     "metadata": {},
     "output_type": "execute_result"
    },
    {
     "name": "stdout",
     "output_type": "stream",
     "text": [
      "y_15m 2020-05-28 15:20:00\n",
      "2020-06-30 14:08:00\n",
      "PCA threshold 넘기기 위해 필요한 최소 Factor:  6\n"
     ]
    },
    {
     "data": {
      "text/plain": [
       "DecisionTreeClassifier(class_weight=None, criterion='gini', max_depth=None,\n",
       "                       max_features=None, max_leaf_nodes=None,\n",
       "                       min_impurity_decrease=0.0, min_impurity_split=None,\n",
       "                       min_samples_leaf=1, min_samples_split=500,\n",
       "                       min_weight_fraction_leaf=0.0, presort=False,\n",
       "                       random_state=123, splitter='best')"
      ]
     },
     "execution_count": 100,
     "metadata": {},
     "output_type": "execute_result"
    },
    {
     "name": "stdout",
     "output_type": "stream",
     "text": [
      "y_15m 2020-05-29 15:20:00\n",
      "2020-06-30 14:08:00\n",
      "PCA threshold 넘기기 위해 필요한 최소 Factor:  6\n"
     ]
    },
    {
     "data": {
      "text/plain": [
       "DecisionTreeClassifier(class_weight=None, criterion='gini', max_depth=None,\n",
       "                       max_features=None, max_leaf_nodes=None,\n",
       "                       min_impurity_decrease=0.0, min_impurity_split=None,\n",
       "                       min_samples_leaf=1, min_samples_split=500,\n",
       "                       min_weight_fraction_leaf=0.0, presort=False,\n",
       "                       random_state=123, splitter='best')"
      ]
     },
     "execution_count": 100,
     "metadata": {},
     "output_type": "execute_result"
    },
    {
     "name": "stdout",
     "output_type": "stream",
     "text": [
      "y_15m 2020-06-01 15:20:00\n",
      "2020-06-30 14:08:00\n",
      "PCA threshold 넘기기 위해 필요한 최소 Factor:  6\n"
     ]
    },
    {
     "data": {
      "text/plain": [
       "DecisionTreeClassifier(class_weight=None, criterion='gini', max_depth=None,\n",
       "                       max_features=None, max_leaf_nodes=None,\n",
       "                       min_impurity_decrease=0.0, min_impurity_split=None,\n",
       "                       min_samples_leaf=1, min_samples_split=500,\n",
       "                       min_weight_fraction_leaf=0.0, presort=False,\n",
       "                       random_state=123, splitter='best')"
      ]
     },
     "execution_count": 100,
     "metadata": {},
     "output_type": "execute_result"
    },
    {
     "name": "stdout",
     "output_type": "stream",
     "text": [
      "y_15m 2020-06-02 15:20:00\n",
      "2020-06-30 14:08:00\n",
      "PCA threshold 넘기기 위해 필요한 최소 Factor:  6\n"
     ]
    },
    {
     "data": {
      "text/plain": [
       "DecisionTreeClassifier(class_weight=None, criterion='gini', max_depth=None,\n",
       "                       max_features=None, max_leaf_nodes=None,\n",
       "                       min_impurity_decrease=0.0, min_impurity_split=None,\n",
       "                       min_samples_leaf=1, min_samples_split=500,\n",
       "                       min_weight_fraction_leaf=0.0, presort=False,\n",
       "                       random_state=123, splitter='best')"
      ]
     },
     "execution_count": 100,
     "metadata": {},
     "output_type": "execute_result"
    },
    {
     "name": "stdout",
     "output_type": "stream",
     "text": [
      "y_15m 2020-06-03 15:20:00\n",
      "2020-06-30 14:08:00\n",
      "PCA threshold 넘기기 위해 필요한 최소 Factor:  6\n"
     ]
    },
    {
     "data": {
      "text/plain": [
       "DecisionTreeClassifier(class_weight=None, criterion='gini', max_depth=None,\n",
       "                       max_features=None, max_leaf_nodes=None,\n",
       "                       min_impurity_decrease=0.0, min_impurity_split=None,\n",
       "                       min_samples_leaf=1, min_samples_split=500,\n",
       "                       min_weight_fraction_leaf=0.0, presort=False,\n",
       "                       random_state=123, splitter='best')"
      ]
     },
     "execution_count": 100,
     "metadata": {},
     "output_type": "execute_result"
    },
    {
     "name": "stdout",
     "output_type": "stream",
     "text": [
      "y_15m 2020-06-04 15:20:00\n",
      "2020-06-30 14:08:00\n",
      "PCA threshold 넘기기 위해 필요한 최소 Factor:  6\n"
     ]
    },
    {
     "data": {
      "text/plain": [
       "DecisionTreeClassifier(class_weight=None, criterion='gini', max_depth=None,\n",
       "                       max_features=None, max_leaf_nodes=None,\n",
       "                       min_impurity_decrease=0.0, min_impurity_split=None,\n",
       "                       min_samples_leaf=1, min_samples_split=500,\n",
       "                       min_weight_fraction_leaf=0.0, presort=False,\n",
       "                       random_state=123, splitter='best')"
      ]
     },
     "execution_count": 100,
     "metadata": {},
     "output_type": "execute_result"
    },
    {
     "name": "stdout",
     "output_type": "stream",
     "text": [
      "y_15m 2020-06-05 15:20:00\n",
      "2020-06-30 14:08:00\n",
      "PCA threshold 넘기기 위해 필요한 최소 Factor:  6\n"
     ]
    },
    {
     "data": {
      "text/plain": [
       "DecisionTreeClassifier(class_weight=None, criterion='gini', max_depth=None,\n",
       "                       max_features=None, max_leaf_nodes=None,\n",
       "                       min_impurity_decrease=0.0, min_impurity_split=None,\n",
       "                       min_samples_leaf=1, min_samples_split=500,\n",
       "                       min_weight_fraction_leaf=0.0, presort=False,\n",
       "                       random_state=123, splitter='best')"
      ]
     },
     "execution_count": 100,
     "metadata": {},
     "output_type": "execute_result"
    },
    {
     "name": "stdout",
     "output_type": "stream",
     "text": [
      "y_15m 2020-06-08 15:20:00\n",
      "2020-06-30 14:08:00\n",
      "PCA threshold 넘기기 위해 필요한 최소 Factor:  6\n"
     ]
    },
    {
     "data": {
      "text/plain": [
       "DecisionTreeClassifier(class_weight=None, criterion='gini', max_depth=None,\n",
       "                       max_features=None, max_leaf_nodes=None,\n",
       "                       min_impurity_decrease=0.0, min_impurity_split=None,\n",
       "                       min_samples_leaf=1, min_samples_split=500,\n",
       "                       min_weight_fraction_leaf=0.0, presort=False,\n",
       "                       random_state=123, splitter='best')"
      ]
     },
     "execution_count": 100,
     "metadata": {},
     "output_type": "execute_result"
    },
    {
     "name": "stdout",
     "output_type": "stream",
     "text": [
      "y_15m 2020-06-09 15:20:00\n",
      "2020-06-30 14:08:00\n",
      "PCA threshold 넘기기 위해 필요한 최소 Factor:  6\n"
     ]
    },
    {
     "data": {
      "text/plain": [
       "DecisionTreeClassifier(class_weight=None, criterion='gini', max_depth=None,\n",
       "                       max_features=None, max_leaf_nodes=None,\n",
       "                       min_impurity_decrease=0.0, min_impurity_split=None,\n",
       "                       min_samples_leaf=1, min_samples_split=500,\n",
       "                       min_weight_fraction_leaf=0.0, presort=False,\n",
       "                       random_state=123, splitter='best')"
      ]
     },
     "execution_count": 100,
     "metadata": {},
     "output_type": "execute_result"
    },
    {
     "name": "stdout",
     "output_type": "stream",
     "text": [
      "y_15m 2020-06-10 15:20:00\n",
      "2020-06-30 14:08:00\n",
      "PCA threshold 넘기기 위해 필요한 최소 Factor:  6\n"
     ]
    },
    {
     "data": {
      "text/plain": [
       "DecisionTreeClassifier(class_weight=None, criterion='gini', max_depth=None,\n",
       "                       max_features=None, max_leaf_nodes=None,\n",
       "                       min_impurity_decrease=0.0, min_impurity_split=None,\n",
       "                       min_samples_leaf=1, min_samples_split=500,\n",
       "                       min_weight_fraction_leaf=0.0, presort=False,\n",
       "                       random_state=123, splitter='best')"
      ]
     },
     "execution_count": 100,
     "metadata": {},
     "output_type": "execute_result"
    },
    {
     "name": "stdout",
     "output_type": "stream",
     "text": [
      "y_15m 2020-06-12 09:00:00\n",
      "2020-06-30 14:08:00\n",
      "PCA threshold 넘기기 위해 필요한 최소 Factor:  6\n"
     ]
    },
    {
     "data": {
      "text/plain": [
       "DecisionTreeClassifier(class_weight=None, criterion='gini', max_depth=None,\n",
       "                       max_features=None, max_leaf_nodes=None,\n",
       "                       min_impurity_decrease=0.0, min_impurity_split=None,\n",
       "                       min_samples_leaf=1, min_samples_split=500,\n",
       "                       min_weight_fraction_leaf=0.0, presort=False,\n",
       "                       random_state=123, splitter='best')"
      ]
     },
     "execution_count": 100,
     "metadata": {},
     "output_type": "execute_result"
    },
    {
     "name": "stdout",
     "output_type": "stream",
     "text": [
      "y_15m 2020-06-15 09:00:00\n",
      "2020-06-30 14:08:00\n",
      "PCA threshold 넘기기 위해 필요한 최소 Factor:  6\n"
     ]
    },
    {
     "data": {
      "text/plain": [
       "DecisionTreeClassifier(class_weight=None, criterion='gini', max_depth=None,\n",
       "                       max_features=None, max_leaf_nodes=None,\n",
       "                       min_impurity_decrease=0.0, min_impurity_split=None,\n",
       "                       min_samples_leaf=1, min_samples_split=500,\n",
       "                       min_weight_fraction_leaf=0.0, presort=False,\n",
       "                       random_state=123, splitter='best')"
      ]
     },
     "execution_count": 100,
     "metadata": {},
     "output_type": "execute_result"
    },
    {
     "name": "stdout",
     "output_type": "stream",
     "text": [
      "y_15m 2020-06-16 09:00:00\n",
      "2020-06-30 14:08:00\n",
      "PCA threshold 넘기기 위해 필요한 최소 Factor:  6\n"
     ]
    },
    {
     "data": {
      "text/plain": [
       "DecisionTreeClassifier(class_weight=None, criterion='gini', max_depth=None,\n",
       "                       max_features=None, max_leaf_nodes=None,\n",
       "                       min_impurity_decrease=0.0, min_impurity_split=None,\n",
       "                       min_samples_leaf=1, min_samples_split=500,\n",
       "                       min_weight_fraction_leaf=0.0, presort=False,\n",
       "                       random_state=123, splitter='best')"
      ]
     },
     "execution_count": 100,
     "metadata": {},
     "output_type": "execute_result"
    },
    {
     "name": "stdout",
     "output_type": "stream",
     "text": [
      "y_15m 2020-06-17 09:00:00\n",
      "2020-06-30 14:08:00\n",
      "PCA threshold 넘기기 위해 필요한 최소 Factor:  6\n"
     ]
    },
    {
     "data": {
      "text/plain": [
       "DecisionTreeClassifier(class_weight=None, criterion='gini', max_depth=None,\n",
       "                       max_features=None, max_leaf_nodes=None,\n",
       "                       min_impurity_decrease=0.0, min_impurity_split=None,\n",
       "                       min_samples_leaf=1, min_samples_split=500,\n",
       "                       min_weight_fraction_leaf=0.0, presort=False,\n",
       "                       random_state=123, splitter='best')"
      ]
     },
     "execution_count": 100,
     "metadata": {},
     "output_type": "execute_result"
    },
    {
     "name": "stdout",
     "output_type": "stream",
     "text": [
      "y_15m 2020-06-18 09:00:00\n",
      "2020-06-30 14:08:00\n",
      "PCA threshold 넘기기 위해 필요한 최소 Factor:  6\n"
     ]
    },
    {
     "data": {
      "text/plain": [
       "DecisionTreeClassifier(class_weight=None, criterion='gini', max_depth=None,\n",
       "                       max_features=None, max_leaf_nodes=None,\n",
       "                       min_impurity_decrease=0.0, min_impurity_split=None,\n",
       "                       min_samples_leaf=1, min_samples_split=500,\n",
       "                       min_weight_fraction_leaf=0.0, presort=False,\n",
       "                       random_state=123, splitter='best')"
      ]
     },
     "execution_count": 100,
     "metadata": {},
     "output_type": "execute_result"
    },
    {
     "name": "stdout",
     "output_type": "stream",
     "text": [
      "y_15m 2020-06-19 09:00:00\n",
      "2020-06-30 14:08:00\n",
      "PCA threshold 넘기기 위해 필요한 최소 Factor:  6\n"
     ]
    },
    {
     "data": {
      "text/plain": [
       "DecisionTreeClassifier(class_weight=None, criterion='gini', max_depth=None,\n",
       "                       max_features=None, max_leaf_nodes=None,\n",
       "                       min_impurity_decrease=0.0, min_impurity_split=None,\n",
       "                       min_samples_leaf=1, min_samples_split=500,\n",
       "                       min_weight_fraction_leaf=0.0, presort=False,\n",
       "                       random_state=123, splitter='best')"
      ]
     },
     "execution_count": 100,
     "metadata": {},
     "output_type": "execute_result"
    },
    {
     "name": "stdout",
     "output_type": "stream",
     "text": [
      "y_15m 2020-06-22 09:00:00\n",
      "2020-06-30 14:08:00\n",
      "PCA threshold 넘기기 위해 필요한 최소 Factor:  6\n"
     ]
    },
    {
     "data": {
      "text/plain": [
       "DecisionTreeClassifier(class_weight=None, criterion='gini', max_depth=None,\n",
       "                       max_features=None, max_leaf_nodes=None,\n",
       "                       min_impurity_decrease=0.0, min_impurity_split=None,\n",
       "                       min_samples_leaf=1, min_samples_split=500,\n",
       "                       min_weight_fraction_leaf=0.0, presort=False,\n",
       "                       random_state=123, splitter='best')"
      ]
     },
     "execution_count": 100,
     "metadata": {},
     "output_type": "execute_result"
    },
    {
     "name": "stdout",
     "output_type": "stream",
     "text": [
      "y_15m 2020-06-23 09:00:00\n",
      "2020-06-30 14:08:00\n",
      "PCA threshold 넘기기 위해 필요한 최소 Factor:  6\n"
     ]
    },
    {
     "data": {
      "text/plain": [
       "DecisionTreeClassifier(class_weight=None, criterion='gini', max_depth=None,\n",
       "                       max_features=None, max_leaf_nodes=None,\n",
       "                       min_impurity_decrease=0.0, min_impurity_split=None,\n",
       "                       min_samples_leaf=1, min_samples_split=500,\n",
       "                       min_weight_fraction_leaf=0.0, presort=False,\n",
       "                       random_state=123, splitter='best')"
      ]
     },
     "execution_count": 100,
     "metadata": {},
     "output_type": "execute_result"
    },
    {
     "name": "stdout",
     "output_type": "stream",
     "text": [
      "y_15m 2020-06-24 09:00:00\n",
      "2020-06-30 14:08:00\n",
      "PCA threshold 넘기기 위해 필요한 최소 Factor:  6\n"
     ]
    },
    {
     "data": {
      "text/plain": [
       "DecisionTreeClassifier(class_weight=None, criterion='gini', max_depth=None,\n",
       "                       max_features=None, max_leaf_nodes=None,\n",
       "                       min_impurity_decrease=0.0, min_impurity_split=None,\n",
       "                       min_samples_leaf=1, min_samples_split=500,\n",
       "                       min_weight_fraction_leaf=0.0, presort=False,\n",
       "                       random_state=123, splitter='best')"
      ]
     },
     "execution_count": 100,
     "metadata": {},
     "output_type": "execute_result"
    },
    {
     "name": "stdout",
     "output_type": "stream",
     "text": [
      "y_15m 2020-06-25 09:00:00\n",
      "2020-06-30 14:08:00\n",
      "PCA threshold 넘기기 위해 필요한 최소 Factor:  6\n"
     ]
    },
    {
     "data": {
      "text/plain": [
       "DecisionTreeClassifier(class_weight=None, criterion='gini', max_depth=None,\n",
       "                       max_features=None, max_leaf_nodes=None,\n",
       "                       min_impurity_decrease=0.0, min_impurity_split=None,\n",
       "                       min_samples_leaf=1, min_samples_split=500,\n",
       "                       min_weight_fraction_leaf=0.0, presort=False,\n",
       "                       random_state=123, splitter='best')"
      ]
     },
     "execution_count": 100,
     "metadata": {},
     "output_type": "execute_result"
    },
    {
     "name": "stdout",
     "output_type": "stream",
     "text": [
      "y_15m 2020-06-26 09:00:00\n",
      "2020-06-30 14:08:00\n",
      "PCA threshold 넘기기 위해 필요한 최소 Factor:  6\n"
     ]
    },
    {
     "data": {
      "text/plain": [
       "DecisionTreeClassifier(class_weight=None, criterion='gini', max_depth=None,\n",
       "                       max_features=None, max_leaf_nodes=None,\n",
       "                       min_impurity_decrease=0.0, min_impurity_split=None,\n",
       "                       min_samples_leaf=1, min_samples_split=500,\n",
       "                       min_weight_fraction_leaf=0.0, presort=False,\n",
       "                       random_state=123, splitter='best')"
      ]
     },
     "execution_count": 100,
     "metadata": {},
     "output_type": "execute_result"
    },
    {
     "name": "stdout",
     "output_type": "stream",
     "text": [
      "y_15m 2020-06-29 09:00:00\n",
      "2020-06-30 14:08:00\n",
      "PCA threshold 넘기기 위해 필요한 최소 Factor:  6\n"
     ]
    },
    {
     "data": {
      "text/plain": [
       "DecisionTreeClassifier(class_weight=None, criterion='gini', max_depth=None,\n",
       "                       max_features=None, max_leaf_nodes=None,\n",
       "                       min_impurity_decrease=0.0, min_impurity_split=None,\n",
       "                       min_samples_leaf=1, min_samples_split=500,\n",
       "                       min_weight_fraction_leaf=0.0, presort=False,\n",
       "                       random_state=123, splitter='best')"
      ]
     },
     "execution_count": 100,
     "metadata": {},
     "output_type": "execute_result"
    },
    {
     "name": "stdout",
     "output_type": "stream",
     "text": [
      "y_15m 2020-06-30 09:00:00\n",
      "2020-06-30 14:08:00\n",
      "PCA threshold 넘기기 위해 필요한 최소 Factor:  6\n"
     ]
    },
    {
     "data": {
      "text/plain": [
       "DecisionTreeClassifier(class_weight=None, criterion='gini', max_depth=None,\n",
       "                       max_features=None, max_leaf_nodes=None,\n",
       "                       min_impurity_decrease=0.0, min_impurity_split=None,\n",
       "                       min_samples_leaf=1, min_samples_split=500,\n",
       "                       min_weight_fraction_leaf=0.0, presort=False,\n",
       "                       random_state=123, splitter='best')"
      ]
     },
     "execution_count": 100,
     "metadata": {},
     "output_type": "execute_result"
    },
    {
     "name": "stdout",
     "output_type": "stream",
     "text": [
      "y_20m 2020-05-13 15:20:00\n",
      "2020-06-30 14:08:00\n",
      "PCA threshold 넘기기 위해 필요한 최소 Factor:  6\n"
     ]
    },
    {
     "data": {
      "text/plain": [
       "DecisionTreeClassifier(class_weight=None, criterion='gini', max_depth=None,\n",
       "                       max_features=None, max_leaf_nodes=None,\n",
       "                       min_impurity_decrease=0.0, min_impurity_split=None,\n",
       "                       min_samples_leaf=1, min_samples_split=500,\n",
       "                       min_weight_fraction_leaf=0.0, presort=False,\n",
       "                       random_state=123, splitter='best')"
      ]
     },
     "execution_count": 100,
     "metadata": {},
     "output_type": "execute_result"
    },
    {
     "name": "stdout",
     "output_type": "stream",
     "text": [
      "y_20m 2020-05-14 15:20:00\n",
      "2020-06-30 14:08:00\n",
      "PCA threshold 넘기기 위해 필요한 최소 Factor:  6\n"
     ]
    },
    {
     "data": {
      "text/plain": [
       "DecisionTreeClassifier(class_weight=None, criterion='gini', max_depth=None,\n",
       "                       max_features=None, max_leaf_nodes=None,\n",
       "                       min_impurity_decrease=0.0, min_impurity_split=None,\n",
       "                       min_samples_leaf=1, min_samples_split=500,\n",
       "                       min_weight_fraction_leaf=0.0, presort=False,\n",
       "                       random_state=123, splitter='best')"
      ]
     },
     "execution_count": 100,
     "metadata": {},
     "output_type": "execute_result"
    },
    {
     "name": "stdout",
     "output_type": "stream",
     "text": [
      "y_20m 2020-05-15 15:20:00\n",
      "2020-06-30 14:08:00\n",
      "PCA threshold 넘기기 위해 필요한 최소 Factor:  6\n"
     ]
    },
    {
     "data": {
      "text/plain": [
       "DecisionTreeClassifier(class_weight=None, criterion='gini', max_depth=None,\n",
       "                       max_features=None, max_leaf_nodes=None,\n",
       "                       min_impurity_decrease=0.0, min_impurity_split=None,\n",
       "                       min_samples_leaf=1, min_samples_split=500,\n",
       "                       min_weight_fraction_leaf=0.0, presort=False,\n",
       "                       random_state=123, splitter='best')"
      ]
     },
     "execution_count": 100,
     "metadata": {},
     "output_type": "execute_result"
    },
    {
     "name": "stdout",
     "output_type": "stream",
     "text": [
      "y_20m 2020-05-18 15:20:00\n",
      "2020-06-30 14:08:00\n",
      "PCA threshold 넘기기 위해 필요한 최소 Factor:  6\n"
     ]
    },
    {
     "data": {
      "text/plain": [
       "DecisionTreeClassifier(class_weight=None, criterion='gini', max_depth=None,\n",
       "                       max_features=None, max_leaf_nodes=None,\n",
       "                       min_impurity_decrease=0.0, min_impurity_split=None,\n",
       "                       min_samples_leaf=1, min_samples_split=500,\n",
       "                       min_weight_fraction_leaf=0.0, presort=False,\n",
       "                       random_state=123, splitter='best')"
      ]
     },
     "execution_count": 100,
     "metadata": {},
     "output_type": "execute_result"
    },
    {
     "name": "stdout",
     "output_type": "stream",
     "text": [
      "y_20m 2020-05-19 15:20:00\n",
      "2020-06-30 14:08:00\n",
      "PCA threshold 넘기기 위해 필요한 최소 Factor:  6\n"
     ]
    },
    {
     "data": {
      "text/plain": [
       "DecisionTreeClassifier(class_weight=None, criterion='gini', max_depth=None,\n",
       "                       max_features=None, max_leaf_nodes=None,\n",
       "                       min_impurity_decrease=0.0, min_impurity_split=None,\n",
       "                       min_samples_leaf=1, min_samples_split=500,\n",
       "                       min_weight_fraction_leaf=0.0, presort=False,\n",
       "                       random_state=123, splitter='best')"
      ]
     },
     "execution_count": 100,
     "metadata": {},
     "output_type": "execute_result"
    },
    {
     "name": "stdout",
     "output_type": "stream",
     "text": [
      "y_20m 2020-05-20 15:20:00\n",
      "2020-06-30 14:08:00\n",
      "PCA threshold 넘기기 위해 필요한 최소 Factor:  6\n"
     ]
    },
    {
     "data": {
      "text/plain": [
       "DecisionTreeClassifier(class_weight=None, criterion='gini', max_depth=None,\n",
       "                       max_features=None, max_leaf_nodes=None,\n",
       "                       min_impurity_decrease=0.0, min_impurity_split=None,\n",
       "                       min_samples_leaf=1, min_samples_split=500,\n",
       "                       min_weight_fraction_leaf=0.0, presort=False,\n",
       "                       random_state=123, splitter='best')"
      ]
     },
     "execution_count": 100,
     "metadata": {},
     "output_type": "execute_result"
    },
    {
     "name": "stdout",
     "output_type": "stream",
     "text": [
      "y_20m 2020-05-21 15:20:00\n",
      "2020-06-30 14:08:00\n",
      "PCA threshold 넘기기 위해 필요한 최소 Factor:  6\n"
     ]
    },
    {
     "data": {
      "text/plain": [
       "DecisionTreeClassifier(class_weight=None, criterion='gini', max_depth=None,\n",
       "                       max_features=None, max_leaf_nodes=None,\n",
       "                       min_impurity_decrease=0.0, min_impurity_split=None,\n",
       "                       min_samples_leaf=1, min_samples_split=500,\n",
       "                       min_weight_fraction_leaf=0.0, presort=False,\n",
       "                       random_state=123, splitter='best')"
      ]
     },
     "execution_count": 100,
     "metadata": {},
     "output_type": "execute_result"
    },
    {
     "name": "stdout",
     "output_type": "stream",
     "text": [
      "y_20m 2020-05-22 15:20:00\n",
      "2020-06-30 14:08:00\n",
      "PCA threshold 넘기기 위해 필요한 최소 Factor:  6\n"
     ]
    },
    {
     "data": {
      "text/plain": [
       "DecisionTreeClassifier(class_weight=None, criterion='gini', max_depth=None,\n",
       "                       max_features=None, max_leaf_nodes=None,\n",
       "                       min_impurity_decrease=0.0, min_impurity_split=None,\n",
       "                       min_samples_leaf=1, min_samples_split=500,\n",
       "                       min_weight_fraction_leaf=0.0, presort=False,\n",
       "                       random_state=123, splitter='best')"
      ]
     },
     "execution_count": 100,
     "metadata": {},
     "output_type": "execute_result"
    },
    {
     "name": "stdout",
     "output_type": "stream",
     "text": [
      "y_20m 2020-05-25 15:20:00\n",
      "2020-06-30 14:08:00\n",
      "PCA threshold 넘기기 위해 필요한 최소 Factor:  6\n"
     ]
    },
    {
     "data": {
      "text/plain": [
       "DecisionTreeClassifier(class_weight=None, criterion='gini', max_depth=None,\n",
       "                       max_features=None, max_leaf_nodes=None,\n",
       "                       min_impurity_decrease=0.0, min_impurity_split=None,\n",
       "                       min_samples_leaf=1, min_samples_split=500,\n",
       "                       min_weight_fraction_leaf=0.0, presort=False,\n",
       "                       random_state=123, splitter='best')"
      ]
     },
     "execution_count": 100,
     "metadata": {},
     "output_type": "execute_result"
    },
    {
     "name": "stdout",
     "output_type": "stream",
     "text": [
      "y_20m 2020-05-26 15:20:00\n",
      "2020-06-30 14:08:00\n",
      "PCA threshold 넘기기 위해 필요한 최소 Factor:  6\n"
     ]
    },
    {
     "data": {
      "text/plain": [
       "DecisionTreeClassifier(class_weight=None, criterion='gini', max_depth=None,\n",
       "                       max_features=None, max_leaf_nodes=None,\n",
       "                       min_impurity_decrease=0.0, min_impurity_split=None,\n",
       "                       min_samples_leaf=1, min_samples_split=500,\n",
       "                       min_weight_fraction_leaf=0.0, presort=False,\n",
       "                       random_state=123, splitter='best')"
      ]
     },
     "execution_count": 100,
     "metadata": {},
     "output_type": "execute_result"
    },
    {
     "name": "stdout",
     "output_type": "stream",
     "text": [
      "y_20m 2020-05-27 15:20:00\n",
      "2020-06-30 14:08:00\n",
      "PCA threshold 넘기기 위해 필요한 최소 Factor:  6\n"
     ]
    },
    {
     "data": {
      "text/plain": [
       "DecisionTreeClassifier(class_weight=None, criterion='gini', max_depth=None,\n",
       "                       max_features=None, max_leaf_nodes=None,\n",
       "                       min_impurity_decrease=0.0, min_impurity_split=None,\n",
       "                       min_samples_leaf=1, min_samples_split=500,\n",
       "                       min_weight_fraction_leaf=0.0, presort=False,\n",
       "                       random_state=123, splitter='best')"
      ]
     },
     "execution_count": 100,
     "metadata": {},
     "output_type": "execute_result"
    },
    {
     "name": "stdout",
     "output_type": "stream",
     "text": [
      "y_20m 2020-05-28 15:20:00\n",
      "2020-06-30 14:08:00\n",
      "PCA threshold 넘기기 위해 필요한 최소 Factor:  6\n"
     ]
    },
    {
     "data": {
      "text/plain": [
       "DecisionTreeClassifier(class_weight=None, criterion='gini', max_depth=None,\n",
       "                       max_features=None, max_leaf_nodes=None,\n",
       "                       min_impurity_decrease=0.0, min_impurity_split=None,\n",
       "                       min_samples_leaf=1, min_samples_split=500,\n",
       "                       min_weight_fraction_leaf=0.0, presort=False,\n",
       "                       random_state=123, splitter='best')"
      ]
     },
     "execution_count": 100,
     "metadata": {},
     "output_type": "execute_result"
    },
    {
     "name": "stdout",
     "output_type": "stream",
     "text": [
      "y_20m 2020-05-29 15:20:00\n",
      "2020-06-30 14:08:00\n",
      "PCA threshold 넘기기 위해 필요한 최소 Factor:  6\n"
     ]
    },
    {
     "data": {
      "text/plain": [
       "DecisionTreeClassifier(class_weight=None, criterion='gini', max_depth=None,\n",
       "                       max_features=None, max_leaf_nodes=None,\n",
       "                       min_impurity_decrease=0.0, min_impurity_split=None,\n",
       "                       min_samples_leaf=1, min_samples_split=500,\n",
       "                       min_weight_fraction_leaf=0.0, presort=False,\n",
       "                       random_state=123, splitter='best')"
      ]
     },
     "execution_count": 100,
     "metadata": {},
     "output_type": "execute_result"
    },
    {
     "name": "stdout",
     "output_type": "stream",
     "text": [
      "y_20m 2020-06-01 15:20:00\n",
      "2020-06-30 14:08:00\n",
      "PCA threshold 넘기기 위해 필요한 최소 Factor:  6\n"
     ]
    },
    {
     "data": {
      "text/plain": [
       "DecisionTreeClassifier(class_weight=None, criterion='gini', max_depth=None,\n",
       "                       max_features=None, max_leaf_nodes=None,\n",
       "                       min_impurity_decrease=0.0, min_impurity_split=None,\n",
       "                       min_samples_leaf=1, min_samples_split=500,\n",
       "                       min_weight_fraction_leaf=0.0, presort=False,\n",
       "                       random_state=123, splitter='best')"
      ]
     },
     "execution_count": 100,
     "metadata": {},
     "output_type": "execute_result"
    },
    {
     "name": "stdout",
     "output_type": "stream",
     "text": [
      "y_20m 2020-06-02 15:20:00\n",
      "2020-06-30 14:08:00\n",
      "PCA threshold 넘기기 위해 필요한 최소 Factor:  6\n"
     ]
    },
    {
     "data": {
      "text/plain": [
       "DecisionTreeClassifier(class_weight=None, criterion='gini', max_depth=None,\n",
       "                       max_features=None, max_leaf_nodes=None,\n",
       "                       min_impurity_decrease=0.0, min_impurity_split=None,\n",
       "                       min_samples_leaf=1, min_samples_split=500,\n",
       "                       min_weight_fraction_leaf=0.0, presort=False,\n",
       "                       random_state=123, splitter='best')"
      ]
     },
     "execution_count": 100,
     "metadata": {},
     "output_type": "execute_result"
    },
    {
     "name": "stdout",
     "output_type": "stream",
     "text": [
      "y_20m 2020-06-03 15:20:00\n",
      "2020-06-30 14:08:00\n",
      "PCA threshold 넘기기 위해 필요한 최소 Factor:  6\n"
     ]
    },
    {
     "data": {
      "text/plain": [
       "DecisionTreeClassifier(class_weight=None, criterion='gini', max_depth=None,\n",
       "                       max_features=None, max_leaf_nodes=None,\n",
       "                       min_impurity_decrease=0.0, min_impurity_split=None,\n",
       "                       min_samples_leaf=1, min_samples_split=500,\n",
       "                       min_weight_fraction_leaf=0.0, presort=False,\n",
       "                       random_state=123, splitter='best')"
      ]
     },
     "execution_count": 100,
     "metadata": {},
     "output_type": "execute_result"
    },
    {
     "name": "stdout",
     "output_type": "stream",
     "text": [
      "y_20m 2020-06-04 15:20:00\n",
      "2020-06-30 14:08:00\n",
      "PCA threshold 넘기기 위해 필요한 최소 Factor:  6\n"
     ]
    },
    {
     "data": {
      "text/plain": [
       "DecisionTreeClassifier(class_weight=None, criterion='gini', max_depth=None,\n",
       "                       max_features=None, max_leaf_nodes=None,\n",
       "                       min_impurity_decrease=0.0, min_impurity_split=None,\n",
       "                       min_samples_leaf=1, min_samples_split=500,\n",
       "                       min_weight_fraction_leaf=0.0, presort=False,\n",
       "                       random_state=123, splitter='best')"
      ]
     },
     "execution_count": 100,
     "metadata": {},
     "output_type": "execute_result"
    },
    {
     "name": "stdout",
     "output_type": "stream",
     "text": [
      "y_20m 2020-06-05 15:20:00\n",
      "2020-06-30 14:08:00\n",
      "PCA threshold 넘기기 위해 필요한 최소 Factor:  6\n"
     ]
    },
    {
     "data": {
      "text/plain": [
       "DecisionTreeClassifier(class_weight=None, criterion='gini', max_depth=None,\n",
       "                       max_features=None, max_leaf_nodes=None,\n",
       "                       min_impurity_decrease=0.0, min_impurity_split=None,\n",
       "                       min_samples_leaf=1, min_samples_split=500,\n",
       "                       min_weight_fraction_leaf=0.0, presort=False,\n",
       "                       random_state=123, splitter='best')"
      ]
     },
     "execution_count": 100,
     "metadata": {},
     "output_type": "execute_result"
    },
    {
     "name": "stdout",
     "output_type": "stream",
     "text": [
      "y_20m 2020-06-08 15:20:00\n",
      "2020-06-30 14:08:00\n",
      "PCA threshold 넘기기 위해 필요한 최소 Factor:  6\n"
     ]
    },
    {
     "data": {
      "text/plain": [
       "DecisionTreeClassifier(class_weight=None, criterion='gini', max_depth=None,\n",
       "                       max_features=None, max_leaf_nodes=None,\n",
       "                       min_impurity_decrease=0.0, min_impurity_split=None,\n",
       "                       min_samples_leaf=1, min_samples_split=500,\n",
       "                       min_weight_fraction_leaf=0.0, presort=False,\n",
       "                       random_state=123, splitter='best')"
      ]
     },
     "execution_count": 100,
     "metadata": {},
     "output_type": "execute_result"
    },
    {
     "name": "stdout",
     "output_type": "stream",
     "text": [
      "y_20m 2020-06-09 15:20:00\n",
      "2020-06-30 14:08:00\n",
      "PCA threshold 넘기기 위해 필요한 최소 Factor:  6\n"
     ]
    },
    {
     "data": {
      "text/plain": [
       "DecisionTreeClassifier(class_weight=None, criterion='gini', max_depth=None,\n",
       "                       max_features=None, max_leaf_nodes=None,\n",
       "                       min_impurity_decrease=0.0, min_impurity_split=None,\n",
       "                       min_samples_leaf=1, min_samples_split=500,\n",
       "                       min_weight_fraction_leaf=0.0, presort=False,\n",
       "                       random_state=123, splitter='best')"
      ]
     },
     "execution_count": 100,
     "metadata": {},
     "output_type": "execute_result"
    },
    {
     "name": "stdout",
     "output_type": "stream",
     "text": [
      "y_20m 2020-06-10 15:20:00\n",
      "2020-06-30 14:08:00\n",
      "PCA threshold 넘기기 위해 필요한 최소 Factor:  6\n"
     ]
    },
    {
     "data": {
      "text/plain": [
       "DecisionTreeClassifier(class_weight=None, criterion='gini', max_depth=None,\n",
       "                       max_features=None, max_leaf_nodes=None,\n",
       "                       min_impurity_decrease=0.0, min_impurity_split=None,\n",
       "                       min_samples_leaf=1, min_samples_split=500,\n",
       "                       min_weight_fraction_leaf=0.0, presort=False,\n",
       "                       random_state=123, splitter='best')"
      ]
     },
     "execution_count": 100,
     "metadata": {},
     "output_type": "execute_result"
    },
    {
     "name": "stdout",
     "output_type": "stream",
     "text": [
      "y_20m 2020-06-12 09:00:00\n",
      "2020-06-30 14:08:00\n",
      "PCA threshold 넘기기 위해 필요한 최소 Factor:  6\n"
     ]
    },
    {
     "data": {
      "text/plain": [
       "DecisionTreeClassifier(class_weight=None, criterion='gini', max_depth=None,\n",
       "                       max_features=None, max_leaf_nodes=None,\n",
       "                       min_impurity_decrease=0.0, min_impurity_split=None,\n",
       "                       min_samples_leaf=1, min_samples_split=500,\n",
       "                       min_weight_fraction_leaf=0.0, presort=False,\n",
       "                       random_state=123, splitter='best')"
      ]
     },
     "execution_count": 100,
     "metadata": {},
     "output_type": "execute_result"
    },
    {
     "name": "stdout",
     "output_type": "stream",
     "text": [
      "y_20m 2020-06-15 09:00:00\n",
      "2020-06-30 14:08:00\n",
      "PCA threshold 넘기기 위해 필요한 최소 Factor:  6\n"
     ]
    },
    {
     "data": {
      "text/plain": [
       "DecisionTreeClassifier(class_weight=None, criterion='gini', max_depth=None,\n",
       "                       max_features=None, max_leaf_nodes=None,\n",
       "                       min_impurity_decrease=0.0, min_impurity_split=None,\n",
       "                       min_samples_leaf=1, min_samples_split=500,\n",
       "                       min_weight_fraction_leaf=0.0, presort=False,\n",
       "                       random_state=123, splitter='best')"
      ]
     },
     "execution_count": 100,
     "metadata": {},
     "output_type": "execute_result"
    },
    {
     "name": "stdout",
     "output_type": "stream",
     "text": [
      "y_20m 2020-06-16 09:00:00\n",
      "2020-06-30 14:08:00\n",
      "PCA threshold 넘기기 위해 필요한 최소 Factor:  6\n"
     ]
    },
    {
     "data": {
      "text/plain": [
       "DecisionTreeClassifier(class_weight=None, criterion='gini', max_depth=None,\n",
       "                       max_features=None, max_leaf_nodes=None,\n",
       "                       min_impurity_decrease=0.0, min_impurity_split=None,\n",
       "                       min_samples_leaf=1, min_samples_split=500,\n",
       "                       min_weight_fraction_leaf=0.0, presort=False,\n",
       "                       random_state=123, splitter='best')"
      ]
     },
     "execution_count": 100,
     "metadata": {},
     "output_type": "execute_result"
    },
    {
     "name": "stdout",
     "output_type": "stream",
     "text": [
      "y_20m 2020-06-17 09:00:00\n",
      "2020-06-30 14:08:00\n",
      "PCA threshold 넘기기 위해 필요한 최소 Factor:  6\n"
     ]
    },
    {
     "data": {
      "text/plain": [
       "DecisionTreeClassifier(class_weight=None, criterion='gini', max_depth=None,\n",
       "                       max_features=None, max_leaf_nodes=None,\n",
       "                       min_impurity_decrease=0.0, min_impurity_split=None,\n",
       "                       min_samples_leaf=1, min_samples_split=500,\n",
       "                       min_weight_fraction_leaf=0.0, presort=False,\n",
       "                       random_state=123, splitter='best')"
      ]
     },
     "execution_count": 100,
     "metadata": {},
     "output_type": "execute_result"
    },
    {
     "name": "stdout",
     "output_type": "stream",
     "text": [
      "y_20m 2020-06-18 09:00:00\n",
      "2020-06-30 14:08:00\n",
      "PCA threshold 넘기기 위해 필요한 최소 Factor:  6\n"
     ]
    },
    {
     "data": {
      "text/plain": [
       "DecisionTreeClassifier(class_weight=None, criterion='gini', max_depth=None,\n",
       "                       max_features=None, max_leaf_nodes=None,\n",
       "                       min_impurity_decrease=0.0, min_impurity_split=None,\n",
       "                       min_samples_leaf=1, min_samples_split=500,\n",
       "                       min_weight_fraction_leaf=0.0, presort=False,\n",
       "                       random_state=123, splitter='best')"
      ]
     },
     "execution_count": 100,
     "metadata": {},
     "output_type": "execute_result"
    },
    {
     "name": "stdout",
     "output_type": "stream",
     "text": [
      "y_20m 2020-06-19 09:00:00\n",
      "2020-06-30 14:08:00\n",
      "PCA threshold 넘기기 위해 필요한 최소 Factor:  6\n"
     ]
    },
    {
     "data": {
      "text/plain": [
       "DecisionTreeClassifier(class_weight=None, criterion='gini', max_depth=None,\n",
       "                       max_features=None, max_leaf_nodes=None,\n",
       "                       min_impurity_decrease=0.0, min_impurity_split=None,\n",
       "                       min_samples_leaf=1, min_samples_split=500,\n",
       "                       min_weight_fraction_leaf=0.0, presort=False,\n",
       "                       random_state=123, splitter='best')"
      ]
     },
     "execution_count": 100,
     "metadata": {},
     "output_type": "execute_result"
    },
    {
     "name": "stdout",
     "output_type": "stream",
     "text": [
      "y_20m 2020-06-22 09:00:00\n",
      "2020-06-30 14:08:00\n",
      "PCA threshold 넘기기 위해 필요한 최소 Factor:  6\n"
     ]
    },
    {
     "data": {
      "text/plain": [
       "DecisionTreeClassifier(class_weight=None, criterion='gini', max_depth=None,\n",
       "                       max_features=None, max_leaf_nodes=None,\n",
       "                       min_impurity_decrease=0.0, min_impurity_split=None,\n",
       "                       min_samples_leaf=1, min_samples_split=500,\n",
       "                       min_weight_fraction_leaf=0.0, presort=False,\n",
       "                       random_state=123, splitter='best')"
      ]
     },
     "execution_count": 100,
     "metadata": {},
     "output_type": "execute_result"
    },
    {
     "name": "stdout",
     "output_type": "stream",
     "text": [
      "y_20m 2020-06-23 09:00:00\n",
      "2020-06-30 14:08:00\n",
      "PCA threshold 넘기기 위해 필요한 최소 Factor:  6\n"
     ]
    },
    {
     "data": {
      "text/plain": [
       "DecisionTreeClassifier(class_weight=None, criterion='gini', max_depth=None,\n",
       "                       max_features=None, max_leaf_nodes=None,\n",
       "                       min_impurity_decrease=0.0, min_impurity_split=None,\n",
       "                       min_samples_leaf=1, min_samples_split=500,\n",
       "                       min_weight_fraction_leaf=0.0, presort=False,\n",
       "                       random_state=123, splitter='best')"
      ]
     },
     "execution_count": 100,
     "metadata": {},
     "output_type": "execute_result"
    },
    {
     "name": "stdout",
     "output_type": "stream",
     "text": [
      "y_20m 2020-06-24 09:00:00\n",
      "2020-06-30 14:08:00\n",
      "PCA threshold 넘기기 위해 필요한 최소 Factor:  6\n"
     ]
    },
    {
     "data": {
      "text/plain": [
       "DecisionTreeClassifier(class_weight=None, criterion='gini', max_depth=None,\n",
       "                       max_features=None, max_leaf_nodes=None,\n",
       "                       min_impurity_decrease=0.0, min_impurity_split=None,\n",
       "                       min_samples_leaf=1, min_samples_split=500,\n",
       "                       min_weight_fraction_leaf=0.0, presort=False,\n",
       "                       random_state=123, splitter='best')"
      ]
     },
     "execution_count": 100,
     "metadata": {},
     "output_type": "execute_result"
    },
    {
     "name": "stdout",
     "output_type": "stream",
     "text": [
      "y_20m 2020-06-25 09:00:00\n",
      "2020-06-30 14:08:00\n",
      "PCA threshold 넘기기 위해 필요한 최소 Factor:  6\n"
     ]
    },
    {
     "data": {
      "text/plain": [
       "DecisionTreeClassifier(class_weight=None, criterion='gini', max_depth=None,\n",
       "                       max_features=None, max_leaf_nodes=None,\n",
       "                       min_impurity_decrease=0.0, min_impurity_split=None,\n",
       "                       min_samples_leaf=1, min_samples_split=500,\n",
       "                       min_weight_fraction_leaf=0.0, presort=False,\n",
       "                       random_state=123, splitter='best')"
      ]
     },
     "execution_count": 100,
     "metadata": {},
     "output_type": "execute_result"
    },
    {
     "name": "stdout",
     "output_type": "stream",
     "text": [
      "y_20m 2020-06-26 09:00:00\n",
      "2020-06-30 14:08:00\n",
      "PCA threshold 넘기기 위해 필요한 최소 Factor:  6\n"
     ]
    },
    {
     "data": {
      "text/plain": [
       "DecisionTreeClassifier(class_weight=None, criterion='gini', max_depth=None,\n",
       "                       max_features=None, max_leaf_nodes=None,\n",
       "                       min_impurity_decrease=0.0, min_impurity_split=None,\n",
       "                       min_samples_leaf=1, min_samples_split=500,\n",
       "                       min_weight_fraction_leaf=0.0, presort=False,\n",
       "                       random_state=123, splitter='best')"
      ]
     },
     "execution_count": 100,
     "metadata": {},
     "output_type": "execute_result"
    },
    {
     "name": "stdout",
     "output_type": "stream",
     "text": [
      "y_20m 2020-06-29 09:00:00\n",
      "2020-06-30 14:08:00\n",
      "PCA threshold 넘기기 위해 필요한 최소 Factor:  6\n"
     ]
    },
    {
     "data": {
      "text/plain": [
       "DecisionTreeClassifier(class_weight=None, criterion='gini', max_depth=None,\n",
       "                       max_features=None, max_leaf_nodes=None,\n",
       "                       min_impurity_decrease=0.0, min_impurity_split=None,\n",
       "                       min_samples_leaf=1, min_samples_split=500,\n",
       "                       min_weight_fraction_leaf=0.0, presort=False,\n",
       "                       random_state=123, splitter='best')"
      ]
     },
     "execution_count": 100,
     "metadata": {},
     "output_type": "execute_result"
    },
    {
     "name": "stdout",
     "output_type": "stream",
     "text": [
      "y_20m 2020-06-30 09:00:00\n",
      "2020-06-30 14:08:00\n",
      "PCA threshold 넘기기 위해 필요한 최소 Factor:  6\n"
     ]
    },
    {
     "data": {
      "text/plain": [
       "DecisionTreeClassifier(class_weight=None, criterion='gini', max_depth=None,\n",
       "                       max_features=None, max_leaf_nodes=None,\n",
       "                       min_impurity_decrease=0.0, min_impurity_split=None,\n",
       "                       min_samples_leaf=1, min_samples_split=500,\n",
       "                       min_weight_fraction_leaf=0.0, presort=False,\n",
       "                       random_state=123, splitter='best')"
      ]
     },
     "execution_count": 100,
     "metadata": {},
     "output_type": "execute_result"
    }
   ],
   "source": [
    "# PCA & Moving Window & Prediction(Softmax)\n",
    "\n",
    "window_size = 396 # 1 day data\n",
    "train_size = window_size * 5\n",
    "test_size = window_size\n",
    "\n",
    "result_dict = {}\n",
    "\n",
    "for j in range(len(date_list)):\n",
    "    y_label = \"y_\" + str(date_list[j]) + \"m\"\n",
    "    y = y_data.loc[train_test_index:, y_label]\n",
    "    i = train_test_index\n",
    "    test_results = pd.DataFrame(columns=['act_'+str(date_list[j]),'pred_'+str(date_list[j])])\n",
    "    while(i + train_size + test_size <= len(data)):\n",
    "        print(y_label,raw_data['datetime'].loc[i + train_size + test_size] )\n",
    "        print(raw_data['datetime'].loc[len(data)])\n",
    "        \n",
    "        # PCA func (with YK's func)\n",
    "        _, _, sub_data = run_pca_analysis(pca_selection_data_set, \n",
    "                                          classify_predict_data_set.loc[i:i+train_size + test_size] ,\n",
    "                                          selected_variable, 0.7, draw_plot = False )\n",
    "        \n",
    "        \n",
    "        # 데이터 쪼개기 : train & test data\n",
    "        train = pd.concat([sub_data.loc[i : i + train_size], y.loc[i : i + train_size]], axis=1)\n",
    "        test = pd.concat([sub_data.loc[i+train_size : i+train_size + test_size], y.loc[i+train_size : i+train_size + test_size]], axis=1)\n",
    "        \n",
    "        # train : like logistic regression(with softmax)\n",
    "        decision_tree = DecisionTreeClassifier(random_state = 123, min_samples_split = 500)\n",
    "        decision_tree.fit(train.iloc[:,:-1], train.iloc[:, -1])\n",
    "        \n",
    "        \n",
    "        # test : \n",
    "        res = decision_tree.predict(test.iloc[:,:-1])\n",
    "        \n",
    "        test_results = pd.concat([test_results, \n",
    "                                  pd.DataFrame({'act_'+str(date_list[j]):test.iloc[:, -1],\n",
    "                                                'pred_'+str(date_list[j]):res})])\n",
    "        \n",
    "        i = i + window_size\n",
    "        \n",
    "    result_dict[y_label] = test_results # {'y_1m' : [], 'y_3m' : []} []은 y & yhat"
   ]
  },
  {
   "cell_type": "code",
   "execution_count": 101,
   "metadata": {},
   "outputs": [],
   "source": [
    "export_graphviz(\n",
    "        decision_tree,\n",
    "        out_file = \"tree_output.dot\",\n",
    "        feature_names= train.iloc[:,:-1].columns,\n",
    "        class_names= \"Exited\",\n",
    "        rounded=True,\n",
    "        filled=True,\n",
    "        impurity = True,\n",
    ")"
   ]
  },
  {
   "cell_type": "code",
   "execution_count": 102,
   "metadata": {},
   "outputs": [
    {
     "data": {
      "image/png": "[encoded data removed]",
      "text/plain": [
       "<IPython.core.display.Image object>"
      ]
     },
     "execution_count": 102,
     "metadata": {},
     "output_type": "execute_result"
    }
   ],
   "source": [
    "graph = pgv.AGraph(\"./tree_output.dot\")\n",
    "graph.draw('tree_output.png', prog='dot')\n",
    "Image('tree_output.png')"
   ]
  },
  {
   "cell_type": "code",
   "execution_count": null,
   "metadata": {},
   "outputs": [],
   "source": []
  },
  {
   "cell_type": "code",
   "execution_count": null,
   "metadata": {},
   "outputs": [],
   "source": []
  },
  {
   "cell_type": "code",
   "execution_count": null,
   "metadata": {},
   "outputs": [],
   "source": []
  },
  {
   "cell_type": "code",
   "execution_count": null,
   "metadata": {},
   "outputs": [],
   "source": []
  },
  {
   "cell_type": "code",
   "execution_count": null,
   "metadata": {},
   "outputs": [],
   "source": []
  },
  {
   "cell_type": "code",
   "execution_count": null,
   "metadata": {},
   "outputs": [],
   "source": []
  },
  {
   "cell_type": "code",
   "execution_count": null,
   "metadata": {},
   "outputs": [],
   "source": []
  },
  {
   "cell_type": "code",
   "execution_count": null,
   "metadata": {},
   "outputs": [],
   "source": []
  },
  {
   "cell_type": "code",
   "execution_count": null,
   "metadata": {},
   "outputs": [],
   "source": []
  },
  {
   "cell_type": "code",
   "execution_count": null,
   "metadata": {},
   "outputs": [],
   "source": []
  },
  {
   "cell_type": "markdown",
   "metadata": {},
   "source": [
    "## Accuracy"
   ]
  },
  {
   "cell_type": "code",
   "execution_count": 103,
   "metadata": {},
   "outputs": [],
   "source": [
    "act = result_dict['y_15m']['act_15'].to_list()\n",
    "pred = result_dict['y_15m']['pred_15'].to_list()"
   ]
  },
  {
   "cell_type": "code",
   "execution_count": 104,
   "metadata": {},
   "outputs": [],
   "source": [
    "from sklearn.metrics import accuracy_score, f1_score, precision_score, recall_score, classification_report, confusion_matrix\n",
    "accuracy_metric = accuracy_score(act, pred)"
   ]
  },
  {
   "cell_type": "code",
   "execution_count": 105,
   "metadata": {},
   "outputs": [
    {
     "data": {
      "text/plain": [
       "-928"
      ]
     },
     "execution_count": 105,
     "metadata": {},
     "output_type": "execute_result"
    }
   ],
   "source": [
    "np.array(pred).sum()"
   ]
  },
  {
   "cell_type": "code",
   "execution_count": 106,
   "metadata": {},
   "outputs": [
    {
     "data": {
      "text/plain": [
       "0.3265668987998222"
      ]
     },
     "execution_count": 106,
     "metadata": {},
     "output_type": "execute_result"
    }
   ],
   "source": [
    "accuracy_metric"
   ]
  },
  {
   "cell_type": "code",
   "execution_count": 107,
   "metadata": {},
   "outputs": [
    {
     "name": "stdout",
     "output_type": "stream",
     "text": [
      "0.3258313206303424\n",
      "0.329197490227854\n",
      "0.32703450584280774\n"
     ]
    }
   ],
   "source": [
    "print(f1_score(act, pred, average=\"macro\"))\n",
    "print(precision_score(act, pred, average=\"macro\"))\n",
    "print(recall_score(act, pred, average=\"macro\"))"
   ]
  },
  {
   "cell_type": "code",
   "execution_count": 108,
   "metadata": {},
   "outputs": [
    {
     "data": {
      "text/plain": [
       "array([[1521, 1327, 1336],\n",
       "       [1801, 1259, 1380],\n",
       "       [1950, 1296, 1628]])"
      ]
     },
     "execution_count": 108,
     "metadata": {},
     "output_type": "execute_result"
    }
   ],
   "source": [
    "confusion = confusion_matrix(act, pred)\n",
    "confusion"
   ]
  },
  {
   "cell_type": "code",
   "execution_count": 109,
   "metadata": {
    "scrolled": true
   },
   "outputs": [
    {
     "name": "stdout",
     "output_type": "stream",
     "text": [
      "\n",
      "Classification Report\n",
      "\n",
      "              precision    recall  f1-score   support\n",
      "\n",
      "          -1       0.29      0.36      0.32      4184\n",
      "           0       0.32      0.28      0.30      4440\n",
      "           1       0.37      0.33      0.35      4874\n",
      "\n",
      "    accuracy                           0.33     13498\n",
      "   macro avg       0.33      0.33      0.33     13498\n",
      "weighted avg       0.33      0.33      0.33     13498\n",
      "\n"
     ]
    }
   ],
   "source": [
    "from sklearn.metrics import classification_report\n",
    "print('\\nClassification Report\\n')\n",
    "print(classification_report(act, pred))"
   ]
  },
  {
   "cell_type": "markdown",
   "metadata": {},
   "source": [
    "## Trading Profit Evaluation"
   ]
  },
  {
   "cell_type": "code",
   "execution_count": 110,
   "metadata": {},
   "outputs": [],
   "source": [
    "##필요한 DataSet\n",
    "predict_res_dict= result_dict.copy()\n",
    "temp_d = classify_predict_data_set.copy()\n",
    "original_col = temp_d.columns.to_list()\n",
    "\n",
    "##Label 생성\n",
    "for i in range(1, 21):\n",
    "    num_label = str(i) + 'm'\n",
    "    \n",
    "    #price change times 100!\n",
    "    temp_d['price_' + num_label] = (temp_d['close'].shift(-i) - temp_d['close']) * 100\n",
    "    \n",
    "    #만원단위 Tick Value(Lead로 계산하기위해 shift(-i))\n",
    "    temp_d['tick_value_' + num_label] = (temp_d['close'].shift(-i) - temp_d['close'])/0.05*2.5\n",
    "    \n",
    "    temp_d['ret_' + num_label] = ((temp_d['close'].shift(-i) - temp_d['close'])/temp_d['close']) * 100\n",
    "    temp_d['logret_' + num_label] = (np.log(temp_d['close'].shift(-i)/temp_d['close'])) * 100"
   ]
  },
  {
   "cell_type": "code",
   "execution_count": 111,
   "metadata": {
    "scrolled": false
   },
   "outputs": [
    {
     "data": {
      "text/html": [
       "<div>\n",
       "<style scoped>\n",
       "    .dataframe tbody tr th:only-of-type {\n",
       "        vertical-align: middle;\n",
       "    }\n",
       "\n",
       "    .dataframe tbody tr th {\n",
       "        vertical-align: top;\n",
       "    }\n",
       "\n",
       "    .dataframe thead th {\n",
       "        text-align: right;\n",
       "    }\n",
       "</style>\n",
       "<table border=\"1\" class=\"dataframe\">\n",
       "  <thead>\n",
       "    <tr style=\"text-align: right;\">\n",
       "      <th></th>\n",
       "      <th>close</th>\n",
       "      <th>BBANDS_upperband</th>\n",
       "      <th>BBANDS_middleband</th>\n",
       "      <th>BBANDS_lowerband</th>\n",
       "      <th>DEMA</th>\n",
       "      <th>EMA</th>\n",
       "      <th>HT_TRENDLINE</th>\n",
       "      <th>KAMA</th>\n",
       "      <th>MA</th>\n",
       "      <th>MIDPOINT</th>\n",
       "      <th>MIDPRICE</th>\n",
       "      <th>SAR</th>\n",
       "      <th>SAREXT</th>\n",
       "      <th>SMA</th>\n",
       "      <th>T3</th>\n",
       "      <th>TEMA</th>\n",
       "      <th>TRIMA</th>\n",
       "      <th>WMA</th>\n",
       "      <th>ADX</th>\n",
       "      <th>ADXR</th>\n",
       "      <th>APO</th>\n",
       "      <th>BOP</th>\n",
       "      <th>CCI</th>\n",
       "      <th>CMO</th>\n",
       "      <th>DX</th>\n",
       "      <th>macd_MACD</th>\n",
       "      <th>macdsignal_MACD</th>\n",
       "      <th>macdhist_MACD</th>\n",
       "      <th>macd_MACDEXT</th>\n",
       "      <th>macdsignal_MACDEXT</th>\n",
       "      <th>macdhist_MACDEXT</th>\n",
       "      <th>macd_MACDFIX</th>\n",
       "      <th>macdsignal_MACDFIX</th>\n",
       "      <th>macdhist_MACDFIX</th>\n",
       "      <th>MFI</th>\n",
       "      <th>MINUS_DI</th>\n",
       "      <th>MINUS_DM</th>\n",
       "      <th>MOM</th>\n",
       "      <th>PLUS_DI</th>\n",
       "      <th>PLUS_DM</th>\n",
       "      <th>PPO</th>\n",
       "      <th>ROC</th>\n",
       "      <th>ROCP</th>\n",
       "      <th>ROCR</th>\n",
       "      <th>ROCR100</th>\n",
       "      <th>RSI</th>\n",
       "      <th>slowk</th>\n",
       "      <th>slowd</th>\n",
       "      <th>fastk_STOCHF</th>\n",
       "      <th>fastd_STOCHF</th>\n",
       "      <th>slowk_STOCHRSI</th>\n",
       "      <th>slowd_STOCHRSI</th>\n",
       "      <th>TRIX</th>\n",
       "      <th>ULTOSC</th>\n",
       "      <th>WILLR</th>\n",
       "      <th>AD</th>\n",
       "      <th>ADOSC</th>\n",
       "      <th>OBV</th>\n",
       "      <th>ATR</th>\n",
       "      <th>NATR</th>\n",
       "      <th>TRANGE</th>\n",
       "      <th>AVGPRICE</th>\n",
       "      <th>MEDPRICE</th>\n",
       "      <th>WCLPRICE</th>\n",
       "      <th>HT_DCPERIOD</th>\n",
       "      <th>HT_DCPHASE</th>\n",
       "      <th>HT_TRENDMODE</th>\n",
       "      <th>CDL2CROWS</th>\n",
       "      <th>CDL3BLACKCROWS</th>\n",
       "      <th>CDL3INSIDE</th>\n",
       "      <th>CDL3LINESTRIKE</th>\n",
       "      <th>CDL3OUTSIDE</th>\n",
       "      <th>CDL3STARSINSOUTH</th>\n",
       "      <th>CDL3WHITESOLDIERS</th>\n",
       "      <th>CDLABANDONEDBABY</th>\n",
       "      <th>CDLADVANCEBLOCK</th>\n",
       "      <th>CDLBELTHOLD</th>\n",
       "      <th>CDLBREAKAWAY</th>\n",
       "      <th>CDLCLOSINGMARUBOZU</th>\n",
       "      <th>CDLCONCEALBABYSWALL</th>\n",
       "      <th>CDLCOUNTERATTACK</th>\n",
       "      <th>CDLDARKCLOUDCOVER</th>\n",
       "      <th>CDLDOJI</th>\n",
       "      <th>CDLDOJISTAR</th>\n",
       "      <th>CDLDRAGONFLYDOJI</th>\n",
       "      <th>CDLENGULFING</th>\n",
       "      <th>CDLEVENINGDOJISTAR</th>\n",
       "      <th>CDLEVENINGSTAR</th>\n",
       "      <th>CDLGAPSIDESIDEWHITE</th>\n",
       "      <th>CDLGRAVESTONEDOJI</th>\n",
       "      <th>CDLHAMMER</th>\n",
       "      <th>CDLHANGINGMAN</th>\n",
       "      <th>CDLHARAMI</th>\n",
       "      <th>CDLHARAMICROSS</th>\n",
       "      <th>CDLHIKKAKE</th>\n",
       "      <th>CDLHIKKAKEMOD</th>\n",
       "      <th>CDLHOMINGPIGEON</th>\n",
       "      <th>CDLIDENTICAL3CROWS</th>\n",
       "      <th>CDLINNECK</th>\n",
       "      <th>CDLINVERTEDHAMMER</th>\n",
       "      <th>CDLKICKING</th>\n",
       "      <th>CDLKICKINGBYLENGTH</th>\n",
       "      <th>CDLLADDERBOTTOM</th>\n",
       "      <th>CDLLONGLEGGEDDOJI</th>\n",
       "      <th>CDLLONGLINE</th>\n",
       "      <th>CDLMARUBOZU</th>\n",
       "      <th>CDLMATCHINGLOW</th>\n",
       "      <th>CDLMATHOLD</th>\n",
       "      <th>CDLMORNINGDOJISTAR</th>\n",
       "      <th>CDLMORNINGSTAR</th>\n",
       "      <th>CDLONNECK</th>\n",
       "      <th>CDLPIERCING</th>\n",
       "      <th>CDLRICKSHAWMAN</th>\n",
       "      <th>CDLRISEFALL3METHODS</th>\n",
       "      <th>CDLSEPARATINGLINES</th>\n",
       "      <th>CDLSHOOTINGSTAR</th>\n",
       "      <th>CDLSHORTLINE</th>\n",
       "      <th>CDLSPINNINGTOP</th>\n",
       "      <th>CDLSTALLEDPATTERN</th>\n",
       "      <th>CDLSTICKSANDWICH</th>\n",
       "      <th>CDLTAKURI</th>\n",
       "      <th>CDLTASUKIGAP</th>\n",
       "      <th>CDLTHRUSTING</th>\n",
       "      <th>CDLTRISTAR</th>\n",
       "      <th>CDLUNIQUE3RIVER</th>\n",
       "      <th>CDLUPSIDEGAP2CROWS</th>\n",
       "      <th>CDLXSIDEGAP3METHODS</th>\n",
       "      <th>BETA</th>\n",
       "      <th>CORREL</th>\n",
       "      <th>LINEARREG</th>\n",
       "      <th>LINEARREG_ANGLE</th>\n",
       "      <th>LINEARREG_INTERCEPT</th>\n",
       "      <th>LINEARREG_SLOPE</th>\n",
       "      <th>STDDEV</th>\n",
       "      <th>TSF</th>\n",
       "      <th>VAR</th>\n",
       "      <th>ADD</th>\n",
       "      <th>DIV</th>\n",
       "      <th>MAX</th>\n",
       "      <th>MIN</th>\n",
       "      <th>MULT</th>\n",
       "      <th>SUB</th>\n",
       "      <th>SUM</th>\n",
       "      <th>price_1m</th>\n",
       "      <th>tick_value_1m</th>\n",
       "      <th>ret_1m</th>\n",
       "      <th>logret_1m</th>\n",
       "      <th>price_2m</th>\n",
       "      <th>tick_value_2m</th>\n",
       "      <th>ret_2m</th>\n",
       "      <th>logret_2m</th>\n",
       "      <th>price_3m</th>\n",
       "      <th>tick_value_3m</th>\n",
       "      <th>ret_3m</th>\n",
       "      <th>logret_3m</th>\n",
       "      <th>price_4m</th>\n",
       "      <th>tick_value_4m</th>\n",
       "      <th>ret_4m</th>\n",
       "      <th>logret_4m</th>\n",
       "      <th>price_5m</th>\n",
       "      <th>tick_value_5m</th>\n",
       "      <th>ret_5m</th>\n",
       "      <th>logret_5m</th>\n",
       "      <th>price_6m</th>\n",
       "      <th>tick_value_6m</th>\n",
       "      <th>ret_6m</th>\n",
       "      <th>logret_6m</th>\n",
       "      <th>price_7m</th>\n",
       "      <th>tick_value_7m</th>\n",
       "      <th>ret_7m</th>\n",
       "      <th>logret_7m</th>\n",
       "      <th>price_8m</th>\n",
       "      <th>tick_value_8m</th>\n",
       "      <th>ret_8m</th>\n",
       "      <th>logret_8m</th>\n",
       "      <th>price_9m</th>\n",
       "      <th>tick_value_9m</th>\n",
       "      <th>ret_9m</th>\n",
       "      <th>logret_9m</th>\n",
       "      <th>price_10m</th>\n",
       "      <th>tick_value_10m</th>\n",
       "      <th>ret_10m</th>\n",
       "      <th>logret_10m</th>\n",
       "      <th>price_11m</th>\n",
       "      <th>tick_value_11m</th>\n",
       "      <th>ret_11m</th>\n",
       "      <th>logret_11m</th>\n",
       "      <th>price_12m</th>\n",
       "      <th>tick_value_12m</th>\n",
       "      <th>ret_12m</th>\n",
       "      <th>logret_12m</th>\n",
       "      <th>price_13m</th>\n",
       "      <th>tick_value_13m</th>\n",
       "      <th>ret_13m</th>\n",
       "      <th>logret_13m</th>\n",
       "      <th>price_14m</th>\n",
       "      <th>tick_value_14m</th>\n",
       "      <th>ret_14m</th>\n",
       "      <th>logret_14m</th>\n",
       "      <th>price_15m</th>\n",
       "      <th>tick_value_15m</th>\n",
       "      <th>ret_15m</th>\n",
       "      <th>logret_15m</th>\n",
       "      <th>price_16m</th>\n",
       "      <th>tick_value_16m</th>\n",
       "      <th>ret_16m</th>\n",
       "      <th>logret_16m</th>\n",
       "      <th>price_17m</th>\n",
       "      <th>tick_value_17m</th>\n",
       "      <th>ret_17m</th>\n",
       "      <th>logret_17m</th>\n",
       "      <th>price_18m</th>\n",
       "      <th>tick_value_18m</th>\n",
       "      <th>ret_18m</th>\n",
       "      <th>logret_18m</th>\n",
       "      <th>price_19m</th>\n",
       "      <th>tick_value_19m</th>\n",
       "      <th>ret_19m</th>\n",
       "      <th>logret_19m</th>\n",
       "      <th>price_20m</th>\n",
       "      <th>tick_value_20m</th>\n",
       "      <th>ret_20m</th>\n",
       "      <th>logret_20m</th>\n",
       "    </tr>\n",
       "  </thead>\n",
       "  <tbody>\n",
       "    <tr>\n",
       "      <th>49444</th>\n",
       "      <td>250.05</td>\n",
       "      <td>250.129666</td>\n",
       "      <td>249.98</td>\n",
       "      <td>249.830334</td>\n",
       "      <td>249.849102</td>\n",
       "      <td>250.047453</td>\n",
       "      <td>249.900408</td>\n",
       "      <td>250.014623</td>\n",
       "      <td>249.935000</td>\n",
       "      <td>249.950</td>\n",
       "      <td>249.975</td>\n",
       "      <td>307.95</td>\n",
       "      <td>-307.95</td>\n",
       "      <td>249.935000</td>\n",
       "      <td>250.006417</td>\n",
       "      <td>249.968051</td>\n",
       "      <td>249.870208</td>\n",
       "      <td>249.945054</td>\n",
       "      <td>19.341571</td>\n",
       "      <td>24.655781</td>\n",
       "      <td>0.130449</td>\n",
       "      <td>0.200000</td>\n",
       "      <td>7.679325</td>\n",
       "      <td>1.724504</td>\n",
       "      <td>8.394569</td>\n",
       "      <td>-0.024446</td>\n",
       "      <td>-0.056899</td>\n",
       "      <td>0.032452</td>\n",
       "      <td>0.130449</td>\n",
       "      <td>-0.001674</td>\n",
       "      <td>0.132123</td>\n",
       "      <td>-0.023481</td>\n",
       "      <td>-0.054693</td>\n",
       "      <td>0.031212</td>\n",
       "      <td>61.337197</td>\n",
       "      <td>16.849616</td>\n",
       "      <td>0.563908</td>\n",
       "      <td>-0.10</td>\n",
       "      <td>19.937757</td>\n",
       "      <td>0.667259</td>\n",
       "      <td>0.052197</td>\n",
       "      <td>-0.039976</td>\n",
       "      <td>-0.000400</td>\n",
       "      <td>0.999600</td>\n",
       "      <td>99.960024</td>\n",
       "      <td>50.862252</td>\n",
       "      <td>55.767196</td>\n",
       "      <td>34.462081</td>\n",
       "      <td>80.000000</td>\n",
       "      <td>55.767196</td>\n",
       "      <td>55.767196</td>\n",
       "      <td>34.462081</td>\n",
       "      <td>-0.008733</td>\n",
       "      <td>51.108857</td>\n",
       "      <td>-42.857143</td>\n",
       "      <td>73418.66925</td>\n",
       "      <td>75.314902</td>\n",
       "      <td>339378</td>\n",
       "      <td>0.239051</td>\n",
       "      <td>0.095601</td>\n",
       "      <td>0.25</td>\n",
       "      <td>250.0000</td>\n",
       "      <td>250.000000</td>\n",
       "      <td>250.0125</td>\n",
       "      <td>19.090371</td>\n",
       "      <td>206.300584</td>\n",
       "      <td>0</td>\n",
       "      <td>0</td>\n",
       "      <td>0</td>\n",
       "      <td>0</td>\n",
       "      <td>0</td>\n",
       "      <td>0</td>\n",
       "      <td>0</td>\n",
       "      <td>0</td>\n",
       "      <td>0</td>\n",
       "      <td>0</td>\n",
       "      <td>0</td>\n",
       "      <td>0</td>\n",
       "      <td>0</td>\n",
       "      <td>0</td>\n",
       "      <td>0</td>\n",
       "      <td>0</td>\n",
       "      <td>0</td>\n",
       "      <td>0</td>\n",
       "      <td>0</td>\n",
       "      <td>0</td>\n",
       "      <td>0</td>\n",
       "      <td>0</td>\n",
       "      <td>0</td>\n",
       "      <td>0</td>\n",
       "      <td>0</td>\n",
       "      <td>0</td>\n",
       "      <td>0</td>\n",
       "      <td>0</td>\n",
       "      <td>0</td>\n",
       "      <td>0</td>\n",
       "      <td>0</td>\n",
       "      <td>0</td>\n",
       "      <td>0</td>\n",
       "      <td>0</td>\n",
       "      <td>0</td>\n",
       "      <td>0</td>\n",
       "      <td>0</td>\n",
       "      <td>0</td>\n",
       "      <td>0</td>\n",
       "      <td>0</td>\n",
       "      <td>0</td>\n",
       "      <td>0</td>\n",
       "      <td>0</td>\n",
       "      <td>0</td>\n",
       "      <td>0</td>\n",
       "      <td>0</td>\n",
       "      <td>0</td>\n",
       "      <td>0</td>\n",
       "      <td>0</td>\n",
       "      <td>0</td>\n",
       "      <td>0</td>\n",
       "      <td>0</td>\n",
       "      <td>0</td>\n",
       "      <td>0</td>\n",
       "      <td>0</td>\n",
       "      <td>0</td>\n",
       "      <td>0</td>\n",
       "      <td>0</td>\n",
       "      <td>0</td>\n",
       "      <td>0</td>\n",
       "      <td>0</td>\n",
       "      <td>0.439575</td>\n",
       "      <td>0.812729</td>\n",
       "      <td>250.094286</td>\n",
       "      <td>0.862520</td>\n",
       "      <td>249.898571</td>\n",
       "      <td>0.015055</td>\n",
       "      <td>0.074833</td>\n",
       "      <td>250.109341</td>\n",
       "      <td>0.0056</td>\n",
       "      <td>499.95</td>\n",
       "      <td>1.001001</td>\n",
       "      <td>250.25</td>\n",
       "      <td>249.55</td>\n",
       "      <td>62487.4850</td>\n",
       "      <td>0.25</td>\n",
       "      <td>7498.05</td>\n",
       "      <td>-20.0</td>\n",
       "      <td>-10.0</td>\n",
       "      <td>-0.079984</td>\n",
       "      <td>-0.080016</td>\n",
       "      <td>-25.0</td>\n",
       "      <td>-12.5</td>\n",
       "      <td>-0.099980</td>\n",
       "      <td>-0.100030</td>\n",
       "      <td>-30.0</td>\n",
       "      <td>-15.0</td>\n",
       "      <td>-0.119976</td>\n",
       "      <td>-0.120048</td>\n",
       "      <td>-35.0</td>\n",
       "      <td>-17.5</td>\n",
       "      <td>-0.139972</td>\n",
       "      <td>-0.140070</td>\n",
       "      <td>-30.0</td>\n",
       "      <td>-15.0</td>\n",
       "      <td>-0.119976</td>\n",
       "      <td>-0.120048</td>\n",
       "      <td>-35.0</td>\n",
       "      <td>-17.5</td>\n",
       "      <td>-0.139972</td>\n",
       "      <td>-0.140070</td>\n",
       "      <td>-45.0</td>\n",
       "      <td>-22.5</td>\n",
       "      <td>-0.179964</td>\n",
       "      <td>-0.180126</td>\n",
       "      <td>-45.0</td>\n",
       "      <td>-22.5</td>\n",
       "      <td>-0.179964</td>\n",
       "      <td>-0.180126</td>\n",
       "      <td>-30.0</td>\n",
       "      <td>-15.0</td>\n",
       "      <td>-0.119976</td>\n",
       "      <td>-0.120048</td>\n",
       "      <td>-50.0</td>\n",
       "      <td>-25.0</td>\n",
       "      <td>-0.199960</td>\n",
       "      <td>-0.200160</td>\n",
       "      <td>-40.0</td>\n",
       "      <td>-20.0</td>\n",
       "      <td>-0.159968</td>\n",
       "      <td>-0.160096</td>\n",
       "      <td>-40.0</td>\n",
       "      <td>-20.0</td>\n",
       "      <td>-0.159968</td>\n",
       "      <td>-0.160096</td>\n",
       "      <td>-55.0</td>\n",
       "      <td>-27.5</td>\n",
       "      <td>-0.219956</td>\n",
       "      <td>-0.220198</td>\n",
       "      <td>-55.0</td>\n",
       "      <td>-27.5</td>\n",
       "      <td>-0.219956</td>\n",
       "      <td>-0.220198</td>\n",
       "      <td>-45.0</td>\n",
       "      <td>-22.5</td>\n",
       "      <td>-0.179964</td>\n",
       "      <td>-0.180126</td>\n",
       "      <td>305.0</td>\n",
       "      <td>152.5</td>\n",
       "      <td>1.219756</td>\n",
       "      <td>1.212377</td>\n",
       "      <td>295.0</td>\n",
       "      <td>147.5</td>\n",
       "      <td>1.179764</td>\n",
       "      <td>1.172859</td>\n",
       "      <td>310.0</td>\n",
       "      <td>155.0</td>\n",
       "      <td>1.239752</td>\n",
       "      <td>1.232130</td>\n",
       "      <td>325.0</td>\n",
       "      <td>162.5</td>\n",
       "      <td>1.299740</td>\n",
       "      <td>1.291366</td>\n",
       "      <td>285.0</td>\n",
       "      <td>142.5</td>\n",
       "      <td>1.139772</td>\n",
       "      <td>1.133326</td>\n",
       "    </tr>\n",
       "    <tr>\n",
       "      <th>49445</th>\n",
       "      <td>249.85</td>\n",
       "      <td>250.143303</td>\n",
       "      <td>249.96</td>\n",
       "      <td>249.776697</td>\n",
       "      <td>249.837243</td>\n",
       "      <td>250.034714</td>\n",
       "      <td>249.908737</td>\n",
       "      <td>250.011038</td>\n",
       "      <td>249.921667</td>\n",
       "      <td>250.000</td>\n",
       "      <td>250.000</td>\n",
       "      <td>307.95</td>\n",
       "      <td>-307.95</td>\n",
       "      <td>249.921667</td>\n",
       "      <td>250.002728</td>\n",
       "      <td>249.949341</td>\n",
       "      <td>249.875417</td>\n",
       "      <td>249.939570</td>\n",
       "      <td>18.559642</td>\n",
       "      <td>24.454381</td>\n",
       "      <td>0.136538</td>\n",
       "      <td>-1.000000</td>\n",
       "      <td>-54.564103</td>\n",
       "      <td>-12.236283</td>\n",
       "      <td>8.394569</td>\n",
       "      <td>-0.034456</td>\n",
       "      <td>-0.052410</td>\n",
       "      <td>0.017954</td>\n",
       "      <td>0.136538</td>\n",
       "      <td>0.031588</td>\n",
       "      <td>0.104950</td>\n",
       "      <td>-0.032770</td>\n",
       "      <td>-0.050308</td>\n",
       "      <td>0.017539</td>\n",
       "      <td>56.003589</td>\n",
       "      <td>15.830791</td>\n",
       "      <td>0.523628</td>\n",
       "      <td>-0.30</td>\n",
       "      <td>18.732206</td>\n",
       "      <td>0.619597</td>\n",
       "      <td>0.054634</td>\n",
       "      <td>-0.119928</td>\n",
       "      <td>-0.001199</td>\n",
       "      <td>0.998801</td>\n",
       "      <td>99.880072</td>\n",
       "      <td>43.881859</td>\n",
       "      <td>40.952381</td>\n",
       "      <td>41.940035</td>\n",
       "      <td>0.000000</td>\n",
       "      <td>40.952381</td>\n",
       "      <td>40.952381</td>\n",
       "      <td>41.940035</td>\n",
       "      <td>-0.008521</td>\n",
       "      <td>47.577713</td>\n",
       "      <td>-65.000000</td>\n",
       "      <td>72758.66925</td>\n",
       "      <td>-57.909548</td>\n",
       "      <td>338718</td>\n",
       "      <td>0.236261</td>\n",
       "      <td>0.094561</td>\n",
       "      <td>0.20</td>\n",
       "      <td>249.9500</td>\n",
       "      <td>249.916667</td>\n",
       "      <td>249.9000</td>\n",
       "      <td>18.712058</td>\n",
       "      <td>221.628389</td>\n",
       "      <td>0</td>\n",
       "      <td>0</td>\n",
       "      <td>0</td>\n",
       "      <td>0</td>\n",
       "      <td>0</td>\n",
       "      <td>0</td>\n",
       "      <td>0</td>\n",
       "      <td>0</td>\n",
       "      <td>0</td>\n",
       "      <td>0</td>\n",
       "      <td>-100</td>\n",
       "      <td>0</td>\n",
       "      <td>-100</td>\n",
       "      <td>0</td>\n",
       "      <td>0</td>\n",
       "      <td>0</td>\n",
       "      <td>0</td>\n",
       "      <td>0</td>\n",
       "      <td>0</td>\n",
       "      <td>0</td>\n",
       "      <td>0</td>\n",
       "      <td>0</td>\n",
       "      <td>0</td>\n",
       "      <td>0</td>\n",
       "      <td>0</td>\n",
       "      <td>0</td>\n",
       "      <td>0</td>\n",
       "      <td>0</td>\n",
       "      <td>0</td>\n",
       "      <td>0</td>\n",
       "      <td>0</td>\n",
       "      <td>0</td>\n",
       "      <td>0</td>\n",
       "      <td>0</td>\n",
       "      <td>0</td>\n",
       "      <td>0</td>\n",
       "      <td>0</td>\n",
       "      <td>0</td>\n",
       "      <td>-100</td>\n",
       "      <td>-100</td>\n",
       "      <td>0</td>\n",
       "      <td>0</td>\n",
       "      <td>0</td>\n",
       "      <td>0</td>\n",
       "      <td>0</td>\n",
       "      <td>0</td>\n",
       "      <td>0</td>\n",
       "      <td>0</td>\n",
       "      <td>0</td>\n",
       "      <td>0</td>\n",
       "      <td>0</td>\n",
       "      <td>0</td>\n",
       "      <td>0</td>\n",
       "      <td>0</td>\n",
       "      <td>0</td>\n",
       "      <td>0</td>\n",
       "      <td>0</td>\n",
       "      <td>0</td>\n",
       "      <td>0</td>\n",
       "      <td>0</td>\n",
       "      <td>0</td>\n",
       "      <td>0.166753</td>\n",
       "      <td>0.785874</td>\n",
       "      <td>250.007143</td>\n",
       "      <td>-0.031481</td>\n",
       "      <td>250.014286</td>\n",
       "      <td>-0.000549</td>\n",
       "      <td>0.091652</td>\n",
       "      <td>250.006593</td>\n",
       "      <td>0.0084</td>\n",
       "      <td>499.90</td>\n",
       "      <td>1.000800</td>\n",
       "      <td>250.25</td>\n",
       "      <td>249.55</td>\n",
       "      <td>62474.9925</td>\n",
       "      <td>0.20</td>\n",
       "      <td>7497.65</td>\n",
       "      <td>-5.0</td>\n",
       "      <td>-2.5</td>\n",
       "      <td>-0.020012</td>\n",
       "      <td>-0.020014</td>\n",
       "      <td>-10.0</td>\n",
       "      <td>-5.0</td>\n",
       "      <td>-0.040024</td>\n",
       "      <td>-0.040032</td>\n",
       "      <td>-15.0</td>\n",
       "      <td>-7.5</td>\n",
       "      <td>-0.060036</td>\n",
       "      <td>-0.060054</td>\n",
       "      <td>-10.0</td>\n",
       "      <td>-5.0</td>\n",
       "      <td>-0.040024</td>\n",
       "      <td>-0.040032</td>\n",
       "      <td>-15.0</td>\n",
       "      <td>-7.5</td>\n",
       "      <td>-0.060036</td>\n",
       "      <td>-0.060054</td>\n",
       "      <td>-25.0</td>\n",
       "      <td>-12.5</td>\n",
       "      <td>-0.100060</td>\n",
       "      <td>-0.100110</td>\n",
       "      <td>-25.0</td>\n",
       "      <td>-12.5</td>\n",
       "      <td>-0.100060</td>\n",
       "      <td>-0.100110</td>\n",
       "      <td>-10.0</td>\n",
       "      <td>-5.0</td>\n",
       "      <td>-0.040024</td>\n",
       "      <td>-0.040032</td>\n",
       "      <td>-30.0</td>\n",
       "      <td>-15.0</td>\n",
       "      <td>-0.120072</td>\n",
       "      <td>-0.120144</td>\n",
       "      <td>-20.0</td>\n",
       "      <td>-10.0</td>\n",
       "      <td>-0.080048</td>\n",
       "      <td>-0.080080</td>\n",
       "      <td>-20.0</td>\n",
       "      <td>-10.0</td>\n",
       "      <td>-0.080048</td>\n",
       "      <td>-0.080080</td>\n",
       "      <td>-35.0</td>\n",
       "      <td>-17.5</td>\n",
       "      <td>-0.140084</td>\n",
       "      <td>-0.140182</td>\n",
       "      <td>-35.0</td>\n",
       "      <td>-17.5</td>\n",
       "      <td>-0.140084</td>\n",
       "      <td>-0.140182</td>\n",
       "      <td>-25.0</td>\n",
       "      <td>-12.5</td>\n",
       "      <td>-0.100060</td>\n",
       "      <td>-0.100110</td>\n",
       "      <td>325.0</td>\n",
       "      <td>162.5</td>\n",
       "      <td>1.300780</td>\n",
       "      <td>1.292393</td>\n",
       "      <td>315.0</td>\n",
       "      <td>157.5</td>\n",
       "      <td>1.260756</td>\n",
       "      <td>1.252875</td>\n",
       "      <td>330.0</td>\n",
       "      <td>165.0</td>\n",
       "      <td>1.320792</td>\n",
       "      <td>1.312146</td>\n",
       "      <td>345.0</td>\n",
       "      <td>172.5</td>\n",
       "      <td>1.380828</td>\n",
       "      <td>1.371382</td>\n",
       "      <td>305.0</td>\n",
       "      <td>152.5</td>\n",
       "      <td>1.220732</td>\n",
       "      <td>1.213342</td>\n",
       "      <td>290.0</td>\n",
       "      <td>145.0</td>\n",
       "      <td>1.160696</td>\n",
       "      <td>1.154012</td>\n",
       "    </tr>\n",
       "    <tr>\n",
       "      <th>49446</th>\n",
       "      <td>249.80</td>\n",
       "      <td>250.159762</td>\n",
       "      <td>249.95</td>\n",
       "      <td>249.740238</td>\n",
       "      <td>249.820674</td>\n",
       "      <td>250.019571</td>\n",
       "      <td>249.921300</td>\n",
       "      <td>250.008037</td>\n",
       "      <td>249.913333</td>\n",
       "      <td>250.025</td>\n",
       "      <td>250.100</td>\n",
       "      <td>307.95</td>\n",
       "      <td>-307.95</td>\n",
       "      <td>249.913333</td>\n",
       "      <td>249.990551</td>\n",
       "      <td>249.924206</td>\n",
       "      <td>249.884167</td>\n",
       "      <td>249.931720</td>\n",
       "      <td>17.300895</td>\n",
       "      <td>23.593821</td>\n",
       "      <td>0.111218</td>\n",
       "      <td>-0.333333</td>\n",
       "      <td>-128.179825</td>\n",
       "      <td>-15.363560</td>\n",
       "      <td>0.937186</td>\n",
       "      <td>-0.045894</td>\n",
       "      <td>-0.051107</td>\n",
       "      <td>0.005213</td>\n",
       "      <td>0.111218</td>\n",
       "      <td>0.057657</td>\n",
       "      <td>0.053561</td>\n",
       "      <td>-0.043455</td>\n",
       "      <td>-0.048938</td>\n",
       "      <td>0.005483</td>\n",
       "      <td>49.012198</td>\n",
       "      <td>18.197895</td>\n",
       "      <td>0.586226</td>\n",
       "      <td>-0.30</td>\n",
       "      <td>17.859966</td>\n",
       "      <td>0.575340</td>\n",
       "      <td>0.044503</td>\n",
       "      <td>-0.119952</td>\n",
       "      <td>-0.001200</td>\n",
       "      <td>0.998800</td>\n",
       "      <td>99.880048</td>\n",
       "      <td>42.318220</td>\n",
       "      <td>31.428571</td>\n",
       "      <td>42.716049</td>\n",
       "      <td>14.285714</td>\n",
       "      <td>31.428571</td>\n",
       "      <td>31.428571</td>\n",
       "      <td>42.716049</td>\n",
       "      <td>-0.008325</td>\n",
       "      <td>47.645535</td>\n",
       "      <td>-87.500000</td>\n",
       "      <td>72484.33592</td>\n",
       "      <td>-194.433834</td>\n",
       "      <td>337895</td>\n",
       "      <td>0.230100</td>\n",
       "      <td>0.092114</td>\n",
       "      <td>0.15</td>\n",
       "      <td>249.8250</td>\n",
       "      <td>249.816667</td>\n",
       "      <td>249.8125</td>\n",
       "      <td>18.456517</td>\n",
       "      <td>246.575788</td>\n",
       "      <td>0</td>\n",
       "      <td>0</td>\n",
       "      <td>0</td>\n",
       "      <td>0</td>\n",
       "      <td>0</td>\n",
       "      <td>0</td>\n",
       "      <td>0</td>\n",
       "      <td>0</td>\n",
       "      <td>0</td>\n",
       "      <td>0</td>\n",
       "      <td>0</td>\n",
       "      <td>0</td>\n",
       "      <td>0</td>\n",
       "      <td>0</td>\n",
       "      <td>0</td>\n",
       "      <td>0</td>\n",
       "      <td>0</td>\n",
       "      <td>0</td>\n",
       "      <td>0</td>\n",
       "      <td>0</td>\n",
       "      <td>0</td>\n",
       "      <td>0</td>\n",
       "      <td>0</td>\n",
       "      <td>0</td>\n",
       "      <td>0</td>\n",
       "      <td>0</td>\n",
       "      <td>0</td>\n",
       "      <td>0</td>\n",
       "      <td>0</td>\n",
       "      <td>0</td>\n",
       "      <td>0</td>\n",
       "      <td>0</td>\n",
       "      <td>0</td>\n",
       "      <td>0</td>\n",
       "      <td>0</td>\n",
       "      <td>0</td>\n",
       "      <td>0</td>\n",
       "      <td>0</td>\n",
       "      <td>0</td>\n",
       "      <td>0</td>\n",
       "      <td>0</td>\n",
       "      <td>0</td>\n",
       "      <td>0</td>\n",
       "      <td>0</td>\n",
       "      <td>0</td>\n",
       "      <td>0</td>\n",
       "      <td>0</td>\n",
       "      <td>0</td>\n",
       "      <td>0</td>\n",
       "      <td>0</td>\n",
       "      <td>-100</td>\n",
       "      <td>-100</td>\n",
       "      <td>0</td>\n",
       "      <td>0</td>\n",
       "      <td>0</td>\n",
       "      <td>0</td>\n",
       "      <td>0</td>\n",
       "      <td>0</td>\n",
       "      <td>0</td>\n",
       "      <td>0</td>\n",
       "      <td>0</td>\n",
       "      <td>0.394223</td>\n",
       "      <td>0.776430</td>\n",
       "      <td>249.915714</td>\n",
       "      <td>-0.868814</td>\n",
       "      <td>250.112857</td>\n",
       "      <td>-0.015165</td>\n",
       "      <td>0.104881</td>\n",
       "      <td>249.900550</td>\n",
       "      <td>0.0110</td>\n",
       "      <td>499.65</td>\n",
       "      <td>1.000601</td>\n",
       "      <td>250.25</td>\n",
       "      <td>249.55</td>\n",
       "      <td>62412.5250</td>\n",
       "      <td>0.15</td>\n",
       "      <td>7497.40</td>\n",
       "      <td>-5.0</td>\n",
       "      <td>-2.5</td>\n",
       "      <td>-0.020016</td>\n",
       "      <td>-0.020018</td>\n",
       "      <td>-10.0</td>\n",
       "      <td>-5.0</td>\n",
       "      <td>-0.040032</td>\n",
       "      <td>-0.040040</td>\n",
       "      <td>-5.0</td>\n",
       "      <td>-2.5</td>\n",
       "      <td>-0.020016</td>\n",
       "      <td>-0.020018</td>\n",
       "      <td>-10.0</td>\n",
       "      <td>-5.0</td>\n",
       "      <td>-0.040032</td>\n",
       "      <td>-0.040040</td>\n",
       "      <td>-20.0</td>\n",
       "      <td>-10.0</td>\n",
       "      <td>-0.080064</td>\n",
       "      <td>-0.080096</td>\n",
       "      <td>-20.0</td>\n",
       "      <td>-10.0</td>\n",
       "      <td>-0.080064</td>\n",
       "      <td>-0.080096</td>\n",
       "      <td>-5.0</td>\n",
       "      <td>-2.5</td>\n",
       "      <td>-0.020016</td>\n",
       "      <td>-0.020018</td>\n",
       "      <td>-25.0</td>\n",
       "      <td>-12.5</td>\n",
       "      <td>-0.100080</td>\n",
       "      <td>-0.100130</td>\n",
       "      <td>-15.0</td>\n",
       "      <td>-7.5</td>\n",
       "      <td>-0.060048</td>\n",
       "      <td>-0.060066</td>\n",
       "      <td>-15.0</td>\n",
       "      <td>-7.5</td>\n",
       "      <td>-0.060048</td>\n",
       "      <td>-0.060066</td>\n",
       "      <td>-30.0</td>\n",
       "      <td>-15.0</td>\n",
       "      <td>-0.120096</td>\n",
       "      <td>-0.120168</td>\n",
       "      <td>-30.0</td>\n",
       "      <td>-15.0</td>\n",
       "      <td>-0.120096</td>\n",
       "      <td>-0.120168</td>\n",
       "      <td>-20.0</td>\n",
       "      <td>-10.0</td>\n",
       "      <td>-0.080064</td>\n",
       "      <td>-0.080096</td>\n",
       "      <td>330.0</td>\n",
       "      <td>165.0</td>\n",
       "      <td>1.321057</td>\n",
       "      <td>1.312407</td>\n",
       "      <td>320.0</td>\n",
       "      <td>160.0</td>\n",
       "      <td>1.281025</td>\n",
       "      <td>1.272889</td>\n",
       "      <td>335.0</td>\n",
       "      <td>167.5</td>\n",
       "      <td>1.341073</td>\n",
       "      <td>1.332160</td>\n",
       "      <td>350.0</td>\n",
       "      <td>175.0</td>\n",
       "      <td>1.401121</td>\n",
       "      <td>1.391396</td>\n",
       "      <td>310.0</td>\n",
       "      <td>155.0</td>\n",
       "      <td>1.240993</td>\n",
       "      <td>1.233356</td>\n",
       "      <td>295.0</td>\n",
       "      <td>147.5</td>\n",
       "      <td>1.180945</td>\n",
       "      <td>1.174026</td>\n",
       "      <td>280.0</td>\n",
       "      <td>140.0</td>\n",
       "      <td>1.120897</td>\n",
       "      <td>1.114661</td>\n",
       "    </tr>\n",
       "    <tr>\n",
       "      <th>49447</th>\n",
       "      <td>249.75</td>\n",
       "      <td>250.121517</td>\n",
       "      <td>249.89</td>\n",
       "      <td>249.658483</td>\n",
       "      <td>249.799845</td>\n",
       "      <td>250.002179</td>\n",
       "      <td>249.930863</td>\n",
       "      <td>250.004367</td>\n",
       "      <td>249.905000</td>\n",
       "      <td>250.000</td>\n",
       "      <td>250.125</td>\n",
       "      <td>307.95</td>\n",
       "      <td>-307.95</td>\n",
       "      <td>249.905000</td>\n",
       "      <td>249.970108</td>\n",
       "      <td>249.893482</td>\n",
       "      <td>249.894583</td>\n",
       "      <td>249.921183</td>\n",
       "      <td>16.132059</td>\n",
       "      <td>22.562502</td>\n",
       "      <td>0.091346</td>\n",
       "      <td>-0.333333</td>\n",
       "      <td>-136.807818</td>\n",
       "      <td>-18.491365</td>\n",
       "      <td>0.937186</td>\n",
       "      <td>-0.058322</td>\n",
       "      <td>-0.052550</td>\n",
       "      <td>-0.005772</td>\n",
       "      <td>0.091346</td>\n",
       "      <td>0.075819</td>\n",
       "      <td>0.015527</td>\n",
       "      <td>-0.055117</td>\n",
       "      <td>-0.050173</td>\n",
       "      <td>-0.004943</td>\n",
       "      <td>41.744970</td>\n",
       "      <td>17.328928</td>\n",
       "      <td>0.544353</td>\n",
       "      <td>-0.50</td>\n",
       "      <td>17.007135</td>\n",
       "      <td>0.534245</td>\n",
       "      <td>0.036554</td>\n",
       "      <td>-0.199800</td>\n",
       "      <td>-0.001998</td>\n",
       "      <td>0.998002</td>\n",
       "      <td>99.800200</td>\n",
       "      <td>40.754317</td>\n",
       "      <td>4.761905</td>\n",
       "      <td>25.714286</td>\n",
       "      <td>0.000000</td>\n",
       "      <td>4.761905</td>\n",
       "      <td>4.761905</td>\n",
       "      <td>25.714286</td>\n",
       "      <td>-0.008148</td>\n",
       "      <td>45.119978</td>\n",
       "      <td>-100.000000</td>\n",
       "      <td>71784.33592</td>\n",
       "      <td>-455.336148</td>\n",
       "      <td>337195</td>\n",
       "      <td>0.224378</td>\n",
       "      <td>0.089841</td>\n",
       "      <td>0.15</td>\n",
       "      <td>249.8000</td>\n",
       "      <td>249.800000</td>\n",
       "      <td>249.7875</td>\n",
       "      <td>18.256266</td>\n",
       "      <td>265.341574</td>\n",
       "      <td>0</td>\n",
       "      <td>0</td>\n",
       "      <td>0</td>\n",
       "      <td>0</td>\n",
       "      <td>0</td>\n",
       "      <td>0</td>\n",
       "      <td>0</td>\n",
       "      <td>0</td>\n",
       "      <td>0</td>\n",
       "      <td>0</td>\n",
       "      <td>0</td>\n",
       "      <td>0</td>\n",
       "      <td>0</td>\n",
       "      <td>0</td>\n",
       "      <td>0</td>\n",
       "      <td>0</td>\n",
       "      <td>0</td>\n",
       "      <td>0</td>\n",
       "      <td>0</td>\n",
       "      <td>0</td>\n",
       "      <td>0</td>\n",
       "      <td>0</td>\n",
       "      <td>0</td>\n",
       "      <td>0</td>\n",
       "      <td>0</td>\n",
       "      <td>0</td>\n",
       "      <td>0</td>\n",
       "      <td>0</td>\n",
       "      <td>0</td>\n",
       "      <td>0</td>\n",
       "      <td>0</td>\n",
       "      <td>0</td>\n",
       "      <td>0</td>\n",
       "      <td>0</td>\n",
       "      <td>0</td>\n",
       "      <td>0</td>\n",
       "      <td>0</td>\n",
       "      <td>0</td>\n",
       "      <td>0</td>\n",
       "      <td>0</td>\n",
       "      <td>0</td>\n",
       "      <td>0</td>\n",
       "      <td>0</td>\n",
       "      <td>0</td>\n",
       "      <td>0</td>\n",
       "      <td>0</td>\n",
       "      <td>0</td>\n",
       "      <td>0</td>\n",
       "      <td>0</td>\n",
       "      <td>0</td>\n",
       "      <td>0</td>\n",
       "      <td>0</td>\n",
       "      <td>0</td>\n",
       "      <td>0</td>\n",
       "      <td>0</td>\n",
       "      <td>0</td>\n",
       "      <td>0</td>\n",
       "      <td>0</td>\n",
       "      <td>0</td>\n",
       "      <td>0</td>\n",
       "      <td>0</td>\n",
       "      <td>0.647596</td>\n",
       "      <td>0.780611</td>\n",
       "      <td>249.817143</td>\n",
       "      <td>-1.705777</td>\n",
       "      <td>250.204286</td>\n",
       "      <td>-0.029780</td>\n",
       "      <td>0.115758</td>\n",
       "      <td>249.787363</td>\n",
       "      <td>0.0134</td>\n",
       "      <td>499.65</td>\n",
       "      <td>1.000601</td>\n",
       "      <td>250.25</td>\n",
       "      <td>249.55</td>\n",
       "      <td>62412.5250</td>\n",
       "      <td>0.15</td>\n",
       "      <td>7497.15</td>\n",
       "      <td>-5.0</td>\n",
       "      <td>-2.5</td>\n",
       "      <td>-0.020020</td>\n",
       "      <td>-0.020022</td>\n",
       "      <td>0.0</td>\n",
       "      <td>0.0</td>\n",
       "      <td>0.000000</td>\n",
       "      <td>0.000000</td>\n",
       "      <td>-5.0</td>\n",
       "      <td>-2.5</td>\n",
       "      <td>-0.020020</td>\n",
       "      <td>-0.020022</td>\n",
       "      <td>-15.0</td>\n",
       "      <td>-7.5</td>\n",
       "      <td>-0.060060</td>\n",
       "      <td>-0.060078</td>\n",
       "      <td>-15.0</td>\n",
       "      <td>-7.5</td>\n",
       "      <td>-0.060060</td>\n",
       "      <td>-0.060078</td>\n",
       "      <td>0.0</td>\n",
       "      <td>0.0</td>\n",
       "      <td>0.000000</td>\n",
       "      <td>0.000000</td>\n",
       "      <td>-20.0</td>\n",
       "      <td>-10.0</td>\n",
       "      <td>-0.080080</td>\n",
       "      <td>-0.080112</td>\n",
       "      <td>-10.0</td>\n",
       "      <td>-5.0</td>\n",
       "      <td>-0.040040</td>\n",
       "      <td>-0.040048</td>\n",
       "      <td>-10.0</td>\n",
       "      <td>-5.0</td>\n",
       "      <td>-0.040040</td>\n",
       "      <td>-0.040048</td>\n",
       "      <td>-25.0</td>\n",
       "      <td>-12.5</td>\n",
       "      <td>-0.100100</td>\n",
       "      <td>-0.100150</td>\n",
       "      <td>-25.0</td>\n",
       "      <td>-12.5</td>\n",
       "      <td>-0.100100</td>\n",
       "      <td>-0.100150</td>\n",
       "      <td>-15.0</td>\n",
       "      <td>-7.5</td>\n",
       "      <td>-0.060060</td>\n",
       "      <td>-0.060078</td>\n",
       "      <td>335.0</td>\n",
       "      <td>167.5</td>\n",
       "      <td>1.341341</td>\n",
       "      <td>1.332425</td>\n",
       "      <td>325.0</td>\n",
       "      <td>162.5</td>\n",
       "      <td>1.301301</td>\n",
       "      <td>1.292907</td>\n",
       "      <td>340.0</td>\n",
       "      <td>170.0</td>\n",
       "      <td>1.361361</td>\n",
       "      <td>1.352178</td>\n",
       "      <td>355.0</td>\n",
       "      <td>177.5</td>\n",
       "      <td>1.421421</td>\n",
       "      <td>1.411414</td>\n",
       "      <td>315.0</td>\n",
       "      <td>157.5</td>\n",
       "      <td>1.261261</td>\n",
       "      <td>1.253374</td>\n",
       "      <td>300.0</td>\n",
       "      <td>150.0</td>\n",
       "      <td>1.201201</td>\n",
       "      <td>1.194044</td>\n",
       "      <td>285.0</td>\n",
       "      <td>142.5</td>\n",
       "      <td>1.141141</td>\n",
       "      <td>1.134679</td>\n",
       "      <td>260.0</td>\n",
       "      <td>130.0</td>\n",
       "      <td>1.041041</td>\n",
       "      <td>1.035660</td>\n",
       "    </tr>\n",
       "    <tr>\n",
       "      <th>49448</th>\n",
       "      <td>249.70</td>\n",
       "      <td>250.071661</td>\n",
       "      <td>249.83</td>\n",
       "      <td>249.588339</td>\n",
       "      <td>249.775165</td>\n",
       "      <td>249.982684</td>\n",
       "      <td>249.939620</td>\n",
       "      <td>250.000038</td>\n",
       "      <td>249.896667</td>\n",
       "      <td>249.975</td>\n",
       "      <td>250.000</td>\n",
       "      <td>307.95</td>\n",
       "      <td>-307.95</td>\n",
       "      <td>249.896667</td>\n",
       "      <td>249.942511</td>\n",
       "      <td>249.857912</td>\n",
       "      <td>249.905625</td>\n",
       "      <td>249.907957</td>\n",
       "      <td>15.689068</td>\n",
       "      <td>21.926026</td>\n",
       "      <td>0.067628</td>\n",
       "      <td>-0.333333</td>\n",
       "      <td>-158.865248</td>\n",
       "      <td>-21.611127</td>\n",
       "      <td>9.930183</td>\n",
       "      <td>-0.071382</td>\n",
       "      <td>-0.056316</td>\n",
       "      <td>-0.015066</td>\n",
       "      <td>0.067628</td>\n",
       "      <td>0.086182</td>\n",
       "      <td>-0.018554</td>\n",
       "      <td>-0.067416</td>\n",
       "      <td>-0.053622</td>\n",
       "      <td>-0.013794</td>\n",
       "      <td>24.835139</td>\n",
       "      <td>19.741989</td>\n",
       "      <td>0.605471</td>\n",
       "      <td>-0.45</td>\n",
       "      <td>16.175333</td>\n",
       "      <td>0.496084</td>\n",
       "      <td>0.027064</td>\n",
       "      <td>-0.179892</td>\n",
       "      <td>-0.001799</td>\n",
       "      <td>0.998201</td>\n",
       "      <td>99.820108</td>\n",
       "      <td>39.194437</td>\n",
       "      <td>8.465608</td>\n",
       "      <td>14.885362</td>\n",
       "      <td>11.111111</td>\n",
       "      <td>8.465608</td>\n",
       "      <td>8.465608</td>\n",
       "      <td>14.885362</td>\n",
       "      <td>-0.007991</td>\n",
       "      <td>46.728691</td>\n",
       "      <td>-92.857143</td>\n",
       "      <td>71472.00258</td>\n",
       "      <td>-620.053505</td>\n",
       "      <td>336258</td>\n",
       "      <td>0.219066</td>\n",
       "      <td>0.087732</td>\n",
       "      <td>0.15</td>\n",
       "      <td>249.7250</td>\n",
       "      <td>249.716667</td>\n",
       "      <td>249.7125</td>\n",
       "      <td>18.025217</td>\n",
       "      <td>285.317894</td>\n",
       "      <td>0</td>\n",
       "      <td>0</td>\n",
       "      <td>0</td>\n",
       "      <td>0</td>\n",
       "      <td>0</td>\n",
       "      <td>0</td>\n",
       "      <td>0</td>\n",
       "      <td>0</td>\n",
       "      <td>0</td>\n",
       "      <td>0</td>\n",
       "      <td>0</td>\n",
       "      <td>0</td>\n",
       "      <td>0</td>\n",
       "      <td>0</td>\n",
       "      <td>0</td>\n",
       "      <td>0</td>\n",
       "      <td>0</td>\n",
       "      <td>0</td>\n",
       "      <td>0</td>\n",
       "      <td>0</td>\n",
       "      <td>0</td>\n",
       "      <td>0</td>\n",
       "      <td>0</td>\n",
       "      <td>0</td>\n",
       "      <td>0</td>\n",
       "      <td>0</td>\n",
       "      <td>0</td>\n",
       "      <td>0</td>\n",
       "      <td>0</td>\n",
       "      <td>0</td>\n",
       "      <td>0</td>\n",
       "      <td>0</td>\n",
       "      <td>0</td>\n",
       "      <td>0</td>\n",
       "      <td>0</td>\n",
       "      <td>0</td>\n",
       "      <td>0</td>\n",
       "      <td>0</td>\n",
       "      <td>0</td>\n",
       "      <td>0</td>\n",
       "      <td>0</td>\n",
       "      <td>0</td>\n",
       "      <td>0</td>\n",
       "      <td>0</td>\n",
       "      <td>0</td>\n",
       "      <td>0</td>\n",
       "      <td>0</td>\n",
       "      <td>0</td>\n",
       "      <td>0</td>\n",
       "      <td>0</td>\n",
       "      <td>0</td>\n",
       "      <td>0</td>\n",
       "      <td>0</td>\n",
       "      <td>0</td>\n",
       "      <td>0</td>\n",
       "      <td>0</td>\n",
       "      <td>0</td>\n",
       "      <td>0</td>\n",
       "      <td>0</td>\n",
       "      <td>0</td>\n",
       "      <td>0</td>\n",
       "      <td>0.765423</td>\n",
       "      <td>0.791241</td>\n",
       "      <td>249.757143</td>\n",
       "      <td>-1.951080</td>\n",
       "      <td>250.200000</td>\n",
       "      <td>-0.034066</td>\n",
       "      <td>0.120830</td>\n",
       "      <td>249.723077</td>\n",
       "      <td>0.0146</td>\n",
       "      <td>499.45</td>\n",
       "      <td>1.000601</td>\n",
       "      <td>250.25</td>\n",
       "      <td>249.55</td>\n",
       "      <td>62362.5700</td>\n",
       "      <td>0.15</td>\n",
       "      <td>7496.90</td>\n",
       "      <td>5.0</td>\n",
       "      <td>2.5</td>\n",
       "      <td>0.020024</td>\n",
       "      <td>0.020022</td>\n",
       "      <td>0.0</td>\n",
       "      <td>0.0</td>\n",
       "      <td>0.000000</td>\n",
       "      <td>0.000000</td>\n",
       "      <td>-10.0</td>\n",
       "      <td>-5.0</td>\n",
       "      <td>-0.040048</td>\n",
       "      <td>-0.040056</td>\n",
       "      <td>-10.0</td>\n",
       "      <td>-5.0</td>\n",
       "      <td>-0.040048</td>\n",
       "      <td>-0.040056</td>\n",
       "      <td>5.0</td>\n",
       "      <td>2.5</td>\n",
       "      <td>0.020024</td>\n",
       "      <td>0.020022</td>\n",
       "      <td>-15.0</td>\n",
       "      <td>-7.5</td>\n",
       "      <td>-0.060072</td>\n",
       "      <td>-0.060090</td>\n",
       "      <td>-5.0</td>\n",
       "      <td>-2.5</td>\n",
       "      <td>-0.020024</td>\n",
       "      <td>-0.020026</td>\n",
       "      <td>-5.0</td>\n",
       "      <td>-2.5</td>\n",
       "      <td>-0.020024</td>\n",
       "      <td>-0.020026</td>\n",
       "      <td>-20.0</td>\n",
       "      <td>-10.0</td>\n",
       "      <td>-0.080096</td>\n",
       "      <td>-0.080128</td>\n",
       "      <td>-20.0</td>\n",
       "      <td>-10.0</td>\n",
       "      <td>-0.080096</td>\n",
       "      <td>-0.080128</td>\n",
       "      <td>-10.0</td>\n",
       "      <td>-5.0</td>\n",
       "      <td>-0.040048</td>\n",
       "      <td>-0.040056</td>\n",
       "      <td>340.0</td>\n",
       "      <td>170.0</td>\n",
       "      <td>1.361634</td>\n",
       "      <td>1.352447</td>\n",
       "      <td>330.0</td>\n",
       "      <td>165.0</td>\n",
       "      <td>1.321586</td>\n",
       "      <td>1.312929</td>\n",
       "      <td>345.0</td>\n",
       "      <td>172.5</td>\n",
       "      <td>1.381658</td>\n",
       "      <td>1.372200</td>\n",
       "      <td>360.0</td>\n",
       "      <td>180.0</td>\n",
       "      <td>1.441730</td>\n",
       "      <td>1.431436</td>\n",
       "      <td>320.0</td>\n",
       "      <td>160.0</td>\n",
       "      <td>1.281538</td>\n",
       "      <td>1.273396</td>\n",
       "      <td>305.0</td>\n",
       "      <td>152.5</td>\n",
       "      <td>1.221466</td>\n",
       "      <td>1.214066</td>\n",
       "      <td>290.0</td>\n",
       "      <td>145.0</td>\n",
       "      <td>1.161394</td>\n",
       "      <td>1.154701</td>\n",
       "      <td>265.0</td>\n",
       "      <td>132.5</td>\n",
       "      <td>1.061274</td>\n",
       "      <td>1.055682</td>\n",
       "      <td>280.0</td>\n",
       "      <td>140.0</td>\n",
       "      <td>1.121346</td>\n",
       "      <td>1.115105</td>\n",
       "    </tr>\n",
       "    <tr>\n",
       "      <th>...</th>\n",
       "      <td>...</td>\n",
       "      <td>...</td>\n",
       "      <td>...</td>\n",
       "      <td>...</td>\n",
       "      <td>...</td>\n",
       "      <td>...</td>\n",
       "      <td>...</td>\n",
       "      <td>...</td>\n",
       "      <td>...</td>\n",
       "      <td>...</td>\n",
       "      <td>...</td>\n",
       "      <td>...</td>\n",
       "      <td>...</td>\n",
       "      <td>...</td>\n",
       "      <td>...</td>\n",
       "      <td>...</td>\n",
       "      <td>...</td>\n",
       "      <td>...</td>\n",
       "      <td>...</td>\n",
       "      <td>...</td>\n",
       "      <td>...</td>\n",
       "      <td>...</td>\n",
       "      <td>...</td>\n",
       "      <td>...</td>\n",
       "      <td>...</td>\n",
       "      <td>...</td>\n",
       "      <td>...</td>\n",
       "      <td>...</td>\n",
       "      <td>...</td>\n",
       "      <td>...</td>\n",
       "      <td>...</td>\n",
       "      <td>...</td>\n",
       "      <td>...</td>\n",
       "      <td>...</td>\n",
       "      <td>...</td>\n",
       "      <td>...</td>\n",
       "      <td>...</td>\n",
       "      <td>...</td>\n",
       "      <td>...</td>\n",
       "      <td>...</td>\n",
       "      <td>...</td>\n",
       "      <td>...</td>\n",
       "      <td>...</td>\n",
       "      <td>...</td>\n",
       "      <td>...</td>\n",
       "      <td>...</td>\n",
       "      <td>...</td>\n",
       "      <td>...</td>\n",
       "      <td>...</td>\n",
       "      <td>...</td>\n",
       "      <td>...</td>\n",
       "      <td>...</td>\n",
       "      <td>...</td>\n",
       "      <td>...</td>\n",
       "      <td>...</td>\n",
       "      <td>...</td>\n",
       "      <td>...</td>\n",
       "      <td>...</td>\n",
       "      <td>...</td>\n",
       "      <td>...</td>\n",
       "      <td>...</td>\n",
       "      <td>...</td>\n",
       "      <td>...</td>\n",
       "      <td>...</td>\n",
       "      <td>...</td>\n",
       "      <td>...</td>\n",
       "      <td>...</td>\n",
       "      <td>...</td>\n",
       "      <td>...</td>\n",
       "      <td>...</td>\n",
       "      <td>...</td>\n",
       "      <td>...</td>\n",
       "      <td>...</td>\n",
       "      <td>...</td>\n",
       "      <td>...</td>\n",
       "      <td>...</td>\n",
       "      <td>...</td>\n",
       "      <td>...</td>\n",
       "      <td>...</td>\n",
       "      <td>...</td>\n",
       "      <td>...</td>\n",
       "      <td>...</td>\n",
       "      <td>...</td>\n",
       "      <td>...</td>\n",
       "      <td>...</td>\n",
       "      <td>...</td>\n",
       "      <td>...</td>\n",
       "      <td>...</td>\n",
       "      <td>...</td>\n",
       "      <td>...</td>\n",
       "      <td>...</td>\n",
       "      <td>...</td>\n",
       "      <td>...</td>\n",
       "      <td>...</td>\n",
       "      <td>...</td>\n",
       "      <td>...</td>\n",
       "      <td>...</td>\n",
       "      <td>...</td>\n",
       "      <td>...</td>\n",
       "      <td>...</td>\n",
       "      <td>...</td>\n",
       "      <td>...</td>\n",
       "      <td>...</td>\n",
       "      <td>...</td>\n",
       "      <td>...</td>\n",
       "      <td>...</td>\n",
       "      <td>...</td>\n",
       "      <td>...</td>\n",
       "      <td>...</td>\n",
       "      <td>...</td>\n",
       "      <td>...</td>\n",
       "      <td>...</td>\n",
       "      <td>...</td>\n",
       "      <td>...</td>\n",
       "      <td>...</td>\n",
       "      <td>...</td>\n",
       "      <td>...</td>\n",
       "      <td>...</td>\n",
       "      <td>...</td>\n",
       "      <td>...</td>\n",
       "      <td>...</td>\n",
       "      <td>...</td>\n",
       "      <td>...</td>\n",
       "      <td>...</td>\n",
       "      <td>...</td>\n",
       "      <td>...</td>\n",
       "      <td>...</td>\n",
       "      <td>...</td>\n",
       "      <td>...</td>\n",
       "      <td>...</td>\n",
       "      <td>...</td>\n",
       "      <td>...</td>\n",
       "      <td>...</td>\n",
       "      <td>...</td>\n",
       "      <td>...</td>\n",
       "      <td>...</td>\n",
       "      <td>...</td>\n",
       "      <td>...</td>\n",
       "      <td>...</td>\n",
       "      <td>...</td>\n",
       "      <td>...</td>\n",
       "      <td>...</td>\n",
       "      <td>...</td>\n",
       "      <td>...</td>\n",
       "      <td>...</td>\n",
       "      <td>...</td>\n",
       "      <td>...</td>\n",
       "      <td>...</td>\n",
       "      <td>...</td>\n",
       "      <td>...</td>\n",
       "      <td>...</td>\n",
       "      <td>...</td>\n",
       "      <td>...</td>\n",
       "      <td>...</td>\n",
       "      <td>...</td>\n",
       "      <td>...</td>\n",
       "      <td>...</td>\n",
       "      <td>...</td>\n",
       "      <td>...</td>\n",
       "      <td>...</td>\n",
       "      <td>...</td>\n",
       "      <td>...</td>\n",
       "      <td>...</td>\n",
       "      <td>...</td>\n",
       "      <td>...</td>\n",
       "      <td>...</td>\n",
       "      <td>...</td>\n",
       "      <td>...</td>\n",
       "      <td>...</td>\n",
       "      <td>...</td>\n",
       "      <td>...</td>\n",
       "      <td>...</td>\n",
       "      <td>...</td>\n",
       "      <td>...</td>\n",
       "      <td>...</td>\n",
       "      <td>...</td>\n",
       "      <td>...</td>\n",
       "      <td>...</td>\n",
       "      <td>...</td>\n",
       "      <td>...</td>\n",
       "      <td>...</td>\n",
       "      <td>...</td>\n",
       "      <td>...</td>\n",
       "      <td>...</td>\n",
       "      <td>...</td>\n",
       "      <td>...</td>\n",
       "      <td>...</td>\n",
       "      <td>...</td>\n",
       "      <td>...</td>\n",
       "      <td>...</td>\n",
       "      <td>...</td>\n",
       "      <td>...</td>\n",
       "      <td>...</td>\n",
       "      <td>...</td>\n",
       "      <td>...</td>\n",
       "      <td>...</td>\n",
       "      <td>...</td>\n",
       "      <td>...</td>\n",
       "      <td>...</td>\n",
       "      <td>...</td>\n",
       "      <td>...</td>\n",
       "      <td>...</td>\n",
       "      <td>...</td>\n",
       "      <td>...</td>\n",
       "      <td>...</td>\n",
       "      <td>...</td>\n",
       "      <td>...</td>\n",
       "      <td>...</td>\n",
       "      <td>...</td>\n",
       "      <td>...</td>\n",
       "      <td>...</td>\n",
       "      <td>...</td>\n",
       "      <td>...</td>\n",
       "      <td>...</td>\n",
       "      <td>...</td>\n",
       "      <td>...</td>\n",
       "      <td>...</td>\n",
       "      <td>...</td>\n",
       "      <td>...</td>\n",
       "      <td>...</td>\n",
       "      <td>...</td>\n",
       "      <td>...</td>\n",
       "      <td>...</td>\n",
       "    </tr>\n",
       "    <tr>\n",
       "      <th>65279</th>\n",
       "      <td>279.90</td>\n",
       "      <td>280.304522</td>\n",
       "      <td>279.86</td>\n",
       "      <td>279.415478</td>\n",
       "      <td>279.814087</td>\n",
       "      <td>280.287427</td>\n",
       "      <td>280.176489</td>\n",
       "      <td>280.297827</td>\n",
       "      <td>280.210000</td>\n",
       "      <td>280.000</td>\n",
       "      <td>280.000</td>\n",
       "      <td>307.95</td>\n",
       "      <td>-307.95</td>\n",
       "      <td>280.210000</td>\n",
       "      <td>280.088886</td>\n",
       "      <td>279.880614</td>\n",
       "      <td>280.245208</td>\n",
       "      <td>280.136882</td>\n",
       "      <td>33.068056</td>\n",
       "      <td>36.963513</td>\n",
       "      <td>-0.104167</td>\n",
       "      <td>0.500000</td>\n",
       "      <td>-88.564477</td>\n",
       "      <td>-16.442169</td>\n",
       "      <td>22.953667</td>\n",
       "      <td>-0.202147</td>\n",
       "      <td>-0.182608</td>\n",
       "      <td>-0.019539</td>\n",
       "      <td>-0.104167</td>\n",
       "      <td>-0.041702</td>\n",
       "      <td>-0.062464</td>\n",
       "      <td>-0.191820</td>\n",
       "      <td>-0.173729</td>\n",
       "      <td>-0.018091</td>\n",
       "      <td>27.881709</td>\n",
       "      <td>27.175604</td>\n",
       "      <td>1.114645</td>\n",
       "      <td>-0.10</td>\n",
       "      <td>17.029022</td>\n",
       "      <td>0.698469</td>\n",
       "      <td>-0.037179</td>\n",
       "      <td>-0.035714</td>\n",
       "      <td>-0.000357</td>\n",
       "      <td>0.999643</td>\n",
       "      <td>99.964286</td>\n",
       "      <td>41.778916</td>\n",
       "      <td>21.111111</td>\n",
       "      <td>15.555556</td>\n",
       "      <td>46.666667</td>\n",
       "      <td>21.111111</td>\n",
       "      <td>21.111111</td>\n",
       "      <td>15.555556</td>\n",
       "      <td>-0.013234</td>\n",
       "      <td>38.447802</td>\n",
       "      <td>-61.111111</td>\n",
       "      <td>158730.79280</td>\n",
       "      <td>-986.874114</td>\n",
       "      <td>374570</td>\n",
       "      <td>0.292974</td>\n",
       "      <td>0.104671</td>\n",
       "      <td>0.40</td>\n",
       "      <td>279.8250</td>\n",
       "      <td>279.866667</td>\n",
       "      <td>279.8750</td>\n",
       "      <td>15.928690</td>\n",
       "      <td>-19.128356</td>\n",
       "      <td>0</td>\n",
       "      <td>0</td>\n",
       "      <td>0</td>\n",
       "      <td>0</td>\n",
       "      <td>0</td>\n",
       "      <td>0</td>\n",
       "      <td>0</td>\n",
       "      <td>0</td>\n",
       "      <td>0</td>\n",
       "      <td>0</td>\n",
       "      <td>0</td>\n",
       "      <td>0</td>\n",
       "      <td>0</td>\n",
       "      <td>0</td>\n",
       "      <td>0</td>\n",
       "      <td>0</td>\n",
       "      <td>0</td>\n",
       "      <td>0</td>\n",
       "      <td>0</td>\n",
       "      <td>0</td>\n",
       "      <td>0</td>\n",
       "      <td>0</td>\n",
       "      <td>0</td>\n",
       "      <td>0</td>\n",
       "      <td>0</td>\n",
       "      <td>0</td>\n",
       "      <td>0</td>\n",
       "      <td>0</td>\n",
       "      <td>0</td>\n",
       "      <td>0</td>\n",
       "      <td>0</td>\n",
       "      <td>0</td>\n",
       "      <td>0</td>\n",
       "      <td>0</td>\n",
       "      <td>0</td>\n",
       "      <td>0</td>\n",
       "      <td>0</td>\n",
       "      <td>0</td>\n",
       "      <td>0</td>\n",
       "      <td>0</td>\n",
       "      <td>0</td>\n",
       "      <td>0</td>\n",
       "      <td>0</td>\n",
       "      <td>0</td>\n",
       "      <td>0</td>\n",
       "      <td>0</td>\n",
       "      <td>0</td>\n",
       "      <td>0</td>\n",
       "      <td>0</td>\n",
       "      <td>0</td>\n",
       "      <td>0</td>\n",
       "      <td>0</td>\n",
       "      <td>0</td>\n",
       "      <td>0</td>\n",
       "      <td>0</td>\n",
       "      <td>0</td>\n",
       "      <td>0</td>\n",
       "      <td>0</td>\n",
       "      <td>0</td>\n",
       "      <td>0</td>\n",
       "      <td>0</td>\n",
       "      <td>0.384687</td>\n",
       "      <td>0.883140</td>\n",
       "      <td>279.827143</td>\n",
       "      <td>-2.466601</td>\n",
       "      <td>280.387143</td>\n",
       "      <td>-0.043077</td>\n",
       "      <td>0.222261</td>\n",
       "      <td>279.784066</td>\n",
       "      <td>0.0494</td>\n",
       "      <td>559.70</td>\n",
       "      <td>1.001430</td>\n",
       "      <td>280.60</td>\n",
       "      <td>279.60</td>\n",
       "      <td>78315.9825</td>\n",
       "      <td>0.40</td>\n",
       "      <td>8406.30</td>\n",
       "      <td>-25.0</td>\n",
       "      <td>-12.5</td>\n",
       "      <td>-0.089318</td>\n",
       "      <td>-0.089358</td>\n",
       "      <td>-5.0</td>\n",
       "      <td>-2.5</td>\n",
       "      <td>-0.017864</td>\n",
       "      <td>-0.017865</td>\n",
       "      <td>5.0</td>\n",
       "      <td>2.5</td>\n",
       "      <td>0.017864</td>\n",
       "      <td>0.017862</td>\n",
       "      <td>90.0</td>\n",
       "      <td>45.0</td>\n",
       "      <td>0.321543</td>\n",
       "      <td>0.321028</td>\n",
       "      <td>NaN</td>\n",
       "      <td>NaN</td>\n",
       "      <td>NaN</td>\n",
       "      <td>NaN</td>\n",
       "      <td>NaN</td>\n",
       "      <td>NaN</td>\n",
       "      <td>NaN</td>\n",
       "      <td>NaN</td>\n",
       "      <td>NaN</td>\n",
       "      <td>NaN</td>\n",
       "      <td>NaN</td>\n",
       "      <td>NaN</td>\n",
       "      <td>NaN</td>\n",
       "      <td>NaN</td>\n",
       "      <td>NaN</td>\n",
       "      <td>NaN</td>\n",
       "      <td>NaN</td>\n",
       "      <td>NaN</td>\n",
       "      <td>NaN</td>\n",
       "      <td>NaN</td>\n",
       "      <td>NaN</td>\n",
       "      <td>NaN</td>\n",
       "      <td>NaN</td>\n",
       "      <td>NaN</td>\n",
       "      <td>NaN</td>\n",
       "      <td>NaN</td>\n",
       "      <td>NaN</td>\n",
       "      <td>NaN</td>\n",
       "      <td>NaN</td>\n",
       "      <td>NaN</td>\n",
       "      <td>NaN</td>\n",
       "      <td>NaN</td>\n",
       "      <td>NaN</td>\n",
       "      <td>NaN</td>\n",
       "      <td>NaN</td>\n",
       "      <td>NaN</td>\n",
       "      <td>NaN</td>\n",
       "      <td>NaN</td>\n",
       "      <td>NaN</td>\n",
       "      <td>NaN</td>\n",
       "      <td>NaN</td>\n",
       "      <td>NaN</td>\n",
       "      <td>NaN</td>\n",
       "      <td>NaN</td>\n",
       "      <td>NaN</td>\n",
       "      <td>NaN</td>\n",
       "      <td>NaN</td>\n",
       "      <td>NaN</td>\n",
       "      <td>NaN</td>\n",
       "      <td>NaN</td>\n",
       "      <td>NaN</td>\n",
       "      <td>NaN</td>\n",
       "      <td>NaN</td>\n",
       "      <td>NaN</td>\n",
       "      <td>NaN</td>\n",
       "      <td>NaN</td>\n",
       "      <td>NaN</td>\n",
       "      <td>NaN</td>\n",
       "      <td>NaN</td>\n",
       "      <td>NaN</td>\n",
       "      <td>NaN</td>\n",
       "      <td>NaN</td>\n",
       "      <td>NaN</td>\n",
       "      <td>NaN</td>\n",
       "    </tr>\n",
       "    <tr>\n",
       "      <th>65280</th>\n",
       "      <td>279.65</td>\n",
       "      <td>279.971517</td>\n",
       "      <td>279.74</td>\n",
       "      <td>279.508483</td>\n",
       "      <td>279.765030</td>\n",
       "      <td>280.246303</td>\n",
       "      <td>280.136085</td>\n",
       "      <td>280.276259</td>\n",
       "      <td>280.178333</td>\n",
       "      <td>280.000</td>\n",
       "      <td>280.000</td>\n",
       "      <td>307.95</td>\n",
       "      <td>-307.95</td>\n",
       "      <td>280.178333</td>\n",
       "      <td>280.032765</td>\n",
       "      <td>279.819843</td>\n",
       "      <td>280.231667</td>\n",
       "      <td>280.100753</td>\n",
       "      <td>32.345600</td>\n",
       "      <td>36.086126</td>\n",
       "      <td>-0.132051</td>\n",
       "      <td>-0.857143</td>\n",
       "      <td>-101.449275</td>\n",
       "      <td>-25.471989</td>\n",
       "      <td>22.953667</td>\n",
       "      <td>-0.216806</td>\n",
       "      <td>-0.189448</td>\n",
       "      <td>-0.027359</td>\n",
       "      <td>-0.132051</td>\n",
       "      <td>-0.052422</td>\n",
       "      <td>-0.079630</td>\n",
       "      <td>-0.205681</td>\n",
       "      <td>-0.180119</td>\n",
       "      <td>-0.025562</td>\n",
       "      <td>27.588951</td>\n",
       "      <td>24.888461</td>\n",
       "      <td>1.035028</td>\n",
       "      <td>-0.35</td>\n",
       "      <td>15.595831</td>\n",
       "      <td>0.648578</td>\n",
       "      <td>-0.047138</td>\n",
       "      <td>-0.125000</td>\n",
       "      <td>-0.001250</td>\n",
       "      <td>0.998750</td>\n",
       "      <td>99.875000</td>\n",
       "      <td>37.264005</td>\n",
       "      <td>25.555556</td>\n",
       "      <td>17.407407</td>\n",
       "      <td>13.333333</td>\n",
       "      <td>25.555556</td>\n",
       "      <td>25.555556</td>\n",
       "      <td>17.407407</td>\n",
       "      <td>-0.013143</td>\n",
       "      <td>31.320554</td>\n",
       "      <td>-88.888889</td>\n",
       "      <td>157804.79280</td>\n",
       "      <td>-1138.291218</td>\n",
       "      <td>373644</td>\n",
       "      <td>0.297047</td>\n",
       "      <td>0.106221</td>\n",
       "      <td>0.35</td>\n",
       "      <td>279.8125</td>\n",
       "      <td>279.766667</td>\n",
       "      <td>279.7375</td>\n",
       "      <td>15.710232</td>\n",
       "      <td>-19.519990</td>\n",
       "      <td>0</td>\n",
       "      <td>0</td>\n",
       "      <td>0</td>\n",
       "      <td>0</td>\n",
       "      <td>0</td>\n",
       "      <td>0</td>\n",
       "      <td>0</td>\n",
       "      <td>0</td>\n",
       "      <td>0</td>\n",
       "      <td>0</td>\n",
       "      <td>0</td>\n",
       "      <td>0</td>\n",
       "      <td>-100</td>\n",
       "      <td>0</td>\n",
       "      <td>0</td>\n",
       "      <td>0</td>\n",
       "      <td>0</td>\n",
       "      <td>0</td>\n",
       "      <td>0</td>\n",
       "      <td>-100</td>\n",
       "      <td>0</td>\n",
       "      <td>0</td>\n",
       "      <td>0</td>\n",
       "      <td>0</td>\n",
       "      <td>0</td>\n",
       "      <td>0</td>\n",
       "      <td>0</td>\n",
       "      <td>0</td>\n",
       "      <td>0</td>\n",
       "      <td>0</td>\n",
       "      <td>0</td>\n",
       "      <td>0</td>\n",
       "      <td>0</td>\n",
       "      <td>0</td>\n",
       "      <td>0</td>\n",
       "      <td>0</td>\n",
       "      <td>0</td>\n",
       "      <td>0</td>\n",
       "      <td>-100</td>\n",
       "      <td>0</td>\n",
       "      <td>0</td>\n",
       "      <td>0</td>\n",
       "      <td>0</td>\n",
       "      <td>0</td>\n",
       "      <td>0</td>\n",
       "      <td>0</td>\n",
       "      <td>0</td>\n",
       "      <td>0</td>\n",
       "      <td>0</td>\n",
       "      <td>0</td>\n",
       "      <td>0</td>\n",
       "      <td>0</td>\n",
       "      <td>0</td>\n",
       "      <td>0</td>\n",
       "      <td>0</td>\n",
       "      <td>0</td>\n",
       "      <td>0</td>\n",
       "      <td>0</td>\n",
       "      <td>0</td>\n",
       "      <td>0</td>\n",
       "      <td>0</td>\n",
       "      <td>0.453857</td>\n",
       "      <td>0.880153</td>\n",
       "      <td>279.737143</td>\n",
       "      <td>-2.849844</td>\n",
       "      <td>280.384286</td>\n",
       "      <td>-0.049780</td>\n",
       "      <td>0.115758</td>\n",
       "      <td>279.687363</td>\n",
       "      <td>0.0134</td>\n",
       "      <td>559.65</td>\n",
       "      <td>1.001252</td>\n",
       "      <td>280.55</td>\n",
       "      <td>279.60</td>\n",
       "      <td>78302.0000</td>\n",
       "      <td>0.35</td>\n",
       "      <td>8405.35</td>\n",
       "      <td>20.0</td>\n",
       "      <td>10.0</td>\n",
       "      <td>0.071518</td>\n",
       "      <td>0.071492</td>\n",
       "      <td>30.0</td>\n",
       "      <td>15.0</td>\n",
       "      <td>0.107277</td>\n",
       "      <td>0.107219</td>\n",
       "      <td>115.0</td>\n",
       "      <td>57.5</td>\n",
       "      <td>0.411228</td>\n",
       "      <td>0.410385</td>\n",
       "      <td>NaN</td>\n",
       "      <td>NaN</td>\n",
       "      <td>NaN</td>\n",
       "      <td>NaN</td>\n",
       "      <td>NaN</td>\n",
       "      <td>NaN</td>\n",
       "      <td>NaN</td>\n",
       "      <td>NaN</td>\n",
       "      <td>NaN</td>\n",
       "      <td>NaN</td>\n",
       "      <td>NaN</td>\n",
       "      <td>NaN</td>\n",
       "      <td>NaN</td>\n",
       "      <td>NaN</td>\n",
       "      <td>NaN</td>\n",
       "      <td>NaN</td>\n",
       "      <td>NaN</td>\n",
       "      <td>NaN</td>\n",
       "      <td>NaN</td>\n",
       "      <td>NaN</td>\n",
       "      <td>NaN</td>\n",
       "      <td>NaN</td>\n",
       "      <td>NaN</td>\n",
       "      <td>NaN</td>\n",
       "      <td>NaN</td>\n",
       "      <td>NaN</td>\n",
       "      <td>NaN</td>\n",
       "      <td>NaN</td>\n",
       "      <td>NaN</td>\n",
       "      <td>NaN</td>\n",
       "      <td>NaN</td>\n",
       "      <td>NaN</td>\n",
       "      <td>NaN</td>\n",
       "      <td>NaN</td>\n",
       "      <td>NaN</td>\n",
       "      <td>NaN</td>\n",
       "      <td>NaN</td>\n",
       "      <td>NaN</td>\n",
       "      <td>NaN</td>\n",
       "      <td>NaN</td>\n",
       "      <td>NaN</td>\n",
       "      <td>NaN</td>\n",
       "      <td>NaN</td>\n",
       "      <td>NaN</td>\n",
       "      <td>NaN</td>\n",
       "      <td>NaN</td>\n",
       "      <td>NaN</td>\n",
       "      <td>NaN</td>\n",
       "      <td>NaN</td>\n",
       "      <td>NaN</td>\n",
       "      <td>NaN</td>\n",
       "      <td>NaN</td>\n",
       "      <td>NaN</td>\n",
       "      <td>NaN</td>\n",
       "      <td>NaN</td>\n",
       "      <td>NaN</td>\n",
       "      <td>NaN</td>\n",
       "      <td>NaN</td>\n",
       "      <td>NaN</td>\n",
       "      <td>NaN</td>\n",
       "      <td>NaN</td>\n",
       "      <td>NaN</td>\n",
       "      <td>NaN</td>\n",
       "      <td>NaN</td>\n",
       "      <td>NaN</td>\n",
       "      <td>NaN</td>\n",
       "      <td>NaN</td>\n",
       "      <td>NaN</td>\n",
       "    </tr>\n",
       "    <tr>\n",
       "      <th>65281</th>\n",
       "      <td>279.85</td>\n",
       "      <td>279.971517</td>\n",
       "      <td>279.74</td>\n",
       "      <td>279.508483</td>\n",
       "      <td>279.746593</td>\n",
       "      <td>280.220735</td>\n",
       "      <td>280.098125</td>\n",
       "      <td>280.270547</td>\n",
       "      <td>280.165000</td>\n",
       "      <td>280.000</td>\n",
       "      <td>280.000</td>\n",
       "      <td>307.95</td>\n",
       "      <td>-307.95</td>\n",
       "      <td>280.165000</td>\n",
       "      <td>279.983826</td>\n",
       "      <td>279.804542</td>\n",
       "      <td>280.217083</td>\n",
       "      <td>280.079570</td>\n",
       "      <td>31.402568</td>\n",
       "      <td>35.378927</td>\n",
       "      <td>-0.127244</td>\n",
       "      <td>0.375000</td>\n",
       "      <td>-63.510848</td>\n",
       "      <td>-14.785081</td>\n",
       "      <td>19.143154</td>\n",
       "      <td>-0.209866</td>\n",
       "      <td>-0.193532</td>\n",
       "      <td>-0.016335</td>\n",
       "      <td>-0.127244</td>\n",
       "      <td>-0.065278</td>\n",
       "      <td>-0.061966</td>\n",
       "      <td>-0.199265</td>\n",
       "      <td>-0.183948</td>\n",
       "      <td>-0.015317</td>\n",
       "      <td>30.010626</td>\n",
       "      <td>22.552403</td>\n",
       "      <td>0.961097</td>\n",
       "      <td>-0.45</td>\n",
       "      <td>15.305253</td>\n",
       "      <td>0.652251</td>\n",
       "      <td>-0.045424</td>\n",
       "      <td>-0.160542</td>\n",
       "      <td>-0.001605</td>\n",
       "      <td>0.998395</td>\n",
       "      <td>99.839458</td>\n",
       "      <td>42.607459</td>\n",
       "      <td>40.000000</td>\n",
       "      <td>28.888889</td>\n",
       "      <td>60.000000</td>\n",
       "      <td>40.000000</td>\n",
       "      <td>40.000000</td>\n",
       "      <td>28.888889</td>\n",
       "      <td>-0.013047</td>\n",
       "      <td>35.471164</td>\n",
       "      <td>-66.666667</td>\n",
       "      <td>157804.79280</td>\n",
       "      <td>-1096.753559</td>\n",
       "      <td>374726</td>\n",
       "      <td>0.304401</td>\n",
       "      <td>0.108773</td>\n",
       "      <td>0.40</td>\n",
       "      <td>279.8125</td>\n",
       "      <td>279.850000</td>\n",
       "      <td>279.8500</td>\n",
       "      <td>15.630368</td>\n",
       "      <td>-14.661811</td>\n",
       "      <td>1</td>\n",
       "      <td>0</td>\n",
       "      <td>0</td>\n",
       "      <td>0</td>\n",
       "      <td>0</td>\n",
       "      <td>0</td>\n",
       "      <td>0</td>\n",
       "      <td>0</td>\n",
       "      <td>0</td>\n",
       "      <td>0</td>\n",
       "      <td>0</td>\n",
       "      <td>0</td>\n",
       "      <td>0</td>\n",
       "      <td>0</td>\n",
       "      <td>0</td>\n",
       "      <td>0</td>\n",
       "      <td>0</td>\n",
       "      <td>0</td>\n",
       "      <td>0</td>\n",
       "      <td>0</td>\n",
       "      <td>0</td>\n",
       "      <td>0</td>\n",
       "      <td>0</td>\n",
       "      <td>0</td>\n",
       "      <td>0</td>\n",
       "      <td>0</td>\n",
       "      <td>100</td>\n",
       "      <td>0</td>\n",
       "      <td>0</td>\n",
       "      <td>0</td>\n",
       "      <td>0</td>\n",
       "      <td>0</td>\n",
       "      <td>0</td>\n",
       "      <td>0</td>\n",
       "      <td>0</td>\n",
       "      <td>0</td>\n",
       "      <td>0</td>\n",
       "      <td>0</td>\n",
       "      <td>0</td>\n",
       "      <td>0</td>\n",
       "      <td>0</td>\n",
       "      <td>0</td>\n",
       "      <td>0</td>\n",
       "      <td>0</td>\n",
       "      <td>0</td>\n",
       "      <td>0</td>\n",
       "      <td>0</td>\n",
       "      <td>0</td>\n",
       "      <td>0</td>\n",
       "      <td>0</td>\n",
       "      <td>0</td>\n",
       "      <td>0</td>\n",
       "      <td>0</td>\n",
       "      <td>0</td>\n",
       "      <td>0</td>\n",
       "      <td>0</td>\n",
       "      <td>0</td>\n",
       "      <td>0</td>\n",
       "      <td>0</td>\n",
       "      <td>0</td>\n",
       "      <td>0</td>\n",
       "      <td>0.550522</td>\n",
       "      <td>0.917472</td>\n",
       "      <td>279.724286</td>\n",
       "      <td>-2.648828</td>\n",
       "      <td>280.325714</td>\n",
       "      <td>-0.046264</td>\n",
       "      <td>0.115758</td>\n",
       "      <td>279.678022</td>\n",
       "      <td>0.0134</td>\n",
       "      <td>559.70</td>\n",
       "      <td>1.001430</td>\n",
       "      <td>280.55</td>\n",
       "      <td>279.60</td>\n",
       "      <td>78315.9825</td>\n",
       "      <td>0.40</td>\n",
       "      <td>8404.95</td>\n",
       "      <td>10.0</td>\n",
       "      <td>5.0</td>\n",
       "      <td>0.035733</td>\n",
       "      <td>0.035727</td>\n",
       "      <td>95.0</td>\n",
       "      <td>47.5</td>\n",
       "      <td>0.339468</td>\n",
       "      <td>0.338893</td>\n",
       "      <td>NaN</td>\n",
       "      <td>NaN</td>\n",
       "      <td>NaN</td>\n",
       "      <td>NaN</td>\n",
       "      <td>NaN</td>\n",
       "      <td>NaN</td>\n",
       "      <td>NaN</td>\n",
       "      <td>NaN</td>\n",
       "      <td>NaN</td>\n",
       "      <td>NaN</td>\n",
       "      <td>NaN</td>\n",
       "      <td>NaN</td>\n",
       "      <td>NaN</td>\n",
       "      <td>NaN</td>\n",
       "      <td>NaN</td>\n",
       "      <td>NaN</td>\n",
       "      <td>NaN</td>\n",
       "      <td>NaN</td>\n",
       "      <td>NaN</td>\n",
       "      <td>NaN</td>\n",
       "      <td>NaN</td>\n",
       "      <td>NaN</td>\n",
       "      <td>NaN</td>\n",
       "      <td>NaN</td>\n",
       "      <td>NaN</td>\n",
       "      <td>NaN</td>\n",
       "      <td>NaN</td>\n",
       "      <td>NaN</td>\n",
       "      <td>NaN</td>\n",
       "      <td>NaN</td>\n",
       "      <td>NaN</td>\n",
       "      <td>NaN</td>\n",
       "      <td>NaN</td>\n",
       "      <td>NaN</td>\n",
       "      <td>NaN</td>\n",
       "      <td>NaN</td>\n",
       "      <td>NaN</td>\n",
       "      <td>NaN</td>\n",
       "      <td>NaN</td>\n",
       "      <td>NaN</td>\n",
       "      <td>NaN</td>\n",
       "      <td>NaN</td>\n",
       "      <td>NaN</td>\n",
       "      <td>NaN</td>\n",
       "      <td>NaN</td>\n",
       "      <td>NaN</td>\n",
       "      <td>NaN</td>\n",
       "      <td>NaN</td>\n",
       "      <td>NaN</td>\n",
       "      <td>NaN</td>\n",
       "      <td>NaN</td>\n",
       "      <td>NaN</td>\n",
       "      <td>NaN</td>\n",
       "      <td>NaN</td>\n",
       "      <td>NaN</td>\n",
       "      <td>NaN</td>\n",
       "      <td>NaN</td>\n",
       "      <td>NaN</td>\n",
       "      <td>NaN</td>\n",
       "      <td>NaN</td>\n",
       "      <td>NaN</td>\n",
       "      <td>NaN</td>\n",
       "      <td>NaN</td>\n",
       "      <td>NaN</td>\n",
       "      <td>NaN</td>\n",
       "      <td>NaN</td>\n",
       "      <td>NaN</td>\n",
       "      <td>NaN</td>\n",
       "      <td>NaN</td>\n",
       "      <td>NaN</td>\n",
       "      <td>NaN</td>\n",
       "      <td>NaN</td>\n",
       "    </tr>\n",
       "    <tr>\n",
       "      <th>65282</th>\n",
       "      <td>279.95</td>\n",
       "      <td>280.041517</td>\n",
       "      <td>279.81</td>\n",
       "      <td>279.578483</td>\n",
       "      <td>279.743377</td>\n",
       "      <td>280.203268</td>\n",
       "      <td>280.067813</td>\n",
       "      <td>280.265132</td>\n",
       "      <td>280.148333</td>\n",
       "      <td>279.975</td>\n",
       "      <td>280.000</td>\n",
       "      <td>307.95</td>\n",
       "      <td>-307.95</td>\n",
       "      <td>280.148333</td>\n",
       "      <td>279.948451</td>\n",
       "      <td>279.810917</td>\n",
       "      <td>280.200625</td>\n",
       "      <td>280.065699</td>\n",
       "      <td>30.526895</td>\n",
       "      <td>35.002339</td>\n",
       "      <td>-0.121795</td>\n",
       "      <td>0.333333</td>\n",
       "      <td>-29.326047</td>\n",
       "      <td>-9.751573</td>\n",
       "      <td>19.143154</td>\n",
       "      <td>-0.194060</td>\n",
       "      <td>-0.193637</td>\n",
       "      <td>-0.000423</td>\n",
       "      <td>-0.121795</td>\n",
       "      <td>-0.078027</td>\n",
       "      <td>-0.043768</td>\n",
       "      <td>-0.184479</td>\n",
       "      <td>-0.184054</td>\n",
       "      <td>-0.000425</td>\n",
       "      <td>35.883647</td>\n",
       "      <td>21.728764</td>\n",
       "      <td>0.892447</td>\n",
       "      <td>-0.35</td>\n",
       "      <td>14.746289</td>\n",
       "      <td>0.605662</td>\n",
       "      <td>-0.043481</td>\n",
       "      <td>-0.124866</td>\n",
       "      <td>-0.001249</td>\n",
       "      <td>0.998751</td>\n",
       "      <td>99.875134</td>\n",
       "      <td>45.124213</td>\n",
       "      <td>51.111111</td>\n",
       "      <td>38.888889</td>\n",
       "      <td>80.000000</td>\n",
       "      <td>51.111111</td>\n",
       "      <td>51.111111</td>\n",
       "      <td>38.888889</td>\n",
       "      <td>-0.012934</td>\n",
       "      <td>35.355991</td>\n",
       "      <td>-55.555556</td>\n",
       "      <td>158111.79280</td>\n",
       "      <td>-882.374193</td>\n",
       "      <td>375647</td>\n",
       "      <td>0.293373</td>\n",
       "      <td>0.104795</td>\n",
       "      <td>0.15</td>\n",
       "      <td>279.9250</td>\n",
       "      <td>279.933333</td>\n",
       "      <td>279.9375</td>\n",
       "      <td>15.691170</td>\n",
       "      <td>-5.474980</td>\n",
       "      <td>1</td>\n",
       "      <td>0</td>\n",
       "      <td>0</td>\n",
       "      <td>0</td>\n",
       "      <td>0</td>\n",
       "      <td>0</td>\n",
       "      <td>0</td>\n",
       "      <td>0</td>\n",
       "      <td>0</td>\n",
       "      <td>0</td>\n",
       "      <td>0</td>\n",
       "      <td>0</td>\n",
       "      <td>0</td>\n",
       "      <td>0</td>\n",
       "      <td>0</td>\n",
       "      <td>0</td>\n",
       "      <td>0</td>\n",
       "      <td>0</td>\n",
       "      <td>0</td>\n",
       "      <td>0</td>\n",
       "      <td>0</td>\n",
       "      <td>0</td>\n",
       "      <td>0</td>\n",
       "      <td>0</td>\n",
       "      <td>0</td>\n",
       "      <td>0</td>\n",
       "      <td>0</td>\n",
       "      <td>0</td>\n",
       "      <td>0</td>\n",
       "      <td>0</td>\n",
       "      <td>0</td>\n",
       "      <td>0</td>\n",
       "      <td>0</td>\n",
       "      <td>0</td>\n",
       "      <td>0</td>\n",
       "      <td>0</td>\n",
       "      <td>0</td>\n",
       "      <td>0</td>\n",
       "      <td>0</td>\n",
       "      <td>0</td>\n",
       "      <td>0</td>\n",
       "      <td>0</td>\n",
       "      <td>0</td>\n",
       "      <td>0</td>\n",
       "      <td>0</td>\n",
       "      <td>0</td>\n",
       "      <td>0</td>\n",
       "      <td>0</td>\n",
       "      <td>0</td>\n",
       "      <td>0</td>\n",
       "      <td>100</td>\n",
       "      <td>0</td>\n",
       "      <td>0</td>\n",
       "      <td>0</td>\n",
       "      <td>0</td>\n",
       "      <td>0</td>\n",
       "      <td>0</td>\n",
       "      <td>0</td>\n",
       "      <td>0</td>\n",
       "      <td>0</td>\n",
       "      <td>0</td>\n",
       "      <td>0.217690</td>\n",
       "      <td>0.914209</td>\n",
       "      <td>279.758571</td>\n",
       "      <td>-2.064273</td>\n",
       "      <td>280.227143</td>\n",
       "      <td>-0.036044</td>\n",
       "      <td>0.115758</td>\n",
       "      <td>279.722528</td>\n",
       "      <td>0.0134</td>\n",
       "      <td>559.85</td>\n",
       "      <td>1.000536</td>\n",
       "      <td>280.55</td>\n",
       "      <td>279.60</td>\n",
       "      <td>78358.0000</td>\n",
       "      <td>0.15</td>\n",
       "      <td>8404.45</td>\n",
       "      <td>85.0</td>\n",
       "      <td>42.5</td>\n",
       "      <td>0.303626</td>\n",
       "      <td>0.303166</td>\n",
       "      <td>NaN</td>\n",
       "      <td>NaN</td>\n",
       "      <td>NaN</td>\n",
       "      <td>NaN</td>\n",
       "      <td>NaN</td>\n",
       "      <td>NaN</td>\n",
       "      <td>NaN</td>\n",
       "      <td>NaN</td>\n",
       "      <td>NaN</td>\n",
       "      <td>NaN</td>\n",
       "      <td>NaN</td>\n",
       "      <td>NaN</td>\n",
       "      <td>NaN</td>\n",
       "      <td>NaN</td>\n",
       "      <td>NaN</td>\n",
       "      <td>NaN</td>\n",
       "      <td>NaN</td>\n",
       "      <td>NaN</td>\n",
       "      <td>NaN</td>\n",
       "      <td>NaN</td>\n",
       "      <td>NaN</td>\n",
       "      <td>NaN</td>\n",
       "      <td>NaN</td>\n",
       "      <td>NaN</td>\n",
       "      <td>NaN</td>\n",
       "      <td>NaN</td>\n",
       "      <td>NaN</td>\n",
       "      <td>NaN</td>\n",
       "      <td>NaN</td>\n",
       "      <td>NaN</td>\n",
       "      <td>NaN</td>\n",
       "      <td>NaN</td>\n",
       "      <td>NaN</td>\n",
       "      <td>NaN</td>\n",
       "      <td>NaN</td>\n",
       "      <td>NaN</td>\n",
       "      <td>NaN</td>\n",
       "      <td>NaN</td>\n",
       "      <td>NaN</td>\n",
       "      <td>NaN</td>\n",
       "      <td>NaN</td>\n",
       "      <td>NaN</td>\n",
       "      <td>NaN</td>\n",
       "      <td>NaN</td>\n",
       "      <td>NaN</td>\n",
       "      <td>NaN</td>\n",
       "      <td>NaN</td>\n",
       "      <td>NaN</td>\n",
       "      <td>NaN</td>\n",
       "      <td>NaN</td>\n",
       "      <td>NaN</td>\n",
       "      <td>NaN</td>\n",
       "      <td>NaN</td>\n",
       "      <td>NaN</td>\n",
       "      <td>NaN</td>\n",
       "      <td>NaN</td>\n",
       "      <td>NaN</td>\n",
       "      <td>NaN</td>\n",
       "      <td>NaN</td>\n",
       "      <td>NaN</td>\n",
       "      <td>NaN</td>\n",
       "      <td>NaN</td>\n",
       "      <td>NaN</td>\n",
       "      <td>NaN</td>\n",
       "      <td>NaN</td>\n",
       "      <td>NaN</td>\n",
       "      <td>NaN</td>\n",
       "      <td>NaN</td>\n",
       "      <td>NaN</td>\n",
       "      <td>NaN</td>\n",
       "      <td>NaN</td>\n",
       "      <td>NaN</td>\n",
       "      <td>NaN</td>\n",
       "      <td>NaN</td>\n",
       "      <td>NaN</td>\n",
       "      <td>NaN</td>\n",
       "    </tr>\n",
       "    <tr>\n",
       "      <th>65283</th>\n",
       "      <td>280.80</td>\n",
       "      <td>280.826492</td>\n",
       "      <td>280.03</td>\n",
       "      <td>279.233508</td>\n",
       "      <td>279.847561</td>\n",
       "      <td>280.241767</td>\n",
       "      <td>280.061875</td>\n",
       "      <td>280.270827</td>\n",
       "      <td>280.160000</td>\n",
       "      <td>280.200</td>\n",
       "      <td>280.175</td>\n",
       "      <td>307.95</td>\n",
       "      <td>-307.95</td>\n",
       "      <td>280.160000</td>\n",
       "      <td>279.957805</td>\n",
       "      <td>279.972191</td>\n",
       "      <td>280.186250</td>\n",
       "      <td>280.107742</td>\n",
       "      <td>30.086230</td>\n",
       "      <td>34.838881</td>\n",
       "      <td>-0.108974</td>\n",
       "      <td>0.000000</td>\n",
       "      <td>202.244039</td>\n",
       "      <td>21.684930</td>\n",
       "      <td>24.357584</td>\n",
       "      <td>-0.111659</td>\n",
       "      <td>-0.177242</td>\n",
       "      <td>0.065583</td>\n",
       "      <td>-0.108974</td>\n",
       "      <td>-0.088248</td>\n",
       "      <td>-0.020726</td>\n",
       "      <td>-0.107028</td>\n",
       "      <td>-0.168649</td>\n",
       "      <td>0.061621</td>\n",
       "      <td>59.619355</td>\n",
       "      <td>17.768629</td>\n",
       "      <td>0.828701</td>\n",
       "      <td>0.45</td>\n",
       "      <td>29.211967</td>\n",
       "      <td>1.362400</td>\n",
       "      <td>-0.038900</td>\n",
       "      <td>0.160514</td>\n",
       "      <td>0.001605</td>\n",
       "      <td>1.001605</td>\n",
       "      <td>100.160514</td>\n",
       "      <td>60.842465</td>\n",
       "      <td>80.000000</td>\n",
       "      <td>57.037037</td>\n",
       "      <td>100.000000</td>\n",
       "      <td>80.000000</td>\n",
       "      <td>80.000000</td>\n",
       "      <td>57.037037</td>\n",
       "      <td>-0.012725</td>\n",
       "      <td>55.471137</td>\n",
       "      <td>0.000000</td>\n",
       "      <td>158111.79280</td>\n",
       "      <td>-714.457708</td>\n",
       "      <td>382198</td>\n",
       "      <td>0.333132</td>\n",
       "      <td>0.118637</td>\n",
       "      <td>0.85</td>\n",
       "      <td>280.8000</td>\n",
       "      <td>280.800000</td>\n",
       "      <td>280.8000</td>\n",
       "      <td>15.815488</td>\n",
       "      <td>14.213003</td>\n",
       "      <td>0</td>\n",
       "      <td>0</td>\n",
       "      <td>0</td>\n",
       "      <td>0</td>\n",
       "      <td>0</td>\n",
       "      <td>0</td>\n",
       "      <td>0</td>\n",
       "      <td>0</td>\n",
       "      <td>0</td>\n",
       "      <td>0</td>\n",
       "      <td>0</td>\n",
       "      <td>0</td>\n",
       "      <td>0</td>\n",
       "      <td>0</td>\n",
       "      <td>0</td>\n",
       "      <td>0</td>\n",
       "      <td>100</td>\n",
       "      <td>0</td>\n",
       "      <td>0</td>\n",
       "      <td>0</td>\n",
       "      <td>0</td>\n",
       "      <td>0</td>\n",
       "      <td>0</td>\n",
       "      <td>0</td>\n",
       "      <td>0</td>\n",
       "      <td>0</td>\n",
       "      <td>0</td>\n",
       "      <td>0</td>\n",
       "      <td>-100</td>\n",
       "      <td>0</td>\n",
       "      <td>0</td>\n",
       "      <td>0</td>\n",
       "      <td>0</td>\n",
       "      <td>0</td>\n",
       "      <td>0</td>\n",
       "      <td>0</td>\n",
       "      <td>0</td>\n",
       "      <td>0</td>\n",
       "      <td>0</td>\n",
       "      <td>0</td>\n",
       "      <td>0</td>\n",
       "      <td>0</td>\n",
       "      <td>0</td>\n",
       "      <td>0</td>\n",
       "      <td>0</td>\n",
       "      <td>0</td>\n",
       "      <td>0</td>\n",
       "      <td>0</td>\n",
       "      <td>0</td>\n",
       "      <td>0</td>\n",
       "      <td>100</td>\n",
       "      <td>0</td>\n",
       "      <td>0</td>\n",
       "      <td>0</td>\n",
       "      <td>0</td>\n",
       "      <td>0</td>\n",
       "      <td>0</td>\n",
       "      <td>0</td>\n",
       "      <td>0</td>\n",
       "      <td>0</td>\n",
       "      <td>0</td>\n",
       "      <td>1.029828</td>\n",
       "      <td>0.922091</td>\n",
       "      <td>279.967143</td>\n",
       "      <td>-0.730324</td>\n",
       "      <td>280.132857</td>\n",
       "      <td>-0.012747</td>\n",
       "      <td>0.398246</td>\n",
       "      <td>279.954396</td>\n",
       "      <td>0.1586</td>\n",
       "      <td>561.60</td>\n",
       "      <td>1.000000</td>\n",
       "      <td>280.80</td>\n",
       "      <td>279.60</td>\n",
       "      <td>78848.6400</td>\n",
       "      <td>0.00</td>\n",
       "      <td>8404.80</td>\n",
       "      <td>NaN</td>\n",
       "      <td>NaN</td>\n",
       "      <td>NaN</td>\n",
       "      <td>NaN</td>\n",
       "      <td>NaN</td>\n",
       "      <td>NaN</td>\n",
       "      <td>NaN</td>\n",
       "      <td>NaN</td>\n",
       "      <td>NaN</td>\n",
       "      <td>NaN</td>\n",
       "      <td>NaN</td>\n",
       "      <td>NaN</td>\n",
       "      <td>NaN</td>\n",
       "      <td>NaN</td>\n",
       "      <td>NaN</td>\n",
       "      <td>NaN</td>\n",
       "      <td>NaN</td>\n",
       "      <td>NaN</td>\n",
       "      <td>NaN</td>\n",
       "      <td>NaN</td>\n",
       "      <td>NaN</td>\n",
       "      <td>NaN</td>\n",
       "      <td>NaN</td>\n",
       "      <td>NaN</td>\n",
       "      <td>NaN</td>\n",
       "      <td>NaN</td>\n",
       "      <td>NaN</td>\n",
       "      <td>NaN</td>\n",
       "      <td>NaN</td>\n",
       "      <td>NaN</td>\n",
       "      <td>NaN</td>\n",
       "      <td>NaN</td>\n",
       "      <td>NaN</td>\n",
       "      <td>NaN</td>\n",
       "      <td>NaN</td>\n",
       "      <td>NaN</td>\n",
       "      <td>NaN</td>\n",
       "      <td>NaN</td>\n",
       "      <td>NaN</td>\n",
       "      <td>NaN</td>\n",
       "      <td>NaN</td>\n",
       "      <td>NaN</td>\n",
       "      <td>NaN</td>\n",
       "      <td>NaN</td>\n",
       "      <td>NaN</td>\n",
       "      <td>NaN</td>\n",
       "      <td>NaN</td>\n",
       "      <td>NaN</td>\n",
       "      <td>NaN</td>\n",
       "      <td>NaN</td>\n",
       "      <td>NaN</td>\n",
       "      <td>NaN</td>\n",
       "      <td>NaN</td>\n",
       "      <td>NaN</td>\n",
       "      <td>NaN</td>\n",
       "      <td>NaN</td>\n",
       "      <td>NaN</td>\n",
       "      <td>NaN</td>\n",
       "      <td>NaN</td>\n",
       "      <td>NaN</td>\n",
       "      <td>NaN</td>\n",
       "      <td>NaN</td>\n",
       "      <td>NaN</td>\n",
       "      <td>NaN</td>\n",
       "      <td>NaN</td>\n",
       "      <td>NaN</td>\n",
       "      <td>NaN</td>\n",
       "      <td>NaN</td>\n",
       "      <td>NaN</td>\n",
       "      <td>NaN</td>\n",
       "      <td>NaN</td>\n",
       "      <td>NaN</td>\n",
       "      <td>NaN</td>\n",
       "      <td>NaN</td>\n",
       "      <td>NaN</td>\n",
       "      <td>NaN</td>\n",
       "      <td>NaN</td>\n",
       "      <td>NaN</td>\n",
       "      <td>NaN</td>\n",
       "      <td>NaN</td>\n",
       "    </tr>\n",
       "  </tbody>\n",
       "</table>\n",
       "<p>15840 rows × 223 columns</p>\n",
       "</div>"
      ],
      "text/plain": [
       "        close  BBANDS_upperband  BBANDS_middleband  BBANDS_lowerband        DEMA         EMA  HT_TRENDLINE        KAMA          MA  MIDPOINT  MIDPRICE     SAR  SAREXT         SMA          T3        TEMA       TRIMA         WMA        ADX       ADXR       APO       BOP         CCI        CMO         DX  macd_MACD  macdsignal_MACD  macdhist_MACD  macd_MACDEXT  macdsignal_MACDEXT  macdhist_MACDEXT  macd_MACDFIX  macdsignal_MACDFIX  macdhist_MACDFIX        MFI   MINUS_DI  MINUS_DM   MOM    PLUS_DI   PLUS_DM       PPO       ROC      ROCP      ROCR     ROCR100        RSI      slowk      slowd  fastk_STOCHF  fastd_STOCHF  slowk_STOCHRSI  slowd_STOCHRSI      TRIX     ULTOSC       WILLR            AD        ADOSC     OBV       ATR      NATR  TRANGE  AVGPRICE    MEDPRICE  WCLPRICE  HT_DCPERIOD  HT_DCPHASE  HT_TRENDMODE  CDL2CROWS  CDL3BLACKCROWS  CDL3INSIDE  CDL3LINESTRIKE  CDL3OUTSIDE  CDL3STARSINSOUTH  CDL3WHITESOLDIERS  CDLABANDONEDBABY  CDLADVANCEBLOCK  CDLBELTHOLD  CDLBREAKAWAY  \\\n",
       "49444  250.05        250.129666             249.98        249.830334  249.849102  250.047453    249.900408  250.014623  249.935000   249.950   249.975  307.95 -307.95  249.935000  250.006417  249.968051  249.870208  249.945054  19.341571  24.655781  0.130449  0.200000    7.679325   1.724504   8.394569  -0.024446        -0.056899       0.032452      0.130449           -0.001674          0.132123     -0.023481           -0.054693          0.031212  61.337197  16.849616  0.563908 -0.10  19.937757  0.667259  0.052197 -0.039976 -0.000400  0.999600   99.960024  50.862252  55.767196  34.462081     80.000000     55.767196       55.767196       34.462081 -0.008733  51.108857  -42.857143   73418.66925    75.314902  339378  0.239051  0.095601    0.25  250.0000  250.000000  250.0125    19.090371  206.300584             0          0               0           0               0            0                 0                  0                 0                0            0             0   \n",
       "49445  249.85        250.143303             249.96        249.776697  249.837243  250.034714    249.908737  250.011038  249.921667   250.000   250.000  307.95 -307.95  249.921667  250.002728  249.949341  249.875417  249.939570  18.559642  24.454381  0.136538 -1.000000  -54.564103 -12.236283   8.394569  -0.034456        -0.052410       0.017954      0.136538            0.031588          0.104950     -0.032770           -0.050308          0.017539  56.003589  15.830791  0.523628 -0.30  18.732206  0.619597  0.054634 -0.119928 -0.001199  0.998801   99.880072  43.881859  40.952381  41.940035      0.000000     40.952381       40.952381       41.940035 -0.008521  47.577713  -65.000000   72758.66925   -57.909548  338718  0.236261  0.094561    0.20  249.9500  249.916667  249.9000    18.712058  221.628389             0          0               0           0               0            0                 0                  0                 0                0         -100             0   \n",
       "49446  249.80        250.159762             249.95        249.740238  249.820674  250.019571    249.921300  250.008037  249.913333   250.025   250.100  307.95 -307.95  249.913333  249.990551  249.924206  249.884167  249.931720  17.300895  23.593821  0.111218 -0.333333 -128.179825 -15.363560   0.937186  -0.045894        -0.051107       0.005213      0.111218            0.057657          0.053561     -0.043455           -0.048938          0.005483  49.012198  18.197895  0.586226 -0.30  17.859966  0.575340  0.044503 -0.119952 -0.001200  0.998800   99.880048  42.318220  31.428571  42.716049     14.285714     31.428571       31.428571       42.716049 -0.008325  47.645535  -87.500000   72484.33592  -194.433834  337895  0.230100  0.092114    0.15  249.8250  249.816667  249.8125    18.456517  246.575788             0          0               0           0               0            0                 0                  0                 0                0            0             0   \n",
       "49447  249.75        250.121517             249.89        249.658483  249.799845  250.002179    249.930863  250.004367  249.905000   250.000   250.125  307.95 -307.95  249.905000  249.970108  249.893482  249.894583  249.921183  16.132059  22.562502  0.091346 -0.333333 -136.807818 -18.491365   0.937186  -0.058322        -0.052550      -0.005772      0.091346            0.075819          0.015527     -0.055117           -0.050173         -0.004943  41.744970  17.328928  0.544353 -0.50  17.007135  0.534245  0.036554 -0.199800 -0.001998  0.998002   99.800200  40.754317   4.761905  25.714286      0.000000      4.761905        4.761905       25.714286 -0.008148  45.119978 -100.000000   71784.33592  -455.336148  337195  0.224378  0.089841    0.15  249.8000  249.800000  249.7875    18.256266  265.341574             0          0               0           0               0            0                 0                  0                 0                0            0             0   \n",
       "49448  249.70        250.071661             249.83        249.588339  249.775165  249.982684    249.939620  250.000038  249.896667   249.975   250.000  307.95 -307.95  249.896667  249.942511  249.857912  249.905625  249.907957  15.689068  21.926026  0.067628 -0.333333 -158.865248 -21.611127   9.930183  -0.071382        -0.056316      -0.015066      0.067628            0.086182         -0.018554     -0.067416           -0.053622         -0.013794  24.835139  19.741989  0.605471 -0.45  16.175333  0.496084  0.027064 -0.179892 -0.001799  0.998201   99.820108  39.194437   8.465608  14.885362     11.111111      8.465608        8.465608       14.885362 -0.007991  46.728691  -92.857143   71472.00258  -620.053505  336258  0.219066  0.087732    0.15  249.7250  249.716667  249.7125    18.025217  285.317894             0          0               0           0               0            0                 0                  0                 0                0            0             0   \n",
       "...       ...               ...                ...               ...         ...         ...           ...         ...         ...       ...       ...     ...     ...         ...         ...         ...         ...         ...        ...        ...       ...       ...         ...        ...        ...        ...              ...            ...           ...                 ...               ...           ...                 ...               ...        ...        ...       ...   ...        ...       ...       ...       ...       ...       ...         ...        ...        ...        ...           ...           ...             ...             ...       ...        ...         ...           ...          ...     ...       ...       ...     ...       ...         ...       ...          ...         ...           ...        ...             ...         ...             ...          ...               ...                ...               ...              ...          ...           ...   \n",
       "65279  279.90        280.304522             279.86        279.415478  279.814087  280.287427    280.176489  280.297827  280.210000   280.000   280.000  307.95 -307.95  280.210000  280.088886  279.880614  280.245208  280.136882  33.068056  36.963513 -0.104167  0.500000  -88.564477 -16.442169  22.953667  -0.202147        -0.182608      -0.019539     -0.104167           -0.041702         -0.062464     -0.191820           -0.173729         -0.018091  27.881709  27.175604  1.114645 -0.10  17.029022  0.698469 -0.037179 -0.035714 -0.000357  0.999643   99.964286  41.778916  21.111111  15.555556     46.666667     21.111111       21.111111       15.555556 -0.013234  38.447802  -61.111111  158730.79280  -986.874114  374570  0.292974  0.104671    0.40  279.8250  279.866667  279.8750    15.928690  -19.128356             0          0               0           0               0            0                 0                  0                 0                0            0             0   \n",
       "65280  279.65        279.971517             279.74        279.508483  279.765030  280.246303    280.136085  280.276259  280.178333   280.000   280.000  307.95 -307.95  280.178333  280.032765  279.819843  280.231667  280.100753  32.345600  36.086126 -0.132051 -0.857143 -101.449275 -25.471989  22.953667  -0.216806        -0.189448      -0.027359     -0.132051           -0.052422         -0.079630     -0.205681           -0.180119         -0.025562  27.588951  24.888461  1.035028 -0.35  15.595831  0.648578 -0.047138 -0.125000 -0.001250  0.998750   99.875000  37.264005  25.555556  17.407407     13.333333     25.555556       25.555556       17.407407 -0.013143  31.320554  -88.888889  157804.79280 -1138.291218  373644  0.297047  0.106221    0.35  279.8125  279.766667  279.7375    15.710232  -19.519990             0          0               0           0               0            0                 0                  0                 0                0            0             0   \n",
       "65281  279.85        279.971517             279.74        279.508483  279.746593  280.220735    280.098125  280.270547  280.165000   280.000   280.000  307.95 -307.95  280.165000  279.983826  279.804542  280.217083  280.079570  31.402568  35.378927 -0.127244  0.375000  -63.510848 -14.785081  19.143154  -0.209866        -0.193532      -0.016335     -0.127244           -0.065278         -0.061966     -0.199265           -0.183948         -0.015317  30.010626  22.552403  0.961097 -0.45  15.305253  0.652251 -0.045424 -0.160542 -0.001605  0.998395   99.839458  42.607459  40.000000  28.888889     60.000000     40.000000       40.000000       28.888889 -0.013047  35.471164  -66.666667  157804.79280 -1096.753559  374726  0.304401  0.108773    0.40  279.8125  279.850000  279.8500    15.630368  -14.661811             1          0               0           0               0            0                 0                  0                 0                0            0             0   \n",
       "65282  279.95        280.041517             279.81        279.578483  279.743377  280.203268    280.067813  280.265132  280.148333   279.975   280.000  307.95 -307.95  280.148333  279.948451  279.810917  280.200625  280.065699  30.526895  35.002339 -0.121795  0.333333  -29.326047  -9.751573  19.143154  -0.194060        -0.193637      -0.000423     -0.121795           -0.078027         -0.043768     -0.184479           -0.184054         -0.000425  35.883647  21.728764  0.892447 -0.35  14.746289  0.605662 -0.043481 -0.124866 -0.001249  0.998751   99.875134  45.124213  51.111111  38.888889     80.000000     51.111111       51.111111       38.888889 -0.012934  35.355991  -55.555556  158111.79280  -882.374193  375647  0.293373  0.104795    0.15  279.9250  279.933333  279.9375    15.691170   -5.474980             1          0               0           0               0            0                 0                  0                 0                0            0             0   \n",
       "65283  280.80        280.826492             280.03        279.233508  279.847561  280.241767    280.061875  280.270827  280.160000   280.200   280.175  307.95 -307.95  280.160000  279.957805  279.972191  280.186250  280.107742  30.086230  34.838881 -0.108974  0.000000  202.244039  21.684930  24.357584  -0.111659        -0.177242       0.065583     -0.108974           -0.088248         -0.020726     -0.107028           -0.168649          0.061621  59.619355  17.768629  0.828701  0.45  29.211967  1.362400 -0.038900  0.160514  0.001605  1.001605  100.160514  60.842465  80.000000  57.037037    100.000000     80.000000       80.000000       57.037037 -0.012725  55.471137    0.000000  158111.79280  -714.457708  382198  0.333132  0.118637    0.85  280.8000  280.800000  280.8000    15.815488   14.213003             0          0               0           0               0            0                 0                  0                 0                0            0             0   \n",
       "\n",
       "       CDLCLOSINGMARUBOZU  CDLCONCEALBABYSWALL  CDLCOUNTERATTACK  CDLDARKCLOUDCOVER  CDLDOJI  CDLDOJISTAR  CDLDRAGONFLYDOJI  CDLENGULFING  CDLEVENINGDOJISTAR  CDLEVENINGSTAR  CDLGAPSIDESIDEWHITE  CDLGRAVESTONEDOJI  CDLHAMMER  CDLHANGINGMAN  CDLHARAMI  CDLHARAMICROSS  CDLHIKKAKE  CDLHIKKAKEMOD  CDLHOMINGPIGEON  CDLIDENTICAL3CROWS  CDLINNECK  CDLINVERTEDHAMMER  CDLKICKING  CDLKICKINGBYLENGTH  CDLLADDERBOTTOM  CDLLONGLEGGEDDOJI  CDLLONGLINE  CDLMARUBOZU  CDLMATCHINGLOW  CDLMATHOLD  CDLMORNINGDOJISTAR  CDLMORNINGSTAR  CDLONNECK  CDLPIERCING  CDLRICKSHAWMAN  CDLRISEFALL3METHODS  CDLSEPARATINGLINES  CDLSHOOTINGSTAR  CDLSHORTLINE  CDLSPINNINGTOP  CDLSTALLEDPATTERN  CDLSTICKSANDWICH  CDLTAKURI  CDLTASUKIGAP  CDLTHRUSTING  CDLTRISTAR  CDLUNIQUE3RIVER  CDLUPSIDEGAP2CROWS  CDLXSIDEGAP3METHODS      BETA    CORREL   LINEARREG  LINEARREG_ANGLE  LINEARREG_INTERCEPT  LINEARREG_SLOPE    STDDEV         TSF     VAR     ADD       DIV     MAX     MIN        MULT   SUB      SUM  price_1m  tick_value_1m  \\\n",
       "49444                   0                    0                 0                  0        0            0                 0             0                   0               0                    0                  0          0              0          0               0           0              0                0                   0          0                  0           0                   0                0                  0            0            0               0           0                   0               0          0            0               0                    0                   0                0             0               0                  0                 0          0             0             0           0                0                   0                    0  0.439575  0.812729  250.094286         0.862520           249.898571         0.015055  0.074833  250.109341  0.0056  499.95  1.001001  250.25  249.55  62487.4850  0.25  7498.05     -20.0          -10.0   \n",
       "49445                -100                    0                 0                  0        0            0                 0             0                   0               0                    0                  0          0              0          0               0           0              0                0                   0          0                  0           0                   0                0                  0         -100         -100               0           0                   0               0          0            0               0                    0                   0                0             0               0                  0                 0          0             0             0           0                0                   0                    0  0.166753  0.785874  250.007143        -0.031481           250.014286        -0.000549  0.091652  250.006593  0.0084  499.90  1.000800  250.25  249.55  62474.9925  0.20  7497.65      -5.0           -2.5   \n",
       "49446                   0                    0                 0                  0        0            0                 0             0                   0               0                    0                  0          0              0          0               0           0              0                0                   0          0                  0           0                   0                0                  0            0            0               0           0                   0               0          0            0               0                    0                   0                0          -100            -100                  0                 0          0             0             0           0                0                   0                    0  0.394223  0.776430  249.915714        -0.868814           250.112857        -0.015165  0.104881  249.900550  0.0110  499.65  1.000601  250.25  249.55  62412.5250  0.15  7497.40      -5.0           -2.5   \n",
       "49447                   0                    0                 0                  0        0            0                 0             0                   0               0                    0                  0          0              0          0               0           0              0                0                   0          0                  0           0                   0                0                  0            0            0               0           0                   0               0          0            0               0                    0                   0                0             0               0                  0                 0          0             0             0           0                0                   0                    0  0.647596  0.780611  249.817143        -1.705777           250.204286        -0.029780  0.115758  249.787363  0.0134  499.65  1.000601  250.25  249.55  62412.5250  0.15  7497.15      -5.0           -2.5   \n",
       "49448                   0                    0                 0                  0        0            0                 0             0                   0               0                    0                  0          0              0          0               0           0              0                0                   0          0                  0           0                   0                0                  0            0            0               0           0                   0               0          0            0               0                    0                   0                0             0               0                  0                 0          0             0             0           0                0                   0                    0  0.765423  0.791241  249.757143        -1.951080           250.200000        -0.034066  0.120830  249.723077  0.0146  499.45  1.000601  250.25  249.55  62362.5700  0.15  7496.90       5.0            2.5   \n",
       "...                   ...                  ...               ...                ...      ...          ...               ...           ...                 ...             ...                  ...                ...        ...            ...        ...             ...         ...            ...              ...                 ...        ...                ...         ...                 ...              ...                ...          ...          ...             ...         ...                 ...             ...        ...          ...             ...                  ...                 ...              ...           ...             ...                ...               ...        ...           ...           ...         ...              ...                 ...                  ...       ...       ...         ...              ...                  ...              ...       ...         ...     ...     ...       ...     ...     ...         ...   ...      ...       ...            ...   \n",
       "65279                   0                    0                 0                  0        0            0                 0             0                   0               0                    0                  0          0              0          0               0           0              0                0                   0          0                  0           0                   0                0                  0            0            0               0           0                   0               0          0            0               0                    0                   0                0             0               0                  0                 0          0             0             0           0                0                   0                    0  0.384687  0.883140  279.827143        -2.466601           280.387143        -0.043077  0.222261  279.784066  0.0494  559.70  1.001430  280.60  279.60  78315.9825  0.40  8406.30     -25.0          -12.5   \n",
       "65280                -100                    0                 0                  0        0            0                 0          -100                   0               0                    0                  0          0              0          0               0           0              0                0                   0          0                  0           0                   0                0                  0         -100            0               0           0                   0               0          0            0               0                    0                   0                0             0               0                  0                 0          0             0             0           0                0                   0                    0  0.453857  0.880153  279.737143        -2.849844           280.384286        -0.049780  0.115758  279.687363  0.0134  559.65  1.001252  280.55  279.60  78302.0000  0.35  8405.35      20.0           10.0   \n",
       "65281                   0                    0                 0                  0        0            0                 0             0                   0               0                    0                  0          0              0        100               0           0              0                0                   0          0                  0           0                   0                0                  0            0            0               0           0                   0               0          0            0               0                    0                   0                0             0               0                  0                 0          0             0             0           0                0                   0                    0  0.550522  0.917472  279.724286        -2.648828           280.325714        -0.046264  0.115758  279.678022  0.0134  559.70  1.001430  280.55  279.60  78315.9825  0.40  8404.95      10.0            5.0   \n",
       "65282                   0                    0                 0                  0        0            0                 0             0                   0               0                    0                  0          0              0          0               0           0              0                0                   0          0                  0           0                   0                0                  0            0            0               0           0                   0               0          0            0               0                    0                   0                0           100               0                  0                 0          0             0             0           0                0                   0                    0  0.217690  0.914209  279.758571        -2.064273           280.227143        -0.036044  0.115758  279.722528  0.0134  559.85  1.000536  280.55  279.60  78358.0000  0.15  8404.45      85.0           42.5   \n",
       "65283                   0                    0                 0                  0      100            0                 0             0                   0               0                    0                  0          0              0          0               0        -100              0                0                   0          0                  0           0                   0                0                  0            0            0               0           0                   0               0          0            0               0                    0                   0                0           100               0                  0                 0          0             0             0           0                0                   0                    0  1.029828  0.922091  279.967143        -0.730324           280.132857        -0.012747  0.398246  279.954396  0.1586  561.60  1.000000  280.80  279.60  78848.6400  0.00  8404.80       NaN            NaN   \n",
       "\n",
       "         ret_1m  logret_1m  price_2m  tick_value_2m    ret_2m  logret_2m  price_3m  tick_value_3m    ret_3m  logret_3m  price_4m  tick_value_4m    ret_4m  logret_4m  price_5m  tick_value_5m    ret_5m  logret_5m  price_6m  tick_value_6m    ret_6m  logret_6m  price_7m  tick_value_7m    ret_7m  logret_7m  price_8m  tick_value_8m    ret_8m  logret_8m  price_9m  tick_value_9m    ret_9m  logret_9m  price_10m  tick_value_10m   ret_10m  logret_10m  price_11m  tick_value_11m   ret_11m  logret_11m  price_12m  tick_value_12m   ret_12m  logret_12m  price_13m  tick_value_13m   ret_13m  logret_13m  price_14m  tick_value_14m   ret_14m  logret_14m  price_15m  tick_value_15m   ret_15m  logret_15m  price_16m  tick_value_16m   ret_16m  logret_16m  price_17m  tick_value_17m   ret_17m  logret_17m  price_18m  tick_value_18m   ret_18m  logret_18m  price_19m  tick_value_19m   ret_19m  logret_19m  price_20m  tick_value_20m   ret_20m  logret_20m  \n",
       "49444 -0.079984  -0.080016     -25.0          -12.5 -0.099980  -0.100030     -30.0          -15.0 -0.119976  -0.120048     -35.0          -17.5 -0.139972  -0.140070     -30.0          -15.0 -0.119976  -0.120048     -35.0          -17.5 -0.139972  -0.140070     -45.0          -22.5 -0.179964  -0.180126     -45.0          -22.5 -0.179964  -0.180126     -30.0          -15.0 -0.119976  -0.120048      -50.0           -25.0 -0.199960   -0.200160      -40.0           -20.0 -0.159968   -0.160096      -40.0           -20.0 -0.159968   -0.160096      -55.0           -27.5 -0.219956   -0.220198      -55.0           -27.5 -0.219956   -0.220198      -45.0           -22.5 -0.179964   -0.180126      305.0           152.5  1.219756    1.212377      295.0           147.5  1.179764    1.172859      310.0           155.0  1.239752    1.232130      325.0           162.5  1.299740    1.291366      285.0           142.5  1.139772    1.133326  \n",
       "49445 -0.020012  -0.020014     -10.0           -5.0 -0.040024  -0.040032     -15.0           -7.5 -0.060036  -0.060054     -10.0           -5.0 -0.040024  -0.040032     -15.0           -7.5 -0.060036  -0.060054     -25.0          -12.5 -0.100060  -0.100110     -25.0          -12.5 -0.100060  -0.100110     -10.0           -5.0 -0.040024  -0.040032     -30.0          -15.0 -0.120072  -0.120144      -20.0           -10.0 -0.080048   -0.080080      -20.0           -10.0 -0.080048   -0.080080      -35.0           -17.5 -0.140084   -0.140182      -35.0           -17.5 -0.140084   -0.140182      -25.0           -12.5 -0.100060   -0.100110      325.0           162.5  1.300780    1.292393      315.0           157.5  1.260756    1.252875      330.0           165.0  1.320792    1.312146      345.0           172.5  1.380828    1.371382      305.0           152.5  1.220732    1.213342      290.0           145.0  1.160696    1.154012  \n",
       "49446 -0.020016  -0.020018     -10.0           -5.0 -0.040032  -0.040040      -5.0           -2.5 -0.020016  -0.020018     -10.0           -5.0 -0.040032  -0.040040     -20.0          -10.0 -0.080064  -0.080096     -20.0          -10.0 -0.080064  -0.080096      -5.0           -2.5 -0.020016  -0.020018     -25.0          -12.5 -0.100080  -0.100130     -15.0           -7.5 -0.060048  -0.060066      -15.0            -7.5 -0.060048   -0.060066      -30.0           -15.0 -0.120096   -0.120168      -30.0           -15.0 -0.120096   -0.120168      -20.0           -10.0 -0.080064   -0.080096      330.0           165.0  1.321057    1.312407      320.0           160.0  1.281025    1.272889      335.0           167.5  1.341073    1.332160      350.0           175.0  1.401121    1.391396      310.0           155.0  1.240993    1.233356      295.0           147.5  1.180945    1.174026      280.0           140.0  1.120897    1.114661  \n",
       "49447 -0.020020  -0.020022       0.0            0.0  0.000000   0.000000      -5.0           -2.5 -0.020020  -0.020022     -15.0           -7.5 -0.060060  -0.060078     -15.0           -7.5 -0.060060  -0.060078       0.0            0.0  0.000000   0.000000     -20.0          -10.0 -0.080080  -0.080112     -10.0           -5.0 -0.040040  -0.040048     -10.0           -5.0 -0.040040  -0.040048      -25.0           -12.5 -0.100100   -0.100150      -25.0           -12.5 -0.100100   -0.100150      -15.0            -7.5 -0.060060   -0.060078      335.0           167.5  1.341341    1.332425      325.0           162.5  1.301301    1.292907      340.0           170.0  1.361361    1.352178      355.0           177.5  1.421421    1.411414      315.0           157.5  1.261261    1.253374      300.0           150.0  1.201201    1.194044      285.0           142.5  1.141141    1.134679      260.0           130.0  1.041041    1.035660  \n",
       "49448  0.020024   0.020022       0.0            0.0  0.000000   0.000000     -10.0           -5.0 -0.040048  -0.040056     -10.0           -5.0 -0.040048  -0.040056       5.0            2.5  0.020024   0.020022     -15.0           -7.5 -0.060072  -0.060090      -5.0           -2.5 -0.020024  -0.020026      -5.0           -2.5 -0.020024  -0.020026     -20.0          -10.0 -0.080096  -0.080128      -20.0           -10.0 -0.080096   -0.080128      -10.0            -5.0 -0.040048   -0.040056      340.0           170.0  1.361634    1.352447      330.0           165.0  1.321586    1.312929      345.0           172.5  1.381658    1.372200      360.0           180.0  1.441730    1.431436      320.0           160.0  1.281538    1.273396      305.0           152.5  1.221466    1.214066      290.0           145.0  1.161394    1.154701      265.0           132.5  1.061274    1.055682      280.0           140.0  1.121346    1.115105  \n",
       "...         ...        ...       ...            ...       ...        ...       ...            ...       ...        ...       ...            ...       ...        ...       ...            ...       ...        ...       ...            ...       ...        ...       ...            ...       ...        ...       ...            ...       ...        ...       ...            ...       ...        ...        ...             ...       ...         ...        ...             ...       ...         ...        ...             ...       ...         ...        ...             ...       ...         ...        ...             ...       ...         ...        ...             ...       ...         ...        ...             ...       ...         ...        ...             ...       ...         ...        ...             ...       ...         ...        ...             ...       ...         ...        ...             ...       ...         ...  \n",
       "65279 -0.089318  -0.089358      -5.0           -2.5 -0.017864  -0.017865       5.0            2.5  0.017864   0.017862      90.0           45.0  0.321543   0.321028       NaN            NaN       NaN        NaN       NaN            NaN       NaN        NaN       NaN            NaN       NaN        NaN       NaN            NaN       NaN        NaN       NaN            NaN       NaN        NaN        NaN             NaN       NaN         NaN        NaN             NaN       NaN         NaN        NaN             NaN       NaN         NaN        NaN             NaN       NaN         NaN        NaN             NaN       NaN         NaN        NaN             NaN       NaN         NaN        NaN             NaN       NaN         NaN        NaN             NaN       NaN         NaN        NaN             NaN       NaN         NaN        NaN             NaN       NaN         NaN        NaN             NaN       NaN         NaN  \n",
       "65280  0.071518   0.071492      30.0           15.0  0.107277   0.107219     115.0           57.5  0.411228   0.410385       NaN            NaN       NaN        NaN       NaN            NaN       NaN        NaN       NaN            NaN       NaN        NaN       NaN            NaN       NaN        NaN       NaN            NaN       NaN        NaN       NaN            NaN       NaN        NaN        NaN             NaN       NaN         NaN        NaN             NaN       NaN         NaN        NaN             NaN       NaN         NaN        NaN             NaN       NaN         NaN        NaN             NaN       NaN         NaN        NaN             NaN       NaN         NaN        NaN             NaN       NaN         NaN        NaN             NaN       NaN         NaN        NaN             NaN       NaN         NaN        NaN             NaN       NaN         NaN        NaN             NaN       NaN         NaN  \n",
       "65281  0.035733   0.035727      95.0           47.5  0.339468   0.338893       NaN            NaN       NaN        NaN       NaN            NaN       NaN        NaN       NaN            NaN       NaN        NaN       NaN            NaN       NaN        NaN       NaN            NaN       NaN        NaN       NaN            NaN       NaN        NaN       NaN            NaN       NaN        NaN        NaN             NaN       NaN         NaN        NaN             NaN       NaN         NaN        NaN             NaN       NaN         NaN        NaN             NaN       NaN         NaN        NaN             NaN       NaN         NaN        NaN             NaN       NaN         NaN        NaN             NaN       NaN         NaN        NaN             NaN       NaN         NaN        NaN             NaN       NaN         NaN        NaN             NaN       NaN         NaN        NaN             NaN       NaN         NaN  \n",
       "65282  0.303626   0.303166       NaN            NaN       NaN        NaN       NaN            NaN       NaN        NaN       NaN            NaN       NaN        NaN       NaN            NaN       NaN        NaN       NaN            NaN       NaN        NaN       NaN            NaN       NaN        NaN       NaN            NaN       NaN        NaN       NaN            NaN       NaN        NaN        NaN             NaN       NaN         NaN        NaN             NaN       NaN         NaN        NaN             NaN       NaN         NaN        NaN             NaN       NaN         NaN        NaN             NaN       NaN         NaN        NaN             NaN       NaN         NaN        NaN             NaN       NaN         NaN        NaN             NaN       NaN         NaN        NaN             NaN       NaN         NaN        NaN             NaN       NaN         NaN        NaN             NaN       NaN         NaN  \n",
       "65283       NaN        NaN       NaN            NaN       NaN        NaN       NaN            NaN       NaN        NaN       NaN            NaN       NaN        NaN       NaN            NaN       NaN        NaN       NaN            NaN       NaN        NaN       NaN            NaN       NaN        NaN       NaN            NaN       NaN        NaN       NaN            NaN       NaN        NaN        NaN             NaN       NaN         NaN        NaN             NaN       NaN         NaN        NaN             NaN       NaN         NaN        NaN             NaN       NaN         NaN        NaN             NaN       NaN         NaN        NaN             NaN       NaN         NaN        NaN             NaN       NaN         NaN        NaN             NaN       NaN         NaN        NaN             NaN       NaN         NaN        NaN             NaN       NaN         NaN        NaN             NaN       NaN         NaN  \n",
       "\n",
       "[15840 rows x 223 columns]"
      ]
     },
     "execution_count": 111,
     "metadata": {},
     "output_type": "execute_result"
    }
   ],
   "source": [
    "temp_d"
   ]
  },
  {
   "cell_type": "code",
   "execution_count": 112,
   "metadata": {
    "scrolled": true
   },
   "outputs": [
    {
     "data": {
      "text/html": [
       "<div>\n",
       "<style scoped>\n",
       "    .dataframe tbody tr th:only-of-type {\n",
       "        vertical-align: middle;\n",
       "    }\n",
       "\n",
       "    .dataframe tbody tr th {\n",
       "        vertical-align: top;\n",
       "    }\n",
       "\n",
       "    .dataframe thead th {\n",
       "        text-align: right;\n",
       "    }\n",
       "</style>\n",
       "<table border=\"1\" class=\"dataframe\">\n",
       "  <thead>\n",
       "    <tr style=\"text-align: right;\">\n",
       "      <th></th>\n",
       "      <th>1m_cum_profit</th>\n",
       "      <th>3m_cum_profit</th>\n",
       "      <th>5m_cum_profit</th>\n",
       "      <th>10m_cum_profit</th>\n",
       "      <th>15m_cum_profit</th>\n",
       "      <th>20m_cum_profit</th>\n",
       "    </tr>\n",
       "  </thead>\n",
       "  <tbody>\n",
       "    <tr>\n",
       "      <th>51424</th>\n",
       "      <td>0</td>\n",
       "      <td>-10</td>\n",
       "      <td>-15</td>\n",
       "      <td>-17.5</td>\n",
       "      <td>-12.5</td>\n",
       "      <td>-152.5</td>\n",
       "    </tr>\n",
       "    <tr>\n",
       "      <th>51425</th>\n",
       "      <td>0</td>\n",
       "      <td>-10</td>\n",
       "      <td>-15</td>\n",
       "      <td>-17.5</td>\n",
       "      <td>-12.5</td>\n",
       "      <td>-152.5</td>\n",
       "    </tr>\n",
       "    <tr>\n",
       "      <th>51426</th>\n",
       "      <td>-2.5</td>\n",
       "      <td>-10</td>\n",
       "      <td>-15</td>\n",
       "      <td>-17.5</td>\n",
       "      <td>-12.5</td>\n",
       "      <td>-152.5</td>\n",
       "    </tr>\n",
       "    <tr>\n",
       "      <th>51427</th>\n",
       "      <td>-5</td>\n",
       "      <td>-22.5</td>\n",
       "      <td>-15</td>\n",
       "      <td>-17.5</td>\n",
       "      <td>-12.5</td>\n",
       "      <td>-152.5</td>\n",
       "    </tr>\n",
       "    <tr>\n",
       "      <th>51428</th>\n",
       "      <td>-7.5</td>\n",
       "      <td>-22.5</td>\n",
       "      <td>-15</td>\n",
       "      <td>-17.5</td>\n",
       "      <td>-12.5</td>\n",
       "      <td>-152.5</td>\n",
       "    </tr>\n",
       "    <tr>\n",
       "      <th>...</th>\n",
       "      <td>...</td>\n",
       "      <td>...</td>\n",
       "      <td>...</td>\n",
       "      <td>...</td>\n",
       "      <td>...</td>\n",
       "      <td>...</td>\n",
       "    </tr>\n",
       "    <tr>\n",
       "      <th>64900</th>\n",
       "      <td>NaN</td>\n",
       "      <td>NaN</td>\n",
       "      <td>NaN</td>\n",
       "      <td>NaN</td>\n",
       "      <td>1027.5</td>\n",
       "      <td>1387.5</td>\n",
       "    </tr>\n",
       "    <tr>\n",
       "      <th>64901</th>\n",
       "      <td>NaN</td>\n",
       "      <td>NaN</td>\n",
       "      <td>NaN</td>\n",
       "      <td>NaN</td>\n",
       "      <td>1027.5</td>\n",
       "      <td>1387.5</td>\n",
       "    </tr>\n",
       "    <tr>\n",
       "      <th>64902</th>\n",
       "      <td>NaN</td>\n",
       "      <td>NaN</td>\n",
       "      <td>NaN</td>\n",
       "      <td>NaN</td>\n",
       "      <td>1027.5</td>\n",
       "      <td>1387.5</td>\n",
       "    </tr>\n",
       "    <tr>\n",
       "      <th>64903</th>\n",
       "      <td>NaN</td>\n",
       "      <td>NaN</td>\n",
       "      <td>NaN</td>\n",
       "      <td>NaN</td>\n",
       "      <td>NaN</td>\n",
       "      <td>1387.5</td>\n",
       "    </tr>\n",
       "    <tr>\n",
       "      <th>64904</th>\n",
       "      <td>NaN</td>\n",
       "      <td>NaN</td>\n",
       "      <td>NaN</td>\n",
       "      <td>NaN</td>\n",
       "      <td>NaN</td>\n",
       "      <td>1387.5</td>\n",
       "    </tr>\n",
       "  </tbody>\n",
       "</table>\n",
       "<p>13514 rows × 6 columns</p>\n",
       "</div>"
      ],
      "text/plain": [
       "      1m_cum_profit 3m_cum_profit 5m_cum_profit 10m_cum_profit 15m_cum_profit 20m_cum_profit\n",
       "51424             0           -10           -15          -17.5          -12.5         -152.5\n",
       "51425             0           -10           -15          -17.5          -12.5         -152.5\n",
       "51426          -2.5           -10           -15          -17.5          -12.5         -152.5\n",
       "51427            -5         -22.5           -15          -17.5          -12.5         -152.5\n",
       "51428          -7.5         -22.5           -15          -17.5          -12.5         -152.5\n",
       "...             ...           ...           ...            ...            ...            ...\n",
       "64900           NaN           NaN           NaN            NaN         1027.5         1387.5\n",
       "64901           NaN           NaN           NaN            NaN         1027.5         1387.5\n",
       "64902           NaN           NaN           NaN            NaN         1027.5         1387.5\n",
       "64903           NaN           NaN           NaN            NaN            NaN         1387.5\n",
       "64904           NaN           NaN           NaN            NaN            NaN         1387.5\n",
       "\n",
       "[13514 rows x 6 columns]"
      ]
     },
     "execution_count": 112,
     "metadata": {},
     "output_type": "execute_result"
    }
   ],
   "source": [
    "trading_profit_RESULT = pd.DataFrame()\n",
    "profit_df_result = pd.DataFrame()\n",
    "profit_ratio = pd.DataFrame()\n",
    "\n",
    "\n",
    "##검증 필요\n",
    "y = [1, 3, 5, 10, 15, 20]\n",
    "\n",
    "for i in y:\n",
    "    profit_df = pd.merge(temp_d[\"tick_value_\"+str(i)+\"m\"],result_dict[\"y_\"+str(i)+\"m\"][\"pred_\"+str(i)],\n",
    "                         left_index= True, right_index=True, how =\"left\")\n",
    "    #앞: 5일치 train 데이터 빠짐 \n",
    "    #뒤: lead 계산한 만큼 빠짐\n",
    "#     profit_df = profit_df.dropna()\n",
    "    \n",
    "    \n",
    "    for row in range(len(profit_df)):\n",
    "        if profit_df[\"pred_\"+str(i)].iloc[row] == 1:\n",
    "            profit_df[\"pred_\"+str(i)].iloc[row+1:row+i] = 0\n",
    "        \n",
    "        if profit_df[\"pred_\"+str(i)].iloc[row] == -1:\n",
    "            profit_df[\"pred_\"+str(i)].iloc[row:row+i] = 0\n",
    "            \n",
    "#         elif profit_df[\"pred_\"+str(i)].iloc[row] == -1:\n",
    "#             profit_df[\"pred_\"+str(i)].iloc[row+1:row+5] = 0\n",
    "\n",
    "        else:\n",
    "            pass\n",
    "        \n",
    "    \n",
    "    profit_df[\"profit\"+str(i)] = profit_df[\"tick_value_\"+str(i)+\"m\"] * profit_df[\"pred_\"+str(i)]\n",
    "    profit_ratio[\"profit_ratio\"+str(i)] = profit_df[\"profit\"+str(i)]\n",
    "    trading_profit_RESULT[str(i)+\"m_cum_profit\"] = profit_df[\"profit\"+str(i)].cumsum()\n",
    "    profit_df_result[str(i)+\"m_predict\"] = profit_df[\"pred_\"+str(i)]\n",
    "    \n",
    "    \n",
    "trading_profit_RESULT.dropna(how = \"all\")\n",
    "    "
   ]
  },
  {
   "cell_type": "code",
   "execution_count": null,
   "metadata": {},
   "outputs": [],
   "source": []
  },
  {
   "cell_type": "code",
   "execution_count": 113,
   "metadata": {},
   "outputs": [
    {
     "data": {
      "text/plain": [
       "profit_ratio1     13777.5\n",
       "profit_ratio3     10232.5\n",
       "profit_ratio5      8747.5\n",
       "profit_ratio10     6570.0\n",
       "profit_ratio15     5390.0\n",
       "profit_ratio20     4477.5\n",
       "dtype: float64"
      ]
     },
     "execution_count": 113,
     "metadata": {},
     "output_type": "execute_result"
    }
   ],
   "source": [
    "profit_ratio[profit_ratio>0].sum()"
   ]
  },
  {
   "cell_type": "code",
   "execution_count": 114,
   "metadata": {},
   "outputs": [
    {
     "data": {
      "text/plain": [
       "profit_ratio1    -13452.5\n",
       "profit_ratio3     -9225.0\n",
       "profit_ratio5     -7325.0\n",
       "profit_ratio10    -5950.0\n",
       "profit_ratio15    -4362.5\n",
       "profit_ratio20    -3090.0\n",
       "dtype: float64"
      ]
     },
     "execution_count": 114,
     "metadata": {},
     "output_type": "execute_result"
    }
   ],
   "source": [
    "profit_ratio[profit_ratio<0].sum()"
   ]
  },
  {
   "cell_type": "code",
   "execution_count": 115,
   "metadata": {},
   "outputs": [
    {
     "data": {
      "text/plain": [
       "965.0000000000013"
      ]
     },
     "execution_count": 115,
     "metadata": {},
     "output_type": "execute_result"
    }
   ],
   "source": [
    "profit_ratio.sum().mean()"
   ]
  },
  {
   "cell_type": "code",
   "execution_count": 116,
   "metadata": {},
   "outputs": [
    {
     "data": {
      "text/plain": [
       "profit_ratio1    -1.024159\n",
       "profit_ratio3    -1.109214\n",
       "profit_ratio5    -1.194198\n",
       "profit_ratio10   -1.104202\n",
       "profit_ratio15   -1.235530\n",
       "profit_ratio20   -1.449029\n",
       "dtype: float64"
      ]
     },
     "execution_count": 116,
     "metadata": {},
     "output_type": "execute_result"
    }
   ],
   "source": [
    "profit_ratio[profit_ratio>0].sum()/profit_ratio[profit_ratio<0].sum()"
   ]
  },
  {
   "cell_type": "code",
   "execution_count": null,
   "metadata": {},
   "outputs": [],
   "source": []
  },
  {
   "cell_type": "code",
   "execution_count": 117,
   "metadata": {},
   "outputs": [
    {
     "data": {
      "text/html": [
       "<div>\n",
       "<style scoped>\n",
       "    .dataframe tbody tr th:only-of-type {\n",
       "        vertical-align: middle;\n",
       "    }\n",
       "\n",
       "    .dataframe tbody tr th {\n",
       "        vertical-align: top;\n",
       "    }\n",
       "\n",
       "    .dataframe thead th {\n",
       "        text-align: right;\n",
       "    }\n",
       "</style>\n",
       "<table border=\"1\" class=\"dataframe\">\n",
       "  <thead>\n",
       "    <tr style=\"text-align: right;\">\n",
       "      <th></th>\n",
       "      <th>1m_predict</th>\n",
       "      <th>3m_predict</th>\n",
       "      <th>5m_predict</th>\n",
       "      <th>10m_predict</th>\n",
       "      <th>15m_predict</th>\n",
       "      <th>20m_predict</th>\n",
       "    </tr>\n",
       "  </thead>\n",
       "  <tbody>\n",
       "    <tr>\n",
       "      <th>49444</th>\n",
       "      <td>NaN</td>\n",
       "      <td>NaN</td>\n",
       "      <td>NaN</td>\n",
       "      <td>NaN</td>\n",
       "      <td>NaN</td>\n",
       "      <td>NaN</td>\n",
       "    </tr>\n",
       "    <tr>\n",
       "      <th>49445</th>\n",
       "      <td>NaN</td>\n",
       "      <td>NaN</td>\n",
       "      <td>NaN</td>\n",
       "      <td>NaN</td>\n",
       "      <td>NaN</td>\n",
       "      <td>NaN</td>\n",
       "    </tr>\n",
       "    <tr>\n",
       "      <th>49446</th>\n",
       "      <td>NaN</td>\n",
       "      <td>NaN</td>\n",
       "      <td>NaN</td>\n",
       "      <td>NaN</td>\n",
       "      <td>NaN</td>\n",
       "      <td>NaN</td>\n",
       "    </tr>\n",
       "    <tr>\n",
       "      <th>49447</th>\n",
       "      <td>NaN</td>\n",
       "      <td>NaN</td>\n",
       "      <td>NaN</td>\n",
       "      <td>NaN</td>\n",
       "      <td>NaN</td>\n",
       "      <td>NaN</td>\n",
       "    </tr>\n",
       "    <tr>\n",
       "      <th>49448</th>\n",
       "      <td>NaN</td>\n",
       "      <td>NaN</td>\n",
       "      <td>NaN</td>\n",
       "      <td>NaN</td>\n",
       "      <td>NaN</td>\n",
       "      <td>NaN</td>\n",
       "    </tr>\n",
       "    <tr>\n",
       "      <th>...</th>\n",
       "      <td>...</td>\n",
       "      <td>...</td>\n",
       "      <td>...</td>\n",
       "      <td>...</td>\n",
       "      <td>...</td>\n",
       "      <td>...</td>\n",
       "    </tr>\n",
       "    <tr>\n",
       "      <th>65279</th>\n",
       "      <td>NaN</td>\n",
       "      <td>NaN</td>\n",
       "      <td>NaN</td>\n",
       "      <td>NaN</td>\n",
       "      <td>NaN</td>\n",
       "      <td>NaN</td>\n",
       "    </tr>\n",
       "    <tr>\n",
       "      <th>65280</th>\n",
       "      <td>NaN</td>\n",
       "      <td>NaN</td>\n",
       "      <td>NaN</td>\n",
       "      <td>NaN</td>\n",
       "      <td>NaN</td>\n",
       "      <td>NaN</td>\n",
       "    </tr>\n",
       "    <tr>\n",
       "      <th>65281</th>\n",
       "      <td>NaN</td>\n",
       "      <td>NaN</td>\n",
       "      <td>NaN</td>\n",
       "      <td>NaN</td>\n",
       "      <td>NaN</td>\n",
       "      <td>NaN</td>\n",
       "    </tr>\n",
       "    <tr>\n",
       "      <th>65282</th>\n",
       "      <td>NaN</td>\n",
       "      <td>NaN</td>\n",
       "      <td>NaN</td>\n",
       "      <td>NaN</td>\n",
       "      <td>NaN</td>\n",
       "      <td>NaN</td>\n",
       "    </tr>\n",
       "    <tr>\n",
       "      <th>65283</th>\n",
       "      <td>NaN</td>\n",
       "      <td>NaN</td>\n",
       "      <td>NaN</td>\n",
       "      <td>NaN</td>\n",
       "      <td>NaN</td>\n",
       "      <td>NaN</td>\n",
       "    </tr>\n",
       "  </tbody>\n",
       "</table>\n",
       "<p>15873 rows × 6 columns</p>\n",
       "</div>"
      ],
      "text/plain": [
       "      1m_predict 3m_predict 5m_predict 10m_predict 15m_predict 20m_predict\n",
       "49444        NaN        NaN        NaN         NaN         NaN         NaN\n",
       "49445        NaN        NaN        NaN         NaN         NaN         NaN\n",
       "49446        NaN        NaN        NaN         NaN         NaN         NaN\n",
       "49447        NaN        NaN        NaN         NaN         NaN         NaN\n",
       "49448        NaN        NaN        NaN         NaN         NaN         NaN\n",
       "...          ...        ...        ...         ...         ...         ...\n",
       "65279        NaN        NaN        NaN         NaN         NaN         NaN\n",
       "65280        NaN        NaN        NaN         NaN         NaN         NaN\n",
       "65281        NaN        NaN        NaN         NaN         NaN         NaN\n",
       "65282        NaN        NaN        NaN         NaN         NaN         NaN\n",
       "65283        NaN        NaN        NaN         NaN         NaN         NaN\n",
       "\n",
       "[15873 rows x 6 columns]"
      ]
     },
     "execution_count": 117,
     "metadata": {},
     "output_type": "execute_result"
    }
   ],
   "source": [
    "profit_df_result"
   ]
  },
  {
   "cell_type": "code",
   "execution_count": 118,
   "metadata": {},
   "outputs": [
    {
     "data": {
      "text/plain": [
       "1m_predict     0\n",
       "3m_predict     0\n",
       "5m_predict     0\n",
       "10m_predict    0\n",
       "15m_predict    0\n",
       "20m_predict    0\n",
       "dtype: int64"
      ]
     },
     "execution_count": 118,
     "metadata": {},
     "output_type": "execute_result"
    }
   ],
   "source": [
    "(profit_df_result<0).sum()"
   ]
  },
  {
   "cell_type": "code",
   "execution_count": 119,
   "metadata": {},
   "outputs": [
    {
     "data": {
      "text/plain": [
       "1m_predict     4357\n",
       "3m_predict     1669\n",
       "5m_predict     1059\n",
       "10m_predict     522\n",
       "15m_predict     320\n",
       "20m_predict     214\n",
       "dtype: int64"
      ]
     },
     "execution_count": 119,
     "metadata": {},
     "output_type": "execute_result"
    }
   ],
   "source": [
    "(profit_df_result>0).sum()"
   ]
  },
  {
   "cell_type": "code",
   "execution_count": null,
   "metadata": {},
   "outputs": [],
   "source": []
  },
  {
   "cell_type": "code",
   "execution_count": 120,
   "metadata": {},
   "outputs": [
    {
     "data": {
      "text/plain": [
       "1m_predict     4357\n",
       "3m_predict     1669\n",
       "5m_predict     1059\n",
       "10m_predict     522\n",
       "15m_predict     320\n",
       "20m_predict     214\n",
       "dtype: int64"
      ]
     },
     "execution_count": 120,
     "metadata": {},
     "output_type": "execute_result"
    }
   ],
   "source": [
    "(profit_df_result.dropna()>0).sum()"
   ]
  },
  {
   "cell_type": "code",
   "execution_count": 121,
   "metadata": {},
   "outputs": [
    {
     "data": {
      "text/plain": [
       "1m_predict     0\n",
       "3m_predict     0\n",
       "5m_predict     0\n",
       "10m_predict    0\n",
       "15m_predict    0\n",
       "20m_predict    0\n",
       "dtype: int64"
      ]
     },
     "execution_count": 121,
     "metadata": {},
     "output_type": "execute_result"
    }
   ],
   "source": [
    "(profit_df_result.dropna()<0).sum()"
   ]
  },
  {
   "cell_type": "code",
   "execution_count": 122,
   "metadata": {},
   "outputs": [
    {
     "data": {
      "text/html": [
       "<div>\n",
       "<style scoped>\n",
       "    .dataframe tbody tr th:only-of-type {\n",
       "        vertical-align: middle;\n",
       "    }\n",
       "\n",
       "    .dataframe tbody tr th {\n",
       "        vertical-align: top;\n",
       "    }\n",
       "\n",
       "    .dataframe thead th {\n",
       "        text-align: right;\n",
       "    }\n",
       "</style>\n",
       "<table border=\"1\" class=\"dataframe\">\n",
       "  <thead>\n",
       "    <tr style=\"text-align: right;\">\n",
       "      <th></th>\n",
       "      <th>tick_value_20m</th>\n",
       "      <th>pred_20</th>\n",
       "      <th>profit20</th>\n",
       "    </tr>\n",
       "  </thead>\n",
       "  <tbody>\n",
       "    <tr>\n",
       "      <th>49444</th>\n",
       "      <td>142.5</td>\n",
       "      <td>NaN</td>\n",
       "      <td>NaN</td>\n",
       "    </tr>\n",
       "    <tr>\n",
       "      <th>49445</th>\n",
       "      <td>145.0</td>\n",
       "      <td>NaN</td>\n",
       "      <td>NaN</td>\n",
       "    </tr>\n",
       "    <tr>\n",
       "      <th>49446</th>\n",
       "      <td>140.0</td>\n",
       "      <td>NaN</td>\n",
       "      <td>NaN</td>\n",
       "    </tr>\n",
       "    <tr>\n",
       "      <th>49447</th>\n",
       "      <td>130.0</td>\n",
       "      <td>NaN</td>\n",
       "      <td>NaN</td>\n",
       "    </tr>\n",
       "    <tr>\n",
       "      <th>49448</th>\n",
       "      <td>140.0</td>\n",
       "      <td>NaN</td>\n",
       "      <td>NaN</td>\n",
       "    </tr>\n",
       "    <tr>\n",
       "      <th>...</th>\n",
       "      <td>...</td>\n",
       "      <td>...</td>\n",
       "      <td>...</td>\n",
       "    </tr>\n",
       "    <tr>\n",
       "      <th>65279</th>\n",
       "      <td>NaN</td>\n",
       "      <td>NaN</td>\n",
       "      <td>NaN</td>\n",
       "    </tr>\n",
       "    <tr>\n",
       "      <th>65280</th>\n",
       "      <td>NaN</td>\n",
       "      <td>NaN</td>\n",
       "      <td>NaN</td>\n",
       "    </tr>\n",
       "    <tr>\n",
       "      <th>65281</th>\n",
       "      <td>NaN</td>\n",
       "      <td>NaN</td>\n",
       "      <td>NaN</td>\n",
       "    </tr>\n",
       "    <tr>\n",
       "      <th>65282</th>\n",
       "      <td>NaN</td>\n",
       "      <td>NaN</td>\n",
       "      <td>NaN</td>\n",
       "    </tr>\n",
       "    <tr>\n",
       "      <th>65283</th>\n",
       "      <td>NaN</td>\n",
       "      <td>NaN</td>\n",
       "      <td>NaN</td>\n",
       "    </tr>\n",
       "  </tbody>\n",
       "</table>\n",
       "<p>15873 rows × 3 columns</p>\n",
       "</div>"
      ],
      "text/plain": [
       "       tick_value_20m pred_20 profit20\n",
       "49444           142.5     NaN      NaN\n",
       "49445           145.0     NaN      NaN\n",
       "49446           140.0     NaN      NaN\n",
       "49447           130.0     NaN      NaN\n",
       "49448           140.0     NaN      NaN\n",
       "...               ...     ...      ...\n",
       "65279             NaN     NaN      NaN\n",
       "65280             NaN     NaN      NaN\n",
       "65281             NaN     NaN      NaN\n",
       "65282             NaN     NaN      NaN\n",
       "65283             NaN     NaN      NaN\n",
       "\n",
       "[15873 rows x 3 columns]"
      ]
     },
     "execution_count": 122,
     "metadata": {},
     "output_type": "execute_result"
    }
   ],
   "source": [
    "profit_df"
   ]
  },
  {
   "cell_type": "code",
   "execution_count": 123,
   "metadata": {},
   "outputs": [
    {
     "data": {
      "text/plain": [
       "<matplotlib.axes._subplots.AxesSubplot at 0x7fd575d06b00>"
      ]
     },
     "execution_count": 123,
     "metadata": {},
     "output_type": "execute_result"
    },
    {
     "data": {
      "image/png": "[encoded data removed]",
      "text/plain": [
       "<Figure size 432x288 with 1 Axes>"
      ]
     },
     "metadata": {
      "needs_background": "light"
     },
     "output_type": "display_data"
    }
   ],
   "source": [
    "trading_profit_RESULT[\"1m_cum_profit\"].plot()"
   ]
  },
  {
   "cell_type": "code",
   "execution_count": 124,
   "metadata": {},
   "outputs": [
    {
     "data": {
      "text/plain": [
       "<matplotlib.axes._subplots.AxesSubplot at 0x7fd582b2bac8>"
      ]
     },
     "execution_count": 124,
     "metadata": {},
     "output_type": "execute_result"
    },
    {
     "data": {
      "image/png": "[encoded data removed]",
      "text/plain": [
       "<Figure size 432x288 with 1 Axes>"
      ]
     },
     "metadata": {
      "needs_background": "light"
     },
     "output_type": "display_data"
    }
   ],
   "source": [
    "trading_profit_RESULT[\"3m_cum_profit\"].plot()"
   ]
  },
  {
   "cell_type": "code",
   "execution_count": 125,
   "metadata": {},
   "outputs": [
    {
     "data": {
      "text/plain": [
       "<matplotlib.axes._subplots.AxesSubplot at 0x7fd582a61a90>"
      ]
     },
     "execution_count": 125,
     "metadata": {},
     "output_type": "execute_result"
    },
    {
     "data": {
      "image/png": "[encoded data removed]",
      "text/plain": [
       "<Figure size 432x288 with 1 Axes>"
      ]
     },
     "metadata": {
      "needs_background": "light"
     },
     "output_type": "display_data"
    }
   ],
   "source": [
    "trading_profit_RESULT[\"5m_cum_profit\"].plot()"
   ]
  },
  {
   "cell_type": "code",
   "execution_count": 126,
   "metadata": {},
   "outputs": [
    {
     "data": {
      "text/plain": [
       "<matplotlib.axes._subplots.AxesSubplot at 0x7fd58df85278>"
      ]
     },
     "execution_count": 126,
     "metadata": {},
     "output_type": "execute_result"
    },
    {
     "data": {
      "image/png": "[encoded data removed]",
      "text/plain": [
       "<Figure size 432x288 with 1 Axes>"
      ]
     },
     "metadata": {
      "needs_background": "light"
     },
     "output_type": "display_data"
    }
   ],
   "source": [
    "trading_profit_RESULT[\"10m_cum_profit\"].plot()"
   ]
  },
  {
   "cell_type": "code",
   "execution_count": 127,
   "metadata": {},
   "outputs": [
    {
     "data": {
      "text/plain": [
       "<matplotlib.axes._subplots.AxesSubplot at 0x7fd58e0f5630>"
      ]
     },
     "execution_count": 127,
     "metadata": {},
     "output_type": "execute_result"
    },
    {
     "data": {
      "image/png": "[encoded data removed]",
      "text/plain": [
       "<Figure size 432x288 with 1 Axes>"
      ]
     },
     "metadata": {
      "needs_background": "light"
     },
     "output_type": "display_data"
    }
   ],
   "source": [
    "trading_profit_RESULT[\"15m_cum_profit\"].plot()"
   ]
  },
  {
   "cell_type": "code",
   "execution_count": 128,
   "metadata": {},
   "outputs": [
    {
     "data": {
      "text/plain": [
       "<matplotlib.axes._subplots.AxesSubplot at 0x7fd58e2663c8>"
      ]
     },
     "execution_count": 128,
     "metadata": {},
     "output_type": "execute_result"
    },
    {
     "data": {
      "image/png": "[encoded data removed]",
      "text/plain": [
       "<Figure size 432x288 with 1 Axes>"
      ]
     },
     "metadata": {
      "needs_background": "light"
     },
     "output_type": "display_data"
    }
   ],
   "source": [
    "trading_profit_RESULT[\"20m_cum_profit\"].plot()"
   ]
  },
  {
   "cell_type": "code",
   "execution_count": 129,
   "metadata": {},
   "outputs": [
    {
     "data": {
      "text/plain": [
       "<matplotlib.axes._subplots.AxesSubplot at 0x7fd58e3b3898>"
      ]
     },
     "execution_count": 129,
     "metadata": {},
     "output_type": "execute_result"
    },
    {
     "data": {
      "image/png": "[encoded data removed]",
      "text/plain": [
       "<Figure size 432x288 with 1 Axes>"
      ]
     },
     "metadata": {
      "needs_background": "light"
     },
     "output_type": "display_data"
    }
   ],
   "source": [
    "trading_profit_RESULT.plot()"
   ]
  },
  {
   "cell_type": "code",
   "execution_count": 130,
   "metadata": {},
   "outputs": [],
   "source": [
    "raw_data_modify = raw_data.copy()"
   ]
  },
  {
   "cell_type": "code",
   "execution_count": 131,
   "metadata": {},
   "outputs": [],
   "source": [
    "raw_data_modify = pd.to_datetime(raw_data_modify[\"일자\"])"
   ]
  },
  {
   "cell_type": "code",
   "execution_count": 132,
   "metadata": {},
   "outputs": [
    {
     "data": {
      "text/plain": [
       "0       2019-10-30\n",
       "1       2019-10-30\n",
       "2       2019-10-30\n",
       "3       2019-10-30\n",
       "4       2019-10-30\n",
       "           ...    \n",
       "65279   2020-06-30\n",
       "65280   2020-06-30\n",
       "65281   2020-06-30\n",
       "65282   2020-06-30\n",
       "65283   2020-06-30\n",
       "Name: 일자, Length: 65284, dtype: datetime64[ns]"
      ]
     },
     "execution_count": 132,
     "metadata": {},
     "output_type": "execute_result"
    }
   ],
   "source": [
    "raw_data_modify"
   ]
  },
  {
   "cell_type": "code",
   "execution_count": 133,
   "metadata": {},
   "outputs": [],
   "source": [
    "trading_profit_RESULT_with_date = pd.merge(trading_profit_RESULT, raw_data_modify, how=\"left\", left_index=True, right_index=True)"
   ]
  },
  {
   "cell_type": "code",
   "execution_count": 134,
   "metadata": {},
   "outputs": [],
   "source": [
    "trading_profit_RESULT_with_date.index = trading_profit_RESULT_with_date[\"일자\"]"
   ]
  },
  {
   "cell_type": "code",
   "execution_count": 135,
   "metadata": {},
   "outputs": [
    {
     "data": {
      "text/plain": [
       "일자\n",
       "2020-05-04   2020-05-04\n",
       "2020-05-04   2020-05-04\n",
       "2020-05-04   2020-05-04\n",
       "2020-05-04   2020-05-04\n",
       "2020-05-04   2020-05-04\n",
       "                ...    \n",
       "2020-06-30   2020-06-30\n",
       "2020-06-30   2020-06-30\n",
       "2020-06-30   2020-06-30\n",
       "2020-06-30   2020-06-30\n",
       "2020-06-30   2020-06-30\n",
       "Name: 일자, Length: 15873, dtype: datetime64[ns]"
      ]
     },
     "execution_count": 135,
     "metadata": {},
     "output_type": "execute_result"
    }
   ],
   "source": [
    "trading_profit_RESULT_with_date.pop(\"일자\")"
   ]
  },
  {
   "cell_type": "code",
   "execution_count": 166,
   "metadata": {},
   "outputs": [
    {
     "data": {
      "text/plain": [
       "<matplotlib.axes._subplots.AxesSubplot at 0x7fd58ef30e10>"
      ]
     },
     "execution_count": 166,
     "metadata": {},
     "output_type": "execute_result"
    },
    {
     "data": {
      "image/png": "[encoded data removed]",
      "text/plain": [
       "<Figure size 432x288 with 1 Axes>"
      ]
     },
     "metadata": {
      "needs_background": "light"
     },
     "output_type": "display_data"
    }
   ],
   "source": [
    "trading_profit_RESULT_with_date.plot()"
   ]
  },
  {
   "cell_type": "code",
   "execution_count": null,
   "metadata": {},
   "outputs": [],
   "source": []
  }
 ],
 "metadata": {
  "kernelspec": {
   "display_name": "Python 3",
   "language": "python",
   "name": "python3"
  },
  "language_info": {
   "codemirror_mode": {
    "name": "ipython",
    "version": 3
   },
   "file_extension": ".py",
   "mimetype": "text/x-python",
   "name": "python",
   "nbconvert_exporter": "python",
   "pygments_lexer": "ipython3",
   "version": "3.6.8"
  }
 },
 "nbformat": 4,
 "nbformat_minor": 2
}
